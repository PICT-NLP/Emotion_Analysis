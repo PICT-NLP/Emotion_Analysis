{
 "cells": [
  {
   "cell_type": "code",
   "execution_count": 1,
   "id": "70b1dad9",
   "metadata": {
    "execution": {
     "iopub.execute_input": "2022-03-05T10:10:06.403824Z",
     "iopub.status.busy": "2022-03-05T10:10:06.403028Z",
     "iopub.status.idle": "2022-03-05T10:10:16.799923Z",
     "shell.execute_reply": "2022-03-05T10:10:16.799304Z",
     "shell.execute_reply.started": "2022-03-05T09:36:47.360786Z"
    },
    "executionInfo": {
     "elapsed": 1057,
     "status": "ok",
     "timestamp": 1610659487042,
     "user": {
      "displayName": "Kushal Kedia",
      "photoUrl": "",
      "userId": "17515642502776479988"
     },
     "user_tz": -330
    },
    "id": "9vOLxNuZlk4m",
    "outputId": "b262ed3a-37a1-4aa1-f551-7c033b07ce3c",
    "papermill": {
     "duration": 10.429245,
     "end_time": "2022-03-05T10:10:16.800081",
     "exception": false,
     "start_time": "2022-03-05T10:10:06.370836",
     "status": "completed"
    },
    "tags": []
   },
   "outputs": [
    {
     "name": "stderr",
     "output_type": "stream",
     "text": [
      "/opt/conda/lib/python3.7/site-packages/geopandas/_compat.py:115: UserWarning:\n",
      "\n",
      "The Shapely GEOS version (3.9.1-CAPI-1.14.2) is incompatible with the GEOS version PyGEOS was compiled with (3.10.1-CAPI-1.16.0). Conversions between both will be slow.\n",
      "\n"
     ]
    },
    {
     "data": {
      "text/html": [
       "        <script type=\"text/javascript\">\n",
       "        window.PlotlyConfig = {MathJaxConfig: 'local'};\n",
       "        if (window.MathJax) {MathJax.Hub.Config({SVG: {font: \"STIX-Web\"}});}\n",
       "        if (typeof require !== 'undefined') {\n",
       "        require.undef(\"plotly\");\n",
       "        requirejs.config({\n",
       "            paths: {\n",
       "                'plotly': ['https://cdn.plot.ly/plotly-2.9.0.min']\n",
       "            }\n",
       "        });\n",
       "        require(['plotly'], function(Plotly) {\n",
       "            window._Plotly = Plotly;\n",
       "        });\n",
       "        }\n",
       "        </script>\n",
       "        "
      ]
     },
     "metadata": {},
     "output_type": "display_data"
    }
   ],
   "source": [
    "import numpy as np \n",
    "import pandas as pd\n",
    "import matplotlib.pyplot as plt\n",
    "import seaborn as sns\n",
    "from keras.preprocessing.text import Tokenizer\n",
    "from keras.preprocessing.sequence import pad_sequences\n",
    "from keras.models import Sequential\n",
    "from keras.layers import Dense, Embedding, LSTM, SpatialDropout1D\n",
    "from sklearn.model_selection import train_test_split\n",
    "from keras.utils.np_utils import to_categorical\n",
    "from keras.callbacks import EarlyStopping\n",
    "from keras.layers import Dropout\n",
    "import re\n",
    "from nltk.corpus import stopwords\n",
    "from nltk import word_tokenize\n",
    "STOPWORDS = set(stopwords.words('english'))\n",
    "from bs4 import BeautifulSoup\n",
    "import plotly.graph_objs as go\n",
    "#import chart_studio.plotly as py\n",
    "import cufflinks\n",
    "from IPython.core.interactiveshell import InteractiveShell\n",
    "import plotly.figure_factory as ff\n",
    "InteractiveShell.ast_node_interactivity = 'all'\n",
    "from plotly.offline import iplot\n",
    "cufflinks.go_offline()\n",
    "cufflinks.set_config_file(world_readable=True, theme='pearl')\n",
    "import torch"
   ]
  },
  {
   "cell_type": "code",
   "execution_count": 2,
   "id": "a4edecf2",
   "metadata": {
    "execution": {
     "iopub.execute_input": "2022-03-05T10:10:16.859935Z",
     "iopub.status.busy": "2022-03-05T10:10:16.858349Z",
     "iopub.status.idle": "2022-03-05T10:10:16.860515Z",
     "shell.execute_reply": "2022-03-05T10:10:16.860958Z",
     "shell.execute_reply.started": "2022-03-05T09:39:31.098287Z"
    },
    "papermill": {
     "duration": 0.02947,
     "end_time": "2022-03-05T10:10:16.861106",
     "exception": false,
     "start_time": "2022-03-05T10:10:16.831636",
     "status": "completed"
    },
    "tags": []
   },
   "outputs": [],
   "source": [
    "from keras.callbacks import ModelCheckpoint"
   ]
  },
  {
   "cell_type": "code",
   "execution_count": 3,
   "id": "9af1f1c6",
   "metadata": {
    "execution": {
     "iopub.execute_input": "2022-03-05T10:10:16.903375Z",
     "iopub.status.busy": "2022-03-05T10:10:16.902874Z",
     "iopub.status.idle": "2022-03-05T10:10:17.104250Z",
     "shell.execute_reply": "2022-03-05T10:10:17.103390Z",
     "shell.execute_reply.started": "2022-03-05T09:36:51.451792Z"
    },
    "executionInfo": {
     "elapsed": 1360,
     "status": "ok",
     "timestamp": 1610662585483,
     "user": {
      "displayName": "Kushal Kedia",
      "photoUrl": "",
      "userId": "17515642502776479988"
     },
     "user_tz": -330
    },
    "id": "0HBnekZFnnhe",
    "outputId": "8442bf7e-8778-452c-b7ed-c4beb1d4fa95",
    "papermill": {
     "duration": 0.22462,
     "end_time": "2022-03-05T10:10:17.104402",
     "exception": false,
     "start_time": "2022-03-05T10:10:16.879782",
     "status": "completed"
    },
    "tags": []
   },
   "outputs": [],
   "source": [
    "train_data = pd.read_csv('../input/emotion-analysis-in-tamil/Emotion_Analysis_Task_A_train.csv', sep = '\\t', header = None)\n",
    "val_data = pd.read_csv('../input/emotion-analysis-in-tamil/Emotion_Analysis_Task_A_dev.csv', sep = '\\t', header = None)\n",
    "test_data = pd.read_csv('../input/emotion-analysis-in-tamil/Emotion_Analysis_Task_A_test.csv', sep = '\\t', header = None)\n"
   ]
  },
  {
   "cell_type": "code",
   "execution_count": 4,
   "id": "bb84983e",
   "metadata": {
    "execution": {
     "iopub.execute_input": "2022-03-05T10:10:17.150742Z",
     "iopub.status.busy": "2022-03-05T10:10:17.149920Z",
     "iopub.status.idle": "2022-03-05T10:10:17.163694Z",
     "shell.execute_reply": "2022-03-05T10:10:17.164095Z",
     "shell.execute_reply.started": "2022-03-05T09:36:54.085030Z"
    },
    "executionInfo": {
     "elapsed": 1144,
     "status": "ok",
     "timestamp": 1610662588148,
     "user": {
      "displayName": "Kushal Kedia",
      "photoUrl": "",
      "userId": "17515642502776479988"
     },
     "user_tz": -330
    },
    "id": "OBmHatXZP_kW",
    "outputId": "80cb0fef-a125-4237-d229-0a5d4bb170f0",
    "papermill": {
     "duration": 0.040377,
     "end_time": "2022-03-05T10:10:17.164230",
     "exception": false,
     "start_time": "2022-03-05T10:10:17.123853",
     "status": "completed"
    },
    "tags": []
   },
   "outputs": [
    {
     "data": {
      "text/html": [
       "<div>\n",
       "<style scoped>\n",
       "    .dataframe tbody tr th:only-of-type {\n",
       "        vertical-align: middle;\n",
       "    }\n",
       "\n",
       "    .dataframe tbody tr th {\n",
       "        vertical-align: top;\n",
       "    }\n",
       "\n",
       "    .dataframe thead th {\n",
       "        text-align: right;\n",
       "    }\n",
       "</style>\n",
       "<table border=\"1\" class=\"dataframe\">\n",
       "  <thead>\n",
       "    <tr style=\"text-align: right;\">\n",
       "      <th></th>\n",
       "      <th>0</th>\n",
       "      <th>1</th>\n",
       "    </tr>\n",
       "  </thead>\n",
       "  <tbody>\n",
       "    <tr>\n",
       "      <th>0</th>\n",
       "      <td>Neutral</td>\n",
       "      <td>நாளைக்கு அரிசிக்கு இந்த நிலமை வந்தா 🙂</td>\n",
       "    </tr>\n",
       "    <tr>\n",
       "      <th>1</th>\n",
       "      <td>Anger</td>\n",
       "      <td>மானம் கேட்ட அன்புமணி</td>\n",
       "    </tr>\n",
       "    <tr>\n",
       "      <th>2</th>\n",
       "      <td>Neutral</td>\n",
       "      <td>தவறு இஸ்ரேல் இருக்காது இதை நான் கூறவில்லை ஹமாஸ...</td>\n",
       "    </tr>\n",
       "    <tr>\n",
       "      <th>3</th>\n",
       "      <td>Joy</td>\n",
       "      <td>கொங்கு நாட்டு சிங்கம் உன்மையும் நேர்மையும் உலை...</td>\n",
       "    </tr>\n",
       "    <tr>\n",
       "      <th>4</th>\n",
       "      <td>Neutral</td>\n",
       "      <td>இவர் யார்? ஒவ்வொரு வார்த்தையும் முன்னுக்கு பின...</td>\n",
       "    </tr>\n",
       "    <tr>\n",
       "      <th>...</th>\n",
       "      <td>...</td>\n",
       "      <td>...</td>\n",
       "    </tr>\n",
       "    <tr>\n",
       "      <th>14203</th>\n",
       "      <td>Trust</td>\n",
       "      <td>பெ மணியரசன் கூறுவதைஉணர்ந்து.  செயலாற்றுவதேஇன்ற...</td>\n",
       "    </tr>\n",
       "    <tr>\n",
       "      <th>14204</th>\n",
       "      <td>Ambiguous</td>\n",
       "      <td>இன்னும் எத்தன நாள் வச்சி செய்வீங்க.</td>\n",
       "    </tr>\n",
       "    <tr>\n",
       "      <th>14205</th>\n",
       "      <td>Anticipation</td>\n",
       "      <td>அடுத்த ஏதோ தயார்பன்னிட்டான்</td>\n",
       "    </tr>\n",
       "    <tr>\n",
       "      <th>14206</th>\n",
       "      <td>Ambiguous</td>\n",
       "      <td>தமிழ் மற்றும் சமஸ்கிருதம்</td>\n",
       "    </tr>\n",
       "    <tr>\n",
       "      <th>14207</th>\n",
       "      <td>Ambiguous</td>\n",
       "      <td>எனக்கும் அதே டவுட் தான் சகோ</td>\n",
       "    </tr>\n",
       "  </tbody>\n",
       "</table>\n",
       "<p>14208 rows × 2 columns</p>\n",
       "</div>"
      ],
      "text/plain": [
       "                  0                                                  1\n",
       "0           Neutral              நாளைக்கு அரிசிக்கு இந்த நிலமை வந்தா 🙂\n",
       "1             Anger                               மானம் கேட்ட அன்புமணி\n",
       "2           Neutral  தவறு இஸ்ரேல் இருக்காது இதை நான் கூறவில்லை ஹமாஸ...\n",
       "3               Joy  கொங்கு நாட்டு சிங்கம் உன்மையும் நேர்மையும் உலை...\n",
       "4           Neutral  இவர் யார்? ஒவ்வொரு வார்த்தையும் முன்னுக்கு பின...\n",
       "...             ...                                                ...\n",
       "14203         Trust  பெ மணியரசன் கூறுவதைஉணர்ந்து.  செயலாற்றுவதேஇன்ற...\n",
       "14204     Ambiguous                இன்னும் எத்தன நாள் வச்சி செய்வீங்க.\n",
       "14205  Anticipation                        அடுத்த ஏதோ தயார்பன்னிட்டான்\n",
       "14206     Ambiguous                          தமிழ் மற்றும் சமஸ்கிருதம்\n",
       "14207     Ambiguous                        எனக்கும் அதே டவுட் தான் சகோ\n",
       "\n",
       "[14208 rows x 2 columns]"
      ]
     },
     "execution_count": 4,
     "metadata": {},
     "output_type": "execute_result"
    }
   ],
   "source": [
    "train_data"
   ]
  },
  {
   "cell_type": "code",
   "execution_count": 5,
   "id": "17c6446f",
   "metadata": {
    "execution": {
     "iopub.execute_input": "2022-03-05T10:10:17.233865Z",
     "iopub.status.busy": "2022-03-05T10:10:17.233091Z",
     "iopub.status.idle": "2022-03-05T10:10:17.749210Z",
     "shell.execute_reply": "2022-03-05T10:10:17.749822Z",
     "shell.execute_reply.started": "2022-03-05T09:37:27.782804Z"
    },
    "executionInfo": {
     "elapsed": 1479,
     "status": "ok",
     "timestamp": 1610662590432,
     "user": {
      "displayName": "Kushal Kedia",
      "photoUrl": "",
      "userId": "17515642502776479988"
     },
     "user_tz": -330
    },
    "id": "VnkCJ5xhP5X4",
    "outputId": "57e8539a-47cf-4e20-c50b-a8508531ff28",
    "papermill": {
     "duration": 0.566176,
     "end_time": "2022-03-05T10:10:17.750016",
     "exception": false,
     "start_time": "2022-03-05T10:10:17.183840",
     "status": "completed"
    },
    "tags": []
   },
   "outputs": [
    {
     "name": "stdout",
     "output_type": "stream",
     "text": [
      "Found 38749 unique tokens.\n"
     ]
    }
   ],
   "source": [
    "# The maximum number of words to be used. (most frequent)\n",
    "MAX_NB_WORDS = 64000\n",
    "# Max number of words in each complaint.\n",
    "MAX_SEQUENCE_LENGTH = 128\n",
    "# This is fixed.\n",
    "EMBEDDING_DIM = 100\n",
    "tokenizer = Tokenizer(num_words=MAX_NB_WORDS, filters='!\"#$%&()*+,-./:;<=>?@[\\]^_`{|}~', lower=False)\n",
    "tokenizer.fit_on_texts(train_data[1])\n",
    "word_index = tokenizer.word_index\n",
    "print('Found %s unique tokens.' % len(word_index))"
   ]
  },
  {
   "cell_type": "code",
   "execution_count": 6,
   "id": "a117094e",
   "metadata": {
    "execution": {
     "iopub.execute_input": "2022-03-05T10:10:17.808408Z",
     "iopub.status.busy": "2022-03-05T10:10:17.798121Z",
     "iopub.status.idle": "2022-03-05T10:10:18.306181Z",
     "shell.execute_reply": "2022-03-05T10:10:18.306775Z",
     "shell.execute_reply.started": "2022-03-05T09:38:04.494392Z"
    },
    "executionInfo": {
     "elapsed": 1714,
     "status": "ok",
     "timestamp": 1610662592675,
     "user": {
      "displayName": "Kushal Kedia",
      "photoUrl": "",
      "userId": "17515642502776479988"
     },
     "user_tz": -330
    },
    "id": "EDC3Rg7kQGbq",
    "outputId": "166694c0-d45e-459a-fc21-82e9fbb272e0",
    "papermill": {
     "duration": 0.535893,
     "end_time": "2022-03-05T10:10:18.306965",
     "exception": false,
     "start_time": "2022-03-05T10:10:17.771072",
     "status": "completed"
    },
    "tags": []
   },
   "outputs": [
    {
     "name": "stdout",
     "output_type": "stream",
     "text": [
      "Shape of data tensor: (14208, 128)\n",
      "Shape of data tensor: (3552, 128)\n",
      "Shape of data tensor: (4440, 128)\n"
     ]
    }
   ],
   "source": [
    "X_train = tokenizer.texts_to_sequences(train_data[1])\n",
    "X_train = pad_sequences(X_train, maxlen=MAX_SEQUENCE_LENGTH)\n",
    "print('Shape of data tensor:', X_train.shape)\n",
    "\n",
    "X_val = tokenizer.texts_to_sequences(val_data[1])\n",
    "X_val = pad_sequences(X_val, maxlen=MAX_SEQUENCE_LENGTH)\n",
    "print('Shape of data tensor:', X_val.shape)\n",
    "\n",
    "X_test = tokenizer.texts_to_sequences(test_data[1])\n",
    "X_test = pad_sequences(X_test, maxlen=MAX_SEQUENCE_LENGTH)\n",
    "print('Shape of data tensor:', X_test.shape)"
   ]
  },
  {
   "cell_type": "code",
   "execution_count": 7,
   "id": "f1d9879d",
   "metadata": {
    "execution": {
     "iopub.execute_input": "2022-03-05T10:10:22.985164Z",
     "iopub.status.busy": "2022-03-05T10:10:22.983890Z",
     "iopub.status.idle": "2022-03-05T10:10:22.993823Z",
     "shell.execute_reply": "2022-03-05T10:10:22.993304Z",
     "shell.execute_reply.started": "2022-03-05T09:38:07.527760Z"
    },
    "executionInfo": {
     "elapsed": 1187,
     "status": "ok",
     "timestamp": 1610662594549,
     "user": {
      "displayName": "Kushal Kedia",
      "photoUrl": "",
      "userId": "17515642502776479988"
     },
     "user_tz": -330
    },
    "id": "0wczaQRm96WJ",
    "outputId": "3dc1f7b3-0bf3-4862-a307-323aae54c8d6",
    "papermill": {
     "duration": 4.665807,
     "end_time": "2022-03-05T10:10:22.993953",
     "exception": false,
     "start_time": "2022-03-05T10:10:18.328146",
     "status": "completed"
    },
    "tags": []
   },
   "outputs": [
    {
     "name": "stdout",
     "output_type": "stream",
     "text": [
      "[name: \"/device:CPU:0\"\n",
      "device_type: \"CPU\"\n",
      "memory_limit: 268435456\n",
      "locality {\n",
      "}\n",
      "incarnation: 4453351996969603542\n",
      ", name: \"/device:GPU:0\"\n",
      "device_type: \"GPU\"\n",
      "memory_limit: 15667560448\n",
      "locality {\n",
      "  bus_id: 1\n",
      "  links {\n",
      "  }\n",
      "}\n",
      "incarnation: 12838064473617350522\n",
      "physical_device_desc: \"device: 0, name: Tesla P100-PCIE-16GB, pci bus id: 0000:00:04.0, compute capability: 6.0\"\n",
      "]\n"
     ]
    },
    {
     "name": "stderr",
     "output_type": "stream",
     "text": [
      "2022-03-05 10:10:18.352094: I tensorflow/core/platform/cpu_feature_guard.cc:142] This TensorFlow binary is optimized with oneAPI Deep Neural Network Library (oneDNN) to use the following CPU instructions in performance-critical operations:  AVX2 AVX512F FMA\n",
      "To enable them in other operations, rebuild TensorFlow with the appropriate compiler flags.\n",
      "2022-03-05 10:10:18.402286: I tensorflow/stream_executor/cuda/cuda_gpu_executor.cc:937] successful NUMA node read from SysFS had negative value (-1), but there must be at least one NUMA node, so returning NUMA node zero\n",
      "2022-03-05 10:10:18.403402: I tensorflow/stream_executor/cuda/cuda_gpu_executor.cc:937] successful NUMA node read from SysFS had negative value (-1), but there must be at least one NUMA node, so returning NUMA node zero\n",
      "2022-03-05 10:10:18.404216: I tensorflow/stream_executor/cuda/cuda_gpu_executor.cc:937] successful NUMA node read from SysFS had negative value (-1), but there must be at least one NUMA node, so returning NUMA node zero\n",
      "2022-03-05 10:10:22.973202: I tensorflow/stream_executor/cuda/cuda_gpu_executor.cc:937] successful NUMA node read from SysFS had negative value (-1), but there must be at least one NUMA node, so returning NUMA node zero\n",
      "2022-03-05 10:10:22.974048: I tensorflow/stream_executor/cuda/cuda_gpu_executor.cc:937] successful NUMA node read from SysFS had negative value (-1), but there must be at least one NUMA node, so returning NUMA node zero\n",
      "2022-03-05 10:10:22.974722: I tensorflow/stream_executor/cuda/cuda_gpu_executor.cc:937] successful NUMA node read from SysFS had negative value (-1), but there must be at least one NUMA node, so returning NUMA node zero\n",
      "2022-03-05 10:10:22.975312: I tensorflow/core/common_runtime/gpu/gpu_device.cc:1510] Created device /device:GPU:0 with 14941 MB memory:  -> device: 0, name: Tesla P100-PCIE-16GB, pci bus id: 0000:00:04.0, compute capability: 6.0\n"
     ]
    }
   ],
   "source": [
    "from tensorflow.python.client import device_lib\n",
    "print(device_lib.list_local_devices())"
   ]
  },
  {
   "cell_type": "code",
   "execution_count": 8,
   "id": "627f39df",
   "metadata": {
    "execution": {
     "iopub.execute_input": "2022-03-05T10:10:23.045396Z",
     "iopub.status.busy": "2022-03-05T10:10:23.044692Z",
     "iopub.status.idle": "2022-03-05T10:10:23.055758Z",
     "shell.execute_reply": "2022-03-05T10:10:23.055024Z",
     "shell.execute_reply.started": "2022-03-05T09:38:50.968863Z"
    },
    "executionInfo": {
     "elapsed": 1495,
     "status": "ok",
     "timestamp": 1610662596389,
     "user": {
      "displayName": "Kushal Kedia",
      "photoUrl": "",
      "userId": "17515642502776479988"
     },
     "user_tz": -330
    },
    "id": "k-OGIyrBQVs4",
    "outputId": "ac5d8f1c-83a1-48ab-cd9c-38869410ddf9",
    "papermill": {
     "duration": 0.039417,
     "end_time": "2022-03-05T10:10:23.055908",
     "exception": false,
     "start_time": "2022-03-05T10:10:23.016491",
     "status": "completed"
    },
    "tags": []
   },
   "outputs": [
    {
     "name": "stdout",
     "output_type": "stream",
     "text": [
      "Shape of label tensor: (14208, 11)\n",
      "Shape of label tensor: (3552, 11)\n"
     ]
    }
   ],
   "source": [
    "Y_train = pd.get_dummies(train_data[0]).values\n",
    "print('Shape of label tensor:', Y_train.shape)\n",
    "\n",
    "Y_val = pd.get_dummies(val_data[0]).values\n",
    "print('Shape of label tensor:', Y_val.shape)"
   ]
  },
  {
   "cell_type": "code",
   "execution_count": 9,
   "id": "33a406e7",
   "metadata": {
    "execution": {
     "iopub.execute_input": "2022-03-05T10:10:23.104276Z",
     "iopub.status.busy": "2022-03-05T10:10:23.103641Z",
     "iopub.status.idle": "2022-03-05T10:10:23.105857Z",
     "shell.execute_reply": "2022-03-05T10:10:23.106225Z",
     "shell.execute_reply.started": "2022-03-05T09:38:53.704149Z"
    },
    "id": "96LsNcZkx0Ih",
    "papermill": {
     "duration": 0.028198,
     "end_time": "2022-03-05T10:10:23.106351",
     "exception": false,
     "start_time": "2022-03-05T10:10:23.078153",
     "status": "completed"
    },
    "tags": []
   },
   "outputs": [],
   "source": [
    "def get_predicted(preds):\n",
    "    pred_flat = np.argmax(preds, axis=1).flatten()\n",
    "    return pred_flat\n",
    "from sklearn.metrics import f1_score, accuracy_score\n",
    "# def f1(ytrue, ypred):\n",
    "#     return f1_score(get_predicted(np.array(ytrue)), get_predicted(np.array(ypred)), average = 'weighted')"
   ]
  },
  {
   "cell_type": "code",
   "execution_count": 10,
   "id": "0342942d",
   "metadata": {
    "execution": {
     "iopub.execute_input": "2022-03-05T10:10:23.156807Z",
     "iopub.status.busy": "2022-03-05T10:10:23.156156Z",
     "iopub.status.idle": "2022-03-05T10:10:23.158722Z",
     "shell.execute_reply": "2022-03-05T10:10:23.158291Z",
     "shell.execute_reply.started": "2022-03-05T09:38:55.254599Z"
    },
    "id": "PUE9ahFczYq2",
    "papermill": {
     "duration": 0.031087,
     "end_time": "2022-03-05T10:10:23.158833",
     "exception": false,
     "start_time": "2022-03-05T10:10:23.127746",
     "status": "completed"
    },
    "tags": []
   },
   "outputs": [],
   "source": [
    "from keras import backend as K\n",
    "def f1(true, pred): #shapes (batch, 4)\n",
    "\n",
    "    #for metrics include these two lines, for loss, don't include them\n",
    "    #these are meant to round 'pred' to exactly zeros and ones\n",
    "    #predLabels = K.argmax(pred, axis=-1)\n",
    "    #pred = K.one_hot(predLabels, 4) \n",
    "\n",
    "\n",
    "    ground_positives = K.sum(true, axis=0)       # = TP + FN\n",
    "    pred_positives = K.sum(pred, axis=0)         # = TP + FP\n",
    "    true_positives = K.sum(true * pred, axis=0)  # = TP\n",
    "        #all with shape (4,)\n",
    "\n",
    "    precision = (true_positives + K.epsilon()) / (pred_positives + K.epsilon()) \n",
    "    recall = (true_positives + K.epsilon()) / (ground_positives + K.epsilon()) \n",
    "        #both = 1 if ground_positives == 0 or pred_positives == 0\n",
    "        #shape (4,)\n",
    "\n",
    "    f1 = 2 * (precision * recall) / (precision + recall + K.epsilon())\n",
    "        #not sure if this last epsilon is necessary\n",
    "        #matematically not, but maybe to avoid computational instability\n",
    "        #still with shape (4,)\n",
    "\n",
    "    weighted_f1 = f1 * ground_positives / K.sum(ground_positives)\n",
    "    weighted_f1 = K.sum(weighted_f1)\n",
    "\n",
    "\n",
    "    return weighted_f1 #for metrics, return only 'weighted_f1"
   ]
  },
  {
   "cell_type": "code",
   "execution_count": 11,
   "id": "69063784",
   "metadata": {
    "execution": {
     "iopub.execute_input": "2022-03-05T10:10:23.206549Z",
     "iopub.status.busy": "2022-03-05T10:10:23.205935Z",
     "iopub.status.idle": "2022-03-05T10:10:23.208508Z",
     "shell.execute_reply": "2022-03-05T10:10:23.208095Z",
     "shell.execute_reply.started": "2022-03-05T09:39:52.332830Z"
    },
    "id": "yJ9qoxcEjdIo",
    "papermill": {
     "duration": 0.027947,
     "end_time": "2022-03-05T10:10:23.208643",
     "exception": false,
     "start_time": "2022-03-05T10:10:23.180696",
     "status": "completed"
    },
    "tags": []
   },
   "outputs": [],
   "source": [
    "mc = ModelCheckpoint('model_tam_1.h5', monitor='val_f1', mode='max', save_best_only=True)\n",
    "cb_list = mc"
   ]
  },
  {
   "cell_type": "code",
   "execution_count": 12,
   "id": "35995e66",
   "metadata": {
    "execution": {
     "iopub.execute_input": "2022-03-05T10:10:23.255142Z",
     "iopub.status.busy": "2022-03-05T10:10:23.254490Z",
     "iopub.status.idle": "2022-03-05T10:10:23.561282Z",
     "shell.execute_reply": "2022-03-05T10:10:23.560797Z",
     "shell.execute_reply.started": "2022-03-05T09:39:54.540581Z"
    },
    "id": "4jJCi1BrBJgF",
    "papermill": {
     "duration": 0.331321,
     "end_time": "2022-03-05T10:10:23.561412",
     "exception": false,
     "start_time": "2022-03-05T10:10:23.230091",
     "status": "completed"
    },
    "tags": []
   },
   "outputs": [],
   "source": [
    "from tensorflow.keras import layers"
   ]
  },
  {
   "cell_type": "code",
   "execution_count": 13,
   "id": "1249eede",
   "metadata": {
    "execution": {
     "iopub.execute_input": "2022-03-05T10:10:23.614283Z",
     "iopub.status.busy": "2022-03-05T10:10:23.613467Z",
     "iopub.status.idle": "2022-03-05T10:25:25.017289Z",
     "shell.execute_reply": "2022-03-05T10:25:25.017797Z",
     "shell.execute_reply.started": "2022-03-05T09:40:38.863636Z"
    },
    "executionInfo": {
     "elapsed": 4956228,
     "status": "ok",
     "timestamp": 1610668345874,
     "user": {
      "displayName": "Kushal Kedia",
      "photoUrl": "",
      "userId": "17515642502776479988"
     },
     "user_tz": -330
    },
    "id": "pvZ3i83rSJIt",
    "outputId": "ef8744a4-5d6c-4a45-82f0-293becb68ab9",
    "papermill": {
     "duration": 901.432786,
     "end_time": "2022-03-05T10:25:25.018012",
     "exception": false,
     "start_time": "2022-03-05T10:10:23.585226",
     "status": "completed"
    },
    "tags": []
   },
   "outputs": [
    {
     "name": "stderr",
     "output_type": "stream",
     "text": [
      "2022-03-05 10:10:23.630917: I tensorflow/stream_executor/cuda/cuda_gpu_executor.cc:937] successful NUMA node read from SysFS had negative value (-1), but there must be at least one NUMA node, so returning NUMA node zero\n",
      "2022-03-05 10:10:23.631761: I tensorflow/stream_executor/cuda/cuda_gpu_executor.cc:937] successful NUMA node read from SysFS had negative value (-1), but there must be at least one NUMA node, so returning NUMA node zero\n",
      "2022-03-05 10:10:23.632390: I tensorflow/stream_executor/cuda/cuda_gpu_executor.cc:937] successful NUMA node read from SysFS had negative value (-1), but there must be at least one NUMA node, so returning NUMA node zero\n",
      "2022-03-05 10:10:23.633254: I tensorflow/stream_executor/cuda/cuda_gpu_executor.cc:937] successful NUMA node read from SysFS had negative value (-1), but there must be at least one NUMA node, so returning NUMA node zero\n",
      "2022-03-05 10:10:23.633906: I tensorflow/stream_executor/cuda/cuda_gpu_executor.cc:937] successful NUMA node read from SysFS had negative value (-1), but there must be at least one NUMA node, so returning NUMA node zero\n",
      "2022-03-05 10:10:23.634488: I tensorflow/stream_executor/cuda/cuda_gpu_executor.cc:937] successful NUMA node read from SysFS had negative value (-1), but there must be at least one NUMA node, so returning NUMA node zero\n",
      "2022-03-05 10:10:23.635162: I tensorflow/stream_executor/cuda/cuda_gpu_executor.cc:937] successful NUMA node read from SysFS had negative value (-1), but there must be at least one NUMA node, so returning NUMA node zero\n",
      "2022-03-05 10:10:23.635821: I tensorflow/stream_executor/cuda/cuda_gpu_executor.cc:937] successful NUMA node read from SysFS had negative value (-1), but there must be at least one NUMA node, so returning NUMA node zero\n",
      "2022-03-05 10:10:23.636378: I tensorflow/core/common_runtime/gpu/gpu_device.cc:1510] Created device /job:localhost/replica:0/task:0/device:GPU:0 with 14941 MB memory:  -> device: 0, name: Tesla P100-PCIE-16GB, pci bus id: 0000:00:04.0, compute capability: 6.0\n",
      "2022-03-05 10:10:24.272354: I tensorflow/compiler/mlir/mlir_graph_optimization_pass.cc:185] None of the MLIR Optimization Passes are enabled (registered 2)\n"
     ]
    },
    {
     "name": "stdout",
     "output_type": "stream",
     "text": [
      "Epoch 1/4\n",
      "444/444 [==============================] - 211s 467ms/step - loss: 1.9128 - f1: 0.2150 - val_loss: 1.7757 - val_f1: 0.2609\n",
      "Epoch 2/4\n",
      "444/444 [==============================] - 207s 467ms/step - loss: 1.4663 - f1: 0.3520 - val_loss: 1.8301 - val_f1: 0.2889\n",
      "Epoch 3/4\n",
      "444/444 [==============================] - 209s 471ms/step - loss: 0.8322 - f1: 0.5960 - val_loss: 2.2417 - val_f1: 0.3113\n",
      "Epoch 4/4\n",
      "444/444 [==============================] - 209s 470ms/step - loss: 0.4285 - f1: 0.7788 - val_loss: 2.6241 - val_f1: 0.3065\n"
     ]
    }
   ],
   "source": [
    "model = Sequential()\n",
    "model.add(Embedding(MAX_NB_WORDS, EMBEDDING_DIM, input_length=X_train.shape[1]))\n",
    "model.add(SpatialDropout1D(0.2))\n",
    "model.add(layers.Bidirectional(LSTM(100, dropout=0.2, recurrent_dropout=0.2)))\n",
    "model.add(Dense(11, activation='softmax'))\n",
    "model.compile(loss='categorical_crossentropy', optimizer='adam', metrics=[f1])\n",
    "history = model.fit(X_train, Y_train, validation_data=(X_val, Y_val), epochs=4, batch_size=32, callbacks = cb_list)\n",
    "# Final evaluation of the model\n",
    "model_pred_train = model.predict(X_train)\n",
    "model_pred_test = model.predict(X_val)\n",
    "# print(classification_report(test_labels,model_pred_test))\n",
    "#print('LSTM Recurrent Neural Network baseline: ' + str(roc_auc_score(Y_train, model_pred_train)))\n",
    "#print('LSTM Recurrent Neural Network: ' + str(roc_auc_score(Y_val, model_pred_test)))"
   ]
  },
  {
   "cell_type": "code",
   "execution_count": 14,
   "id": "6fdc4ae4",
   "metadata": {
    "execution": {
     "iopub.execute_input": "2022-03-05T10:25:26.214069Z",
     "iopub.status.busy": "2022-03-05T10:25:26.212968Z",
     "iopub.status.idle": "2022-03-05T10:26:01.614375Z",
     "shell.execute_reply": "2022-03-05T10:26:01.614941Z",
     "shell.execute_reply.started": "2022-03-05T09:58:57.565671Z"
    },
    "executionInfo": {
     "elapsed": 44318,
     "status": "ok",
     "timestamp": 1610662476997,
     "user": {
      "displayName": "Kushal Kedia",
      "photoUrl": "",
      "userId": "17515642502776479988"
     },
     "user_tz": -330
    },
    "id": "Egy-ijmMekdc",
    "outputId": "164306bd-a285-46b1-f7a7-74f0d9f3ac42",
    "papermill": {
     "duration": 35.980633,
     "end_time": "2022-03-05T10:26:01.615108",
     "exception": false,
     "start_time": "2022-03-05T10:25:25.634475",
     "status": "completed"
    },
    "tags": []
   },
   "outputs": [
    {
     "name": "stdout",
     "output_type": "stream",
     "text": [
      "0.9383760548006914 0.9396818693693694\n"
     ]
    }
   ],
   "source": [
    "\n",
    "model_pred_train = model.predict(X_train)\n",
    "model_pred_test = model.predict(X_val)\n",
    "f1 = f1_score(get_predicted(Y_train), get_predicted(model_pred_train), average = 'weighted')\n",
    "acc = accuracy_score(get_predicted(Y_train), get_predicted(model_pred_train))\n",
    "print(f1, acc)"
   ]
  },
  {
   "cell_type": "code",
   "execution_count": 15,
   "id": "0b34ffc6",
   "metadata": {
    "execution": {
     "iopub.execute_input": "2022-03-05T10:26:02.764407Z",
     "iopub.status.busy": "2022-03-05T10:26:02.763520Z",
     "iopub.status.idle": "2022-03-05T10:26:02.771397Z",
     "shell.execute_reply": "2022-03-05T10:26:02.770997Z",
     "shell.execute_reply.started": "2022-03-05T09:59:59.125536Z"
    },
    "executionInfo": {
     "elapsed": 41042,
     "status": "ok",
     "timestamp": 1610662476998,
     "user": {
      "displayName": "Kushal Kedia",
      "photoUrl": "",
      "userId": "17515642502776479988"
     },
     "user_tz": -330
    },
    "id": "q33zeNwivrK_",
    "outputId": "0da6a1f9-b092-4bcf-8635-c12f70704da3",
    "papermill": {
     "duration": 0.580027,
     "end_time": "2022-03-05T10:26:02.771511",
     "exception": false,
     "start_time": "2022-03-05T10:26:02.191484",
     "status": "completed"
    },
    "tags": []
   },
   "outputs": [
    {
     "data": {
      "text/plain": [
       "0.21000761550619174"
      ]
     },
     "execution_count": 15,
     "metadata": {},
     "output_type": "execute_result"
    }
   ],
   "source": [
    "f1 = f1_score(get_predicted(Y_val), get_predicted(model_pred_test), average = 'macro')\n",
    "f1"
   ]
  },
  {
   "cell_type": "code",
   "execution_count": 16,
   "id": "143aeb9f",
   "metadata": {
    "execution": {
     "iopub.execute_input": "2022-03-05T10:26:03.925975Z",
     "iopub.status.busy": "2022-03-05T10:26:03.925053Z",
     "iopub.status.idle": "2022-03-05T10:26:03.930421Z",
     "shell.execute_reply": "2022-03-05T10:26:03.929852Z",
     "shell.execute_reply.started": "2022-03-05T10:00:05.244800Z"
    },
    "executionInfo": {
     "elapsed": 40866,
     "status": "ok",
     "timestamp": 1610662476998,
     "user": {
      "displayName": "Kushal Kedia",
      "photoUrl": "",
      "userId": "17515642502776479988"
     },
     "user_tz": -330
    },
    "id": "yyw7L_iCvys2",
    "outputId": "de35dc28-e19d-48dc-8bbe-9210165f16cc",
    "papermill": {
     "duration": 0.585158,
     "end_time": "2022-03-05T10:26:03.930586",
     "exception": false,
     "start_time": "2022-03-05T10:26:03.345428",
     "status": "completed"
    },
    "tags": []
   },
   "outputs": [
    {
     "name": "stdout",
     "output_type": "stream",
     "text": [
      "0.21000761550619174 0.3400900900900901\n"
     ]
    }
   ],
   "source": [
    "acc = accuracy_score(get_predicted(Y_val), get_predicted(model_pred_test))\n",
    "print(f1, acc)"
   ]
  },
  {
   "cell_type": "code",
   "execution_count": 18,
   "id": "f063ed32",
   "metadata": {
    "execution": {
     "iopub.execute_input": "2022-03-05T10:26:08.430449Z",
     "iopub.status.busy": "2022-03-05T10:26:08.429602Z",
     "iopub.status.idle": "2022-03-05T10:26:08.439127Z",
     "shell.execute_reply": "2022-03-05T10:26:08.439489Z",
     "shell.execute_reply.started": "2022-03-05T10:04:26.544843Z"
    },
    "executionInfo": {
     "elapsed": 1492,
     "status": "ok",
     "timestamp": 1610654429942,
     "user": {
      "displayName": "Kushal Kedia",
      "photoUrl": "",
      "userId": "17515642502776479988"
     },
     "user_tz": -330
    },
    "id": "nDTK2oc2fCNH",
    "outputId": "be0e7278-e375-426a-86d3-89b640ee4944",
    "papermill": {
     "duration": 0.954959,
     "end_time": "2022-03-05T10:26:08.439664",
     "exception": false,
     "start_time": "2022-03-05T10:26:07.484705",
     "status": "completed"
    },
    "tags": []
   },
   "outputs": [],
   "source": [
    "from sklearn.metrics import classification_report\n",
    "report = classification_report(get_predicted(Y_val), get_predicted(model_pred_test),output_dict=True)\n"
   ]
  },
  {
   "cell_type": "code",
   "execution_count": 19,
   "id": "4a75ec2b",
   "metadata": {
    "execution": {
     "iopub.execute_input": "2022-03-05T10:26:09.632872Z",
     "iopub.status.busy": "2022-03-05T10:26:09.632058Z",
     "iopub.status.idle": "2022-03-05T10:26:09.635313Z",
     "shell.execute_reply": "2022-03-05T10:26:09.635746Z",
     "shell.execute_reply.started": "2022-03-05T10:04:44.242099Z"
    },
    "papermill": {
     "duration": 0.607932,
     "end_time": "2022-03-05T10:26:09.635888",
     "exception": false,
     "start_time": "2022-03-05T10:26:09.027956",
     "status": "completed"
    },
    "tags": []
   },
   "outputs": [
    {
     "data": {
      "text/html": [
       "<div>\n",
       "<style scoped>\n",
       "    .dataframe tbody tr th:only-of-type {\n",
       "        vertical-align: middle;\n",
       "    }\n",
       "\n",
       "    .dataframe tbody tr th {\n",
       "        vertical-align: top;\n",
       "    }\n",
       "\n",
       "    .dataframe thead th {\n",
       "        text-align: right;\n",
       "    }\n",
       "</style>\n",
       "<table border=\"1\" class=\"dataframe\">\n",
       "  <thead>\n",
       "    <tr style=\"text-align: right;\">\n",
       "      <th></th>\n",
       "      <th>precision</th>\n",
       "      <th>recall</th>\n",
       "      <th>f1-score</th>\n",
       "      <th>support</th>\n",
       "    </tr>\n",
       "  </thead>\n",
       "  <tbody>\n",
       "    <tr>\n",
       "      <th>0</th>\n",
       "      <td>0.336364</td>\n",
       "      <td>0.338673</td>\n",
       "      <td>0.337514</td>\n",
       "      <td>437.00000</td>\n",
       "    </tr>\n",
       "    <tr>\n",
       "      <th>1</th>\n",
       "      <td>0.149733</td>\n",
       "      <td>0.152174</td>\n",
       "      <td>0.150943</td>\n",
       "      <td>184.00000</td>\n",
       "    </tr>\n",
       "    <tr>\n",
       "      <th>2</th>\n",
       "      <td>0.139738</td>\n",
       "      <td>0.150235</td>\n",
       "      <td>0.144796</td>\n",
       "      <td>213.00000</td>\n",
       "    </tr>\n",
       "    <tr>\n",
       "      <th>3</th>\n",
       "      <td>0.134615</td>\n",
       "      <td>0.133333</td>\n",
       "      <td>0.133971</td>\n",
       "      <td>210.00000</td>\n",
       "    </tr>\n",
       "    <tr>\n",
       "      <th>4</th>\n",
       "      <td>0.000000</td>\n",
       "      <td>0.000000</td>\n",
       "      <td>0.000000</td>\n",
       "      <td>23.00000</td>\n",
       "    </tr>\n",
       "    <tr>\n",
       "      <th>5</th>\n",
       "      <td>0.427340</td>\n",
       "      <td>0.621864</td>\n",
       "      <td>0.506569</td>\n",
       "      <td>558.00000</td>\n",
       "    </tr>\n",
       "    <tr>\n",
       "      <th>6</th>\n",
       "      <td>0.272727</td>\n",
       "      <td>0.047619</td>\n",
       "      <td>0.081081</td>\n",
       "      <td>189.00000</td>\n",
       "    </tr>\n",
       "    <tr>\n",
       "      <th>7</th>\n",
       "      <td>0.409539</td>\n",
       "      <td>0.407529</td>\n",
       "      <td>0.408532</td>\n",
       "      <td>1222.00000</td>\n",
       "    </tr>\n",
       "    <tr>\n",
       "      <th>8</th>\n",
       "      <td>0.320000</td>\n",
       "      <td>0.251309</td>\n",
       "      <td>0.281525</td>\n",
       "      <td>191.00000</td>\n",
       "    </tr>\n",
       "    <tr>\n",
       "      <th>9</th>\n",
       "      <td>0.000000</td>\n",
       "      <td>0.000000</td>\n",
       "      <td>0.000000</td>\n",
       "      <td>53.00000</td>\n",
       "    </tr>\n",
       "    <tr>\n",
       "      <th>10</th>\n",
       "      <td>0.273438</td>\n",
       "      <td>0.257353</td>\n",
       "      <td>0.265152</td>\n",
       "      <td>272.00000</td>\n",
       "    </tr>\n",
       "    <tr>\n",
       "      <th>accuracy</th>\n",
       "      <td>0.340090</td>\n",
       "      <td>0.340090</td>\n",
       "      <td>0.340090</td>\n",
       "      <td>0.34009</td>\n",
       "    </tr>\n",
       "    <tr>\n",
       "      <th>macro avg</th>\n",
       "      <td>0.223954</td>\n",
       "      <td>0.214553</td>\n",
       "      <td>0.210008</td>\n",
       "      <td>3552.00000</td>\n",
       "    </tr>\n",
       "    <tr>\n",
       "      <th>weighted avg</th>\n",
       "      <td>0.326162</td>\n",
       "      <td>0.340090</td>\n",
       "      <td>0.325831</td>\n",
       "      <td>3552.00000</td>\n",
       "    </tr>\n",
       "  </tbody>\n",
       "</table>\n",
       "</div>"
      ],
      "text/plain": [
       "              precision    recall  f1-score     support\n",
       "0              0.336364  0.338673  0.337514   437.00000\n",
       "1              0.149733  0.152174  0.150943   184.00000\n",
       "2              0.139738  0.150235  0.144796   213.00000\n",
       "3              0.134615  0.133333  0.133971   210.00000\n",
       "4              0.000000  0.000000  0.000000    23.00000\n",
       "5              0.427340  0.621864  0.506569   558.00000\n",
       "6              0.272727  0.047619  0.081081   189.00000\n",
       "7              0.409539  0.407529  0.408532  1222.00000\n",
       "8              0.320000  0.251309  0.281525   191.00000\n",
       "9              0.000000  0.000000  0.000000    53.00000\n",
       "10             0.273438  0.257353  0.265152   272.00000\n",
       "accuracy       0.340090  0.340090  0.340090     0.34009\n",
       "macro avg      0.223954  0.214553  0.210008  3552.00000\n",
       "weighted avg   0.326162  0.340090  0.325831  3552.00000"
      ]
     },
     "execution_count": 19,
     "metadata": {},
     "output_type": "execute_result"
    }
   ],
   "source": [
    "pd.DataFrame(report).transpose()"
   ]
  },
  {
   "cell_type": "code",
   "execution_count": null,
   "id": "aa3f234e",
   "metadata": {
    "id": "Gxwu-UTlzJVo",
    "papermill": {
     "duration": 0.587811,
     "end_time": "2022-03-05T10:26:10.815244",
     "exception": false,
     "start_time": "2022-03-05T10:26:10.227433",
     "status": "completed"
    },
    "tags": []
   },
   "outputs": [],
   "source": []
  }
 ],
 "metadata": {
  "kernelspec": {
   "display_name": "Python 3",
   "language": "python",
   "name": "python3"
  },
  "language_info": {
   "codemirror_mode": {
    "name": "ipython",
    "version": 3
   },
   "file_extension": ".py",
   "mimetype": "text/x-python",
   "name": "python",
   "nbconvert_exporter": "python",
   "pygments_lexer": "ipython3",
   "version": "3.8.7"
  },
  "papermill": {
   "default_parameters": {},
   "duration": 976.894337,
   "end_time": "2022-03-05T10:26:15.270272",
   "environment_variables": {},
   "exception": null,
   "input_path": "__notebook__.ipynb",
   "output_path": "__notebook__.ipynb",
   "parameters": {},
   "start_time": "2022-03-05T10:09:58.375935",
   "version": "2.3.3"
  }
 },
 "nbformat": 4,
 "nbformat_minor": 5
}
