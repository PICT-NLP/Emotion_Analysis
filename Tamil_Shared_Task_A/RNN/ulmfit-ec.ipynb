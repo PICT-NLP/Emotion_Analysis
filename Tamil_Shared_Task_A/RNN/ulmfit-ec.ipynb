{
 "cells": [
  {
   "cell_type": "code",
   "execution_count": 1,
   "id": "743384f8",
   "metadata": {
    "_cell_guid": "b1076dfc-b9ad-4769-8c92-a6c4dae69d19",
    "_uuid": "8f2839f25d086af736a60e9eeb907d3b93b6e0e5",
    "execution": {
     "iopub.execute_input": "2022-03-04T05:19:43.172368Z",
     "iopub.status.busy": "2022-03-04T05:19:43.170869Z",
     "iopub.status.idle": "2022-03-04T05:21:26.724873Z",
     "shell.execute_reply": "2022-03-04T05:21:26.725336Z"
    },
    "papermill": {
     "duration": 103.59771,
     "end_time": "2022-03-04T05:21:26.725632",
     "exception": false,
     "start_time": "2022-03-04T05:19:43.127922",
     "status": "completed"
    },
    "tags": []
   },
   "outputs": [
    {
     "name": "stdout",
     "output_type": "stream",
     "text": [
      "Collecting fastai==1.0.61\r\n",
      "  Downloading fastai-1.0.61-py3-none-any.whl (239 kB)\r\n",
      "     |████████████████████████████████| 239 kB 4.3 MB/s            \r\n",
      "\u001b[?25hRequirement already satisfied: packaging in /opt/conda/lib/python3.7/site-packages (from fastai==1.0.61) (21.3)\r\n",
      "Requirement already satisfied: numpy>=1.15 in /opt/conda/lib/python3.7/site-packages (from fastai==1.0.61) (1.20.3)\r\n",
      "Requirement already satisfied: pyyaml in /opt/conda/lib/python3.7/site-packages (from fastai==1.0.61) (6.0)\r\n",
      "Requirement already satisfied: numexpr in /opt/conda/lib/python3.7/site-packages (from fastai==1.0.61) (2.8.1)\r\n",
      "Requirement already satisfied: matplotlib in /opt/conda/lib/python3.7/site-packages (from fastai==1.0.61) (3.5.1)\r\n",
      "Requirement already satisfied: spacy>=2.0.18 in /opt/conda/lib/python3.7/site-packages (from fastai==1.0.61) (3.2.2)\r\n",
      "Requirement already satisfied: pandas in /opt/conda/lib/python3.7/site-packages (from fastai==1.0.61) (1.3.5)\r\n",
      "Requirement already satisfied: requests in /opt/conda/lib/python3.7/site-packages (from fastai==1.0.61) (2.26.0)\r\n",
      "Requirement already satisfied: torch>=1.0.0 in /opt/conda/lib/python3.7/site-packages (from fastai==1.0.61) (1.9.1)\r\n",
      "Requirement already satisfied: torchvision in /opt/conda/lib/python3.7/site-packages (from fastai==1.0.61) (0.10.1)\r\n",
      "Requirement already satisfied: bottleneck in /opt/conda/lib/python3.7/site-packages (from fastai==1.0.61) (1.3.2)\r\n",
      "Collecting nvidia-ml-py3\r\n",
      "  Downloading nvidia-ml-py3-7.352.0.tar.gz (19 kB)\r\n",
      "  Preparing metadata (setup.py) ... \u001b[?25l-\b \bdone\r\n",
      "\u001b[?25hRequirement already satisfied: Pillow in /opt/conda/lib/python3.7/site-packages (from fastai==1.0.61) (8.2.0)\r\n",
      "Requirement already satisfied: fastprogress>=0.2.1 in /opt/conda/lib/python3.7/site-packages (from fastai==1.0.61) (1.0.2)\r\n",
      "Requirement already satisfied: scipy in /opt/conda/lib/python3.7/site-packages (from fastai==1.0.61) (1.7.3)\r\n",
      "Requirement already satisfied: beautifulsoup4 in /opt/conda/lib/python3.7/site-packages (from fastai==1.0.61) (4.10.0)\r\n",
      "Collecting typing-extensions<4.0.0.0,>=3.7.4\r\n",
      "  Downloading typing_extensions-3.10.0.2-py3-none-any.whl (26 kB)\r\n",
      "Requirement already satisfied: jinja2 in /opt/conda/lib/python3.7/site-packages (from spacy>=2.0.18->fastai==1.0.61) (3.0.3)\r\n",
      "Requirement already satisfied: cymem<2.1.0,>=2.0.2 in /opt/conda/lib/python3.7/site-packages (from spacy>=2.0.18->fastai==1.0.61) (2.0.6)\r\n",
      "Requirement already satisfied: srsly<3.0.0,>=2.4.1 in /opt/conda/lib/python3.7/site-packages (from spacy>=2.0.18->fastai==1.0.61) (2.4.2)\r\n",
      "Requirement already satisfied: thinc<8.1.0,>=8.0.12 in /opt/conda/lib/python3.7/site-packages (from spacy>=2.0.18->fastai==1.0.61) (8.0.13)\r\n",
      "Requirement already satisfied: typer<0.5.0,>=0.3.0 in /opt/conda/lib/python3.7/site-packages (from spacy>=2.0.18->fastai==1.0.61) (0.4.0)\r\n",
      "Requirement already satisfied: setuptools in /opt/conda/lib/python3.7/site-packages (from spacy>=2.0.18->fastai==1.0.61) (59.5.0)\r\n",
      "Requirement already satisfied: pathy>=0.3.5 in /opt/conda/lib/python3.7/site-packages (from spacy>=2.0.18->fastai==1.0.61) (0.6.1)\r\n",
      "Requirement already satisfied: pydantic!=1.8,!=1.8.1,<1.9.0,>=1.7.4 in /opt/conda/lib/python3.7/site-packages (from spacy>=2.0.18->fastai==1.0.61) (1.8.2)\r\n",
      "Requirement already satisfied: langcodes<4.0.0,>=3.2.0 in /opt/conda/lib/python3.7/site-packages (from spacy>=2.0.18->fastai==1.0.61) (3.3.0)\r\n",
      "Requirement already satisfied: blis<0.8.0,>=0.4.0 in /opt/conda/lib/python3.7/site-packages (from spacy>=2.0.18->fastai==1.0.61) (0.7.5)\r\n",
      "Requirement already satisfied: murmurhash<1.1.0,>=0.28.0 in /opt/conda/lib/python3.7/site-packages (from spacy>=2.0.18->fastai==1.0.61) (1.0.6)\r\n",
      "Requirement already satisfied: preshed<3.1.0,>=3.0.2 in /opt/conda/lib/python3.7/site-packages (from spacy>=2.0.18->fastai==1.0.61) (3.0.6)\r\n",
      "Requirement already satisfied: catalogue<2.1.0,>=2.0.6 in /opt/conda/lib/python3.7/site-packages (from spacy>=2.0.18->fastai==1.0.61) (2.0.6)\r\n",
      "Requirement already satisfied: wasabi<1.1.0,>=0.8.1 in /opt/conda/lib/python3.7/site-packages (from spacy>=2.0.18->fastai==1.0.61) (0.9.0)\r\n",
      "Requirement already satisfied: tqdm<5.0.0,>=4.38.0 in /opt/conda/lib/python3.7/site-packages (from spacy>=2.0.18->fastai==1.0.61) (4.62.3)\r\n",
      "Requirement already satisfied: spacy-loggers<2.0.0,>=1.0.0 in /opt/conda/lib/python3.7/site-packages (from spacy>=2.0.18->fastai==1.0.61) (1.0.1)\r\n",
      "Requirement already satisfied: spacy-legacy<3.1.0,>=3.0.8 in /opt/conda/lib/python3.7/site-packages (from spacy>=2.0.18->fastai==1.0.61) (3.0.9)\r\n",
      "Requirement already satisfied: pyparsing!=3.0.5,>=2.0.2 in /opt/conda/lib/python3.7/site-packages (from packaging->fastai==1.0.61) (3.0.6)\r\n",
      "Requirement already satisfied: certifi>=2017.4.17 in /opt/conda/lib/python3.7/site-packages (from requests->fastai==1.0.61) (2021.10.8)\r\n",
      "Requirement already satisfied: idna<4,>=2.5 in /opt/conda/lib/python3.7/site-packages (from requests->fastai==1.0.61) (3.1)\r\n",
      "Requirement already satisfied: charset-normalizer~=2.0.0 in /opt/conda/lib/python3.7/site-packages (from requests->fastai==1.0.61) (2.0.9)\r\n",
      "Requirement already satisfied: urllib3<1.27,>=1.21.1 in /opt/conda/lib/python3.7/site-packages (from requests->fastai==1.0.61) (1.26.7)\r\n",
      "Requirement already satisfied: soupsieve>1.2 in /opt/conda/lib/python3.7/site-packages (from beautifulsoup4->fastai==1.0.61) (2.3.1)\r\n",
      "Requirement already satisfied: python-dateutil>=2.7 in /opt/conda/lib/python3.7/site-packages (from matplotlib->fastai==1.0.61) (2.8.2)\r\n",
      "Requirement already satisfied: cycler>=0.10 in /opt/conda/lib/python3.7/site-packages (from matplotlib->fastai==1.0.61) (0.11.0)\r\n",
      "Requirement already satisfied: kiwisolver>=1.0.1 in /opt/conda/lib/python3.7/site-packages (from matplotlib->fastai==1.0.61) (1.3.2)\r\n",
      "Requirement already satisfied: fonttools>=4.22.0 in /opt/conda/lib/python3.7/site-packages (from matplotlib->fastai==1.0.61) (4.28.4)\r\n",
      "Requirement already satisfied: pytz>=2017.3 in /opt/conda/lib/python3.7/site-packages (from pandas->fastai==1.0.61) (2021.3)\r\n",
      "Requirement already satisfied: zipp>=0.5 in /opt/conda/lib/python3.7/site-packages (from catalogue<2.1.0,>=2.0.6->spacy>=2.0.18->fastai==1.0.61) (3.6.0)\r\n",
      "Requirement already satisfied: smart-open<6.0.0,>=5.0.0 in /opt/conda/lib/python3.7/site-packages (from pathy>=0.3.5->spacy>=2.0.18->fastai==1.0.61) (5.2.1)\r\n",
      "Requirement already satisfied: six>=1.5 in /opt/conda/lib/python3.7/site-packages (from python-dateutil>=2.7->matplotlib->fastai==1.0.61) (1.16.0)\r\n",
      "Requirement already satisfied: click<9.0.0,>=7.1.1 in /opt/conda/lib/python3.7/site-packages (from typer<0.5.0,>=0.3.0->spacy>=2.0.18->fastai==1.0.61) (8.0.3)\r\n",
      "Requirement already satisfied: MarkupSafe>=2.0 in /opt/conda/lib/python3.7/site-packages (from jinja2->spacy>=2.0.18->fastai==1.0.61) (2.1.0)\r\n",
      "Requirement already satisfied: importlib-metadata in /opt/conda/lib/python3.7/site-packages (from click<9.0.0,>=7.1.1->typer<0.5.0,>=0.3.0->spacy>=2.0.18->fastai==1.0.61) (4.11.2)\r\n",
      "Building wheels for collected packages: nvidia-ml-py3\r\n",
      "  Building wheel for nvidia-ml-py3 (setup.py) ... \u001b[?25l-\b \b\\\b \bdone\r\n",
      "\u001b[?25h  Created wheel for nvidia-ml-py3: filename=nvidia_ml_py3-7.352.0-py3-none-any.whl size=19191 sha256=7147062114de37b29a84046b3368eb61e4c7adcd1cebd1222b85fb8737e8103f\r\n",
      "  Stored in directory: /root/.cache/pip/wheels/df/99/da/c34f202dc8fd1dffd35e0ecf1a7d7f8374ca05fbcbaf974b83\r\n",
      "Successfully built nvidia-ml-py3\r\n",
      "Installing collected packages: typing-extensions, nvidia-ml-py3, fastai\r\n",
      "  Attempting uninstall: typing-extensions\r\n",
      "    Found existing installation: typing-extensions 4.1.1\r\n",
      "    Uninstalling typing-extensions-4.1.1:\r\n",
      "      Successfully uninstalled typing-extensions-4.1.1\r\n",
      "  Attempting uninstall: fastai\r\n",
      "    Found existing installation: fastai 2.5.3\r\n",
      "    Uninstalling fastai-2.5.3:\r\n",
      "      Successfully uninstalled fastai-2.5.3\r\n",
      "\u001b[31mERROR: pip's dependency resolver does not currently take into account all the packages that are installed. This behaviour is the source of the following dependency conflicts.\r\n",
      "tensorflow-io 0.21.0 requires tensorflow-io-gcs-filesystem==0.21.0, which is not installed.\r\n",
      "explainable-ai-sdk 1.3.2 requires xai-image-widget, which is not installed.\r\n",
      "tensorflow 2.6.2 requires numpy~=1.19.2, but you have numpy 1.20.3 which is incompatible.\r\n",
      "tensorflow 2.6.2 requires six~=1.15.0, but you have six 1.16.0 which is incompatible.\r\n",
      "tensorflow 2.6.2 requires typing-extensions~=3.7.4, but you have typing-extensions 3.10.0.2 which is incompatible.\r\n",
      "tensorflow 2.6.2 requires wrapt~=1.12.1, but you have wrapt 1.13.3 which is incompatible.\r\n",
      "tensorflow-transform 1.5.0 requires absl-py<0.13,>=0.9, but you have absl-py 0.15.0 which is incompatible.\r\n",
      "tensorflow-transform 1.5.0 requires numpy<1.20,>=1.16, but you have numpy 1.20.3 which is incompatible.\r\n",
      "tensorflow-transform 1.5.0 requires pyarrow<6,>=1, but you have pyarrow 6.0.1 which is incompatible.\r\n",
      "tensorflow-transform 1.5.0 requires tensorflow!=2.0.*,!=2.1.*,!=2.2.*,!=2.3.*,!=2.4.*,!=2.5.*,!=2.6.*,<2.8,>=1.15.2, but you have tensorflow 2.6.2 which is incompatible.\r\n",
      "tensorflow-serving-api 2.7.0 requires tensorflow<3,>=2.7.0, but you have tensorflow 2.6.2 which is incompatible.\r\n",
      "flake8 4.0.1 requires importlib-metadata<4.3; python_version < \"3.8\", but you have importlib-metadata 4.11.2 which is incompatible.\r\n",
      "apache-beam 2.34.0 requires dill<0.3.2,>=0.3.1.1, but you have dill 0.3.4 which is incompatible.\r\n",
      "apache-beam 2.34.0 requires httplib2<0.20.0,>=0.8, but you have httplib2 0.20.2 which is incompatible.\r\n",
      "apache-beam 2.34.0 requires pyarrow<6.0.0,>=0.15.1, but you have pyarrow 6.0.1 which is incompatible.\r\n",
      "aioitertools 0.10.0 requires typing_extensions>=4.0; python_version < \"3.10\", but you have typing-extensions 3.10.0.2 which is incompatible.\r\n",
      "aiobotocore 2.1.1 requires botocore<1.23.25,>=1.23.24, but you have botocore 1.24.8 which is incompatible.\u001b[0m\r\n",
      "Successfully installed fastai-1.0.61 nvidia-ml-py3-7.352.0 typing-extensions-3.10.0.2\r\n",
      "\u001b[33mWARNING: Running pip as the 'root' user can result in broken permissions and conflicting behaviour with the system package manager. It is recommended to use a virtual environment instead: https://pip.pypa.io/warnings/venv\u001b[0m\r\n",
      "Looking in links: https://download.pytorch.org/whl/torch_stable.html\r\n",
      "Collecting torch==1.9.0+cu102\r\n",
      "  Downloading https://download.pytorch.org/whl/cu102/torch-1.9.0%2Bcu102-cp37-cp37m-linux_x86_64.whl (831.4 MB)\r\n",
      "     |████████████████████████████████| 831.4 MB 2.3 kB/s             \r\n",
      "\u001b[?25hRequirement already satisfied: typing-extensions in /opt/conda/lib/python3.7/site-packages (from torch==1.9.0+cu102) (3.10.0.2)\r\n",
      "Installing collected packages: torch\r\n",
      "  Attempting uninstall: torch\r\n",
      "    Found existing installation: torch 1.9.1\r\n",
      "    Uninstalling torch-1.9.1:\r\n",
      "      Successfully uninstalled torch-1.9.1\r\n",
      "Successfully installed torch-1.9.0+cu102\r\n",
      "\u001b[33mWARNING: Running pip as the 'root' user can result in broken permissions and conflicting behaviour with the system package manager. It is recommended to use a virtual environment instead: https://pip.pypa.io/warnings/venv\u001b[0m\r\n"
     ]
    }
   ],
   "source": [
    "#!pip3 install http://download.pytorch.org/whl/cpu/torch-1.0.0-cp36-cp36m-linux_x86_64.whl\n",
    "\n",
    "!pip install fastai==1.0.61\n",
    "!pip install torch==1.9.0+cu102 -f https://download.pytorch.org/whl/torch_stable.html"
   ]
  },
  {
   "cell_type": "code",
   "execution_count": 2,
   "id": "3a94eff1",
   "metadata": {
    "execution": {
     "iopub.execute_input": "2022-03-04T05:21:27.630711Z",
     "iopub.status.busy": "2022-03-04T05:21:27.629906Z",
     "iopub.status.idle": "2022-03-04T05:21:35.487599Z",
     "shell.execute_reply": "2022-03-04T05:21:35.487102Z"
    },
    "papermill": {
     "duration": 8.314402,
     "end_time": "2022-03-04T05:21:35.487763",
     "exception": false,
     "start_time": "2022-03-04T05:21:27.173361",
     "status": "completed"
    },
    "tags": []
   },
   "outputs": [
    {
     "name": "stdout",
     "output_type": "stream",
     "text": [
      "Requirement already satisfied: sentencepiece in /opt/conda/lib/python3.7/site-packages (0.1.96)\r\n",
      "\u001b[33mWARNING: Running pip as the 'root' user can result in broken permissions and conflicting behaviour with the system package manager. It is recommended to use a virtual environment instead: https://pip.pypa.io/warnings/venv\u001b[0m\r\n"
     ]
    }
   ],
   "source": [
    "!pip install sentencepiece"
   ]
  },
  {
   "cell_type": "code",
   "execution_count": 3,
   "id": "9aa54b53",
   "metadata": {
    "execution": {
     "iopub.execute_input": "2022-03-04T05:21:36.410552Z",
     "iopub.status.busy": "2022-03-04T05:21:36.409762Z",
     "iopub.status.idle": "2022-03-04T05:21:46.351401Z",
     "shell.execute_reply": "2022-03-04T05:21:46.351864Z"
    },
    "papermill": {
     "duration": 10.396011,
     "end_time": "2022-03-04T05:21:46.352029",
     "exception": false,
     "start_time": "2022-03-04T05:21:35.956018",
     "status": "completed"
    },
    "tags": []
   },
   "outputs": [
    {
     "name": "stdout",
     "output_type": "stream",
     "text": [
      "[nltk_data] Downloading package words to /usr/share/nltk_data...\n",
      "[nltk_data]   Package words is already up-to-date!\n",
      "[nltk_data] Downloading package punkt to /usr/share/nltk_data...\n",
      "[nltk_data]   Package punkt is already up-to-date!\n"
     ]
    }
   ],
   "source": [
    "from fastai.text import *\n",
    "import numpy as np\n",
    "#import demoji\n",
    "import pandas as pd\n",
    "from sklearn.model_selection import train_test_split\n",
    "import pickle\n",
    "import sentencepiece as spm\n",
    "import re\n",
    "import pdb\n",
    "from sklearn.utils import shuffle\n",
    "from nltk.corpus import words\n",
    "from bs4 import BeautifulSoup\n",
    "import nltk\n",
    "nltk.download('words')\n",
    "import nltk, string, re, spacy,unicodedata, random\n",
    "nltk.download('punkt')\n",
    "from nltk.corpus import stopwords\n",
    "from nltk.tokenize import word_tokenize\n",
    "from nltk.tokenize import ToktokTokenizer\n",
    "import nltk, string, re, spacy,unicodedata, random\n",
    "from sklearn.metrics import classification_report\n",
    "from sklearn.metrics import f1_score"
   ]
  },
  {
   "cell_type": "code",
   "execution_count": 4,
   "id": "dc40dfbc",
   "metadata": {
    "execution": {
     "iopub.execute_input": "2022-03-04T05:21:47.349690Z",
     "iopub.status.busy": "2022-03-04T05:21:47.348733Z",
     "iopub.status.idle": "2022-03-04T05:21:47.361884Z",
     "shell.execute_reply": "2022-03-04T05:21:47.362336Z"
    },
    "papermill": {
     "duration": 0.516568,
     "end_time": "2022-03-04T05:21:47.362582",
     "exception": false,
     "start_time": "2022-03-04T05:21:46.846014",
     "status": "completed"
    },
    "tags": []
   },
   "outputs": [
    {
     "data": {
      "text/plain": [
       "('1.0.61', '1.9.0+cu102')"
      ]
     },
     "execution_count": 4,
     "metadata": {},
     "output_type": "execute_result"
    }
   ],
   "source": [
    "import fastai, torch\n",
    "fastai.__version__ , torch.__version__"
   ]
  },
  {
   "cell_type": "code",
   "execution_count": 5,
   "id": "0437b417",
   "metadata": {
    "execution": {
     "iopub.execute_input": "2022-03-04T05:21:48.333543Z",
     "iopub.status.busy": "2022-03-04T05:21:48.332311Z",
     "iopub.status.idle": "2022-03-04T05:21:48.334248Z",
     "shell.execute_reply": "2022-03-04T05:21:48.334767Z"
    },
    "papermill": {
     "duration": 0.482139,
     "end_time": "2022-03-04T05:21:48.334908",
     "exception": false,
     "start_time": "2022-03-04T05:21:47.852769",
     "status": "completed"
    },
    "tags": []
   },
   "outputs": [],
   "source": [
    "torch.cuda.set_device(0)"
   ]
  },
  {
   "cell_type": "code",
   "execution_count": 6,
   "id": "e8f02922",
   "metadata": {
    "execution": {
     "iopub.execute_input": "2022-03-04T05:21:49.234508Z",
     "iopub.status.busy": "2022-03-04T05:21:49.233588Z",
     "iopub.status.idle": "2022-03-04T05:21:49.235277Z",
     "shell.execute_reply": "2022-03-04T05:21:49.235817Z"
    },
    "papermill": {
     "duration": 0.454562,
     "end_time": "2022-03-04T05:21:49.235965",
     "exception": false,
     "start_time": "2022-03-04T05:21:48.781403",
     "status": "completed"
    },
    "tags": []
   },
   "outputs": [],
   "source": [
    "def random_seed(seed_value, use_cuda):\n",
    "    np.random.seed(seed_value)  \n",
    "    torch.manual_seed(seed_value)  \n",
    "    random.seed(seed_value)\n",
    "    if use_cuda:\n",
    "        torch.cuda.manual_seed(seed_value)\n",
    "        torch.cuda.manual_seed_all(seed_value)  \n",
    "        torch.backends.cudnn.deterministic = True\n",
    "        torch.backends.cudnn.benchmark = False"
   ]
  },
  {
   "cell_type": "code",
   "execution_count": 7,
   "id": "4d2a58df",
   "metadata": {
    "execution": {
     "iopub.execute_input": "2022-03-04T05:21:50.136468Z",
     "iopub.status.busy": "2022-03-04T05:21:50.135230Z",
     "iopub.status.idle": "2022-03-04T05:21:50.137032Z",
     "shell.execute_reply": "2022-03-04T05:21:50.135909Z"
    },
    "papermill": {
     "duration": 0.459941,
     "end_time": "2022-03-04T05:21:50.137173",
     "exception": false,
     "start_time": "2022-03-04T05:21:49.677232",
     "status": "completed"
    },
    "tags": []
   },
   "outputs": [],
   "source": [
    "random_seed(42, True)"
   ]
  },
  {
   "cell_type": "code",
   "execution_count": 8,
   "id": "e8db0e67",
   "metadata": {
    "execution": {
     "iopub.execute_input": "2022-03-04T05:21:51.103723Z",
     "iopub.status.busy": "2022-03-04T05:21:51.102978Z",
     "iopub.status.idle": "2022-03-04T05:21:51.761720Z",
     "shell.execute_reply": "2022-03-04T05:21:51.762684Z"
    },
    "papermill": {
     "duration": 1.171744,
     "end_time": "2022-03-04T05:21:51.762893",
     "exception": false,
     "start_time": "2022-03-04T05:21:50.591149",
     "status": "completed"
    },
    "tags": []
   },
   "outputs": [],
   "source": [
    "# Train Data\n",
    "df_train_a = pd.read_csv('../input/emotion-analysis-in-tamil/Emotion_Analysis_Task_A_train.csv', sep='\\t', header=None)\n",
    "df_train_b = pd.read_csv('../input/emotion-analysis-in-tamil/Emotion_Analysis_Task_B_train.tsv', sep='\\t', header=None)\n",
    "\n",
    "# Dev Data\n",
    "df_dev_a = pd.read_csv('../input/emotion-analysis-in-tamil/Emotion_Analysis_Task_A_dev.csv', sep='\\t', header=None)\n",
    "df_dev_b = pd.read_csv('../input/emotion-analysis-in-tamil/Emotion_Analysis_Task_B_dev.tsv', sep='\\t', header=None)\n",
    "\n",
    "# Test Data\n",
    "df_test_a = pd.read_csv('../input/emotion-analysis-in-tamil/Emotion_Analysis_Task_A_test.csv', sep='\\t', header=None)\n",
    "df_test_b = pd.read_csv('../input/emotion-analysis-in-tamil/Emotion_Analysis_Task_B_test.csv', sep='\\t', header=None)"
   ]
  },
  {
   "cell_type": "code",
   "execution_count": 9,
   "id": "012bbfeb",
   "metadata": {
    "execution": {
     "iopub.execute_input": "2022-03-04T05:21:52.857522Z",
     "iopub.status.busy": "2022-03-04T05:21:52.856809Z",
     "iopub.status.idle": "2022-03-04T05:21:52.858446Z",
     "shell.execute_reply": "2022-03-04T05:21:52.858012Z"
    },
    "papermill": {
     "duration": 0.464595,
     "end_time": "2022-03-04T05:21:52.858575",
     "exception": false,
     "start_time": "2022-03-04T05:21:52.393980",
     "status": "completed"
    },
    "tags": []
   },
   "outputs": [],
   "source": [
    "path = Path('./')"
   ]
  },
  {
   "cell_type": "code",
   "execution_count": 10,
   "id": "929ceddc",
   "metadata": {
    "execution": {
     "iopub.execute_input": "2022-03-04T05:21:53.778355Z",
     "iopub.status.busy": "2022-03-04T05:21:53.777490Z",
     "iopub.status.idle": "2022-03-04T05:21:54.442539Z",
     "shell.execute_reply": "2022-03-04T05:21:54.442030Z"
    },
    "papermill": {
     "duration": 1.138605,
     "end_time": "2022-03-04T05:21:54.442701",
     "exception": false,
     "start_time": "2022-03-04T05:21:53.304096",
     "status": "completed"
    },
    "tags": []
   },
   "outputs": [
    {
     "name": "stdout",
     "output_type": "stream",
     "text": [
      "/kaggle/working\r\n"
     ]
    }
   ],
   "source": [
    "!pwd"
   ]
  },
  {
   "cell_type": "code",
   "execution_count": 11,
   "id": "64ce141b",
   "metadata": {
    "execution": {
     "iopub.execute_input": "2022-03-04T05:21:55.355859Z",
     "iopub.status.busy": "2022-03-04T05:21:55.354962Z",
     "iopub.status.idle": "2022-03-04T05:21:55.357660Z",
     "shell.execute_reply": "2022-03-04T05:21:55.357172Z"
    },
    "papermill": {
     "duration": 0.467894,
     "end_time": "2022-03-04T05:21:55.357786",
     "exception": false,
     "start_time": "2022-03-04T05:21:54.889892",
     "status": "completed"
    },
    "tags": []
   },
   "outputs": [],
   "source": [
    "cat2ind = {'None-of-the-above': 0,\n",
    " 'Transphobic': 1,\n",
    " 'Counter-speech': 2,\n",
    " 'Misandry': 3,\n",
    " 'Homophobia': 4,\n",
    " 'Hope-Speech': 5,\n",
    " 'Xenophobia': 6,\n",
    " 'Misogyny': 7,\n",
    " 'Not-Tamil': 8}\n",
    "\n",
    "ind2cat = dict()\n",
    "for i in cat2ind:\n",
    "    ind2cat[cat2ind[i]] = i\n",
    "\n",
    "def restructure_df(df):\n",
    "    txts = df[1].tolist()\n",
    "    labs = df[0].tolist()\n",
    "    labs_new = []\n",
    "    for i in labs:\n",
    "        labs_new.append(ind2cat[i])\n",
    "    return pd.DataFrame({0:labs_new, 1:txts})\n",
    "\n",
    "def over_under_sample(df, shuffle = True):\n",
    "    def sample(rows, req_len):\n",
    "        return [rows[i%len(rows)] for i in range(req_len)]\n",
    "\n",
    "    if shuffle:\n",
    "        df.sample(frac=1).reset_index(drop=True)\n",
    "    data_dict = {'Misandry': [], 'Misogyny': [], 'Xenophobia': [], 'None-of-the-above': [], 'Hope-Speech': [], 'Counter-speech': [], 'Transphobic': [], 'Homophobia': [], 'Not-Tamil': []}\n",
    "\n",
    "    for i in range(len(df)):\n",
    "        data_dict[df[0][i]].append(list(df.iloc[i]))\n",
    "    \n",
    "    req_len = len(df)//len(data_dict)\n",
    "\n",
    "    for lab in data_dict:\n",
    "        data_dict[lab] = sample(data_dict[lab], req_len)\n",
    "    df_rows = []\n",
    "    for lab in data_dict:\n",
    "        df_rows += data_dict[lab]\n",
    "    df_new = pd.DataFrame(df_rows, columns = list(df.columns))\n",
    "    if shuffle:\n",
    "        df_new = df_new.sample(frac=1).reset_index(drop=True)\n",
    "    return df_new"
   ]
  },
  {
   "cell_type": "code",
   "execution_count": 12,
   "id": "732340a1",
   "metadata": {
    "execution": {
     "iopub.execute_input": "2022-03-04T05:21:56.266302Z",
     "iopub.status.busy": "2022-03-04T05:21:56.265339Z",
     "iopub.status.idle": "2022-03-04T05:21:56.267272Z",
     "shell.execute_reply": "2022-03-04T05:21:56.266799Z"
    },
    "papermill": {
     "duration": 0.458256,
     "end_time": "2022-03-04T05:21:56.267384",
     "exception": false,
     "start_time": "2022-03-04T05:21:55.809128",
     "status": "completed"
    },
    "tags": []
   },
   "outputs": [],
   "source": [
    "# df_train.shape, df_valid.shape, df_test.shape"
   ]
  },
  {
   "cell_type": "code",
   "execution_count": 13,
   "id": "4f2f82d4",
   "metadata": {
    "execution": {
     "iopub.execute_input": "2022-03-04T05:21:57.423462Z",
     "iopub.status.busy": "2022-03-04T05:21:57.421916Z",
     "iopub.status.idle": "2022-03-04T05:21:57.424145Z",
     "shell.execute_reply": "2022-03-04T05:21:57.424583Z"
    },
    "papermill": {
     "duration": 0.70366,
     "end_time": "2022-03-04T05:21:57.424736",
     "exception": false,
     "start_time": "2022-03-04T05:21:56.721076",
     "status": "completed"
    },
    "tags": []
   },
   "outputs": [],
   "source": [
    "df_train = df_train_a\n",
    "df_valid = df_dev_a\n",
    "df_test = df_test_a"
   ]
  },
  {
   "cell_type": "code",
   "execution_count": 14,
   "id": "ad2aa48e",
   "metadata": {
    "execution": {
     "iopub.execute_input": "2022-03-04T05:21:58.340317Z",
     "iopub.status.busy": "2022-03-04T05:21:58.339716Z",
     "iopub.status.idle": "2022-03-04T05:21:58.358159Z",
     "shell.execute_reply": "2022-03-04T05:21:58.358602Z"
    },
    "papermill": {
     "duration": 0.474756,
     "end_time": "2022-03-04T05:21:58.358754",
     "exception": false,
     "start_time": "2022-03-04T05:21:57.883998",
     "status": "completed"
    },
    "tags": []
   },
   "outputs": [
    {
     "data": {
      "text/html": [
       "<div>\n",
       "<style scoped>\n",
       "    .dataframe tbody tr th:only-of-type {\n",
       "        vertical-align: middle;\n",
       "    }\n",
       "\n",
       "    .dataframe tbody tr th {\n",
       "        vertical-align: top;\n",
       "    }\n",
       "\n",
       "    .dataframe thead th {\n",
       "        text-align: right;\n",
       "    }\n",
       "</style>\n",
       "<table border=\"1\" class=\"dataframe\">\n",
       "  <thead>\n",
       "    <tr style=\"text-align: right;\">\n",
       "      <th></th>\n",
       "      <th>0</th>\n",
       "      <th>1</th>\n",
       "    </tr>\n",
       "  </thead>\n",
       "  <tbody>\n",
       "    <tr>\n",
       "      <th>0</th>\n",
       "      <td>Neutral</td>\n",
       "      <td>நாளைக்கு அரிசிக்கு இந்த நிலமை வந்தா 🙂</td>\n",
       "    </tr>\n",
       "    <tr>\n",
       "      <th>1</th>\n",
       "      <td>Anger</td>\n",
       "      <td>மானம் கேட்ட அன்புமணி</td>\n",
       "    </tr>\n",
       "    <tr>\n",
       "      <th>2</th>\n",
       "      <td>Neutral</td>\n",
       "      <td>தவறு இஸ்ரேல் இருக்காது இதை நான் கூறவில்லை ஹமாஸ...</td>\n",
       "    </tr>\n",
       "    <tr>\n",
       "      <th>3</th>\n",
       "      <td>Joy</td>\n",
       "      <td>கொங்கு நாட்டு சிங்கம் உன்மையும் நேர்மையும் உலை...</td>\n",
       "    </tr>\n",
       "    <tr>\n",
       "      <th>4</th>\n",
       "      <td>Neutral</td>\n",
       "      <td>இவர் யார்? ஒவ்வொரு வார்த்தையும் முன்னுக்கு பின...</td>\n",
       "    </tr>\n",
       "    <tr>\n",
       "      <th>...</th>\n",
       "      <td>...</td>\n",
       "      <td>...</td>\n",
       "    </tr>\n",
       "    <tr>\n",
       "      <th>14203</th>\n",
       "      <td>Trust</td>\n",
       "      <td>பெ மணியரசன் கூறுவதைஉணர்ந்து.  செயலாற்றுவதேஇன்ற...</td>\n",
       "    </tr>\n",
       "    <tr>\n",
       "      <th>14204</th>\n",
       "      <td>Ambiguous</td>\n",
       "      <td>இன்னும் எத்தன நாள் வச்சி செய்வீங்க.</td>\n",
       "    </tr>\n",
       "    <tr>\n",
       "      <th>14205</th>\n",
       "      <td>Anticipation</td>\n",
       "      <td>அடுத்த ஏதோ தயார்பன்னிட்டான்</td>\n",
       "    </tr>\n",
       "    <tr>\n",
       "      <th>14206</th>\n",
       "      <td>Ambiguous</td>\n",
       "      <td>தமிழ் மற்றும் சமஸ்கிருதம்</td>\n",
       "    </tr>\n",
       "    <tr>\n",
       "      <th>14207</th>\n",
       "      <td>Ambiguous</td>\n",
       "      <td>எனக்கும் அதே டவுட் தான் சகோ</td>\n",
       "    </tr>\n",
       "  </tbody>\n",
       "</table>\n",
       "<p>14208 rows × 2 columns</p>\n",
       "</div>"
      ],
      "text/plain": [
       "                  0                                                  1\n",
       "0           Neutral              நாளைக்கு அரிசிக்கு இந்த நிலமை வந்தா 🙂\n",
       "1             Anger                               மானம் கேட்ட அன்புமணி\n",
       "2           Neutral  தவறு இஸ்ரேல் இருக்காது இதை நான் கூறவில்லை ஹமாஸ...\n",
       "3               Joy  கொங்கு நாட்டு சிங்கம் உன்மையும் நேர்மையும் உலை...\n",
       "4           Neutral  இவர் யார்? ஒவ்வொரு வார்த்தையும் முன்னுக்கு பின...\n",
       "...             ...                                                ...\n",
       "14203         Trust  பெ மணியரசன் கூறுவதைஉணர்ந்து.  செயலாற்றுவதேஇன்ற...\n",
       "14204     Ambiguous                இன்னும் எத்தன நாள் வச்சி செய்வீங்க.\n",
       "14205  Anticipation                        அடுத்த ஏதோ தயார்பன்னிட்டான்\n",
       "14206     Ambiguous                          தமிழ் மற்றும் சமஸ்கிருதம்\n",
       "14207     Ambiguous                        எனக்கும் அதே டவுட் தான் சகோ\n",
       "\n",
       "[14208 rows x 2 columns]"
      ]
     },
     "execution_count": 14,
     "metadata": {},
     "output_type": "execute_result"
    }
   ],
   "source": [
    "df_train"
   ]
  },
  {
   "cell_type": "code",
   "execution_count": 15,
   "id": "f491919d",
   "metadata": {
    "execution": {
     "iopub.execute_input": "2022-03-04T05:21:59.301380Z",
     "iopub.status.busy": "2022-03-04T05:21:59.300815Z",
     "iopub.status.idle": "2022-03-04T05:21:59.319047Z",
     "shell.execute_reply": "2022-03-04T05:21:59.318530Z"
    },
    "papermill": {
     "duration": 0.494295,
     "end_time": "2022-03-04T05:21:59.319171",
     "exception": false,
     "start_time": "2022-03-04T05:21:58.824876",
     "status": "completed"
    },
    "tags": []
   },
   "outputs": [],
   "source": [
    "df_train = shuffle(df_train, random_state = 10).reset_index(drop=True)\n",
    "df_valid = shuffle(df_valid, random_state = 10).reset_index(drop=True)\n",
    "df_test = shuffle(df_test, random_state = 10).reset_index(drop=True)\n",
    "\n",
    "df_train[1] = df_train[1].apply(str)\n",
    "df_valid[1] = df_valid[1].apply(str)\n",
    "df_test[1] = df_test[1].apply(str)"
   ]
  },
  {
   "cell_type": "code",
   "execution_count": 16,
   "id": "17fde06d",
   "metadata": {
    "execution": {
     "iopub.execute_input": "2022-03-04T05:22:00.405891Z",
     "iopub.status.busy": "2022-03-04T05:22:00.353872Z",
     "iopub.status.idle": "2022-03-04T05:22:05.442182Z",
     "shell.execute_reply": "2022-03-04T05:22:05.441718Z"
    },
    "papermill": {
     "duration": 5.655106,
     "end_time": "2022-03-04T05:22:05.442312",
     "exception": false,
     "start_time": "2022-03-04T05:21:59.787206",
     "status": "completed"
    },
    "tags": []
   },
   "outputs": [],
   "source": [
    "def deEmojify(string):\n",
    "    emoji_pattern = re.compile(\"[\"\n",
    "                              u\"\\U0001F600-\\U0001F64F\"  # emoticons\n",
    "                              u\"\\U0001F300-\\U0001F5FF\"  # symbols & pictographs\n",
    "                              u\"\\U0001F680-\\U0001F6FF\"  # transport & map symbols\n",
    "                              u\"\\U0001F1E0-\\U0001F1FF\"  # flags (iOS)\n",
    "                              u\"\\U00002500-\\U00002BEF\"  # chinese char\n",
    "                              u\"\\U00002702-\\U000027B0\"\n",
    "                              u\"\\U00002702-\\U000027B0\"\n",
    "                              u\"\\U000024C2-\\U0001F251\"\n",
    "                              u\"\\U0001f926-\\U0001f937\"\n",
    "                              u\"\\U00010000-\\U0010ffff\"\n",
    "                              u\"\\u2640-\\u2642\"\n",
    "                              u\"\\u2600-\\u2B55\"\n",
    "                              u\"\\u200d\"\n",
    "                              u\"\\u23cf\"\n",
    "                              u\"\\u23e9\"\n",
    "                              u\"\\u231a\"\n",
    "                              u\"\\ufe0f\"  # dingbats\n",
    "                              u\"\\u3030\"\n",
    "                              \"]+\", flags=re.UNICODE)\n",
    "    return emoji_pattern.sub(r'', string)\n",
    "\n",
    "def preprocess(text):\n",
    "    text = deEmojify(text) #convert emojis to their defns in words, they might be useful\n",
    "    text = re.sub(r'([\\.\\'\\\"\\/\\-\\_\\--])',' ', text) # remove punctuations , removes @USER / some abbreviatins\n",
    "    to_remove_url = ('http[s]?://(?:[a-zA-Z]|[0-9]|[$-_@.&+]|'\n",
    "      '[!*\\(\\),]|(?:%[0-9a-fA-F][0-9a-fA-F]))+')\n",
    "    text = re.sub(to_remove_url,'',text)  # remove url patterns\n",
    "    text = re.sub(\" \\d+\", \" \", text)\n",
    "    text = text.replace(\",\",\" \")\n",
    "    text = re.sub(r'(?:^| )\\w(?:$| )', ' ', text).strip()\n",
    "    punctuation='!!\"$%&()*+-/:;<=>?[\\\\]^_{|}~.'\n",
    "    text = ''.join(ch for ch in text if ch not in set(punctuation))\n",
    "    # text = text.translate(str.maketrans('', '', string.punctuation))\n",
    "    text = BeautifulSoup(text, 'html.parser').get_text()\n",
    "    # Stopword Removing\n",
    "    tokenizer = ToktokTokenizer()\n",
    "    # convert sentence into token of words\n",
    "    tokens = tokenizer.tokenize(text)\n",
    "    tokens = [token.strip() for token in tokens]\n",
    "    text = ' '.join(ch for ch in tokens)\n",
    "    return text \n",
    "\n",
    "def clean(df):\n",
    "    df[1] = df[1].apply(lambda x: preprocess(x))\n",
    "\n",
    "clean(df_train)\n",
    "clean(df_valid)\n",
    "clean(df_test)"
   ]
  },
  {
   "cell_type": "code",
   "execution_count": 17,
   "id": "16acae09",
   "metadata": {
    "execution": {
     "iopub.execute_input": "2022-03-04T05:22:06.384306Z",
     "iopub.status.busy": "2022-03-04T05:22:06.383761Z",
     "iopub.status.idle": "2022-03-04T05:22:06.388703Z",
     "shell.execute_reply": "2022-03-04T05:22:06.388260Z"
    },
    "papermill": {
     "duration": 0.483602,
     "end_time": "2022-03-04T05:22:06.388830",
     "exception": false,
     "start_time": "2022-03-04T05:22:05.905228",
     "status": "completed"
    },
    "tags": []
   },
   "outputs": [
    {
     "data": {
      "text/plain": [
       "((0, 2), (0, 2), (0, 2))"
      ]
     },
     "execution_count": 17,
     "metadata": {},
     "output_type": "execute_result"
    }
   ],
   "source": [
    "df_train[df_train[0].isnull()].shape, df_valid[df_valid[0].isnull()].shape, df_test[df_test[0].isnull()].shape"
   ]
  },
  {
   "cell_type": "code",
   "execution_count": 18,
   "id": "291b1d32",
   "metadata": {
    "execution": {
     "iopub.execute_input": "2022-03-04T05:22:07.358761Z",
     "iopub.status.busy": "2022-03-04T05:22:07.357866Z",
     "iopub.status.idle": "2022-03-04T05:22:07.359937Z",
     "shell.execute_reply": "2022-03-04T05:22:07.360350Z"
    },
    "papermill": {
     "duration": 0.499324,
     "end_time": "2022-03-04T05:22:07.360500",
     "exception": false,
     "start_time": "2022-03-04T05:22:06.861176",
     "status": "completed"
    },
    "tags": []
   },
   "outputs": [],
   "source": [
    "class TamilTokenizer(BaseTokenizer):\n",
    "    def __init__(self, lang:str):\n",
    "        self.lang = lang\n",
    "        self.sp = spm.SentencePieceProcessor()\n",
    "        self.sp.Load(str('../input/spm-sota-models/tamil_spm_8k.model'))\n",
    "        \n",
    "    def tokenizer(self, t:str) -> List[str]:\n",
    "        return self.sp.EncodeAsPieces(t)"
   ]
  },
  {
   "cell_type": "code",
   "execution_count": 19,
   "id": "16260a03",
   "metadata": {
    "execution": {
     "iopub.execute_input": "2022-03-04T05:22:08.613595Z",
     "iopub.status.busy": "2022-03-04T05:22:08.608600Z",
     "iopub.status.idle": "2022-03-04T05:22:08.621680Z",
     "shell.execute_reply": "2022-03-04T05:22:08.621222Z"
    },
    "papermill": {
     "duration": 0.677926,
     "end_time": "2022-03-04T05:22:08.621814",
     "exception": false,
     "start_time": "2022-03-04T05:22:07.943888",
     "status": "completed"
    },
    "tags": []
   },
   "outputs": [],
   "source": [
    "sp = spm.SentencePieceProcessor()\n",
    "sp.Load(str('../input/spm-sota-models/tamil_spm_8k.model'))\n",
    "itos = [sp.IdToPiece(int(i)) for i in range(8000)]"
   ]
  },
  {
   "cell_type": "code",
   "execution_count": 20,
   "id": "1d674802",
   "metadata": {
    "execution": {
     "iopub.execute_input": "2022-03-04T05:22:09.613382Z",
     "iopub.status.busy": "2022-03-04T05:22:09.612805Z",
     "iopub.status.idle": "2022-03-04T05:22:09.616256Z",
     "shell.execute_reply": "2022-03-04T05:22:09.616736Z"
    },
    "papermill": {
     "duration": 0.503677,
     "end_time": "2022-03-04T05:22:09.616905",
     "exception": false,
     "start_time": "2022-03-04T05:22:09.113228",
     "status": "completed"
    },
    "tags": []
   },
   "outputs": [],
   "source": [
    "tamil_vocab = Vocab(itos)"
   ]
  },
  {
   "cell_type": "code",
   "execution_count": 21,
   "id": "d6637cfd",
   "metadata": {
    "execution": {
     "iopub.execute_input": "2022-03-04T05:22:10.599733Z",
     "iopub.status.busy": "2022-03-04T05:22:10.598756Z",
     "iopub.status.idle": "2022-03-04T05:22:10.600484Z",
     "shell.execute_reply": "2022-03-04T05:22:10.601013Z"
    },
    "papermill": {
     "duration": 0.480125,
     "end_time": "2022-03-04T05:22:10.601150",
     "exception": false,
     "start_time": "2022-03-04T05:22:10.121025",
     "status": "completed"
    },
    "tags": []
   },
   "outputs": [],
   "source": [
    "tokenizer = Tokenizer(tok_func=TamilTokenizer, lang='ta')"
   ]
  },
  {
   "cell_type": "code",
   "execution_count": 22,
   "id": "78f74575",
   "metadata": {
    "execution": {
     "iopub.execute_input": "2022-03-04T05:22:11.594142Z",
     "iopub.status.busy": "2022-03-04T05:22:11.593192Z",
     "iopub.status.idle": "2022-03-04T05:22:11.595154Z",
     "shell.execute_reply": "2022-03-04T05:22:11.595574Z"
    },
    "papermill": {
     "duration": 0.502083,
     "end_time": "2022-03-04T05:22:11.595723",
     "exception": false,
     "start_time": "2022-03-04T05:22:11.093640",
     "status": "completed"
    },
    "tags": []
   },
   "outputs": [],
   "source": [
    "label_cols = [0]"
   ]
  },
  {
   "cell_type": "code",
   "execution_count": 23,
   "id": "bc089af8",
   "metadata": {
    "execution": {
     "iopub.execute_input": "2022-03-04T05:22:12.576063Z",
     "iopub.status.busy": "2022-03-04T05:22:12.574454Z",
     "iopub.status.idle": "2022-03-04T05:22:15.351211Z",
     "shell.execute_reply": "2022-03-04T05:22:15.350741Z"
    },
    "papermill": {
     "duration": 3.271605,
     "end_time": "2022-03-04T05:22:15.351343",
     "exception": false,
     "start_time": "2022-03-04T05:22:12.079738",
     "status": "completed"
    },
    "tags": []
   },
   "outputs": [
    {
     "data": {
      "text/html": [
       "\n",
       "<style>\n",
       "    /* Turns off some styling */\n",
       "    progress {\n",
       "        /* gets rid of default border in Firefox and Opera. */\n",
       "        border: none;\n",
       "        /* Needs to be in here for Safari polyfill so background images work as expected. */\n",
       "        background-size: auto;\n",
       "    }\n",
       "    .progress-bar-interrupted, .progress-bar-interrupted::-webkit-progress-bar {\n",
       "        background: #F44336;\n",
       "    }\n",
       "</style>\n"
      ],
      "text/plain": [
       "<IPython.core.display.HTML object>"
      ]
     },
     "metadata": {},
     "output_type": "display_data"
    },
    {
     "data": {
      "text/html": [],
      "text/plain": [
       "<IPython.core.display.HTML object>"
      ]
     },
     "metadata": {},
     "output_type": "display_data"
    },
    {
     "name": "stderr",
     "output_type": "stream",
     "text": [
      "/opt/conda/lib/python3.7/site-packages/fastai/core.py:302: VisibleDeprecationWarning: Creating an ndarray from ragged nested sequences (which is a list-or-tuple of lists-or-tuples-or ndarrays with different lengths or shapes) is deprecated. If you meant to do this, you must specify 'dtype=object' when creating the ndarray.\n",
      "  return np.array(a, dtype=dtype, **kwargs)\n"
     ]
    },
    {
     "data": {
      "text/html": [
       "\n",
       "<style>\n",
       "    /* Turns off some styling */\n",
       "    progress {\n",
       "        /* gets rid of default border in Firefox and Opera. */\n",
       "        border: none;\n",
       "        /* Needs to be in here for Safari polyfill so background images work as expected. */\n",
       "        background-size: auto;\n",
       "    }\n",
       "    .progress-bar-interrupted, .progress-bar-interrupted::-webkit-progress-bar {\n",
       "        background: #F44336;\n",
       "    }\n",
       "</style>\n"
      ],
      "text/plain": [
       "<IPython.core.display.HTML object>"
      ]
     },
     "metadata": {},
     "output_type": "display_data"
    },
    {
     "data": {
      "text/html": [],
      "text/plain": [
       "<IPython.core.display.HTML object>"
      ]
     },
     "metadata": {},
     "output_type": "display_data"
    },
    {
     "data": {
      "text/html": [
       "\n",
       "<style>\n",
       "    /* Turns off some styling */\n",
       "    progress {\n",
       "        /* gets rid of default border in Firefox and Opera. */\n",
       "        border: none;\n",
       "        /* Needs to be in here for Safari polyfill so background images work as expected. */\n",
       "        background-size: auto;\n",
       "    }\n",
       "    .progress-bar-interrupted, .progress-bar-interrupted::-webkit-progress-bar {\n",
       "        background: #F44336;\n",
       "    }\n",
       "</style>\n"
      ],
      "text/plain": [
       "<IPython.core.display.HTML object>"
      ]
     },
     "metadata": {},
     "output_type": "display_data"
    },
    {
     "data": {
      "text/html": [],
      "text/plain": [
       "<IPython.core.display.HTML object>"
      ]
     },
     "metadata": {},
     "output_type": "display_data"
    }
   ],
   "source": [
    "data_lm = TextLMDataBunch.from_df(path=path, train_df=df_train, valid_df=df_valid, test_df=df_test, tokenizer=tokenizer, vocab=tamil_vocab)"
   ]
  },
  {
   "cell_type": "code",
   "execution_count": 24,
   "id": "d7912a70",
   "metadata": {
    "execution": {
     "iopub.execute_input": "2022-03-04T05:22:16.304928Z",
     "iopub.status.busy": "2022-03-04T05:22:16.304151Z",
     "iopub.status.idle": "2022-03-04T05:22:19.321811Z",
     "shell.execute_reply": "2022-03-04T05:22:19.322896Z"
    },
    "papermill": {
     "duration": 3.49379,
     "end_time": "2022-03-04T05:22:19.323118",
     "exception": false,
     "start_time": "2022-03-04T05:22:15.829328",
     "status": "completed"
    },
    "tags": []
   },
   "outputs": [
    {
     "data": {
      "text/html": [
       "<table border=\"1\" class=\"dataframe\">\n",
       "  <thead>\n",
       "    <tr style=\"text-align: right;\">\n",
       "      <th>idx</th>\n",
       "      <th>text</th>\n",
       "    </tr>\n",
       "  </thead>\n",
       "  <tbody>\n",
       "    <tr>\n",
       "      <td>0</td>\n",
       "      <td>▁நினைத்த ால் ▁நான் ▁பொறுப்ப ல்ல ▁ x x b os ▁தளபதி ▁அப்ப வே ▁ஷோ ப ணா ▁ரவி ▁பா த்தி மா ▁பா பு வ ▁ம வுண்ட் ▁ரோ ட்டு ல ▁ஓட ▁ஓட ▁வி ர ட்டி ▁ . . . ▁ . . . ▁ . . . ▁சா க சம் ▁செய்த வர் ▁அவர் ட்ட ▁போ யி ▁ . . . ▁ . . . ▁ . . . ▁ x x b</td>\n",
       "    </tr>\n",
       "    <tr>\n",
       "      <td>1</td>\n",
       "      <td>▁சீ மான ின் ▁முக த் ▁திரை ▁ கிழ ிய ▁கண்டு ▁ர சி த்து ▁ம கிழ ் ந்து ▁சி ரி ப்பு ▁வந்த த ▁ x x b os ▁நல்ல ▁சாரா யம் ▁இது ▁மட்டும் ▁தான் ▁ x x b os ▁50 ▁ஆண்டு ▁காலம் ▁தமிழக ▁இளைஞர் களை ▁குடி கார ர் களா க்கி ▁பல ▁லட்ச ம் ▁பெண் களை ▁வித வை கள் ▁ஆ க்கி ▁ x x b os ▁விஷ ▁கருத்தை ▁தூ வ ுகிற ாய்</td>\n",
       "    </tr>\n",
       "    <tr>\n",
       "      <td>2</td>\n",
       "      <td>b os ▁சீ மான ின் ▁தமிழ் ▁வளர்ச்சி ▁ x x b os ▁இந்த ▁டாக்டர் கள் ▁இல்லை ய ென்ற ால் ▁கு ரா னா ▁சரியாக ி விடும் ▁கு ரா னா ▁ வுக்கு ▁முதல் ▁எதிரி கள் ▁மருத்துவர் கள் தான் ▁பொய் ▁பிர சார ம் ▁செய்து ▁விட்டு ▁பணத்தை ▁சம்பா தி க்கிறார் கள் ▁அ தற்காக ▁அரசாங்க த்திற்கு ▁சா த க மாக ▁பே ட்டி ▁அளிக்க ிறார்கள் ▁மருத்துவர் களைப் ▁பொறுத்த ▁மட்ட ில் ▁கொ ரோ னா ▁என்பது ▁ஒரு ▁பணம்</td>\n",
       "    </tr>\n",
       "    <tr>\n",
       "      <td>3</td>\n",
       "      <td>லா மே ▁ x x b os ▁பட த்தை ▁பார்த்து தான் ▁நா ச மாக போ கு து ▁ச மூ தா யம் ▁ x x b os ▁என் ▁வாக்கு ▁வீ ண் போ க வில்லை ▁அரு மை ▁மு ▁ஸ்டா லின் ▁ x x b os ▁தூத்துக்குடி ▁கா ப்பர் ▁நிறுவனம் ▁திறக்க ▁அனுமதி ▁ x x b os ▁அரு மை ▁அ ய்யா ▁ஆனால் ▁கிராம ▁கிளை ▁க ழ ங்கள் ▁வரை ▁உ ங்கள் ▁கட்சி ▁நிர்வாக ிகள்</td>\n",
       "    </tr>\n",
       "    <tr>\n",
       "      <td>4</td>\n",
       "      <td>▁ஏ த்திரு ப்பான ு க ▁மக்கள் ▁செ த்தா ▁என்ன னு ▁ x x b os ▁தளபதி ▁வாழ் ▁ x x b os ▁ஜீ ரக ம் ▁த ண்ணி ர் ▁குடி க்க லா ம ▁ x x b os ▁அ டே ய் ▁தி முக ▁அடி வரு டி ▁தமிழில் ▁மொழி மாற்றம் ▁செய் கி றா யா ▁து மா ரா ▁கா ண்ட் ▁மா ரே கா ▁ x x b os ▁ஏ ன் ▁யா ▁இது ▁தான்</td>\n",
       "    </tr>\n",
       "  </tbody>\n",
       "</table>"
      ],
      "text/plain": [
       "<IPython.core.display.HTML object>"
      ]
     },
     "metadata": {},
     "output_type": "display_data"
    }
   ],
   "source": [
    "data_lm.show_batch()"
   ]
  },
  {
   "cell_type": "code",
   "execution_count": 25,
   "id": "af3ded74",
   "metadata": {
    "execution": {
     "iopub.execute_input": "2022-03-04T05:22:20.328281Z",
     "iopub.status.busy": "2022-03-04T05:22:20.327503Z",
     "iopub.status.idle": "2022-03-04T05:22:20.608636Z",
     "shell.execute_reply": "2022-03-04T05:22:20.605969Z"
    },
    "papermill": {
     "duration": 0.800853,
     "end_time": "2022-03-04T05:22:20.608809",
     "exception": false,
     "start_time": "2022-03-04T05:22:19.807956",
     "status": "completed"
    },
    "tags": []
   },
   "outputs": [],
   "source": [
    "awd_lstm_config = awd_lstm_lm_config.copy()\n",
    "awd_lstm_config['n_hid'] = 1150\n",
    "learn = language_model_learner(data_lm, arch=AWD_LSTM, drop_mult=0.3, config=awd_lstm_config, pretrained=False)"
   ]
  },
  {
   "cell_type": "code",
   "execution_count": 26,
   "id": "bd7cbead",
   "metadata": {
    "execution": {
     "iopub.execute_input": "2022-03-04T05:22:21.563518Z",
     "iopub.status.busy": "2022-03-04T05:22:21.563004Z",
     "iopub.status.idle": "2022-03-04T05:22:27.794260Z",
     "shell.execute_reply": "2022-03-04T05:22:27.794696Z"
    },
    "papermill": {
     "duration": 6.711317,
     "end_time": "2022-03-04T05:22:27.794847",
     "exception": false,
     "start_time": "2022-03-04T05:22:21.083530",
     "status": "completed"
    },
    "tags": []
   },
   "outputs": [
    {
     "data": {
      "text/plain": [
       "LanguageLearner(data=TextLMDataBunch;\n",
       "\n",
       "Train: LabelList (14208 items)\n",
       "x: LMTextList\n",
       "▁ x x b os ▁டே ய் ▁மதுரை ▁முத்து ▁நீ வந்த ியா ▁கா மெ டி ▁ப ண்ணி யா ▁மூட ிட்டு ▁போ,▁ x x b os ▁ஸ்ரீ ▁ரு த் ரம் ▁தமிழில் ▁கிடைக்க ு மா ▁ஜ யா,▁ x x b os ▁உயர மா ▁இருந்த ▁ஒரு ▁வேலை ▁எ கி றி ▁எ கி றி ▁அடி ப்பா னோ ▁சண்டை ▁வந்த ா ▁அடி ப்பா ங்க ளா ▁அதன் ▁சொன்ன ேன் ▁நான் யா ரும் ▁த ப்பா ▁நினைத்த ால் ▁நான் ▁பொறுப்ப ல்ல,▁ x x b os ▁தளபதி ▁அப்ப வே ▁ஷோ ப ணா ▁ரவி ▁பா த்தி மா ▁பா பு வ ▁ம வுண்ட் ▁ரோ ட்டு ல ▁ஓட ▁ஓட ▁வி ர ட்டி ▁ . . . ▁ . . . ▁ . . . ▁சா க சம் ▁செய்த வர் ▁அவர் ட்ட ▁போ யி ▁ . . . ▁ . . . ▁ . . .,▁ x x b os ▁எச் ▁ராஜா ▁பிராமண ர் களை ▁இந்துக் கள் ▁என்று ▁சொல் கிறார் ▁மற்றவர் களை ▁என்ன வ ென்று ▁சொல் வார்\n",
       "y: LMLabelList\n",
       ",,,,\n",
       "Path: .;\n",
       "\n",
       "Valid: LabelList (3552 items)\n",
       "x: LMTextList\n",
       "▁ x x b os ▁கவிஞர் ▁வைர முத்து ▁ஆண்ட ாள் ▁என்ற ▁கதை யை ▁சு ட்டி ▁காட்டி ▁பேச ▁அவருக்கு ▁எதிராக ▁போராட ிய வர்கள்,▁ x x b os ▁சென் செ ச் ▁புள்ளி ▁என்றால் ▁என்ன,▁ x x b os ▁அம்மா ▁பிரா மா ▁மு கு ர் த்தா ம் ▁எ ப்பொ ல் து ▁ஏ ல்ல ம் ▁வார ு தம் மா,▁ x x b os ▁மிக ▁அரு மையான ▁பாடல்கள்,▁ x x b os ▁அரு மையான ▁பதிவு ▁அண்ணா\n",
       "y: LMLabelList\n",
       ",,,,\n",
       "Path: .;\n",
       "\n",
       "Test: LabelList (4440 items)\n",
       "x: LMTextList\n",
       "▁ x x b os ▁எ ப் டி யோ ▁பாவ ▁பட்ட ▁மக்களை ▁கொ ன் னா ▁பெருமை ▁உ ங்களை ▁சா ரும்,▁ x x b os ▁தமிழ்நாடு ▁அரசு ▁எந்த ▁ஆண்டு ல ▁இருந்து ▁கட னில் ▁இருந்தது ன் னு ▁சொல்ல ு ங்க ▁கே ப்போ ம்,▁ x x b os ▁விக்கிரம ராஜா ▁நல்ல ா ▁இரு க்கு ▁உ ன் ▁நியாய ம்,▁ x x b os ▁இதை ▁தமிழில் ▁சொல்ல ாத ீர் கள் ▁கன்னட த்தி லோ,▁ x x b os ▁சட்ட ▁மன்ற ▁உறுப்பினர் ▁பணி தான் ▁இது ▁இதற்கு ▁ஏ ன் ▁இவ்வ ளவு ▁ஊடக ▁வெளி ச்ச ம்\n",
       "y: EmptyLabelList\n",
       ",,,,\n",
       "Path: ., model=SequentialRNN(\n",
       "  (0): AWD_LSTM(\n",
       "    (encoder): Embedding(8000, 400, padding_idx=1)\n",
       "    (encoder_dp): EmbeddingDropout(\n",
       "      (emb): Embedding(8000, 400, padding_idx=1)\n",
       "    )\n",
       "    (rnns): ModuleList(\n",
       "      (0): WeightDropout(\n",
       "        (module): LSTM(400, 1150, batch_first=True)\n",
       "      )\n",
       "      (1): WeightDropout(\n",
       "        (module): LSTM(1150, 1150, batch_first=True)\n",
       "      )\n",
       "      (2): WeightDropout(\n",
       "        (module): LSTM(1150, 400, batch_first=True)\n",
       "      )\n",
       "    )\n",
       "    (input_dp): RNNDropout()\n",
       "    (hidden_dps): ModuleList(\n",
       "      (0): RNNDropout()\n",
       "      (1): RNNDropout()\n",
       "      (2): RNNDropout()\n",
       "    )\n",
       "  )\n",
       "  (1): LinearDecoder(\n",
       "    (decoder): Linear(in_features=400, out_features=8000, bias=True)\n",
       "    (output_dp): RNNDropout()\n",
       "  )\n",
       "), opt_func=functools.partial(<class 'torch.optim.adam.Adam'>, betas=(0.9, 0.99)), loss_func=FlattenedLoss of CrossEntropyLoss(), metrics=[<function accuracy at 0x7fde0dcbd440>], true_wd=True, bn_wd=True, wd=0.01, train_bn=True, path=PosixPath('.'), model_dir='models', callback_fns=[functools.partial(<class 'fastai.basic_train.Recorder'>, add_time=True, silent=False)], callbacks=[RNNTrainer\n",
       "learn: ...\n",
       "alpha: 2.0\n",
       "beta: 1.0], layer_groups=[Sequential(\n",
       "  (0): WeightDropout(\n",
       "    (module): LSTM(400, 1150, batch_first=True)\n",
       "  )\n",
       "  (1): RNNDropout()\n",
       "), Sequential(\n",
       "  (0): WeightDropout(\n",
       "    (module): LSTM(1150, 1150, batch_first=True)\n",
       "  )\n",
       "  (1): RNNDropout()\n",
       "), Sequential(\n",
       "  (0): WeightDropout(\n",
       "    (module): LSTM(1150, 400, batch_first=True)\n",
       "  )\n",
       "  (1): RNNDropout()\n",
       "), Sequential(\n",
       "  (0): Embedding(8000, 400, padding_idx=1)\n",
       "  (1): EmbeddingDropout(\n",
       "    (emb): Embedding(8000, 400, padding_idx=1)\n",
       "  )\n",
       "  (2): LinearDecoder(\n",
       "    (decoder): Linear(in_features=400, out_features=8000, bias=True)\n",
       "    (output_dp): RNNDropout()\n",
       "  )\n",
       ")], add_time=True, silent=False)"
      ]
     },
     "execution_count": 26,
     "metadata": {},
     "output_type": "execute_result"
    }
   ],
   "source": [
    "learn.load('/kaggle/input/pretrained-sota-models/wikitalm_8k_447_third')"
   ]
  },
  {
   "cell_type": "code",
   "execution_count": 27,
   "id": "b093f04d",
   "metadata": {
    "execution": {
     "iopub.execute_input": "2022-03-04T05:22:28.772336Z",
     "iopub.status.busy": "2022-03-04T05:22:28.771527Z",
     "iopub.status.idle": "2022-03-04T05:22:28.784655Z",
     "shell.execute_reply": "2022-03-04T05:22:28.785083Z"
    },
    "papermill": {
     "duration": 0.491752,
     "end_time": "2022-03-04T05:22:28.785227",
     "exception": false,
     "start_time": "2022-03-04T05:22:28.293475",
     "status": "completed"
    },
    "tags": []
   },
   "outputs": [
    {
     "data": {
      "text/plain": [
       "Neutral         4841\n",
       "Joy             2134\n",
       "Ambiguous       1689\n",
       "Trust           1254\n",
       "Disguist         910\n",
       "Anger            833\n",
       "Anticipation     828\n",
       "Sadness          695\n",
       "Love             675\n",
       "Surprise         248\n",
       "Fear             100\n",
       "Name: 0, dtype: int64"
      ]
     },
     "execution_count": 27,
     "metadata": {},
     "output_type": "execute_result"
    }
   ],
   "source": [
    "df_train = df_train.drop([0]).reset_index().drop([\"index\"], axis=1)\n",
    "df_train[0].value_counts()"
   ]
  },
  {
   "cell_type": "code",
   "execution_count": 28,
   "id": "37fa6dcd",
   "metadata": {
    "execution": {
     "iopub.execute_input": "2022-03-04T05:22:29.787362Z",
     "iopub.status.busy": "2022-03-04T05:22:29.786403Z",
     "iopub.status.idle": "2022-03-04T05:22:29.798348Z",
     "shell.execute_reply": "2022-03-04T05:22:29.799022Z"
    },
    "papermill": {
     "duration": 0.54343,
     "end_time": "2022-03-04T05:22:29.799243",
     "exception": false,
     "start_time": "2022-03-04T05:22:29.255813",
     "status": "completed"
    },
    "tags": []
   },
   "outputs": [
    {
     "data": {
      "text/plain": [
       "Neutral         1222\n",
       "Joy              558\n",
       "Ambiguous        437\n",
       "Trust            272\n",
       "Anticipation     213\n",
       "Disguist         210\n",
       "Sadness          191\n",
       "Love             189\n",
       "Anger            184\n",
       "Surprise          53\n",
       "Fear              23\n",
       "Name: 0, dtype: int64"
      ]
     },
     "execution_count": 28,
     "metadata": {},
     "output_type": "execute_result"
    }
   ],
   "source": [
    "df_valid[0].value_counts()"
   ]
  },
  {
   "cell_type": "code",
   "execution_count": 29,
   "id": "e96b11af",
   "metadata": {
    "execution": {
     "iopub.execute_input": "2022-03-04T05:22:30.992929Z",
     "iopub.status.busy": "2022-03-04T05:22:30.992350Z",
     "iopub.status.idle": "2022-03-04T05:22:30.997209Z",
     "shell.execute_reply": "2022-03-04T05:22:30.997603Z"
    },
    "papermill": {
     "duration": 0.487215,
     "end_time": "2022-03-04T05:22:30.997752",
     "exception": false,
     "start_time": "2022-03-04T05:22:30.510537",
     "status": "completed"
    },
    "tags": []
   },
   "outputs": [
    {
     "data": {
      "text/plain": [
       "Neutral         1538\n",
       "Joy              702\n",
       "Ambiguous        500\n",
       "Trust            377\n",
       "Disguist         277\n",
       "Anticipation     271\n",
       "Anger            244\n",
       "Sadness          241\n",
       "Love             196\n",
       "Surprise          61\n",
       "Fear              33\n",
       "Name: 0, dtype: int64"
      ]
     },
     "execution_count": 29,
     "metadata": {},
     "output_type": "execute_result"
    }
   ],
   "source": [
    "df_test[0].value_counts()"
   ]
  },
  {
   "cell_type": "code",
   "execution_count": 30,
   "id": "d7c3d434",
   "metadata": {
    "execution": {
     "iopub.execute_input": "2022-03-04T05:22:31.984495Z",
     "iopub.status.busy": "2022-03-04T05:22:31.983506Z",
     "iopub.status.idle": "2022-03-04T05:22:31.985448Z",
     "shell.execute_reply": "2022-03-04T05:22:31.986027Z"
    },
    "papermill": {
     "duration": 0.491695,
     "end_time": "2022-03-04T05:22:31.986184",
     "exception": false,
     "start_time": "2022-03-04T05:22:31.494489",
     "status": "completed"
    },
    "tags": []
   },
   "outputs": [],
   "source": [
    "learn.freeze()"
   ]
  },
  {
   "cell_type": "code",
   "execution_count": 31,
   "id": "09726c95",
   "metadata": {
    "execution": {
     "iopub.execute_input": "2022-03-04T05:22:32.989927Z",
     "iopub.status.busy": "2022-03-04T05:22:32.989057Z",
     "iopub.status.idle": "2022-03-04T05:22:42.263717Z",
     "shell.execute_reply": "2022-03-04T05:22:42.264189Z"
    },
    "papermill": {
     "duration": 9.792845,
     "end_time": "2022-03-04T05:22:42.264356",
     "exception": false,
     "start_time": "2022-03-04T05:22:32.471511",
     "status": "completed"
    },
    "tags": []
   },
   "outputs": [
    {
     "data": {
      "text/html": [
       "\n",
       "<style>\n",
       "    /* Turns off some styling */\n",
       "    progress {\n",
       "        /* gets rid of default border in Firefox and Opera. */\n",
       "        border: none;\n",
       "        /* Needs to be in here for Safari polyfill so background images work as expected. */\n",
       "        background-size: auto;\n",
       "    }\n",
       "    .progress-bar-interrupted, .progress-bar-interrupted::-webkit-progress-bar {\n",
       "        background: #F44336;\n",
       "    }\n",
       "</style>\n"
      ],
      "text/plain": [
       "<IPython.core.display.HTML object>"
      ]
     },
     "metadata": {},
     "output_type": "display_data"
    },
    {
     "data": {
      "text/html": [
       "<table border=\"1\" class=\"dataframe\">\n",
       "  <thead>\n",
       "    <tr style=\"text-align: left;\">\n",
       "      <th>epoch</th>\n",
       "      <th>train_loss</th>\n",
       "      <th>valid_loss</th>\n",
       "      <th>accuracy</th>\n",
       "      <th>time</th>\n",
       "    </tr>\n",
       "  </thead>\n",
       "  <tbody>\n",
       "    <tr>\n",
       "      <td>0</td>\n",
       "      <td>4.610970</td>\n",
       "      <td>4.359224</td>\n",
       "      <td>0.322744</td>\n",
       "      <td>00:09</td>\n",
       "    </tr>\n",
       "  </tbody>\n",
       "</table>"
      ],
      "text/plain": [
       "<IPython.core.display.HTML object>"
      ]
     },
     "metadata": {},
     "output_type": "display_data"
    }
   ],
   "source": [
    "learn.fit_one_cycle(1, 1e-2)"
   ]
  },
  {
   "cell_type": "code",
   "execution_count": 32,
   "id": "8c44c2fa",
   "metadata": {
    "execution": {
     "iopub.execute_input": "2022-03-04T05:22:43.233493Z",
     "iopub.status.busy": "2022-03-04T05:22:43.232837Z",
     "iopub.status.idle": "2022-03-04T05:22:43.236095Z",
     "shell.execute_reply": "2022-03-04T05:22:43.235546Z"
    },
    "papermill": {
     "duration": 0.484589,
     "end_time": "2022-03-04T05:22:43.236225",
     "exception": false,
     "start_time": "2022-03-04T05:22:42.751636",
     "status": "completed"
    },
    "tags": []
   },
   "outputs": [],
   "source": [
    "learn.unfreeze()"
   ]
  },
  {
   "cell_type": "code",
   "execution_count": 33,
   "id": "a5d87fb0",
   "metadata": {
    "execution": {
     "iopub.execute_input": "2022-03-04T05:22:44.226080Z",
     "iopub.status.busy": "2022-03-04T05:22:44.225220Z",
     "iopub.status.idle": "2022-03-04T05:23:41.237020Z",
     "shell.execute_reply": "2022-03-04T05:23:41.237409Z"
    },
    "papermill": {
     "duration": 57.508101,
     "end_time": "2022-03-04T05:23:41.237590",
     "exception": false,
     "start_time": "2022-03-04T05:22:43.729489",
     "status": "completed"
    },
    "tags": []
   },
   "outputs": [
    {
     "data": {
      "text/html": [
       "\n",
       "<style>\n",
       "    /* Turns off some styling */\n",
       "    progress {\n",
       "        /* gets rid of default border in Firefox and Opera. */\n",
       "        border: none;\n",
       "        /* Needs to be in here for Safari polyfill so background images work as expected. */\n",
       "        background-size: auto;\n",
       "    }\n",
       "    .progress-bar-interrupted, .progress-bar-interrupted::-webkit-progress-bar {\n",
       "        background: #F44336;\n",
       "    }\n",
       "</style>\n"
      ],
      "text/plain": [
       "<IPython.core.display.HTML object>"
      ]
     },
     "metadata": {},
     "output_type": "display_data"
    },
    {
     "data": {
      "text/html": [
       "<table border=\"1\" class=\"dataframe\">\n",
       "  <thead>\n",
       "    <tr style=\"text-align: left;\">\n",
       "      <th>epoch</th>\n",
       "      <th>train_loss</th>\n",
       "      <th>valid_loss</th>\n",
       "      <th>accuracy</th>\n",
       "      <th>time</th>\n",
       "    </tr>\n",
       "  </thead>\n",
       "  <tbody>\n",
       "    <tr>\n",
       "      <td>0</td>\n",
       "      <td>4.258491</td>\n",
       "      <td>4.208259</td>\n",
       "      <td>0.335280</td>\n",
       "      <td>00:11</td>\n",
       "    </tr>\n",
       "    <tr>\n",
       "      <td>1</td>\n",
       "      <td>4.110225</td>\n",
       "      <td>4.073703</td>\n",
       "      <td>0.349107</td>\n",
       "      <td>00:11</td>\n",
       "    </tr>\n",
       "    <tr>\n",
       "      <td>2</td>\n",
       "      <td>3.949435</td>\n",
       "      <td>4.017366</td>\n",
       "      <td>0.354347</td>\n",
       "      <td>00:11</td>\n",
       "    </tr>\n",
       "    <tr>\n",
       "      <td>3</td>\n",
       "      <td>3.831594</td>\n",
       "      <td>4.000637</td>\n",
       "      <td>0.356614</td>\n",
       "      <td>00:11</td>\n",
       "    </tr>\n",
       "    <tr>\n",
       "      <td>4</td>\n",
       "      <td>3.771197</td>\n",
       "      <td>3.999417</td>\n",
       "      <td>0.357178</td>\n",
       "      <td>00:11</td>\n",
       "    </tr>\n",
       "  </tbody>\n",
       "</table>"
      ],
      "text/plain": [
       "<IPython.core.display.HTML object>"
      ]
     },
     "metadata": {},
     "output_type": "display_data"
    }
   ],
   "source": [
    "learn.fit_one_cycle(5, 1e-3)"
   ]
  },
  {
   "cell_type": "code",
   "execution_count": 34,
   "id": "62876307",
   "metadata": {
    "execution": {
     "iopub.execute_input": "2022-03-04T05:23:42.224461Z",
     "iopub.status.busy": "2022-03-04T05:23:42.223445Z",
     "iopub.status.idle": "2022-03-04T05:23:42.278500Z",
     "shell.execute_reply": "2022-03-04T05:23:42.278949Z"
    },
    "papermill": {
     "duration": 0.56772,
     "end_time": "2022-03-04T05:23:42.279115",
     "exception": false,
     "start_time": "2022-03-04T05:23:41.711395",
     "status": "completed"
    },
    "tags": []
   },
   "outputs": [
    {
     "data": {
      "text/plain": [
       "'▁தனது ▁சொந்த ▁அனுபவ ங்களை ▁அடக்க ▁ஆ சி ர் வாதம் ▁பெற ுவார் ▁நி'"
      ]
     },
     "execution_count": 34,
     "metadata": {},
     "output_type": "execute_result"
    }
   ],
   "source": [
    "learn.predict('▁தனது ▁சொந்த',n_words=10)"
   ]
  },
  {
   "cell_type": "code",
   "execution_count": 35,
   "id": "94625b17",
   "metadata": {
    "execution": {
     "iopub.execute_input": "2022-03-04T05:23:43.266928Z",
     "iopub.status.busy": "2022-03-04T05:23:43.265798Z",
     "iopub.status.idle": "2022-03-04T05:23:43.408600Z",
     "shell.execute_reply": "2022-03-04T05:23:43.408128Z"
    },
    "papermill": {
     "duration": 0.647229,
     "end_time": "2022-03-04T05:23:43.408740",
     "exception": false,
     "start_time": "2022-03-04T05:23:42.761511",
     "status": "completed"
    },
    "tags": []
   },
   "outputs": [],
   "source": [
    "learn.save_encoder('fine_tuned_enc')"
   ]
  },
  {
   "cell_type": "code",
   "execution_count": 36,
   "id": "a26c6ecf",
   "metadata": {
    "execution": {
     "iopub.execute_input": "2022-03-04T05:23:44.382024Z",
     "iopub.status.busy": "2022-03-04T05:23:44.381167Z",
     "iopub.status.idle": "2022-03-04T05:23:47.965328Z",
     "shell.execute_reply": "2022-03-04T05:23:47.965803Z"
    },
    "papermill": {
     "duration": 4.07495,
     "end_time": "2022-03-04T05:23:47.965969",
     "exception": false,
     "start_time": "2022-03-04T05:23:43.891019",
     "status": "completed"
    },
    "tags": []
   },
   "outputs": [
    {
     "data": {
      "text/html": [
       "\n",
       "<style>\n",
       "    /* Turns off some styling */\n",
       "    progress {\n",
       "        /* gets rid of default border in Firefox and Opera. */\n",
       "        border: none;\n",
       "        /* Needs to be in here for Safari polyfill so background images work as expected. */\n",
       "        background-size: auto;\n",
       "    }\n",
       "    .progress-bar-interrupted, .progress-bar-interrupted::-webkit-progress-bar {\n",
       "        background: #F44336;\n",
       "    }\n",
       "</style>\n"
      ],
      "text/plain": [
       "<IPython.core.display.HTML object>"
      ]
     },
     "metadata": {},
     "output_type": "display_data"
    },
    {
     "data": {
      "text/html": [],
      "text/plain": [
       "<IPython.core.display.HTML object>"
      ]
     },
     "metadata": {},
     "output_type": "display_data"
    },
    {
     "name": "stderr",
     "output_type": "stream",
     "text": [
      "/opt/conda/lib/python3.7/site-packages/fastai/core.py:302: VisibleDeprecationWarning: Creating an ndarray from ragged nested sequences (which is a list-or-tuple of lists-or-tuples-or ndarrays with different lengths or shapes) is deprecated. If you meant to do this, you must specify 'dtype=object' when creating the ndarray.\n",
      "  return np.array(a, dtype=dtype, **kwargs)\n"
     ]
    },
    {
     "data": {
      "text/html": [
       "\n",
       "<style>\n",
       "    /* Turns off some styling */\n",
       "    progress {\n",
       "        /* gets rid of default border in Firefox and Opera. */\n",
       "        border: none;\n",
       "        /* Needs to be in here for Safari polyfill so background images work as expected. */\n",
       "        background-size: auto;\n",
       "    }\n",
       "    .progress-bar-interrupted, .progress-bar-interrupted::-webkit-progress-bar {\n",
       "        background: #F44336;\n",
       "    }\n",
       "</style>\n"
      ],
      "text/plain": [
       "<IPython.core.display.HTML object>"
      ]
     },
     "metadata": {},
     "output_type": "display_data"
    },
    {
     "data": {
      "text/html": [],
      "text/plain": [
       "<IPython.core.display.HTML object>"
      ]
     },
     "metadata": {},
     "output_type": "display_data"
    },
    {
     "data": {
      "text/html": [
       "\n",
       "<style>\n",
       "    /* Turns off some styling */\n",
       "    progress {\n",
       "        /* gets rid of default border in Firefox and Opera. */\n",
       "        border: none;\n",
       "        /* Needs to be in here for Safari polyfill so background images work as expected. */\n",
       "        background-size: auto;\n",
       "    }\n",
       "    .progress-bar-interrupted, .progress-bar-interrupted::-webkit-progress-bar {\n",
       "        background: #F44336;\n",
       "    }\n",
       "</style>\n"
      ],
      "text/plain": [
       "<IPython.core.display.HTML object>"
      ]
     },
     "metadata": {},
     "output_type": "display_data"
    },
    {
     "data": {
      "text/html": [],
      "text/plain": [
       "<IPython.core.display.HTML object>"
      ]
     },
     "metadata": {},
     "output_type": "display_data"
    },
    {
     "name": "stderr",
     "output_type": "stream",
     "text": [
      "/opt/conda/lib/python3.7/site-packages/numpy/core/_asarray.py:102: VisibleDeprecationWarning: Creating an ndarray from ragged nested sequences (which is a list-or-tuple of lists-or-tuples-or ndarrays with different lengths or shapes) is deprecated. If you meant to do this, you must specify 'dtype=object' when creating the ndarray.\n",
      "  return array(a, dtype, copy=False, order=order)\n",
      "<string>:6: VisibleDeprecationWarning: Creating an ndarray from ragged nested sequences (which is a list-or-tuple of lists-or-tuples-or ndarrays with different lengths or shapes) is deprecated. If you meant to do this, you must specify 'dtype=object' when creating the ndarray.\n"
     ]
    }
   ],
   "source": [
    "data_clas = TextClasDataBunch.from_df(path=path, train_df=df_train, valid_df=df_valid, test_df=df_test, tokenizer=tokenizer, vocab=tamil_vocab, label_cols=label_cols, bs=64)"
   ]
  },
  {
   "cell_type": "code",
   "execution_count": 37,
   "id": "d6e95f5e",
   "metadata": {
    "execution": {
     "iopub.execute_input": "2022-03-04T05:23:48.978206Z",
     "iopub.status.busy": "2022-03-04T05:23:48.962729Z",
     "iopub.status.idle": "2022-03-04T05:23:49.401490Z",
     "shell.execute_reply": "2022-03-04T05:23:49.401951Z"
    },
    "papermill": {
     "duration": 0.924436,
     "end_time": "2022-03-04T05:23:49.402100",
     "exception": false,
     "start_time": "2022-03-04T05:23:48.477664",
     "status": "completed"
    },
    "tags": []
   },
   "outputs": [
    {
     "data": {
      "text/html": [
       "<table border=\"1\" class=\"dataframe\">\n",
       "  <thead>\n",
       "    <tr style=\"text-align: right;\">\n",
       "      <th>text</th>\n",
       "      <th>target</th>\n",
       "    </tr>\n",
       "  </thead>\n",
       "  <tbody>\n",
       "    <tr>\n",
       "      <td>▁ x x b os ▁த வரான ▁தகவல் ▁தரும் ▁ப யில் வான் ▁அவர் களே ▁ம க்கல் ▁தி லக ம் ▁தன் னுடன் ▁நடிக்க ும் ▁நடிகர் கள் ▁தொடங்கி ▁தன் னுடன் ▁வேலை ▁பார்க்க ும் ▁அ னை ▁வரு க்கும் ▁தான் ▁உ ன் னும் ▁அதே ▁உ ன வை ▁அனைவரும் ▁உ ன்ன வே ன் டும் ▁யா ரும் ▁ப சியா ே டு ▁இருக்க க்கூடாது ▁என்று ▁நினைத்த ▁ஒரே ▁நடிகர் ▁இந்திய ▁சினிமா ▁வரலாற்ற ி ள் ▁ம க்கல் ▁தி லக</td>\n",
       "      <td>Ambiguous</td>\n",
       "    </tr>\n",
       "    <tr>\n",
       "      <td>▁ x x b os ▁உணர் வாளர் களே ▁லட்ச க்கண க்கான ▁ரூபாய் ▁மதிப்பு ள்ள ▁ஆடை களில் ▁வல ம் ▁தொடர் ▁வெளிநாட்டு ▁சுற்றுலா ப் ▁பயண ங்கள் ▁க ள்ள ப் ▁பணத்தை ▁கண்டு ▁பிடிக்க ிற ேன் ▁பேர் வழி ▁என்கிற ▁பெயரில் ▁பண ▁மதிப்ப ிழப்பு ▁நடவடிக்கை ▁காண ாமல் ▁போன ▁தமிழக ▁மீ ன வர் களை ▁பற்றி ன ▁அக்கறை யின் மை ▁நீ ட் ▁தேர்வு க்கு ▁தமிழக த்திற்கு ▁எந்த ▁ஒரு ▁சரியான ▁ப திலும் ▁சொல்ல ாத ▁நிலை ▁ஸ் வ ச்</td>\n",
       "      <td>Neutral</td>\n",
       "    </tr>\n",
       "    <tr>\n",
       "      <td>▁ x x b os ▁மு ஹ ம் மது வின் ▁தக ப்பன் ▁அப்துல் லா ▁ஹா பல் ▁என்ற ▁தேவ தை யின் ▁அருள ால் ▁பிறந்த வா ் ▁மு ஹ ம் மது ▁தா த்தா விற்கு ▁பல ▁மனைவி கள் ▁ஆனால் ▁குழந்தைகள் ▁குறைவு ▁அவருக்கு ▁நிறைய ▁குழந்தைகள் ▁இல்லை யே ▁என்ற ▁குறை ▁எனவே ▁ஒரு ▁குறி ▁சொல்ல ும் ▁பெண்ண ின் ▁உதவி யோடு ▁ஹா பே ல் ▁என்ற ▁தேவ தை ▁கோவில ுக்கு ச் ▁சென்று ▁தனக்கு ▁நிறைய ▁ஆண் குழந்தை ▁வேண்டும் ▁என்றும்</td>\n",
       "      <td>Neutral</td>\n",
       "    </tr>\n",
       "    <tr>\n",
       "      <td>▁ x x b os ▁தமிழ் நா ட் ல ▁கலவர ம் ▁எப்படி யா ச்சு ம் ▁நடத்த னும் னு ▁அப்ப னும் ▁ம களும் ▁என்ன ▁என்ன ▁ஆட்ட ம் ▁போ ட்டீ ங்க ▁எ வ னோ ▁ஒரு த்தன் ▁செ ஞ்ச ▁த ப்பு க்கு ▁ஒரு ▁சமூக த்து ▁மே லை யே ▁ப ழி போ ட்டு ▁கலவர த்தை ▁தூண்ட ▁கலவர த்தை ▁தூண்ட ▁கு தி யா ▁கு தி ச்ச து ▁பிறப்ப ால் ▁வேறு தாய் ▁வயிற்று ▁பிள்ளை யாக ▁இருந்தாலும்</td>\n",
       "      <td>Neutral</td>\n",
       "    </tr>\n",
       "    <tr>\n",
       "      <td>▁ x x b os ▁திரு ▁மோகன் ▁சி ▁லா ச ரசு ▁அவர் களே ▁இந்தியாவில் ▁கிரு ஸ்த வர்கள் ▁கண்ண ீர் விட்டு ▁பிரா த்த னை ▁ப ண்ண ிய தால் தான் ▁இந்தியாவில் ▁கொ ரோ ணா ▁பாதிப்பு ▁லே சா க போ ய் விட்டது ▁என்று ▁உ ங்களுக்கு ▁வெ ட் கம் ▁ மான ம் ▁சூ டு ▁சூ ர னை ▁இல்லை யா ▁அப்படி ▁என்றால் ▁அமெரிக்கா ▁இத்தாலி ▁ஸ்பெயின ் ▁கனடா ▁பிரிட்டிஷ் ▁போன்ற ▁நாடுகளில் ▁பிரா த்த னை ▁செய்ய வில்லை</td>\n",
       "      <td>Disguist</td>\n",
       "    </tr>\n",
       "  </tbody>\n",
       "</table>"
      ],
      "text/plain": [
       "<IPython.core.display.HTML object>"
      ]
     },
     "metadata": {},
     "output_type": "display_data"
    }
   ],
   "source": [
    "data_clas.show_batch()"
   ]
  },
  {
   "cell_type": "code",
   "execution_count": 38,
   "id": "7e991588",
   "metadata": {
    "execution": {
     "iopub.execute_input": "2022-03-04T05:23:50.396112Z",
     "iopub.status.busy": "2022-03-04T05:23:50.395260Z",
     "iopub.status.idle": "2022-03-04T05:23:50.397246Z",
     "shell.execute_reply": "2022-03-04T05:23:50.397645Z"
    },
    "papermill": {
     "duration": 0.520044,
     "end_time": "2022-03-04T05:23:50.397792",
     "exception": false,
     "start_time": "2022-03-04T05:23:49.877748",
     "status": "completed"
    },
    "tags": []
   },
   "outputs": [],
   "source": [
    "del awd_lstm_config['tie_weights']\n",
    "del awd_lstm_config['out_bias']"
   ]
  },
  {
   "cell_type": "code",
   "execution_count": 39,
   "id": "891757fc",
   "metadata": {
    "execution": {
     "iopub.execute_input": "2022-03-04T05:23:51.423009Z",
     "iopub.status.busy": "2022-03-04T05:23:51.422324Z",
     "iopub.status.idle": "2022-03-04T05:23:55.077889Z",
     "shell.execute_reply": "2022-03-04T05:23:55.077401Z"
    },
    "papermill": {
     "duration": 4.197095,
     "end_time": "2022-03-04T05:23:55.078025",
     "exception": false,
     "start_time": "2022-03-04T05:23:50.880930",
     "status": "completed"
    },
    "tags": []
   },
   "outputs": [
    {
     "name": "stdout",
     "output_type": "stream",
     "text": [
      "Downloading https://s3.amazonaws.com/fast-ai-modelzoo/wt103-fwd.tgz\n"
     ]
    },
    {
     "data": {
      "text/html": [
       "\n",
       "<style>\n",
       "    /* Turns off some styling */\n",
       "    progress {\n",
       "        /* gets rid of default border in Firefox and Opera. */\n",
       "        border: none;\n",
       "        /* Needs to be in here for Safari polyfill so background images work as expected. */\n",
       "        background-size: auto;\n",
       "    }\n",
       "    .progress-bar-interrupted, .progress-bar-interrupted::-webkit-progress-bar {\n",
       "        background: #F44336;\n",
       "    }\n",
       "</style>\n"
      ],
      "text/plain": [
       "<IPython.core.display.HTML object>"
      ]
     },
     "metadata": {},
     "output_type": "display_data"
    },
    {
     "data": {
      "text/html": [],
      "text/plain": [
       "<IPython.core.display.HTML object>"
      ]
     },
     "metadata": {},
     "output_type": "display_data"
    }
   ],
   "source": [
    "learn = text_classifier_learner(data_clas, arch=AWD_LSTM, drop_mult=0.5, config=awd_lstm_config)"
   ]
  },
  {
   "cell_type": "code",
   "execution_count": 40,
   "id": "d0786f1c",
   "metadata": {
    "execution": {
     "iopub.execute_input": "2022-03-04T05:23:56.048295Z",
     "iopub.status.busy": "2022-03-04T05:23:56.047110Z",
     "iopub.status.idle": "2022-03-04T05:23:56.098277Z",
     "shell.execute_reply": "2022-03-04T05:23:56.098708Z"
    },
    "papermill": {
     "duration": 0.540804,
     "end_time": "2022-03-04T05:23:56.098857",
     "exception": false,
     "start_time": "2022-03-04T05:23:55.558053",
     "status": "completed"
    },
    "tags": []
   },
   "outputs": [
    {
     "data": {
      "text/plain": [
       "RNNLearner(data=TextClasDataBunch;\n",
       "\n",
       "Train: LabelList (14207 items)\n",
       "x: TextList\n",
       "▁ x x b os ▁ஸ்ரீ ▁ரு த் ரம் ▁தமிழில் ▁கிடைக்க ு மா ▁ஜ யா,▁ x x b os ▁உயர மா ▁இருந்த ▁ஒரு ▁வேலை ▁எ கி றி ▁எ கி றி ▁அடி ப்பா னோ ▁சண்டை ▁வந்த ா ▁அடி ப்பா ங்க ளா ▁அதன் ▁சொன்ன ேன் ▁நான் யா ரும் ▁த ப்பா ▁நினைத்த ால் ▁நான் ▁பொறுப்ப ல்ல,▁ x x b os ▁தளபதி ▁அப்ப வே ▁ஷோ ப ணா ▁ரவி ▁பா த்தி மா ▁பா பு வ ▁ம வுண்ட் ▁ரோ ட்டு ல ▁ஓட ▁ஓட ▁வி ர ட்டி ▁ . . . ▁ . . . ▁ . . . ▁சா க சம் ▁செய்த வர் ▁அவர் ட்ட ▁போ யி ▁ . . . ▁ . . . ▁ . . .,▁ x x b os ▁எச் ▁ராஜா ▁பிராமண ர் களை ▁இந்துக் கள் ▁என்று ▁சொல் கிறார் ▁மற்றவர் களை ▁என்ன வ ென்று ▁சொல் வார்,▁ x x b os ▁மிக்க ▁நல்ல ▁மன ு ஷன்\n",
       "y: CategoryList\n",
       "Ambiguous,Neutral,Disguist,Ambiguous,Love\n",
       "Path: .;\n",
       "\n",
       "Valid: LabelList (3552 items)\n",
       "x: TextList\n",
       "▁ x x b os ▁கவிஞர் ▁வைர முத்து ▁ஆண்ட ாள் ▁என்ற ▁கதை யை ▁சு ட்டி ▁காட்டி ▁பேச ▁அவருக்கு ▁எதிராக ▁போராட ிய வர்கள்,▁ x x b os ▁சென் செ ச் ▁புள்ளி ▁என்றால் ▁என்ன,▁ x x b os ▁அம்மா ▁பிரா மா ▁மு கு ர் த்தா ம் ▁எ ப்பொ ல் து ▁ஏ ல்ல ம் ▁வார ு தம் மா,▁ x x b os ▁மிக ▁அரு மையான ▁பாடல்கள்,▁ x x b os ▁அரு மையான ▁பதிவு ▁அண்ணா\n",
       "y: CategoryList\n",
       "Disguist,Ambiguous,Neutral,Joy,Neutral\n",
       "Path: .;\n",
       "\n",
       "Test: LabelList (4440 items)\n",
       "x: TextList\n",
       "▁ x x b os ▁எ ப் டி யோ ▁பாவ ▁பட்ட ▁மக்களை ▁கொ ன் னா ▁பெருமை ▁உ ங்களை ▁சா ரும்,▁ x x b os ▁தமிழ்நாடு ▁அரசு ▁எந்த ▁ஆண்டு ல ▁இருந்து ▁கட னில் ▁இருந்தது ன் னு ▁சொல்ல ு ங்க ▁கே ப்போ ம்,▁ x x b os ▁விக்கிரம ராஜா ▁நல்ல ா ▁இரு க்கு ▁உ ன் ▁நியாய ம்,▁ x x b os ▁இதை ▁தமிழில் ▁சொல்ல ாத ீர் கள் ▁கன்னட த்தி லோ,▁ x x b os ▁சட்ட ▁மன்ற ▁உறுப்பினர் ▁பணி தான் ▁இது ▁இதற்கு ▁ஏ ன் ▁இவ்வ ளவு ▁ஊடக ▁வெளி ச்ச ம்\n",
       "y: EmptyLabelList\n",
       ",,,,\n",
       "Path: ., model=SequentialRNN(\n",
       "  (0): MultiBatchEncoder(\n",
       "    (module): AWD_LSTM(\n",
       "      (encoder): Embedding(8000, 400, padding_idx=1)\n",
       "      (encoder_dp): EmbeddingDropout(\n",
       "        (emb): Embedding(8000, 400, padding_idx=1)\n",
       "      )\n",
       "      (rnns): ModuleList(\n",
       "        (0): WeightDropout(\n",
       "          (module): LSTM(400, 1150, batch_first=True)\n",
       "        )\n",
       "        (1): WeightDropout(\n",
       "          (module): LSTM(1150, 1150, batch_first=True)\n",
       "        )\n",
       "        (2): WeightDropout(\n",
       "          (module): LSTM(1150, 400, batch_first=True)\n",
       "        )\n",
       "      )\n",
       "      (input_dp): RNNDropout()\n",
       "      (hidden_dps): ModuleList(\n",
       "        (0): RNNDropout()\n",
       "        (1): RNNDropout()\n",
       "        (2): RNNDropout()\n",
       "      )\n",
       "    )\n",
       "  )\n",
       "  (1): PoolingLinearClassifier(\n",
       "    (layers): Sequential(\n",
       "      (0): BatchNorm1d(1200, eps=1e-05, momentum=0.1, affine=True, track_running_stats=True)\n",
       "      (1): Dropout(p=0.05, inplace=False)\n",
       "      (2): Linear(in_features=1200, out_features=50, bias=True)\n",
       "      (3): ReLU(inplace=True)\n",
       "      (4): BatchNorm1d(50, eps=1e-05, momentum=0.1, affine=True, track_running_stats=True)\n",
       "      (5): Dropout(p=0.1, inplace=False)\n",
       "      (6): Linear(in_features=50, out_features=11, bias=True)\n",
       "    )\n",
       "  )\n",
       "), opt_func=functools.partial(<class 'torch.optim.adam.Adam'>, betas=(0.9, 0.99)), loss_func=FlattenedLoss of CrossEntropyLoss(), metrics=[<function accuracy at 0x7fde0dcbd440>], true_wd=True, bn_wd=True, wd=0.01, train_bn=True, path=PosixPath('.'), model_dir='models', callback_fns=[functools.partial(<class 'fastai.basic_train.Recorder'>, add_time=True, silent=False)], callbacks=[RNNTrainer\n",
       "learn: ...\n",
       "alpha: 2.0\n",
       "beta: 1.0], layer_groups=[Sequential(\n",
       "  (0): Embedding(8000, 400, padding_idx=1)\n",
       "  (1): EmbeddingDropout(\n",
       "    (emb): Embedding(8000, 400, padding_idx=1)\n",
       "  )\n",
       "), Sequential(\n",
       "  (0): WeightDropout(\n",
       "    (module): LSTM(400, 1150, batch_first=True)\n",
       "  )\n",
       "  (1): RNNDropout()\n",
       "), Sequential(\n",
       "  (0): WeightDropout(\n",
       "    (module): LSTM(1150, 1150, batch_first=True)\n",
       "  )\n",
       "  (1): RNNDropout()\n",
       "), Sequential(\n",
       "  (0): WeightDropout(\n",
       "    (module): LSTM(1150, 400, batch_first=True)\n",
       "  )\n",
       "  (1): RNNDropout()\n",
       "), Sequential(\n",
       "  (0): PoolingLinearClassifier(\n",
       "    (layers): Sequential(\n",
       "      (0): BatchNorm1d(1200, eps=1e-05, momentum=0.1, affine=True, track_running_stats=True)\n",
       "      (1): Dropout(p=0.05, inplace=False)\n",
       "      (2): Linear(in_features=1200, out_features=50, bias=True)\n",
       "      (3): ReLU(inplace=True)\n",
       "      (4): BatchNorm1d(50, eps=1e-05, momentum=0.1, affine=True, track_running_stats=True)\n",
       "      (5): Dropout(p=0.1, inplace=False)\n",
       "      (6): Linear(in_features=50, out_features=11, bias=True)\n",
       "    )\n",
       "  )\n",
       ")], add_time=True, silent=False)"
      ]
     },
     "execution_count": 40,
     "metadata": {},
     "output_type": "execute_result"
    }
   ],
   "source": [
    "learn.load_encoder('fine_tuned_enc')"
   ]
  },
  {
   "cell_type": "code",
   "execution_count": 41,
   "id": "3700132a",
   "metadata": {
    "execution": {
     "iopub.execute_input": "2022-03-04T05:23:57.160377Z",
     "iopub.status.busy": "2022-03-04T05:23:57.159630Z",
     "iopub.status.idle": "2022-03-04T05:23:57.164768Z",
     "shell.execute_reply": "2022-03-04T05:23:57.164278Z"
    },
    "papermill": {
     "duration": 0.584466,
     "end_time": "2022-03-04T05:23:57.164892",
     "exception": false,
     "start_time": "2022-03-04T05:23:56.580426",
     "status": "completed"
    },
    "tags": []
   },
   "outputs": [],
   "source": [
    "learn.freeze()"
   ]
  },
  {
   "cell_type": "code",
   "execution_count": 42,
   "id": "eed8fcc9",
   "metadata": {
    "execution": {
     "iopub.execute_input": "2022-03-04T05:23:58.433169Z",
     "iopub.status.busy": "2022-03-04T05:23:58.432494Z",
     "iopub.status.idle": "2022-03-04T05:23:58.435315Z",
     "shell.execute_reply": "2022-03-04T05:23:58.435790Z"
    },
    "papermill": {
     "duration": 0.789819,
     "end_time": "2022-03-04T05:23:58.435935",
     "exception": false,
     "start_time": "2022-03-04T05:23:57.646116",
     "status": "completed"
    },
    "tags": []
   },
   "outputs": [
    {
     "data": {
      "text/plain": [
       "CrossEntropyLoss()"
      ]
     },
     "execution_count": 42,
     "metadata": {},
     "output_type": "execute_result"
    }
   ],
   "source": [
    "learn.loss_func.func"
   ]
  },
  {
   "cell_type": "code",
   "execution_count": 43,
   "id": "65495d09",
   "metadata": {
    "execution": {
     "iopub.execute_input": "2022-03-04T05:23:59.411245Z",
     "iopub.status.busy": "2022-03-04T05:23:59.410370Z",
     "iopub.status.idle": "2022-03-04T05:23:59.412139Z",
     "shell.execute_reply": "2022-03-04T05:23:59.412604Z"
    },
    "papermill": {
     "duration": 0.490418,
     "end_time": "2022-03-04T05:23:59.412749",
     "exception": false,
     "start_time": "2022-03-04T05:23:58.922331",
     "status": "completed"
    },
    "tags": []
   },
   "outputs": [],
   "source": [
    "mcc = MatthewsCorreff()"
   ]
  },
  {
   "cell_type": "code",
   "execution_count": 44,
   "id": "1b12c6bc",
   "metadata": {
    "execution": {
     "iopub.execute_input": "2022-03-04T05:24:00.585460Z",
     "iopub.status.busy": "2022-03-04T05:24:00.584592Z",
     "iopub.status.idle": "2022-03-04T05:24:00.586862Z",
     "shell.execute_reply": "2022-03-04T05:24:00.586197Z"
    },
    "papermill": {
     "duration": 0.66956,
     "end_time": "2022-03-04T05:24:00.587028",
     "exception": false,
     "start_time": "2022-03-04T05:23:59.917468",
     "status": "completed"
    },
    "tags": []
   },
   "outputs": [],
   "source": [
    "f1 = FBeta(beta = 1,average = 'weighted')"
   ]
  },
  {
   "cell_type": "code",
   "execution_count": 45,
   "id": "f9102f88",
   "metadata": {
    "execution": {
     "iopub.execute_input": "2022-03-04T05:24:01.964678Z",
     "iopub.status.busy": "2022-03-04T05:24:01.963792Z",
     "iopub.status.idle": "2022-03-04T05:24:01.965582Z",
     "shell.execute_reply": "2022-03-04T05:24:01.966007Z"
    },
    "papermill": {
     "duration": 0.489696,
     "end_time": "2022-03-04T05:24:01.966156",
     "exception": false,
     "start_time": "2022-03-04T05:24:01.476460",
     "status": "completed"
    },
    "tags": []
   },
   "outputs": [],
   "source": [
    "learn.metrics = [f1]"
   ]
  },
  {
   "cell_type": "code",
   "execution_count": 46,
   "id": "0be237d9",
   "metadata": {
    "execution": {
     "iopub.execute_input": "2022-03-04T05:24:03.139796Z",
     "iopub.status.busy": "2022-03-04T05:24:03.138871Z",
     "iopub.status.idle": "2022-03-04T05:24:10.629745Z",
     "shell.execute_reply": "2022-03-04T05:24:10.630160Z"
    },
    "papermill": {
     "duration": 8.146275,
     "end_time": "2022-03-04T05:24:10.630324",
     "exception": false,
     "start_time": "2022-03-04T05:24:02.484049",
     "status": "completed"
    },
    "tags": []
   },
   "outputs": [
    {
     "data": {
      "text/html": [
       "\n",
       "<style>\n",
       "    /* Turns off some styling */\n",
       "    progress {\n",
       "        /* gets rid of default border in Firefox and Opera. */\n",
       "        border: none;\n",
       "        /* Needs to be in here for Safari polyfill so background images work as expected. */\n",
       "        background-size: auto;\n",
       "    }\n",
       "    .progress-bar-interrupted, .progress-bar-interrupted::-webkit-progress-bar {\n",
       "        background: #F44336;\n",
       "    }\n",
       "</style>\n"
      ],
      "text/plain": [
       "<IPython.core.display.HTML object>"
      ]
     },
     "metadata": {},
     "output_type": "display_data"
    },
    {
     "data": {
      "text/html": [
       "<table border=\"1\" class=\"dataframe\">\n",
       "  <thead>\n",
       "    <tr style=\"text-align: left;\">\n",
       "      <th>epoch</th>\n",
       "      <th>train_loss</th>\n",
       "      <th>valid_loss</th>\n",
       "      <th>f_beta</th>\n",
       "      <th>time</th>\n",
       "    </tr>\n",
       "  </thead>\n",
       "  <tbody>\n",
       "    <tr>\n",
       "      <td>0</td>\n",
       "      <td>1.791715</td>\n",
       "      <td>1.709403</td>\n",
       "      <td>0.362917</td>\n",
       "      <td>00:07</td>\n",
       "    </tr>\n",
       "  </tbody>\n",
       "</table>"
      ],
      "text/plain": [
       "<IPython.core.display.HTML object>"
      ]
     },
     "metadata": {},
     "output_type": "display_data"
    },
    {
     "name": "stderr",
     "output_type": "stream",
     "text": [
      "/opt/conda/lib/python3.7/site-packages/numpy/core/_asarray.py:102: VisibleDeprecationWarning: Creating an ndarray from ragged nested sequences (which is a list-or-tuple of lists-or-tuples-or ndarrays with different lengths or shapes) is deprecated. If you meant to do this, you must specify 'dtype=object' when creating the ndarray.\n",
      "  return array(a, dtype, copy=False, order=order)\n",
      "<string>:6: VisibleDeprecationWarning: Creating an ndarray from ragged nested sequences (which is a list-or-tuple of lists-or-tuples-or ndarrays with different lengths or shapes) is deprecated. If you meant to do this, you must specify 'dtype=object' when creating the ndarray.\n",
      "[W pthreadpool-cpp.cc:90] Warning: Leaking Caffe2 thread-pool after fork. (function pthreadpool)\n",
      "[W pthreadpool-cpp.cc:90] Warning: Leaking Caffe2 thread-pool after fork. (function pthreadpool)\n"
     ]
    }
   ],
   "source": [
    "learn.fit_one_cycle(1, 1e-2)"
   ]
  },
  {
   "cell_type": "code",
   "execution_count": 47,
   "id": "2077a7be",
   "metadata": {
    "execution": {
     "iopub.execute_input": "2022-03-04T05:24:11.608658Z",
     "iopub.status.busy": "2022-03-04T05:24:11.607843Z",
     "iopub.status.idle": "2022-03-04T05:24:19.530893Z",
     "shell.execute_reply": "2022-03-04T05:24:19.531550Z"
    },
    "papermill": {
     "duration": 8.41685,
     "end_time": "2022-03-04T05:24:19.531736",
     "exception": false,
     "start_time": "2022-03-04T05:24:11.114886",
     "status": "completed"
    },
    "tags": []
   },
   "outputs": [
    {
     "data": {
      "text/html": [
       "\n",
       "<style>\n",
       "    /* Turns off some styling */\n",
       "    progress {\n",
       "        /* gets rid of default border in Firefox and Opera. */\n",
       "        border: none;\n",
       "        /* Needs to be in here for Safari polyfill so background images work as expected. */\n",
       "        background-size: auto;\n",
       "    }\n",
       "    .progress-bar-interrupted, .progress-bar-interrupted::-webkit-progress-bar {\n",
       "        background: #F44336;\n",
       "    }\n",
       "</style>\n"
      ],
      "text/plain": [
       "<IPython.core.display.HTML object>"
      ]
     },
     "metadata": {},
     "output_type": "display_data"
    },
    {
     "data": {
      "text/html": [
       "<table border=\"1\" class=\"dataframe\">\n",
       "  <thead>\n",
       "    <tr style=\"text-align: left;\">\n",
       "      <th>epoch</th>\n",
       "      <th>train_loss</th>\n",
       "      <th>valid_loss</th>\n",
       "      <th>f_beta</th>\n",
       "      <th>time</th>\n",
       "    </tr>\n",
       "  </thead>\n",
       "  <tbody>\n",
       "    <tr>\n",
       "      <td>0</td>\n",
       "      <td>1.692553</td>\n",
       "      <td>1.647849</td>\n",
       "      <td>0.389770</td>\n",
       "      <td>00:07</td>\n",
       "    </tr>\n",
       "  </tbody>\n",
       "</table>"
      ],
      "text/plain": [
       "<IPython.core.display.HTML object>"
      ]
     },
     "metadata": {},
     "output_type": "display_data"
    },
    {
     "name": "stderr",
     "output_type": "stream",
     "text": [
      "[W pthreadpool-cpp.cc:90] Warning: Leaking Caffe2 thread-pool after fork. (function pthreadpool)\n",
      "[W pthreadpool-cpp.cc:90] Warning: Leaking Caffe2 thread-pool after fork. (function pthreadpool)\n",
      "/opt/conda/lib/python3.7/site-packages/numpy/core/_asarray.py:102: VisibleDeprecationWarning: Creating an ndarray from ragged nested sequences (which is a list-or-tuple of lists-or-tuples-or ndarrays with different lengths or shapes) is deprecated. If you meant to do this, you must specify 'dtype=object' when creating the ndarray.\n",
      "  return array(a, dtype, copy=False, order=order)\n",
      "<string>:6: VisibleDeprecationWarning: Creating an ndarray from ragged nested sequences (which is a list-or-tuple of lists-or-tuples-or ndarrays with different lengths or shapes) is deprecated. If you meant to do this, you must specify 'dtype=object' when creating the ndarray.\n",
      "[W pthreadpool-cpp.cc:90] Warning: Leaking Caffe2 thread-pool after fork. (function pthreadpool)\n",
      "[W pthreadpool-cpp.cc:90] Warning: Leaking Caffe2 thread-pool after fork. (function pthreadpool)\n"
     ]
    }
   ],
   "source": [
    "learn.freeze_to(-2)\n",
    "learn.fit_one_cycle(1, 1e-2)"
   ]
  },
  {
   "cell_type": "code",
   "execution_count": 48,
   "id": "d9bdbaf5",
   "metadata": {
    "execution": {
     "iopub.execute_input": "2022-03-04T05:24:20.918256Z",
     "iopub.status.busy": "2022-03-04T05:24:20.917157Z",
     "iopub.status.idle": "2022-03-04T05:26:37.888492Z",
     "shell.execute_reply": "2022-03-04T05:26:37.887991Z"
    },
    "papermill": {
     "duration": 137.559293,
     "end_time": "2022-03-04T05:26:37.888666",
     "exception": false,
     "start_time": "2022-03-04T05:24:20.329373",
     "status": "completed"
    },
    "tags": []
   },
   "outputs": [
    {
     "data": {
      "text/html": [
       "\n",
       "<style>\n",
       "    /* Turns off some styling */\n",
       "    progress {\n",
       "        /* gets rid of default border in Firefox and Opera. */\n",
       "        border: none;\n",
       "        /* Needs to be in here for Safari polyfill so background images work as expected. */\n",
       "        background-size: auto;\n",
       "    }\n",
       "    .progress-bar-interrupted, .progress-bar-interrupted::-webkit-progress-bar {\n",
       "        background: #F44336;\n",
       "    }\n",
       "</style>\n"
      ],
      "text/plain": [
       "<IPython.core.display.HTML object>"
      ]
     },
     "metadata": {},
     "output_type": "display_data"
    },
    {
     "data": {
      "text/html": [
       "<table border=\"1\" class=\"dataframe\">\n",
       "  <thead>\n",
       "    <tr style=\"text-align: left;\">\n",
       "      <th>epoch</th>\n",
       "      <th>train_loss</th>\n",
       "      <th>valid_loss</th>\n",
       "      <th>f_beta</th>\n",
       "      <th>time</th>\n",
       "    </tr>\n",
       "  </thead>\n",
       "  <tbody>\n",
       "    <tr>\n",
       "      <td>0</td>\n",
       "      <td>1.528037</td>\n",
       "      <td>1.637669</td>\n",
       "      <td>0.396657</td>\n",
       "      <td>00:16</td>\n",
       "    </tr>\n",
       "    <tr>\n",
       "      <td>1</td>\n",
       "      <td>1.452689</td>\n",
       "      <td>1.646598</td>\n",
       "      <td>0.403189</td>\n",
       "      <td>00:17</td>\n",
       "    </tr>\n",
       "    <tr>\n",
       "      <td>2</td>\n",
       "      <td>1.392088</td>\n",
       "      <td>1.714030</td>\n",
       "      <td>0.407467</td>\n",
       "      <td>00:17</td>\n",
       "    </tr>\n",
       "    <tr>\n",
       "      <td>3</td>\n",
       "      <td>1.360888</td>\n",
       "      <td>1.747329</td>\n",
       "      <td>0.405890</td>\n",
       "      <td>00:15</td>\n",
       "    </tr>\n",
       "    <tr>\n",
       "      <td>4</td>\n",
       "      <td>1.381437</td>\n",
       "      <td>1.768055</td>\n",
       "      <td>0.409628</td>\n",
       "      <td>00:17</td>\n",
       "    </tr>\n",
       "    <tr>\n",
       "      <td>5</td>\n",
       "      <td>1.270728</td>\n",
       "      <td>1.798557</td>\n",
       "      <td>0.405663</td>\n",
       "      <td>00:17</td>\n",
       "    </tr>\n",
       "    <tr>\n",
       "      <td>6</td>\n",
       "      <td>1.197799</td>\n",
       "      <td>1.825987</td>\n",
       "      <td>0.406260</td>\n",
       "      <td>00:17</td>\n",
       "    </tr>\n",
       "    <tr>\n",
       "      <td>7</td>\n",
       "      <td>1.142805</td>\n",
       "      <td>1.820909</td>\n",
       "      <td>0.406044</td>\n",
       "      <td>00:15</td>\n",
       "    </tr>\n",
       "  </tbody>\n",
       "</table>"
      ],
      "text/plain": [
       "<IPython.core.display.HTML object>"
      ]
     },
     "metadata": {},
     "output_type": "display_data"
    },
    {
     "name": "stderr",
     "output_type": "stream",
     "text": [
      "[W pthreadpool-cpp.cc:90] Warning: Leaking Caffe2 thread-pool after fork. (function pthreadpool)\n",
      "[W pthreadpool-cpp.cc:90] Warning: Leaking Caffe2 thread-pool after fork. (function pthreadpool)\n",
      "/opt/conda/lib/python3.7/site-packages/numpy/core/_asarray.py:102: VisibleDeprecationWarning: Creating an ndarray from ragged nested sequences (which is a list-or-tuple of lists-or-tuples-or ndarrays with different lengths or shapes) is deprecated. If you meant to do this, you must specify 'dtype=object' when creating the ndarray.\n",
      "  return array(a, dtype, copy=False, order=order)\n",
      "<string>:6: VisibleDeprecationWarning: Creating an ndarray from ragged nested sequences (which is a list-or-tuple of lists-or-tuples-or ndarrays with different lengths or shapes) is deprecated. If you meant to do this, you must specify 'dtype=object' when creating the ndarray.\n",
      "[W pthreadpool-cpp.cc:90] Warning: Leaking Caffe2 thread-pool after fork. (function pthreadpool)\n",
      "[W pthreadpool-cpp.cc:90] Warning: Leaking Caffe2 thread-pool after fork. (function pthreadpool)\n"
     ]
    },
    {
     "name": "stdout",
     "output_type": "stream",
     "text": [
      "Better model found at epoch 0 with f_beta value: 0.39665737748146057.\n"
     ]
    },
    {
     "name": "stderr",
     "output_type": "stream",
     "text": [
      "[W pthreadpool-cpp.cc:90] Warning: Leaking Caffe2 thread-pool after fork. (function pthreadpool)\n",
      "[W pthreadpool-cpp.cc:90] Warning: Leaking Caffe2 thread-pool after fork. (function pthreadpool)\n",
      "/opt/conda/lib/python3.7/site-packages/numpy/core/_asarray.py:102: VisibleDeprecationWarning: Creating an ndarray from ragged nested sequences (which is a list-or-tuple of lists-or-tuples-or ndarrays with different lengths or shapes) is deprecated. If you meant to do this, you must specify 'dtype=object' when creating the ndarray.\n",
      "  return array(a, dtype, copy=False, order=order)\n",
      "<string>:6: VisibleDeprecationWarning: Creating an ndarray from ragged nested sequences (which is a list-or-tuple of lists-or-tuples-or ndarrays with different lengths or shapes) is deprecated. If you meant to do this, you must specify 'dtype=object' when creating the ndarray.\n",
      "[W pthreadpool-cpp.cc:90] Warning: Leaking Caffe2 thread-pool after fork. (function pthreadpool)\n",
      "[W pthreadpool-cpp.cc:90] Warning: Leaking Caffe2 thread-pool after fork. (function pthreadpool)\n"
     ]
    },
    {
     "name": "stdout",
     "output_type": "stream",
     "text": [
      "Better model found at epoch 1 with f_beta value: 0.403189480304718.\n"
     ]
    },
    {
     "name": "stderr",
     "output_type": "stream",
     "text": [
      "[W pthreadpool-cpp.cc:90] Warning: Leaking Caffe2 thread-pool after fork. (function pthreadpool)\n",
      "[W pthreadpool-cpp.cc:90] Warning: Leaking Caffe2 thread-pool after fork. (function pthreadpool)\n",
      "/opt/conda/lib/python3.7/site-packages/numpy/core/_asarray.py:102: VisibleDeprecationWarning: Creating an ndarray from ragged nested sequences (which is a list-or-tuple of lists-or-tuples-or ndarrays with different lengths or shapes) is deprecated. If you meant to do this, you must specify 'dtype=object' when creating the ndarray.\n",
      "  return array(a, dtype, copy=False, order=order)\n",
      "<string>:6: VisibleDeprecationWarning: Creating an ndarray from ragged nested sequences (which is a list-or-tuple of lists-or-tuples-or ndarrays with different lengths or shapes) is deprecated. If you meant to do this, you must specify 'dtype=object' when creating the ndarray.\n",
      "[W pthreadpool-cpp.cc:90] Warning: Leaking Caffe2 thread-pool after fork. (function pthreadpool)\n",
      "[W pthreadpool-cpp.cc:90] Warning: Leaking Caffe2 thread-pool after fork. (function pthreadpool)\n"
     ]
    },
    {
     "name": "stdout",
     "output_type": "stream",
     "text": [
      "Better model found at epoch 2 with f_beta value: 0.4074665307998657.\n"
     ]
    },
    {
     "name": "stderr",
     "output_type": "stream",
     "text": [
      "[W pthreadpool-cpp.cc:90] Warning: Leaking Caffe2 thread-pool after fork. (function pthreadpool)\n",
      "[W pthreadpool-cpp.cc:90] Warning: Leaking Caffe2 thread-pool after fork. (function pthreadpool)\n",
      "/opt/conda/lib/python3.7/site-packages/numpy/core/_asarray.py:102: VisibleDeprecationWarning: Creating an ndarray from ragged nested sequences (which is a list-or-tuple of lists-or-tuples-or ndarrays with different lengths or shapes) is deprecated. If you meant to do this, you must specify 'dtype=object' when creating the ndarray.\n",
      "  return array(a, dtype, copy=False, order=order)\n",
      "<string>:6: VisibleDeprecationWarning: Creating an ndarray from ragged nested sequences (which is a list-or-tuple of lists-or-tuples-or ndarrays with different lengths or shapes) is deprecated. If you meant to do this, you must specify 'dtype=object' when creating the ndarray.\n",
      "[W pthreadpool-cpp.cc:90] Warning: Leaking Caffe2 thread-pool after fork. (function pthreadpool)\n",
      "[W pthreadpool-cpp.cc:90] Warning: Leaking Caffe2 thread-pool after fork. (function pthreadpool)\n",
      "[W pthreadpool-cpp.cc:90] Warning: Leaking Caffe2 thread-pool after fork. (function pthreadpool)\n",
      "[W pthreadpool-cpp.cc:90] Warning: Leaking Caffe2 thread-pool after fork. (function pthreadpool)\n",
      "/opt/conda/lib/python3.7/site-packages/numpy/core/_asarray.py:102: VisibleDeprecationWarning: Creating an ndarray from ragged nested sequences (which is a list-or-tuple of lists-or-tuples-or ndarrays with different lengths or shapes) is deprecated. If you meant to do this, you must specify 'dtype=object' when creating the ndarray.\n",
      "  return array(a, dtype, copy=False, order=order)\n",
      "<string>:6: VisibleDeprecationWarning: Creating an ndarray from ragged nested sequences (which is a list-or-tuple of lists-or-tuples-or ndarrays with different lengths or shapes) is deprecated. If you meant to do this, you must specify 'dtype=object' when creating the ndarray.\n",
      "[W pthreadpool-cpp.cc:90] Warning: Leaking Caffe2 thread-pool after fork. (function pthreadpool)\n",
      "[W pthreadpool-cpp.cc:90] Warning: Leaking Caffe2 thread-pool after fork. (function pthreadpool)\n"
     ]
    },
    {
     "name": "stdout",
     "output_type": "stream",
     "text": [
      "Better model found at epoch 4 with f_beta value: 0.40962815284729004.\n"
     ]
    },
    {
     "name": "stderr",
     "output_type": "stream",
     "text": [
      "[W pthreadpool-cpp.cc:90] Warning: Leaking Caffe2 thread-pool after fork. (function pthreadpool)\n",
      "[W pthreadpool-cpp.cc:90] Warning: Leaking Caffe2 thread-pool after fork. (function pthreadpool)\n",
      "/opt/conda/lib/python3.7/site-packages/numpy/core/_asarray.py:102: VisibleDeprecationWarning: Creating an ndarray from ragged nested sequences (which is a list-or-tuple of lists-or-tuples-or ndarrays with different lengths or shapes) is deprecated. If you meant to do this, you must specify 'dtype=object' when creating the ndarray.\n",
      "  return array(a, dtype, copy=False, order=order)\n",
      "<string>:6: VisibleDeprecationWarning: Creating an ndarray from ragged nested sequences (which is a list-or-tuple of lists-or-tuples-or ndarrays with different lengths or shapes) is deprecated. If you meant to do this, you must specify 'dtype=object' when creating the ndarray.\n",
      "[W pthreadpool-cpp.cc:90] Warning: Leaking Caffe2 thread-pool after fork. (function pthreadpool)\n",
      "[W pthreadpool-cpp.cc:90] Warning: Leaking Caffe2 thread-pool after fork. (function pthreadpool)\n",
      "[W pthreadpool-cpp.cc:90] Warning: Leaking Caffe2 thread-pool after fork. (function pthreadpool)\n",
      "[W pthreadpool-cpp.cc:90] Warning: Leaking Caffe2 thread-pool after fork. (function pthreadpool)\n",
      "/opt/conda/lib/python3.7/site-packages/numpy/core/_asarray.py:102: VisibleDeprecationWarning: Creating an ndarray from ragged nested sequences (which is a list-or-tuple of lists-or-tuples-or ndarrays with different lengths or shapes) is deprecated. If you meant to do this, you must specify 'dtype=object' when creating the ndarray.\n",
      "  return array(a, dtype, copy=False, order=order)\n",
      "<string>:6: VisibleDeprecationWarning: Creating an ndarray from ragged nested sequences (which is a list-or-tuple of lists-or-tuples-or ndarrays with different lengths or shapes) is deprecated. If you meant to do this, you must specify 'dtype=object' when creating the ndarray.\n",
      "[W pthreadpool-cpp.cc:90] Warning: Leaking Caffe2 thread-pool after fork. (function pthreadpool)\n",
      "[W pthreadpool-cpp.cc:90] Warning: Leaking Caffe2 thread-pool after fork. (function pthreadpool)\n",
      "[W pthreadpool-cpp.cc:90] Warning: Leaking Caffe2 thread-pool after fork. (function pthreadpool)\n",
      "[W pthreadpool-cpp.cc:90] Warning: Leaking Caffe2 thread-pool after fork. (function pthreadpool)\n",
      "/opt/conda/lib/python3.7/site-packages/numpy/core/_asarray.py:102: VisibleDeprecationWarning: Creating an ndarray from ragged nested sequences (which is a list-or-tuple of lists-or-tuples-or ndarrays with different lengths or shapes) is deprecated. If you meant to do this, you must specify 'dtype=object' when creating the ndarray.\n",
      "  return array(a, dtype, copy=False, order=order)\n",
      "<string>:6: VisibleDeprecationWarning: Creating an ndarray from ragged nested sequences (which is a list-or-tuple of lists-or-tuples-or ndarrays with different lengths or shapes) is deprecated. If you meant to do this, you must specify 'dtype=object' when creating the ndarray.\n",
      "[W pthreadpool-cpp.cc:90] Warning: Leaking Caffe2 thread-pool after fork. (function pthreadpool)\n",
      "[W pthreadpool-cpp.cc:90] Warning: Leaking Caffe2 thread-pool after fork. (function pthreadpool)\n"
     ]
    }
   ],
   "source": [
    "learn.unfreeze()\n",
    "learn.fit_one_cycle(8, 1e-3, callbacks=[callbacks.SaveModelCallback(learn, every='improvement', monitor='f_beta', name='final')])"
   ]
  },
  {
   "cell_type": "code",
   "execution_count": 49,
   "id": "b68305a4",
   "metadata": {
    "execution": {
     "iopub.execute_input": "2022-03-04T05:26:38.940040Z",
     "iopub.status.busy": "2022-03-04T05:26:38.939279Z",
     "iopub.status.idle": "2022-03-04T05:26:41.825844Z",
     "shell.execute_reply": "2022-03-04T05:26:41.826237Z"
    },
    "papermill": {
     "duration": 3.399286,
     "end_time": "2022-03-04T05:26:41.826403",
     "exception": false,
     "start_time": "2022-03-04T05:26:38.427117",
     "status": "completed"
    },
    "tags": []
   },
   "outputs": [
    {
     "data": {
      "text/html": [
       "\n",
       "<style>\n",
       "    /* Turns off some styling */\n",
       "    progress {\n",
       "        /* gets rid of default border in Firefox and Opera. */\n",
       "        border: none;\n",
       "        /* Needs to be in here for Safari polyfill so background images work as expected. */\n",
       "        background-size: auto;\n",
       "    }\n",
       "    .progress-bar-interrupted, .progress-bar-interrupted::-webkit-progress-bar {\n",
       "        background: #F44336;\n",
       "    }\n",
       "</style>\n"
      ],
      "text/plain": [
       "<IPython.core.display.HTML object>"
      ]
     },
     "metadata": {},
     "output_type": "display_data"
    },
    {
     "data": {
      "text/html": [],
      "text/plain": [
       "<IPython.core.display.HTML object>"
      ]
     },
     "metadata": {},
     "output_type": "display_data"
    },
    {
     "name": "stderr",
     "output_type": "stream",
     "text": [
      "[W pthreadpool-cpp.cc:90] Warning: Leaking Caffe2 thread-pool after fork. (function pthreadpool)\n",
      "[W pthreadpool-cpp.cc:90] Warning: Leaking Caffe2 thread-pool after fork. (function pthreadpool)\n"
     ]
    },
    {
     "data": {
      "text/html": [
       "<div>\n",
       "<style scoped>\n",
       "    .dataframe tbody tr th:only-of-type {\n",
       "        vertical-align: middle;\n",
       "    }\n",
       "\n",
       "    .dataframe tbody tr th {\n",
       "        vertical-align: top;\n",
       "    }\n",
       "\n",
       "    .dataframe thead th {\n",
       "        text-align: right;\n",
       "    }\n",
       "</style>\n",
       "<table border=\"1\" class=\"dataframe\">\n",
       "  <thead>\n",
       "    <tr style=\"text-align: right;\">\n",
       "      <th></th>\n",
       "      <th>query</th>\n",
       "      <th>actual_label</th>\n",
       "      <th>predicted_label</th>\n",
       "      <th>Love</th>\n",
       "      <th>Neutral</th>\n",
       "      <th>Sadness</th>\n",
       "      <th>Anticipation</th>\n",
       "      <th>Ambiguous</th>\n",
       "      <th>Trust</th>\n",
       "      <th>Joy</th>\n",
       "      <th>Surprise</th>\n",
       "      <th>Disguist</th>\n",
       "      <th>Fear</th>\n",
       "      <th>Anger</th>\n",
       "    </tr>\n",
       "  </thead>\n",
       "  <tbody>\n",
       "    <tr>\n",
       "      <th>0</th>\n",
       "      <td>எப்டியோ பாவ பட்ட மக்களை கொன்னா பெருமை உங்களை ச...</td>\n",
       "      <td>Joy</td>\n",
       "      <td>Sadness</td>\n",
       "      <td>0.047571</td>\n",
       "      <td>0.038768</td>\n",
       "      <td>0.58417</td>\n",
       "      <td>0.058264</td>\n",
       "      <td>0.001432</td>\n",
       "      <td>0.06503</td>\n",
       "      <td>0.043902</td>\n",
       "      <td>0.002978</td>\n",
       "      <td>0.0064</td>\n",
       "      <td>0.135392</td>\n",
       "      <td>0.016093</td>\n",
       "    </tr>\n",
       "    <tr>\n",
       "      <th>1</th>\n",
       "      <td>தமிழ்நாடு அரசு எந்த ஆண்டுல இருந்து கடனில் இருந...</td>\n",
       "      <td>Neutral</td>\n",
       "      <td>Neutral</td>\n",
       "      <td>0.000415</td>\n",
       "      <td>0.42771</td>\n",
       "      <td>0.005176</td>\n",
       "      <td>0.040529</td>\n",
       "      <td>0.42687</td>\n",
       "      <td>0.004516</td>\n",
       "      <td>0.001216</td>\n",
       "      <td>0.003839</td>\n",
       "      <td>0.020353</td>\n",
       "      <td>0.000164</td>\n",
       "      <td>0.069211</td>\n",
       "    </tr>\n",
       "    <tr>\n",
       "      <th>2</th>\n",
       "      <td>விக்கிரமராஜா நல்லா இருக்கு உன் நியாயம்</td>\n",
       "      <td>Disguist</td>\n",
       "      <td>Neutral</td>\n",
       "      <td>0.016306</td>\n",
       "      <td>0.439274</td>\n",
       "      <td>0.010721</td>\n",
       "      <td>0.005467</td>\n",
       "      <td>0.073208</td>\n",
       "      <td>0.008315</td>\n",
       "      <td>0.163505</td>\n",
       "      <td>0.009358</td>\n",
       "      <td>0.165435</td>\n",
       "      <td>0.000618</td>\n",
       "      <td>0.107793</td>\n",
       "    </tr>\n",
       "    <tr>\n",
       "      <th>3</th>\n",
       "      <td>இதை தமிழில் சொல்லாதீர்கள் கன்னடத்திலோ</td>\n",
       "      <td>Neutral</td>\n",
       "      <td>Ambiguous</td>\n",
       "      <td>0.000405</td>\n",
       "      <td>0.080122</td>\n",
       "      <td>0.002651</td>\n",
       "      <td>0.002829</td>\n",
       "      <td>0.869848</td>\n",
       "      <td>0.000908</td>\n",
       "      <td>0.001106</td>\n",
       "      <td>0.002747</td>\n",
       "      <td>0.012214</td>\n",
       "      <td>0.000274</td>\n",
       "      <td>0.026896</td>\n",
       "    </tr>\n",
       "    <tr>\n",
       "      <th>4</th>\n",
       "      <td>சட்ட மன்ற உறுப்பினர் பணிதான் இது இதற்கு ஏன் இவ...</td>\n",
       "      <td>Disguist</td>\n",
       "      <td>Neutral</td>\n",
       "      <td>0.000135</td>\n",
       "      <td>0.515577</td>\n",
       "      <td>0.044854</td>\n",
       "      <td>0.007152</td>\n",
       "      <td>0.253739</td>\n",
       "      <td>0.003245</td>\n",
       "      <td>0.001472</td>\n",
       "      <td>0.001104</td>\n",
       "      <td>0.063699</td>\n",
       "      <td>0.000392</td>\n",
       "      <td>0.108631</td>\n",
       "    </tr>\n",
       "  </tbody>\n",
       "</table>\n",
       "</div>"
      ],
      "text/plain": [
       "                                               query actual_label  \\\n",
       "0  எப்டியோ பாவ பட்ட மக்களை கொன்னா பெருமை உங்களை ச...          Joy   \n",
       "1  தமிழ்நாடு அரசு எந்த ஆண்டுல இருந்து கடனில் இருந...      Neutral   \n",
       "2             விக்கிரமராஜா நல்லா இருக்கு உன் நியாயம்     Disguist   \n",
       "3              இதை தமிழில் சொல்லாதீர்கள் கன்னடத்திலோ      Neutral   \n",
       "4  சட்ட மன்ற உறுப்பினர் பணிதான் இது இதற்கு ஏன் இவ...     Disguist   \n",
       "\n",
       "  predicted_label      Love   Neutral   Sadness Anticipation Ambiguous  \\\n",
       "0         Sadness  0.047571  0.038768   0.58417     0.058264  0.001432   \n",
       "1         Neutral  0.000415   0.42771  0.005176     0.040529   0.42687   \n",
       "2         Neutral  0.016306  0.439274  0.010721     0.005467  0.073208   \n",
       "3       Ambiguous  0.000405  0.080122  0.002651     0.002829  0.869848   \n",
       "4         Neutral  0.000135  0.515577  0.044854     0.007152  0.253739   \n",
       "\n",
       "      Trust       Joy  Surprise  Disguist      Fear     Anger  \n",
       "0   0.06503  0.043902  0.002978    0.0064  0.135392  0.016093  \n",
       "1  0.004516  0.001216  0.003839  0.020353  0.000164  0.069211  \n",
       "2  0.008315  0.163505  0.009358  0.165435  0.000618  0.107793  \n",
       "3  0.000908  0.001106  0.002747  0.012214  0.000274  0.026896  \n",
       "4  0.003245  0.001472  0.001104  0.063699  0.000392  0.108631  "
      ]
     },
     "execution_count": 49,
     "metadata": {},
     "output_type": "execute_result"
    }
   ],
   "source": [
    "from sklearn.metrics import accuracy_score, matthews_corrcoef\n",
    "df_dict = {'query': list(df_test[1]), 'actual_label': list(df_test[0]), 'predicted_label': ['']*df_test.shape[0]}\n",
    "all_nodes = list(set(df_train[0]))\n",
    "for node in all_nodes:\n",
    "    df_dict[node] = ['']*df_test.shape[0]\n",
    "\n",
    "i2c = {}\n",
    "for key, value in learn.data.c2i.items():\n",
    "    i2c[value] = key\n",
    "\n",
    "df_result = pd.DataFrame(df_dict)\n",
    "preds = learn.get_preds(ds_type=DatasetType.Test, ordered=True)\n",
    "for index, row in df_result.iterrows():\n",
    "    for node in all_nodes:\n",
    "        row[node] = preds[0][index][learn.data.c2i[node]].item()\n",
    "    row['predicted_label'] = i2c[np.argmax(preds[0][index]).data.item()]\n",
    "df_result.head()"
   ]
  },
  {
   "cell_type": "code",
   "execution_count": 50,
   "id": "3652951a",
   "metadata": {
    "execution": {
     "iopub.execute_input": "2022-03-04T05:26:43.752449Z",
     "iopub.status.busy": "2022-03-04T05:26:43.751260Z",
     "iopub.status.idle": "2022-03-04T05:26:43.754957Z",
     "shell.execute_reply": "2022-03-04T05:26:43.754501Z"
    },
    "papermill": {
     "duration": 1.218059,
     "end_time": "2022-03-04T05:26:43.755085",
     "exception": false,
     "start_time": "2022-03-04T05:26:42.537026",
     "status": "completed"
    },
    "tags": []
   },
   "outputs": [
    {
     "data": {
      "text/plain": [
       "0.4349099099099099"
      ]
     },
     "execution_count": 50,
     "metadata": {},
     "output_type": "execute_result"
    }
   ],
   "source": [
    "accuracy_score(df_result['actual_label'], df_result['predicted_label'])"
   ]
  },
  {
   "cell_type": "code",
   "execution_count": 51,
   "id": "a8370e92",
   "metadata": {
    "execution": {
     "iopub.execute_input": "2022-03-04T05:26:44.765870Z",
     "iopub.status.busy": "2022-03-04T05:26:44.765080Z",
     "iopub.status.idle": "2022-03-04T05:26:44.772549Z",
     "shell.execute_reply": "2022-03-04T05:26:44.772114Z"
    },
    "papermill": {
     "duration": 0.517879,
     "end_time": "2022-03-04T05:26:44.772698",
     "exception": false,
     "start_time": "2022-03-04T05:26:44.254819",
     "status": "completed"
    },
    "tags": []
   },
   "outputs": [
    {
     "data": {
      "text/plain": [
       "0.2764966770896043"
      ]
     },
     "execution_count": 51,
     "metadata": {},
     "output_type": "execute_result"
    }
   ],
   "source": [
    "matthews_corrcoef(df_result['actual_label'], df_result['predicted_label'])"
   ]
  },
  {
   "cell_type": "code",
   "execution_count": 52,
   "id": "89e25059",
   "metadata": {
    "execution": {
     "iopub.execute_input": "2022-03-04T05:26:45.788880Z",
     "iopub.status.busy": "2022-03-04T05:26:45.788168Z",
     "iopub.status.idle": "2022-03-04T05:26:45.954513Z",
     "shell.execute_reply": "2022-03-04T05:26:45.953893Z"
    },
    "papermill": {
     "duration": 0.669743,
     "end_time": "2022-03-04T05:26:45.954655",
     "exception": false,
     "start_time": "2022-03-04T05:26:45.284912",
     "status": "completed"
    },
    "tags": []
   },
   "outputs": [],
   "source": [
    "report = classification_report(df_result['actual_label'], df_result['predicted_label'],output_dict=True)"
   ]
  },
  {
   "cell_type": "code",
   "execution_count": 53,
   "id": "98907296",
   "metadata": {
    "execution": {
     "iopub.execute_input": "2022-03-04T05:26:46.971308Z",
     "iopub.status.busy": "2022-03-04T05:26:46.970499Z",
     "iopub.status.idle": "2022-03-04T05:26:46.981509Z",
     "shell.execute_reply": "2022-03-04T05:26:46.981960Z"
    },
    "papermill": {
     "duration": 0.515273,
     "end_time": "2022-03-04T05:26:46.982103",
     "exception": false,
     "start_time": "2022-03-04T05:26:46.466830",
     "status": "completed"
    },
    "tags": []
   },
   "outputs": [
    {
     "data": {
      "text/html": [
       "<div>\n",
       "<style scoped>\n",
       "    .dataframe tbody tr th:only-of-type {\n",
       "        vertical-align: middle;\n",
       "    }\n",
       "\n",
       "    .dataframe tbody tr th {\n",
       "        vertical-align: top;\n",
       "    }\n",
       "\n",
       "    .dataframe thead th {\n",
       "        text-align: right;\n",
       "    }\n",
       "</style>\n",
       "<table border=\"1\" class=\"dataframe\">\n",
       "  <thead>\n",
       "    <tr style=\"text-align: right;\">\n",
       "      <th></th>\n",
       "      <th>precision</th>\n",
       "      <th>recall</th>\n",
       "      <th>f1-score</th>\n",
       "      <th>support</th>\n",
       "    </tr>\n",
       "  </thead>\n",
       "  <tbody>\n",
       "    <tr>\n",
       "      <th>Ambiguous</th>\n",
       "      <td>0.478682</td>\n",
       "      <td>0.494000</td>\n",
       "      <td>0.486220</td>\n",
       "      <td>500.00000</td>\n",
       "    </tr>\n",
       "    <tr>\n",
       "      <th>Anger</th>\n",
       "      <td>0.238342</td>\n",
       "      <td>0.188525</td>\n",
       "      <td>0.210526</td>\n",
       "      <td>244.00000</td>\n",
       "    </tr>\n",
       "    <tr>\n",
       "      <th>Anticipation</th>\n",
       "      <td>0.297414</td>\n",
       "      <td>0.254613</td>\n",
       "      <td>0.274354</td>\n",
       "      <td>271.00000</td>\n",
       "    </tr>\n",
       "    <tr>\n",
       "      <th>Disguist</th>\n",
       "      <td>0.140187</td>\n",
       "      <td>0.054152</td>\n",
       "      <td>0.078125</td>\n",
       "      <td>277.00000</td>\n",
       "    </tr>\n",
       "    <tr>\n",
       "      <th>Fear</th>\n",
       "      <td>0.375000</td>\n",
       "      <td>0.090909</td>\n",
       "      <td>0.146341</td>\n",
       "      <td>33.00000</td>\n",
       "    </tr>\n",
       "    <tr>\n",
       "      <th>Joy</th>\n",
       "      <td>0.553360</td>\n",
       "      <td>0.598291</td>\n",
       "      <td>0.574949</td>\n",
       "      <td>702.00000</td>\n",
       "    </tr>\n",
       "    <tr>\n",
       "      <th>Love</th>\n",
       "      <td>0.247525</td>\n",
       "      <td>0.127551</td>\n",
       "      <td>0.168350</td>\n",
       "      <td>196.00000</td>\n",
       "    </tr>\n",
       "    <tr>\n",
       "      <th>Neutral</th>\n",
       "      <td>0.451114</td>\n",
       "      <td>0.644993</td>\n",
       "      <td>0.530907</td>\n",
       "      <td>1538.00000</td>\n",
       "    </tr>\n",
       "    <tr>\n",
       "      <th>Sadness</th>\n",
       "      <td>0.368056</td>\n",
       "      <td>0.219917</td>\n",
       "      <td>0.275325</td>\n",
       "      <td>241.00000</td>\n",
       "    </tr>\n",
       "    <tr>\n",
       "      <th>Surprise</th>\n",
       "      <td>0.000000</td>\n",
       "      <td>0.000000</td>\n",
       "      <td>0.000000</td>\n",
       "      <td>61.00000</td>\n",
       "    </tr>\n",
       "    <tr>\n",
       "      <th>Trust</th>\n",
       "      <td>0.338889</td>\n",
       "      <td>0.161804</td>\n",
       "      <td>0.219031</td>\n",
       "      <td>377.00000</td>\n",
       "    </tr>\n",
       "    <tr>\n",
       "      <th>accuracy</th>\n",
       "      <td>0.434910</td>\n",
       "      <td>0.434910</td>\n",
       "      <td>0.434910</td>\n",
       "      <td>0.43491</td>\n",
       "    </tr>\n",
       "    <tr>\n",
       "      <th>macro avg</th>\n",
       "      <td>0.317143</td>\n",
       "      <td>0.257705</td>\n",
       "      <td>0.269466</td>\n",
       "      <td>4440.00000</td>\n",
       "    </tr>\n",
       "    <tr>\n",
       "      <th>weighted avg</th>\n",
       "      <td>0.400124</td>\n",
       "      <td>0.434910</td>\n",
       "      <td>0.404814</td>\n",
       "      <td>4440.00000</td>\n",
       "    </tr>\n",
       "  </tbody>\n",
       "</table>\n",
       "</div>"
      ],
      "text/plain": [
       "              precision    recall  f1-score     support\n",
       "Ambiguous      0.478682  0.494000  0.486220   500.00000\n",
       "Anger          0.238342  0.188525  0.210526   244.00000\n",
       "Anticipation   0.297414  0.254613  0.274354   271.00000\n",
       "Disguist       0.140187  0.054152  0.078125   277.00000\n",
       "Fear           0.375000  0.090909  0.146341    33.00000\n",
       "Joy            0.553360  0.598291  0.574949   702.00000\n",
       "Love           0.247525  0.127551  0.168350   196.00000\n",
       "Neutral        0.451114  0.644993  0.530907  1538.00000\n",
       "Sadness        0.368056  0.219917  0.275325   241.00000\n",
       "Surprise       0.000000  0.000000  0.000000    61.00000\n",
       "Trust          0.338889  0.161804  0.219031   377.00000\n",
       "accuracy       0.434910  0.434910  0.434910     0.43491\n",
       "macro avg      0.317143  0.257705  0.269466  4440.00000\n",
       "weighted avg   0.400124  0.434910  0.404814  4440.00000"
      ]
     },
     "execution_count": 53,
     "metadata": {},
     "output_type": "execute_result"
    }
   ],
   "source": [
    "pd.DataFrame(report).transpose()"
   ]
  },
  {
   "cell_type": "code",
   "execution_count": 54,
   "id": "e2115e74",
   "metadata": {
    "execution": {
     "iopub.execute_input": "2022-03-04T05:26:48.005158Z",
     "iopub.status.busy": "2022-03-04T05:26:48.004302Z",
     "iopub.status.idle": "2022-03-04T05:26:48.115276Z",
     "shell.execute_reply": "2022-03-04T05:26:48.114549Z"
    },
    "papermill": {
     "duration": 0.631687,
     "end_time": "2022-03-04T05:26:48.115443",
     "exception": false,
     "start_time": "2022-03-04T05:26:47.483756",
     "status": "completed"
    },
    "tags": []
   },
   "outputs": [],
   "source": [
    "df_result.to_csv('ULMFiT_ACD_TaEn_CD.csv', index=False)"
   ]
  },
  {
   "cell_type": "code",
   "execution_count": 55,
   "id": "e2e533ea",
   "metadata": {
    "execution": {
     "iopub.execute_input": "2022-03-04T05:26:49.126813Z",
     "iopub.status.busy": "2022-03-04T05:26:49.125910Z",
     "iopub.status.idle": "2022-03-04T05:26:49.129004Z",
     "shell.execute_reply": "2022-03-04T05:26:49.129542Z"
    },
    "papermill": {
     "duration": 0.511734,
     "end_time": "2022-03-04T05:26:49.129697",
     "exception": false,
     "start_time": "2022-03-04T05:26:48.617963",
     "status": "completed"
    },
    "tags": []
   },
   "outputs": [
    {
     "data": {
      "text/html": [
       "<a href='ULMFiT_ACD_TaEn_CD.csv' target='_blank'>ULMFiT_ACD_TaEn_CD.csv</a><br>"
      ],
      "text/plain": [
       "/kaggle/working/ULMFiT_ACD_TaEn_CD.csv"
      ]
     },
     "execution_count": 55,
     "metadata": {},
     "output_type": "execute_result"
    }
   ],
   "source": [
    "import os\n",
    "os.chdir(r'../working')\n",
    "from IPython.display import FileLink\n",
    "FileLink(r'ULMFiT_ACD_TaEn_CD.csv')"
   ]
  }
 ],
 "metadata": {
  "kernelspec": {
   "display_name": "Python 3",
   "language": "python",
   "name": "python3"
  },
  "language_info": {
   "codemirror_mode": {
    "name": "ipython",
    "version": 3
   },
   "file_extension": ".py",
   "mimetype": "text/x-python",
   "name": "python",
   "nbconvert_exporter": "python",
   "pygments_lexer": "ipython3",
   "version": "3.8.7"
  },
  "papermill": {
   "default_parameters": {},
   "duration": 437.376449,
   "end_time": "2022-03-04T05:26:52.376654",
   "environment_variables": {},
   "exception": null,
   "input_path": "__notebook__.ipynb",
   "output_path": "__notebook__.ipynb",
   "parameters": {},
   "start_time": "2022-03-04T05:19:35.000205",
   "version": "2.3.3"
  }
 },
 "nbformat": 4,
 "nbformat_minor": 5
}
