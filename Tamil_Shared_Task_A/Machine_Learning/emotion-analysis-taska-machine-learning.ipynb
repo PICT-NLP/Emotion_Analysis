{
 "cells": [
  {
   "cell_type": "markdown",
   "id": "9b6afe55",
   "metadata": {
    "execution": {
     "iopub.execute_input": "2022-01-30T07:26:42.684138Z",
     "iopub.status.busy": "2022-01-30T07:26:42.683591Z",
     "iopub.status.idle": "2022-01-30T07:26:44.012599Z",
     "shell.execute_reply": "2022-01-30T07:26:44.011984Z",
     "shell.execute_reply.started": "2022-01-30T07:26:18.25528Z"
    },
    "papermill": {
     "duration": 0.069756,
     "end_time": "2022-03-08T05:55:27.889814",
     "exception": false,
     "start_time": "2022-03-08T05:55:27.820058",
     "status": "completed"
    },
    "tags": []
   },
   "source": [
    "# Importing Libraries"
   ]
  },
  {
   "cell_type": "code",
   "execution_count": 1,
   "id": "a1bfa058",
   "metadata": {
    "execution": {
     "iopub.execute_input": "2022-03-08T05:55:27.979587Z",
     "iopub.status.busy": "2022-03-08T05:55:27.978871Z",
     "iopub.status.idle": "2022-03-08T05:55:54.157004Z",
     "shell.execute_reply": "2022-03-08T05:55:54.156278Z"
    },
    "papermill": {
     "duration": 26.226672,
     "end_time": "2022-03-08T05:55:54.157142",
     "exception": false,
     "start_time": "2022-03-08T05:55:27.930470",
     "status": "completed"
    },
    "tags": []
   },
   "outputs": [
    {
     "name": "stdout",
     "output_type": "stream",
     "text": [
      "\u001b[33mWARNING: Running pip as the 'root' user can result in broken permissions and conflicting behaviour with the system package manager. It is recommended to use a virtual environment instead: https://pip.pypa.io/warnings/venv\u001b[0m\r\n",
      "\u001b[33mWARNING: Running pip as the 'root' user can result in broken permissions and conflicting behaviour with the system package manager. It is recommended to use a virtual environment instead: https://pip.pypa.io/warnings/venv\u001b[0m\r\n"
     ]
    }
   ],
   "source": [
    "!pip -q install simpletransformers\n",
    "!pip -q install xgboost"
   ]
  },
  {
   "cell_type": "code",
   "execution_count": 2,
   "id": "55586d88",
   "metadata": {
    "execution": {
     "iopub.execute_input": "2022-03-08T05:55:54.240646Z",
     "iopub.status.busy": "2022-03-08T05:55:54.239870Z",
     "iopub.status.idle": "2022-03-08T05:55:57.750011Z",
     "shell.execute_reply": "2022-03-08T05:55:57.749534Z"
    },
    "papermill": {
     "duration": 3.554499,
     "end_time": "2022-03-08T05:55:57.750141",
     "exception": false,
     "start_time": "2022-03-08T05:55:54.195642",
     "status": "completed"
    },
    "tags": []
   },
   "outputs": [],
   "source": [
    "import pandas as pd\n",
    "import torch\n",
    "from simpletransformers.language_representation import RepresentationModel\n",
    "from sklearn.linear_model import LogisticRegression\n",
    "from sklearn.utils.class_weight import compute_class_weight\n",
    "from sklearn.model_selection import GridSearchCV\n",
    "import numpy as np\n",
    "from sklearn.tree import DecisionTreeClassifier\n",
    "from sklearn.metrics import classification_report\n",
    "from sklearn.metrics import f1_score\n",
    "from sklearn.svm import SVC\n",
    "from sklearn.ensemble import RandomForestClassifier\n",
    "from xgboost import XGBClassifier\n",
    "from sklearn.neural_network import MLPClassifier"
   ]
  },
  {
   "cell_type": "markdown",
   "id": "3bff3f3a",
   "metadata": {
    "papermill": {
     "duration": 0.04949,
     "end_time": "2022-03-08T05:55:57.838499",
     "exception": false,
     "start_time": "2022-03-08T05:55:57.789009",
     "status": "completed"
    },
    "tags": []
   },
   "source": [
    "# Loading the datasets"
   ]
  },
  {
   "cell_type": "code",
   "execution_count": 3,
   "id": "262746a4",
   "metadata": {
    "execution": {
     "iopub.execute_input": "2022-03-08T05:55:57.921561Z",
     "iopub.status.busy": "2022-03-08T05:55:57.920971Z",
     "iopub.status.idle": "2022-03-08T05:55:58.280133Z",
     "shell.execute_reply": "2022-03-08T05:55:58.279682Z"
    },
    "papermill": {
     "duration": 0.403746,
     "end_time": "2022-03-08T05:55:58.280338",
     "exception": false,
     "start_time": "2022-03-08T05:55:57.876592",
     "status": "completed"
    },
    "tags": []
   },
   "outputs": [],
   "source": [
    "df = pd.read_csv('../input/emotion-analysis-in-tamil/Emotion_Analysis_Task_A_train.csv',sep='\\t',header=None)\n",
    "df_test = pd.read_csv('../input/emotion-analysis-in-tamil/Emotion_Analysis_Task_A_test.csv',sep='\\t',header=None)\n",
    "df_eval = pd.read_csv('../input/emotion-analysis-in-tamil/Emotion_Analysis_Task_A_dev.csv',sep='\\t',header=None)\n",
    "df_b = pd.read_csv('../input/emotion-analysis-in-tamil/Emotion_Analysis_Task_B_train.tsv',sep='\\t',header=None)"
   ]
  },
  {
   "cell_type": "code",
   "execution_count": null,
   "id": "b26392c3",
   "metadata": {
    "papermill": {
     "duration": 0.038209,
     "end_time": "2022-03-08T05:55:58.358537",
     "exception": false,
     "start_time": "2022-03-08T05:55:58.320328",
     "status": "completed"
    },
    "tags": []
   },
   "outputs": [],
   "source": []
  },
  {
   "cell_type": "code",
   "execution_count": 4,
   "id": "464f0e27",
   "metadata": {
    "execution": {
     "iopub.execute_input": "2022-03-08T05:55:58.449131Z",
     "iopub.status.busy": "2022-03-08T05:55:58.448629Z",
     "iopub.status.idle": "2022-03-08T05:55:58.451754Z",
     "shell.execute_reply": "2022-03-08T05:55:58.452145Z"
    },
    "papermill": {
     "duration": 0.055374,
     "end_time": "2022-03-08T05:55:58.452356",
     "exception": false,
     "start_time": "2022-03-08T05:55:58.396982",
     "status": "completed"
    },
    "tags": []
   },
   "outputs": [],
   "source": [
    "df.rename(columns={0:'Labels',1:'Text'},inplace=True)\n",
    "df_test.rename(columns={0:'Labels',1:'Text'},inplace=True)\n",
    "df_test = df_test[['Text','Labels']]\n",
    "df_eval.rename(columns={0:'Labels',1:'Text'},inplace=True)\n",
    "df_eval = df_eval[['Text','Labels']]"
   ]
  },
  {
   "cell_type": "code",
   "execution_count": 5,
   "id": "e12791e8",
   "metadata": {
    "execution": {
     "iopub.execute_input": "2022-03-08T05:55:58.536702Z",
     "iopub.status.busy": "2022-03-08T05:55:58.535973Z",
     "iopub.status.idle": "2022-03-08T05:55:58.557644Z",
     "shell.execute_reply": "2022-03-08T05:55:58.558038Z"
    },
    "papermill": {
     "duration": 0.06732,
     "end_time": "2022-03-08T05:55:58.558183",
     "exception": false,
     "start_time": "2022-03-08T05:55:58.490863",
     "status": "completed"
    },
    "tags": []
   },
   "outputs": [
    {
     "data": {
      "text/plain": [
       "11"
      ]
     },
     "execution_count": 5,
     "metadata": {},
     "output_type": "execute_result"
    }
   ],
   "source": [
    "num_labels = len(df['Labels'].unique())\n",
    "keys = list(df['Labels'].unique())\n",
    "values = list(range(0, num_labels))\n",
    "label_dict = dict(zip(keys,values))\n",
    "df['Labels'] = df['Labels'].apply(lambda x:label_dict[x])\n",
    "df_test['Labels'] = df_test['Labels'].apply(lambda x:label_dict[x])\n",
    "df_eval['Labels'] = df_eval['Labels'].apply(lambda x:label_dict[x])\n",
    "num_labels"
   ]
  },
  {
   "cell_type": "code",
   "execution_count": 6,
   "id": "76de5aa4",
   "metadata": {
    "execution": {
     "iopub.execute_input": "2022-03-08T05:55:58.641749Z",
     "iopub.status.busy": "2022-03-08T05:55:58.641193Z",
     "iopub.status.idle": "2022-03-08T05:55:58.646966Z",
     "shell.execute_reply": "2022-03-08T05:55:58.647401Z"
    },
    "papermill": {
     "duration": 0.051024,
     "end_time": "2022-03-08T05:55:58.647533",
     "exception": false,
     "start_time": "2022-03-08T05:55:58.596509",
     "status": "completed"
    },
    "tags": []
   },
   "outputs": [],
   "source": [
    "df_test = df_test.dropna()\n",
    "df_test = df_test.reset_index().drop(['index'],axis=1)"
   ]
  },
  {
   "cell_type": "markdown",
   "id": "5b959590",
   "metadata": {
    "papermill": {
     "duration": 0.039558,
     "end_time": "2022-03-08T05:55:58.725959",
     "exception": false,
     "start_time": "2022-03-08T05:55:58.686401",
     "status": "completed"
    },
    "tags": []
   },
   "source": [
    "# Getting Sentence Encodings with Context using Bert"
   ]
  },
  {
   "cell_type": "code",
   "execution_count": 7,
   "id": "ad902b40",
   "metadata": {
    "execution": {
     "iopub.execute_input": "2022-03-08T05:55:58.809317Z",
     "iopub.status.busy": "2022-03-08T05:55:58.808750Z",
     "iopub.status.idle": "2022-03-08T05:56:25.322745Z",
     "shell.execute_reply": "2022-03-08T05:56:25.322243Z"
    },
    "papermill": {
     "duration": 26.558465,
     "end_time": "2022-03-08T05:56:25.322880",
     "exception": false,
     "start_time": "2022-03-08T05:55:58.764415",
     "status": "completed"
    },
    "tags": []
   },
   "outputs": [
    {
     "data": {
      "application/vnd.jupyter.widget-view+json": {
       "model_id": "4b7a44dc4b9a45b5b8350b85969d0379",
       "version_major": 2,
       "version_minor": 0
      },
      "text/plain": [
       "Downloading:   0%|          | 0.00/625 [00:00<?, ?B/s]"
      ]
     },
     "metadata": {},
     "output_type": "display_data"
    },
    {
     "data": {
      "application/vnd.jupyter.widget-view+json": {
       "model_id": "96c4cce68b8a4b6f95c96f14d3d74299",
       "version_major": 2,
       "version_minor": 0
      },
      "text/plain": [
       "Downloading:   0%|          | 0.00/681M [00:00<?, ?B/s]"
      ]
     },
     "metadata": {},
     "output_type": "display_data"
    },
    {
     "name": "stderr",
     "output_type": "stream",
     "text": [
      "Some weights of the model checkpoint at bert-base-multilingual-cased were not used when initializing BertForTextRepresentation: ['cls.predictions.transform.LayerNorm.bias', 'cls.predictions.transform.dense.bias', 'cls.seq_relationship.weight', 'cls.predictions.bias', 'cls.seq_relationship.bias', 'cls.predictions.transform.LayerNorm.weight', 'cls.predictions.decoder.weight', 'cls.predictions.transform.dense.weight']\n",
      "- This IS expected if you are initializing BertForTextRepresentation from the checkpoint of a model trained on another task or with another architecture (e.g. initializing a BertForSequenceClassification model from a BertForPreTraining model).\n",
      "- This IS NOT expected if you are initializing BertForTextRepresentation from the checkpoint of a model that you expect to be exactly identical (initializing a BertForSequenceClassification model from a BertForSequenceClassification model).\n"
     ]
    },
    {
     "data": {
      "application/vnd.jupyter.widget-view+json": {
       "model_id": "2ea04bbed8924f608c6b562e83e4965d",
       "version_major": 2,
       "version_minor": 0
      },
      "text/plain": [
       "Downloading:   0%|          | 0.00/972k [00:00<?, ?B/s]"
      ]
     },
     "metadata": {},
     "output_type": "display_data"
    },
    {
     "data": {
      "application/vnd.jupyter.widget-view+json": {
       "model_id": "643336790ed247b39e41d6b41de2050a",
       "version_major": 2,
       "version_minor": 0
      },
      "text/plain": [
       "Downloading:   0%|          | 0.00/29.0 [00:00<?, ?B/s]"
      ]
     },
     "metadata": {},
     "output_type": "display_data"
    },
    {
     "data": {
      "application/vnd.jupyter.widget-view+json": {
       "model_id": "79d251fd5e0549748726afb593f7fc2d",
       "version_major": 2,
       "version_minor": 0
      },
      "text/plain": [
       "Downloading:   0%|          | 0.00/1.87M [00:00<?, ?B/s]"
      ]
     },
     "metadata": {},
     "output_type": "display_data"
    }
   ],
   "source": [
    "model = RepresentationModel(\n",
    "        model_type=\"bert\",\n",
    "        model_name=\"bert-base-multilingual-cased\",\n",
    "        use_cuda=True\n",
    "    )"
   ]
  },
  {
   "cell_type": "code",
   "execution_count": 8,
   "id": "6d118b5c",
   "metadata": {
    "execution": {
     "iopub.execute_input": "2022-03-08T05:56:25.417893Z",
     "iopub.status.busy": "2022-03-08T05:56:25.417305Z",
     "iopub.status.idle": "2022-03-08T05:57:27.004271Z",
     "shell.execute_reply": "2022-03-08T05:57:27.003281Z"
    },
    "papermill": {
     "duration": 61.638097,
     "end_time": "2022-03-08T05:57:27.004435",
     "exception": false,
     "start_time": "2022-03-08T05:56:25.366338",
     "status": "completed"
    },
    "tags": []
   },
   "outputs": [],
   "source": [
    "train_sentence_vectors = model.encode_sentences(df['Text'].to_list(), combine_strategy=\"mean\")"
   ]
  },
  {
   "cell_type": "code",
   "execution_count": 9,
   "id": "32454bf1",
   "metadata": {
    "execution": {
     "iopub.execute_input": "2022-03-08T05:57:27.095364Z",
     "iopub.status.busy": "2022-03-08T05:57:27.093053Z",
     "iopub.status.idle": "2022-03-08T05:57:41.775415Z",
     "shell.execute_reply": "2022-03-08T05:57:41.774902Z"
    },
    "papermill": {
     "duration": 14.72891,
     "end_time": "2022-03-08T05:57:41.775554",
     "exception": false,
     "start_time": "2022-03-08T05:57:27.046644",
     "status": "completed"
    },
    "tags": []
   },
   "outputs": [],
   "source": [
    "eval_sentences = df_eval['Text'].to_list()\n",
    "eval_sentence_vectors = model.encode_sentences(eval_sentences, combine_strategy=\"mean\")"
   ]
  },
  {
   "cell_type": "code",
   "execution_count": 10,
   "id": "0bf255a3",
   "metadata": {
    "execution": {
     "iopub.execute_input": "2022-03-08T05:57:41.912670Z",
     "iopub.status.busy": "2022-03-08T05:57:41.911823Z",
     "iopub.status.idle": "2022-03-08T05:58:00.174496Z",
     "shell.execute_reply": "2022-03-08T05:58:00.173616Z"
    },
    "papermill": {
     "duration": 18.354464,
     "end_time": "2022-03-08T05:58:00.174640",
     "exception": false,
     "start_time": "2022-03-08T05:57:41.820176",
     "status": "completed"
    },
    "tags": []
   },
   "outputs": [],
   "source": [
    "test_sentences = df_test['Text'].to_list()\n",
    "test_sentence_vectors = model.encode_sentences(test_sentences, combine_strategy=\"mean\")"
   ]
  },
  {
   "cell_type": "code",
   "execution_count": 11,
   "id": "b7601f40",
   "metadata": {
    "execution": {
     "iopub.execute_input": "2022-03-08T05:58:00.265009Z",
     "iopub.status.busy": "2022-03-08T05:58:00.264341Z",
     "iopub.status.idle": "2022-03-08T05:58:00.266996Z",
     "shell.execute_reply": "2022-03-08T05:58:00.267427Z"
    },
    "papermill": {
     "duration": 0.049459,
     "end_time": "2022-03-08T05:58:00.267568",
     "exception": false,
     "start_time": "2022-03-08T05:58:00.218109",
     "status": "completed"
    },
    "tags": []
   },
   "outputs": [
    {
     "data": {
      "text/plain": [
       "(14208, 768)"
      ]
     },
     "execution_count": 11,
     "metadata": {},
     "output_type": "execute_result"
    }
   ],
   "source": [
    "train_sentence_vectors.shape"
   ]
  },
  {
   "cell_type": "markdown",
   "id": "16a46dcd",
   "metadata": {
    "papermill": {
     "duration": 0.042084,
     "end_time": "2022-03-08T05:58:00.352461",
     "exception": false,
     "start_time": "2022-03-08T05:58:00.310377",
     "status": "completed"
    },
    "tags": []
   },
   "source": [
    "# Model Training"
   ]
  },
  {
   "cell_type": "markdown",
   "id": "e7f29fb4",
   "metadata": {
    "execution": {
     "iopub.execute_input": "2022-01-29T07:39:37.230723Z",
     "iopub.status.busy": "2022-01-29T07:39:37.229738Z",
     "iopub.status.idle": "2022-01-29T07:39:37.236298Z",
     "shell.execute_reply": "2022-01-29T07:39:37.235567Z",
     "shell.execute_reply.started": "2022-01-29T07:39:37.230671Z"
    },
    "papermill": {
     "duration": 0.042243,
     "end_time": "2022-03-08T05:58:00.437648",
     "exception": false,
     "start_time": "2022-03-08T05:58:00.395405",
     "status": "completed"
    },
    "tags": []
   },
   "source": [
    "## Logistic Regression"
   ]
  },
  {
   "cell_type": "code",
   "execution_count": 12,
   "id": "61f7553a",
   "metadata": {
    "execution": {
     "iopub.execute_input": "2022-03-08T05:58:00.526870Z",
     "iopub.status.busy": "2022-03-08T05:58:00.526040Z",
     "iopub.status.idle": "2022-03-08T05:58:00.528413Z",
     "shell.execute_reply": "2022-03-08T05:58:00.527983Z"
    },
    "papermill": {
     "duration": 0.048737,
     "end_time": "2022-03-08T05:58:00.528535",
     "exception": false,
     "start_time": "2022-03-08T05:58:00.479798",
     "status": "completed"
    },
    "tags": []
   },
   "outputs": [],
   "source": [
    "import warnings\n",
    "warnings.simplefilter(action='ignore', category=FutureWarning)"
   ]
  },
  {
   "cell_type": "markdown",
   "id": "54b5862e",
   "metadata": {
    "papermill": {
     "duration": 0.042253,
     "end_time": "2022-03-08T05:58:00.613190",
     "exception": false,
     "start_time": "2022-03-08T05:58:00.570937",
     "status": "completed"
    },
    "tags": []
   },
   "source": [
    "#### Grid Search CV"
   ]
  },
  {
   "cell_type": "code",
   "execution_count": 13,
   "id": "5fe8e89d",
   "metadata": {
    "execution": {
     "iopub.execute_input": "2022-03-08T05:58:00.705058Z",
     "iopub.status.busy": "2022-03-08T05:58:00.704097Z",
     "iopub.status.idle": "2022-03-08T05:58:00.707643Z",
     "shell.execute_reply": "2022-03-08T05:58:00.708008Z"
    },
    "papermill": {
     "duration": 0.052112,
     "end_time": "2022-03-08T05:58:00.708141",
     "exception": false,
     "start_time": "2022-03-08T05:58:00.656029",
     "status": "completed"
    },
    "tags": []
   },
   "outputs": [],
   "source": [
    "combined_df = pd.concat([df,df_eval],ignore_index=True)"
   ]
  },
  {
   "cell_type": "code",
   "execution_count": 14,
   "id": "32530b61",
   "metadata": {
    "execution": {
     "iopub.execute_input": "2022-03-08T05:58:00.799581Z",
     "iopub.status.busy": "2022-03-08T05:58:00.798425Z",
     "iopub.status.idle": "2022-03-08T05:58:00.820209Z",
     "shell.execute_reply": "2022-03-08T05:58:00.819781Z"
    },
    "papermill": {
     "duration": 0.069587,
     "end_time": "2022-03-08T05:58:00.820331",
     "exception": false,
     "start_time": "2022-03-08T05:58:00.750744",
     "status": "completed"
    },
    "tags": []
   },
   "outputs": [
    {
     "data": {
      "text/plain": [
       "(17760, 768)"
      ]
     },
     "execution_count": 14,
     "metadata": {},
     "output_type": "execute_result"
    }
   ],
   "source": [
    "combined_encodings = np.concatenate((train_sentence_vectors, eval_sentence_vectors))\n",
    "combined_encodings.shape"
   ]
  },
  {
   "cell_type": "code",
   "execution_count": 15,
   "id": "6b09f23b",
   "metadata": {
    "execution": {
     "iopub.execute_input": "2022-03-08T05:58:00.911319Z",
     "iopub.status.busy": "2022-03-08T05:58:00.910639Z",
     "iopub.status.idle": "2022-03-08T05:58:00.913334Z",
     "shell.execute_reply": "2022-03-08T05:58:00.912879Z"
    },
    "papermill": {
     "duration": 0.049121,
     "end_time": "2022-03-08T05:58:00.913453",
     "exception": false,
     "start_time": "2022-03-08T05:58:00.864332",
     "status": "completed"
    },
    "tags": []
   },
   "outputs": [],
   "source": [
    "# warnings.filterwarnings('ignore')\n",
    "# parameters = {\n",
    "#     'penalty' : ['l1','l2'], \n",
    "#     'C'       : np.logspace(-3,3,7),\n",
    "#     'solver'  : ['newton-cg', 'lbfgs', 'liblinear']\n",
    "# }\n",
    "\n",
    "# logreg = LogisticRegression()\n",
    "# clf = GridSearchCV(logreg,                    \n",
    "#                    param_grid = parameters,   \n",
    "#                    scoring='f1_macro',        \n",
    "#                    cv=10)\n",
    "# clf.fit(combined_encodings,combined_df['Labels'].to_list())\n",
    "# print(\"Tuned Hyperparameters :\", clf.best_params_)\n",
    "# print(\"Weighted f1_score :\",clf.best_score_)"
   ]
  },
  {
   "cell_type": "markdown",
   "id": "b07bf6a5",
   "metadata": {
    "papermill": {
     "duration": 0.042969,
     "end_time": "2022-03-08T05:58:01.000176",
     "exception": false,
     "start_time": "2022-03-08T05:58:00.957207",
     "status": "completed"
    },
    "tags": []
   },
   "source": [
    "#### Model Training"
   ]
  },
  {
   "cell_type": "code",
   "execution_count": 16,
   "id": "c501e9d7",
   "metadata": {
    "execution": {
     "iopub.execute_input": "2022-03-08T05:58:01.095080Z",
     "iopub.status.busy": "2022-03-08T05:58:01.094285Z",
     "iopub.status.idle": "2022-03-08T05:58:01.097890Z",
     "shell.execute_reply": "2022-03-08T05:58:01.097492Z"
    },
    "papermill": {
     "duration": 0.053978,
     "end_time": "2022-03-08T05:58:01.098009",
     "exception": false,
     "start_time": "2022-03-08T05:58:01.044031",
     "status": "completed"
    },
    "tags": []
   },
   "outputs": [],
   "source": [
    "class_weights = compute_class_weight(\n",
    "                                        class_weight = \"balanced\",\n",
    "                                        classes = list(df['Labels'].unique()),\n",
    "                                        y = df['Labels'].to_list()                                                    \n",
    "                                    )"
   ]
  },
  {
   "cell_type": "code",
   "execution_count": 17,
   "id": "6437b57f",
   "metadata": {
    "execution": {
     "iopub.execute_input": "2022-03-08T05:58:01.189497Z",
     "iopub.status.busy": "2022-03-08T05:58:01.188579Z",
     "iopub.status.idle": "2022-03-08T05:58:01.191354Z",
     "shell.execute_reply": "2022-03-08T05:58:01.190886Z"
    },
    "papermill": {
     "duration": 0.050186,
     "end_time": "2022-03-08T05:58:01.191466",
     "exception": false,
     "start_time": "2022-03-08T05:58:01.141280",
     "status": "completed"
    },
    "tags": []
   },
   "outputs": [],
   "source": [
    "keys = range(11)\n",
    "values = class_weights\n",
    "weights = dict(zip(keys,values))"
   ]
  },
  {
   "cell_type": "code",
   "execution_count": 18,
   "id": "1076cde4",
   "metadata": {
    "execution": {
     "iopub.execute_input": "2022-03-08T05:58:01.289470Z",
     "iopub.status.busy": "2022-03-08T05:58:01.288594Z",
     "iopub.status.idle": "2022-03-08T05:58:19.826790Z",
     "shell.execute_reply": "2022-03-08T05:58:19.827268Z"
    },
    "papermill": {
     "duration": 18.588911,
     "end_time": "2022-03-08T05:58:19.827429",
     "exception": false,
     "start_time": "2022-03-08T05:58:01.238518",
     "status": "completed"
    },
    "tags": []
   },
   "outputs": [
    {
     "data": {
      "text/plain": [
       "LogisticRegression(C=0.005,\n",
       "                   class_weight={0: 0.26681189085650975, 1: 1.5487246566383257,\n",
       "                                 2: 0.6052654000170401, 3: 1.4193806193806193,\n",
       "                                 4: 1.0300130491518051, 5: 1.5599472990777339,\n",
       "                                 6: 0.7647343775230099, 7: 1.9135353535353536,\n",
       "                                 8: 5.2082111436950145, 9: 1.858469587965991,\n",
       "                                 10: 12.916363636363636},\n",
       "                   multi_class='ovr', solver='liblinear')"
      ]
     },
     "execution_count": 18,
     "metadata": {},
     "output_type": "execute_result"
    }
   ],
   "source": [
    "lm = LogisticRegression(C=0.005,multi_class='ovr', solver='liblinear',class_weight=weights)\n",
    "lm.fit(train_sentence_vectors, df['Labels'].to_list())"
   ]
  },
  {
   "cell_type": "code",
   "execution_count": 19,
   "id": "f7356ab4",
   "metadata": {
    "execution": {
     "iopub.execute_input": "2022-03-08T05:58:19.926266Z",
     "iopub.status.busy": "2022-03-08T05:58:19.925250Z",
     "iopub.status.idle": "2022-03-08T05:58:19.952655Z",
     "shell.execute_reply": "2022-03-08T05:58:19.953441Z"
    },
    "papermill": {
     "duration": 0.080983,
     "end_time": "2022-03-08T05:58:19.953602",
     "exception": false,
     "start_time": "2022-03-08T05:58:19.872619",
     "status": "completed"
    },
    "tags": []
   },
   "outputs": [],
   "source": [
    "log_test_preds = lm.predict(test_sentence_vectors)"
   ]
  },
  {
   "cell_type": "code",
   "execution_count": 20,
   "id": "15da10d2",
   "metadata": {
    "execution": {
     "iopub.execute_input": "2022-03-08T05:58:20.109103Z",
     "iopub.status.busy": "2022-03-08T05:58:20.108083Z",
     "iopub.status.idle": "2022-03-08T05:58:20.122400Z",
     "shell.execute_reply": "2022-03-08T05:58:20.121959Z"
    },
    "papermill": {
     "duration": 0.086679,
     "end_time": "2022-03-08T05:58:20.122523",
     "exception": false,
     "start_time": "2022-03-08T05:58:20.035844",
     "status": "completed"
    },
    "tags": []
   },
   "outputs": [],
   "source": [
    "report_log = classification_report(df_test['Labels'].to_list(),log_test_preds,output_dict=True)"
   ]
  },
  {
   "cell_type": "code",
   "execution_count": 21,
   "id": "9065a57a",
   "metadata": {
    "execution": {
     "iopub.execute_input": "2022-03-08T05:58:20.219651Z",
     "iopub.status.busy": "2022-03-08T05:58:20.218917Z",
     "iopub.status.idle": "2022-03-08T05:58:20.231142Z",
     "shell.execute_reply": "2022-03-08T05:58:20.231554Z"
    },
    "papermill": {
     "duration": 0.0643,
     "end_time": "2022-03-08T05:58:20.231700",
     "exception": false,
     "start_time": "2022-03-08T05:58:20.167400",
     "status": "completed"
    },
    "tags": []
   },
   "outputs": [
    {
     "data": {
      "text/html": [
       "<div>\n",
       "<style scoped>\n",
       "    .dataframe tbody tr th:only-of-type {\n",
       "        vertical-align: middle;\n",
       "    }\n",
       "\n",
       "    .dataframe tbody tr th {\n",
       "        vertical-align: top;\n",
       "    }\n",
       "\n",
       "    .dataframe thead th {\n",
       "        text-align: right;\n",
       "    }\n",
       "</style>\n",
       "<table border=\"1\" class=\"dataframe\">\n",
       "  <thead>\n",
       "    <tr style=\"text-align: right;\">\n",
       "      <th></th>\n",
       "      <th>precision</th>\n",
       "      <th>recall</th>\n",
       "      <th>f1-score</th>\n",
       "      <th>support</th>\n",
       "    </tr>\n",
       "  </thead>\n",
       "  <tbody>\n",
       "    <tr>\n",
       "      <th>0</th>\n",
       "      <td>0.480119</td>\n",
       "      <td>0.314044</td>\n",
       "      <td>0.379717</td>\n",
       "      <td>1538.000000</td>\n",
       "    </tr>\n",
       "    <tr>\n",
       "      <th>1</th>\n",
       "      <td>0.159383</td>\n",
       "      <td>0.254098</td>\n",
       "      <td>0.195893</td>\n",
       "      <td>244.000000</td>\n",
       "    </tr>\n",
       "    <tr>\n",
       "      <th>2</th>\n",
       "      <td>0.457421</td>\n",
       "      <td>0.535613</td>\n",
       "      <td>0.493438</td>\n",
       "      <td>702.000000</td>\n",
       "    </tr>\n",
       "    <tr>\n",
       "      <th>3</th>\n",
       "      <td>0.158879</td>\n",
       "      <td>0.122744</td>\n",
       "      <td>0.138493</td>\n",
       "      <td>277.000000</td>\n",
       "    </tr>\n",
       "    <tr>\n",
       "      <th>4</th>\n",
       "      <td>0.231293</td>\n",
       "      <td>0.180371</td>\n",
       "      <td>0.202683</td>\n",
       "      <td>377.000000</td>\n",
       "    </tr>\n",
       "    <tr>\n",
       "      <th>5</th>\n",
       "      <td>0.191617</td>\n",
       "      <td>0.354244</td>\n",
       "      <td>0.248705</td>\n",
       "      <td>271.000000</td>\n",
       "    </tr>\n",
       "    <tr>\n",
       "      <th>6</th>\n",
       "      <td>0.411290</td>\n",
       "      <td>0.408000</td>\n",
       "      <td>0.409639</td>\n",
       "      <td>500.000000</td>\n",
       "    </tr>\n",
       "    <tr>\n",
       "      <th>7</th>\n",
       "      <td>0.137931</td>\n",
       "      <td>0.142857</td>\n",
       "      <td>0.140351</td>\n",
       "      <td>196.000000</td>\n",
       "    </tr>\n",
       "    <tr>\n",
       "      <th>8</th>\n",
       "      <td>0.058824</td>\n",
       "      <td>0.114754</td>\n",
       "      <td>0.077778</td>\n",
       "      <td>61.000000</td>\n",
       "    </tr>\n",
       "    <tr>\n",
       "      <th>9</th>\n",
       "      <td>0.155556</td>\n",
       "      <td>0.145228</td>\n",
       "      <td>0.150215</td>\n",
       "      <td>241.000000</td>\n",
       "    </tr>\n",
       "    <tr>\n",
       "      <th>10</th>\n",
       "      <td>0.029240</td>\n",
       "      <td>0.151515</td>\n",
       "      <td>0.049020</td>\n",
       "      <td>33.000000</td>\n",
       "    </tr>\n",
       "    <tr>\n",
       "      <th>accuracy</th>\n",
       "      <td>0.314865</td>\n",
       "      <td>0.314865</td>\n",
       "      <td>0.314865</td>\n",
       "      <td>0.314865</td>\n",
       "    </tr>\n",
       "    <tr>\n",
       "      <th>macro avg</th>\n",
       "      <td>0.224686</td>\n",
       "      <td>0.247588</td>\n",
       "      <td>0.225994</td>\n",
       "      <td>4440.000000</td>\n",
       "    </tr>\n",
       "    <tr>\n",
       "      <th>weighted avg</th>\n",
       "      <td>0.350513</td>\n",
       "      <td>0.314865</td>\n",
       "      <td>0.323257</td>\n",
       "      <td>4440.000000</td>\n",
       "    </tr>\n",
       "  </tbody>\n",
       "</table>\n",
       "</div>"
      ],
      "text/plain": [
       "              precision    recall  f1-score      support\n",
       "0              0.480119  0.314044  0.379717  1538.000000\n",
       "1              0.159383  0.254098  0.195893   244.000000\n",
       "2              0.457421  0.535613  0.493438   702.000000\n",
       "3              0.158879  0.122744  0.138493   277.000000\n",
       "4              0.231293  0.180371  0.202683   377.000000\n",
       "5              0.191617  0.354244  0.248705   271.000000\n",
       "6              0.411290  0.408000  0.409639   500.000000\n",
       "7              0.137931  0.142857  0.140351   196.000000\n",
       "8              0.058824  0.114754  0.077778    61.000000\n",
       "9              0.155556  0.145228  0.150215   241.000000\n",
       "10             0.029240  0.151515  0.049020    33.000000\n",
       "accuracy       0.314865  0.314865  0.314865     0.314865\n",
       "macro avg      0.224686  0.247588  0.225994  4440.000000\n",
       "weighted avg   0.350513  0.314865  0.323257  4440.000000"
      ]
     },
     "execution_count": 21,
     "metadata": {},
     "output_type": "execute_result"
    }
   ],
   "source": [
    "df_log = pd.DataFrame(report_log).transpose()\n",
    "df_log"
   ]
  },
  {
   "cell_type": "markdown",
   "id": "ae75211d",
   "metadata": {
    "papermill": {
     "duration": 0.045778,
     "end_time": "2022-03-08T05:58:20.322737",
     "exception": false,
     "start_time": "2022-03-08T05:58:20.276959",
     "status": "completed"
    },
    "tags": []
   },
   "source": [
    "## Decision Trees"
   ]
  },
  {
   "cell_type": "markdown",
   "id": "c0561794",
   "metadata": {
    "papermill": {
     "duration": 0.046516,
     "end_time": "2022-03-08T05:58:20.414593",
     "exception": false,
     "start_time": "2022-03-08T05:58:20.368077",
     "status": "completed"
    },
    "tags": []
   },
   "source": [
    "#### Grid Search CV"
   ]
  },
  {
   "cell_type": "code",
   "execution_count": 22,
   "id": "73fc0c05",
   "metadata": {
    "execution": {
     "iopub.execute_input": "2022-03-08T05:58:20.514303Z",
     "iopub.status.busy": "2022-03-08T05:58:20.513346Z",
     "iopub.status.idle": "2022-03-08T05:58:20.515380Z",
     "shell.execute_reply": "2022-03-08T05:58:20.515804Z"
    },
    "papermill": {
     "duration": 0.054616,
     "end_time": "2022-03-08T05:58:20.515941",
     "exception": false,
     "start_time": "2022-03-08T05:58:20.461325",
     "status": "completed"
    },
    "tags": []
   },
   "outputs": [],
   "source": [
    "# warnings.filterwarnings('ignore')\n",
    "# params = {'max_leaf_nodes': list(range(2, 100)), 'min_samples_split': [2, 3, 4]}\n",
    "# grid_search_cv = GridSearchCV(DecisionTreeClassifier(random_state=42), params, scoring='f1_macro',verbose=1, cv=5)\n",
    "# grid_search_cv.fit(combined_encodings,combined_df['Labels'].to_list())\n",
    "# print(\"Tuned Hyperparameters :\", grid_search_cv.best_params_)\n",
    "# print(\"Weighted f1_score :\",grid_search_cv.best_score_)"
   ]
  },
  {
   "cell_type": "markdown",
   "id": "2da16080",
   "metadata": {
    "papermill": {
     "duration": 0.048874,
     "end_time": "2022-03-08T05:58:20.613664",
     "exception": false,
     "start_time": "2022-03-08T05:58:20.564790",
     "status": "completed"
    },
    "tags": []
   },
   "source": [
    "#### Model Training"
   ]
  },
  {
   "cell_type": "code",
   "execution_count": 23,
   "id": "5fa440c5",
   "metadata": {
    "execution": {
     "iopub.execute_input": "2022-03-08T05:58:20.710802Z",
     "iopub.status.busy": "2022-03-08T05:58:20.709944Z",
     "iopub.status.idle": "2022-03-08T05:58:39.359822Z",
     "shell.execute_reply": "2022-03-08T05:58:39.359335Z"
    },
    "papermill": {
     "duration": 18.700325,
     "end_time": "2022-03-08T05:58:39.359952",
     "exception": false,
     "start_time": "2022-03-08T05:58:20.659627",
     "status": "completed"
    },
    "tags": []
   },
   "outputs": [],
   "source": [
    "dtree_model = DecisionTreeClassifier().fit(train_sentence_vectors, df['Labels'].to_list())"
   ]
  },
  {
   "cell_type": "code",
   "execution_count": 24,
   "id": "91fda9a9",
   "metadata": {
    "execution": {
     "iopub.execute_input": "2022-03-08T05:58:39.457026Z",
     "iopub.status.busy": "2022-03-08T05:58:39.456212Z",
     "iopub.status.idle": "2022-03-08T05:58:39.483751Z",
     "shell.execute_reply": "2022-03-08T05:58:39.484167Z"
    },
    "papermill": {
     "duration": 0.07878,
     "end_time": "2022-03-08T05:58:39.484318",
     "exception": false,
     "start_time": "2022-03-08T05:58:39.405538",
     "status": "completed"
    },
    "tags": []
   },
   "outputs": [
    {
     "data": {
      "text/html": [
       "<div>\n",
       "<style scoped>\n",
       "    .dataframe tbody tr th:only-of-type {\n",
       "        vertical-align: middle;\n",
       "    }\n",
       "\n",
       "    .dataframe tbody tr th {\n",
       "        vertical-align: top;\n",
       "    }\n",
       "\n",
       "    .dataframe thead th {\n",
       "        text-align: right;\n",
       "    }\n",
       "</style>\n",
       "<table border=\"1\" class=\"dataframe\">\n",
       "  <thead>\n",
       "    <tr style=\"text-align: right;\">\n",
       "      <th></th>\n",
       "      <th>precision</th>\n",
       "      <th>recall</th>\n",
       "      <th>f1-score</th>\n",
       "      <th>support</th>\n",
       "    </tr>\n",
       "  </thead>\n",
       "  <tbody>\n",
       "    <tr>\n",
       "      <th>0</th>\n",
       "      <td>0.362379</td>\n",
       "      <td>0.340702</td>\n",
       "      <td>0.351206</td>\n",
       "      <td>1538.000000</td>\n",
       "    </tr>\n",
       "    <tr>\n",
       "      <th>1</th>\n",
       "      <td>0.062500</td>\n",
       "      <td>0.065574</td>\n",
       "      <td>0.064000</td>\n",
       "      <td>244.000000</td>\n",
       "    </tr>\n",
       "    <tr>\n",
       "      <th>2</th>\n",
       "      <td>0.281831</td>\n",
       "      <td>0.280627</td>\n",
       "      <td>0.281228</td>\n",
       "      <td>702.000000</td>\n",
       "    </tr>\n",
       "    <tr>\n",
       "      <th>3</th>\n",
       "      <td>0.070707</td>\n",
       "      <td>0.075812</td>\n",
       "      <td>0.073171</td>\n",
       "      <td>277.000000</td>\n",
       "    </tr>\n",
       "    <tr>\n",
       "      <th>4</th>\n",
       "      <td>0.091644</td>\n",
       "      <td>0.090186</td>\n",
       "      <td>0.090909</td>\n",
       "      <td>377.000000</td>\n",
       "    </tr>\n",
       "    <tr>\n",
       "      <th>5</th>\n",
       "      <td>0.077441</td>\n",
       "      <td>0.084871</td>\n",
       "      <td>0.080986</td>\n",
       "      <td>271.000000</td>\n",
       "    </tr>\n",
       "    <tr>\n",
       "      <th>6</th>\n",
       "      <td>0.183824</td>\n",
       "      <td>0.200000</td>\n",
       "      <td>0.191571</td>\n",
       "      <td>500.000000</td>\n",
       "    </tr>\n",
       "    <tr>\n",
       "      <th>7</th>\n",
       "      <td>0.070652</td>\n",
       "      <td>0.066327</td>\n",
       "      <td>0.068421</td>\n",
       "      <td>196.000000</td>\n",
       "    </tr>\n",
       "    <tr>\n",
       "      <th>8</th>\n",
       "      <td>0.023256</td>\n",
       "      <td>0.032787</td>\n",
       "      <td>0.027211</td>\n",
       "      <td>61.000000</td>\n",
       "    </tr>\n",
       "    <tr>\n",
       "      <th>9</th>\n",
       "      <td>0.047210</td>\n",
       "      <td>0.045643</td>\n",
       "      <td>0.046414</td>\n",
       "      <td>241.000000</td>\n",
       "    </tr>\n",
       "    <tr>\n",
       "      <th>10</th>\n",
       "      <td>0.037037</td>\n",
       "      <td>0.030303</td>\n",
       "      <td>0.033333</td>\n",
       "      <td>33.000000</td>\n",
       "    </tr>\n",
       "    <tr>\n",
       "      <th>accuracy</th>\n",
       "      <td>0.212162</td>\n",
       "      <td>0.212162</td>\n",
       "      <td>0.212162</td>\n",
       "      <td>0.212162</td>\n",
       "    </tr>\n",
       "    <tr>\n",
       "      <th>macro avg</th>\n",
       "      <td>0.118953</td>\n",
       "      <td>0.119348</td>\n",
       "      <td>0.118950</td>\n",
       "      <td>4440.000000</td>\n",
       "    </tr>\n",
       "    <tr>\n",
       "      <th>weighted avg</th>\n",
       "      <td>0.217418</td>\n",
       "      <td>0.212162</td>\n",
       "      <td>0.214600</td>\n",
       "      <td>4440.000000</td>\n",
       "    </tr>\n",
       "  </tbody>\n",
       "</table>\n",
       "</div>"
      ],
      "text/plain": [
       "              precision    recall  f1-score      support\n",
       "0              0.362379  0.340702  0.351206  1538.000000\n",
       "1              0.062500  0.065574  0.064000   244.000000\n",
       "2              0.281831  0.280627  0.281228   702.000000\n",
       "3              0.070707  0.075812  0.073171   277.000000\n",
       "4              0.091644  0.090186  0.090909   377.000000\n",
       "5              0.077441  0.084871  0.080986   271.000000\n",
       "6              0.183824  0.200000  0.191571   500.000000\n",
       "7              0.070652  0.066327  0.068421   196.000000\n",
       "8              0.023256  0.032787  0.027211    61.000000\n",
       "9              0.047210  0.045643  0.046414   241.000000\n",
       "10             0.037037  0.030303  0.033333    33.000000\n",
       "accuracy       0.212162  0.212162  0.212162     0.212162\n",
       "macro avg      0.118953  0.119348  0.118950  4440.000000\n",
       "weighted avg   0.217418  0.212162  0.214600  4440.000000"
      ]
     },
     "execution_count": 24,
     "metadata": {},
     "output_type": "execute_result"
    }
   ],
   "source": [
    "tree_preds = dtree_model.predict(test_sentence_vectors)\n",
    "report = classification_report(df_test['Labels'].to_list(),tree_preds,output_dict=True)\n",
    "final_report = pd.DataFrame(report).transpose()\n",
    "final_report"
   ]
  },
  {
   "cell_type": "markdown",
   "id": "f962c912",
   "metadata": {
    "papermill": {
     "duration": 0.045944,
     "end_time": "2022-03-08T05:58:39.576342",
     "exception": false,
     "start_time": "2022-03-08T05:58:39.530398",
     "status": "completed"
    },
    "tags": []
   },
   "source": [
    "## SVC"
   ]
  },
  {
   "cell_type": "markdown",
   "id": "b7eab55c",
   "metadata": {
    "papermill": {
     "duration": 0.046025,
     "end_time": "2022-03-08T05:58:39.668612",
     "exception": false,
     "start_time": "2022-03-08T05:58:39.622587",
     "status": "completed"
    },
    "tags": []
   },
   "source": [
    "#### Grid Search CV"
   ]
  },
  {
   "cell_type": "code",
   "execution_count": 25,
   "id": "73c00194",
   "metadata": {
    "execution": {
     "iopub.execute_input": "2022-03-08T05:58:39.766049Z",
     "iopub.status.busy": "2022-03-08T05:58:39.765226Z",
     "iopub.status.idle": "2022-03-08T05:58:39.766916Z",
     "shell.execute_reply": "2022-03-08T05:58:39.767386Z"
    },
    "papermill": {
     "duration": 0.052281,
     "end_time": "2022-03-08T05:58:39.767520",
     "exception": false,
     "start_time": "2022-03-08T05:58:39.715239",
     "status": "completed"
    },
    "tags": []
   },
   "outputs": [],
   "source": [
    "# param_grid = {'C': [0.1, 1, 10, 100, 1000],\n",
    "#               'gamma': [1, 0.1, 0.01, 0.001, 0.0001],\n",
    "#               'kernel': ['rbf','linear','poly','sigmoid']}\n",
    "# grid = GridSearchCV(SVC(), param_grid, scoring='f1_macro',cv=5)\n",
    "# grid.fit(combined_encodings,combined_df['Labels'].to_list())\n",
    "# print(\"Tuned Hyperparameters :\", grid.best_params_)\n",
    "# print(\"Weighted f1_score :\",grid.best_score_)"
   ]
  },
  {
   "cell_type": "markdown",
   "id": "476961c8",
   "metadata": {
    "papermill": {
     "duration": 0.045649,
     "end_time": "2022-03-08T05:58:39.858956",
     "exception": false,
     "start_time": "2022-03-08T05:58:39.813307",
     "status": "completed"
    },
    "tags": []
   },
   "source": [
    "#### Model Training"
   ]
  },
  {
   "cell_type": "code",
   "execution_count": 26,
   "id": "5e1cded7",
   "metadata": {
    "execution": {
     "iopub.execute_input": "2022-03-08T05:58:39.957332Z",
     "iopub.status.busy": "2022-03-08T05:58:39.956276Z",
     "iopub.status.idle": "2022-03-08T06:01:22.277857Z",
     "shell.execute_reply": "2022-03-08T06:01:22.278545Z"
    },
    "papermill": {
     "duration": 162.373357,
     "end_time": "2022-03-08T06:01:22.278777",
     "exception": false,
     "start_time": "2022-03-08T05:58:39.905420",
     "status": "completed"
    },
    "tags": []
   },
   "outputs": [],
   "source": [
    "svm = SVC(kernel='linear').fit(train_sentence_vectors,df['Labels'].to_list())"
   ]
  },
  {
   "cell_type": "code",
   "execution_count": 27,
   "id": "d8aff2cb",
   "metadata": {
    "execution": {
     "iopub.execute_input": "2022-03-08T06:01:22.447065Z",
     "iopub.status.busy": "2022-03-08T06:01:22.446272Z",
     "iopub.status.idle": "2022-03-08T06:01:53.209550Z",
     "shell.execute_reply": "2022-03-08T06:01:53.208911Z"
    },
    "papermill": {
     "duration": 30.853748,
     "end_time": "2022-03-08T06:01:53.209704",
     "exception": false,
     "start_time": "2022-03-08T06:01:22.355956",
     "status": "completed"
    },
    "tags": []
   },
   "outputs": [
    {
     "name": "stderr",
     "output_type": "stream",
     "text": [
      "/opt/conda/lib/python3.7/site-packages/sklearn/metrics/_classification.py:1308: UndefinedMetricWarning: Precision and F-score are ill-defined and being set to 0.0 in labels with no predicted samples. Use `zero_division` parameter to control this behavior.\n",
      "  _warn_prf(average, modifier, msg_start, len(result))\n",
      "/opt/conda/lib/python3.7/site-packages/sklearn/metrics/_classification.py:1308: UndefinedMetricWarning: Precision and F-score are ill-defined and being set to 0.0 in labels with no predicted samples. Use `zero_division` parameter to control this behavior.\n",
      "  _warn_prf(average, modifier, msg_start, len(result))\n",
      "/opt/conda/lib/python3.7/site-packages/sklearn/metrics/_classification.py:1308: UndefinedMetricWarning: Precision and F-score are ill-defined and being set to 0.0 in labels with no predicted samples. Use `zero_division` parameter to control this behavior.\n",
      "  _warn_prf(average, modifier, msg_start, len(result))\n"
     ]
    },
    {
     "data": {
      "text/html": [
       "<div>\n",
       "<style scoped>\n",
       "    .dataframe tbody tr th:only-of-type {\n",
       "        vertical-align: middle;\n",
       "    }\n",
       "\n",
       "    .dataframe tbody tr th {\n",
       "        vertical-align: top;\n",
       "    }\n",
       "\n",
       "    .dataframe thead th {\n",
       "        text-align: right;\n",
       "    }\n",
       "</style>\n",
       "<table border=\"1\" class=\"dataframe\">\n",
       "  <thead>\n",
       "    <tr style=\"text-align: right;\">\n",
       "      <th></th>\n",
       "      <th>precision</th>\n",
       "      <th>recall</th>\n",
       "      <th>f1-score</th>\n",
       "      <th>support</th>\n",
       "    </tr>\n",
       "  </thead>\n",
       "  <tbody>\n",
       "    <tr>\n",
       "      <th>0</th>\n",
       "      <td>0.396209</td>\n",
       "      <td>0.815345</td>\n",
       "      <td>0.533277</td>\n",
       "      <td>1538.000000</td>\n",
       "    </tr>\n",
       "    <tr>\n",
       "      <th>1</th>\n",
       "      <td>0.277778</td>\n",
       "      <td>0.020492</td>\n",
       "      <td>0.038168</td>\n",
       "      <td>244.000000</td>\n",
       "    </tr>\n",
       "    <tr>\n",
       "      <th>2</th>\n",
       "      <td>0.508800</td>\n",
       "      <td>0.452991</td>\n",
       "      <td>0.479277</td>\n",
       "      <td>702.000000</td>\n",
       "    </tr>\n",
       "    <tr>\n",
       "      <th>3</th>\n",
       "      <td>0.000000</td>\n",
       "      <td>0.000000</td>\n",
       "      <td>0.000000</td>\n",
       "      <td>277.000000</td>\n",
       "    </tr>\n",
       "    <tr>\n",
       "      <th>4</th>\n",
       "      <td>0.291262</td>\n",
       "      <td>0.079576</td>\n",
       "      <td>0.125000</td>\n",
       "      <td>377.000000</td>\n",
       "    </tr>\n",
       "    <tr>\n",
       "      <th>5</th>\n",
       "      <td>0.287234</td>\n",
       "      <td>0.099631</td>\n",
       "      <td>0.147945</td>\n",
       "      <td>271.000000</td>\n",
       "    </tr>\n",
       "    <tr>\n",
       "      <th>6</th>\n",
       "      <td>0.475783</td>\n",
       "      <td>0.334000</td>\n",
       "      <td>0.392479</td>\n",
       "      <td>500.000000</td>\n",
       "    </tr>\n",
       "    <tr>\n",
       "      <th>7</th>\n",
       "      <td>0.166667</td>\n",
       "      <td>0.035714</td>\n",
       "      <td>0.058824</td>\n",
       "      <td>196.000000</td>\n",
       "    </tr>\n",
       "    <tr>\n",
       "      <th>8</th>\n",
       "      <td>0.000000</td>\n",
       "      <td>0.000000</td>\n",
       "      <td>0.000000</td>\n",
       "      <td>61.000000</td>\n",
       "    </tr>\n",
       "    <tr>\n",
       "      <th>9</th>\n",
       "      <td>0.294118</td>\n",
       "      <td>0.041494</td>\n",
       "      <td>0.072727</td>\n",
       "      <td>241.000000</td>\n",
       "    </tr>\n",
       "    <tr>\n",
       "      <th>10</th>\n",
       "      <td>0.000000</td>\n",
       "      <td>0.000000</td>\n",
       "      <td>0.000000</td>\n",
       "      <td>33.000000</td>\n",
       "    </tr>\n",
       "    <tr>\n",
       "      <th>accuracy</th>\n",
       "      <td>0.409459</td>\n",
       "      <td>0.409459</td>\n",
       "      <td>0.409459</td>\n",
       "      <td>0.409459</td>\n",
       "    </tr>\n",
       "    <tr>\n",
       "      <th>macro avg</th>\n",
       "      <td>0.245259</td>\n",
       "      <td>0.170840</td>\n",
       "      <td>0.167972</td>\n",
       "      <td>4440.000000</td>\n",
       "    </tr>\n",
       "    <tr>\n",
       "      <th>weighted avg</th>\n",
       "      <td>0.352120</td>\n",
       "      <td>0.409459</td>\n",
       "      <td>0.332986</td>\n",
       "      <td>4440.000000</td>\n",
       "    </tr>\n",
       "  </tbody>\n",
       "</table>\n",
       "</div>"
      ],
      "text/plain": [
       "              precision    recall  f1-score      support\n",
       "0              0.396209  0.815345  0.533277  1538.000000\n",
       "1              0.277778  0.020492  0.038168   244.000000\n",
       "2              0.508800  0.452991  0.479277   702.000000\n",
       "3              0.000000  0.000000  0.000000   277.000000\n",
       "4              0.291262  0.079576  0.125000   377.000000\n",
       "5              0.287234  0.099631  0.147945   271.000000\n",
       "6              0.475783  0.334000  0.392479   500.000000\n",
       "7              0.166667  0.035714  0.058824   196.000000\n",
       "8              0.000000  0.000000  0.000000    61.000000\n",
       "9              0.294118  0.041494  0.072727   241.000000\n",
       "10             0.000000  0.000000  0.000000    33.000000\n",
       "accuracy       0.409459  0.409459  0.409459     0.409459\n",
       "macro avg      0.245259  0.170840  0.167972  4440.000000\n",
       "weighted avg   0.352120  0.409459  0.332986  4440.000000"
      ]
     },
     "execution_count": 27,
     "metadata": {},
     "output_type": "execute_result"
    }
   ],
   "source": [
    "svm_preds = svm.predict(test_sentence_vectors)\n",
    "svm_report = classification_report(df_test['Labels'].to_list(),svm_preds,output_dict=True)\n",
    "svm_report = pd.DataFrame(svm_report).transpose()\n",
    "svm_report"
   ]
  },
  {
   "cell_type": "markdown",
   "id": "fb8eb8e5",
   "metadata": {
    "papermill": {
     "duration": 0.047513,
     "end_time": "2022-03-08T06:01:53.305588",
     "exception": false,
     "start_time": "2022-03-08T06:01:53.258075",
     "status": "completed"
    },
    "tags": []
   },
   "source": [
    "## Random Forest"
   ]
  },
  {
   "cell_type": "markdown",
   "id": "1f3f23f5",
   "metadata": {
    "papermill": {
     "duration": 0.047711,
     "end_time": "2022-03-08T06:01:53.401270",
     "exception": false,
     "start_time": "2022-03-08T06:01:53.353559",
     "status": "completed"
    },
    "tags": []
   },
   "source": [
    "####  Grid Search CV"
   ]
  },
  {
   "cell_type": "code",
   "execution_count": 28,
   "id": "8b3dc606",
   "metadata": {
    "execution": {
     "iopub.execute_input": "2022-03-08T06:01:53.504514Z",
     "iopub.status.busy": "2022-03-08T06:01:53.503712Z",
     "iopub.status.idle": "2022-03-08T06:01:53.506133Z",
     "shell.execute_reply": "2022-03-08T06:01:53.505713Z"
    },
    "papermill": {
     "duration": 0.055723,
     "end_time": "2022-03-08T06:01:53.506273",
     "exception": false,
     "start_time": "2022-03-08T06:01:53.450550",
     "status": "completed"
    },
    "tags": []
   },
   "outputs": [],
   "source": [
    "# # Number of trees in random forest\n",
    "# n_estimators = [10,100,200,500,1000]\n",
    "# # Number of features to consider at every split\n",
    "# max_features = ['auto', 'sqrt']\n",
    "# bootstrap = [True, False]\n",
    "\n",
    "# param_grid = {'n_estimators': n_estimators,\n",
    "#                'max_features': max_features,\n",
    "#                'bootstrap': bootstrap}\n",
    "# grid = GridSearchCV(RandomForestClassifier(), param_grid, scoring='f1_macro',cv=2)\n",
    "# grid.fit(combined_encodings,combined_df['Labels'].to_list())\n",
    "# print(\"Tuned Hyperparameters :\", grid.best_params_)\n",
    "# print(\"Weighted f1_score :\",grid.best_score_)"
   ]
  },
  {
   "cell_type": "markdown",
   "id": "5bdd2fc7",
   "metadata": {
    "papermill": {
     "duration": 0.048023,
     "end_time": "2022-03-08T06:01:53.602536",
     "exception": false,
     "start_time": "2022-03-08T06:01:53.554513",
     "status": "completed"
    },
    "tags": []
   },
   "source": [
    "Tuned Hyperparameters obtained from GridSearchCV: {'bootstrap': False, 'max_features': 'sqrt', 'n_estimators': 100}"
   ]
  },
  {
   "cell_type": "markdown",
   "id": "ff0e8927",
   "metadata": {
    "papermill": {
     "duration": 0.04811,
     "end_time": "2022-03-08T06:01:53.698614",
     "exception": false,
     "start_time": "2022-03-08T06:01:53.650504",
     "status": "completed"
    },
    "tags": []
   },
   "source": [
    "#### Model Training"
   ]
  },
  {
   "cell_type": "code",
   "execution_count": 29,
   "id": "129eb0d1",
   "metadata": {
    "execution": {
     "iopub.execute_input": "2022-03-08T06:01:53.800077Z",
     "iopub.status.busy": "2022-03-08T06:01:53.799267Z",
     "iopub.status.idle": "2022-03-08T06:02:34.909634Z",
     "shell.execute_reply": "2022-03-08T06:02:34.908890Z"
    },
    "papermill": {
     "duration": 41.163282,
     "end_time": "2022-03-08T06:02:34.909772",
     "exception": false,
     "start_time": "2022-03-08T06:01:53.746490",
     "status": "completed"
    },
    "tags": []
   },
   "outputs": [],
   "source": [
    "rf_params = {'bootstrap': False, 'max_features': 'sqrt', 'n_estimators': 100}\n",
    "random_clf = RandomForestClassifier().fit(train_sentence_vectors, df['Labels'].to_list())"
   ]
  },
  {
   "cell_type": "code",
   "execution_count": 30,
   "id": "25c9ef5b",
   "metadata": {
    "execution": {
     "iopub.execute_input": "2022-03-08T06:02:35.010659Z",
     "iopub.status.busy": "2022-03-08T06:02:35.009671Z",
     "iopub.status.idle": "2022-03-08T06:02:35.192386Z",
     "shell.execute_reply": "2022-03-08T06:02:35.191765Z"
    },
    "papermill": {
     "duration": 0.234847,
     "end_time": "2022-03-08T06:02:35.192552",
     "exception": false,
     "start_time": "2022-03-08T06:02:34.957705",
     "status": "completed"
    },
    "tags": []
   },
   "outputs": [
    {
     "name": "stderr",
     "output_type": "stream",
     "text": [
      "/opt/conda/lib/python3.7/site-packages/sklearn/metrics/_classification.py:1308: UndefinedMetricWarning: Precision and F-score are ill-defined and being set to 0.0 in labels with no predicted samples. Use `zero_division` parameter to control this behavior.\n",
      "  _warn_prf(average, modifier, msg_start, len(result))\n",
      "/opt/conda/lib/python3.7/site-packages/sklearn/metrics/_classification.py:1308: UndefinedMetricWarning: Precision and F-score are ill-defined and being set to 0.0 in labels with no predicted samples. Use `zero_division` parameter to control this behavior.\n",
      "  _warn_prf(average, modifier, msg_start, len(result))\n",
      "/opt/conda/lib/python3.7/site-packages/sklearn/metrics/_classification.py:1308: UndefinedMetricWarning: Precision and F-score are ill-defined and being set to 0.0 in labels with no predicted samples. Use `zero_division` parameter to control this behavior.\n",
      "  _warn_prf(average, modifier, msg_start, len(result))\n"
     ]
    },
    {
     "data": {
      "text/html": [
       "<div>\n",
       "<style scoped>\n",
       "    .dataframe tbody tr th:only-of-type {\n",
       "        vertical-align: middle;\n",
       "    }\n",
       "\n",
       "    .dataframe tbody tr th {\n",
       "        vertical-align: top;\n",
       "    }\n",
       "\n",
       "    .dataframe thead th {\n",
       "        text-align: right;\n",
       "    }\n",
       "</style>\n",
       "<table border=\"1\" class=\"dataframe\">\n",
       "  <thead>\n",
       "    <tr style=\"text-align: right;\">\n",
       "      <th></th>\n",
       "      <th>precision</th>\n",
       "      <th>recall</th>\n",
       "      <th>f1-score</th>\n",
       "      <th>support</th>\n",
       "    </tr>\n",
       "  </thead>\n",
       "  <tbody>\n",
       "    <tr>\n",
       "      <th>0</th>\n",
       "      <td>0.372939</td>\n",
       "      <td>0.926528</td>\n",
       "      <td>0.531816</td>\n",
       "      <td>1538.000000</td>\n",
       "    </tr>\n",
       "    <tr>\n",
       "      <th>1</th>\n",
       "      <td>0.000000</td>\n",
       "      <td>0.000000</td>\n",
       "      <td>0.000000</td>\n",
       "      <td>244.000000</td>\n",
       "    </tr>\n",
       "    <tr>\n",
       "      <th>2</th>\n",
       "      <td>0.490196</td>\n",
       "      <td>0.320513</td>\n",
       "      <td>0.387597</td>\n",
       "      <td>702.000000</td>\n",
       "    </tr>\n",
       "    <tr>\n",
       "      <th>3</th>\n",
       "      <td>0.000000</td>\n",
       "      <td>0.000000</td>\n",
       "      <td>0.000000</td>\n",
       "      <td>277.000000</td>\n",
       "    </tr>\n",
       "    <tr>\n",
       "      <th>4</th>\n",
       "      <td>0.400000</td>\n",
       "      <td>0.010610</td>\n",
       "      <td>0.020672</td>\n",
       "      <td>377.000000</td>\n",
       "    </tr>\n",
       "    <tr>\n",
       "      <th>5</th>\n",
       "      <td>0.000000</td>\n",
       "      <td>0.000000</td>\n",
       "      <td>0.000000</td>\n",
       "      <td>271.000000</td>\n",
       "    </tr>\n",
       "    <tr>\n",
       "      <th>6</th>\n",
       "      <td>0.604027</td>\n",
       "      <td>0.180000</td>\n",
       "      <td>0.277350</td>\n",
       "      <td>500.000000</td>\n",
       "    </tr>\n",
       "    <tr>\n",
       "      <th>7</th>\n",
       "      <td>0.000000</td>\n",
       "      <td>0.000000</td>\n",
       "      <td>0.000000</td>\n",
       "      <td>196.000000</td>\n",
       "    </tr>\n",
       "    <tr>\n",
       "      <th>8</th>\n",
       "      <td>0.000000</td>\n",
       "      <td>0.000000</td>\n",
       "      <td>0.000000</td>\n",
       "      <td>61.000000</td>\n",
       "    </tr>\n",
       "    <tr>\n",
       "      <th>9</th>\n",
       "      <td>0.000000</td>\n",
       "      <td>0.000000</td>\n",
       "      <td>0.000000</td>\n",
       "      <td>241.000000</td>\n",
       "    </tr>\n",
       "    <tr>\n",
       "      <th>10</th>\n",
       "      <td>0.000000</td>\n",
       "      <td>0.000000</td>\n",
       "      <td>0.000000</td>\n",
       "      <td>33.000000</td>\n",
       "    </tr>\n",
       "    <tr>\n",
       "      <th>accuracy</th>\n",
       "      <td>0.392793</td>\n",
       "      <td>0.392793</td>\n",
       "      <td>0.392793</td>\n",
       "      <td>0.392793</td>\n",
       "    </tr>\n",
       "    <tr>\n",
       "      <th>macro avg</th>\n",
       "      <td>0.169742</td>\n",
       "      <td>0.130696</td>\n",
       "      <td>0.110676</td>\n",
       "      <td>4440.000000</td>\n",
       "    </tr>\n",
       "    <tr>\n",
       "      <th>weighted avg</th>\n",
       "      <td>0.308674</td>\n",
       "      <td>0.392793</td>\n",
       "      <td>0.278490</td>\n",
       "      <td>4440.000000</td>\n",
       "    </tr>\n",
       "  </tbody>\n",
       "</table>\n",
       "</div>"
      ],
      "text/plain": [
       "              precision    recall  f1-score      support\n",
       "0              0.372939  0.926528  0.531816  1538.000000\n",
       "1              0.000000  0.000000  0.000000   244.000000\n",
       "2              0.490196  0.320513  0.387597   702.000000\n",
       "3              0.000000  0.000000  0.000000   277.000000\n",
       "4              0.400000  0.010610  0.020672   377.000000\n",
       "5              0.000000  0.000000  0.000000   271.000000\n",
       "6              0.604027  0.180000  0.277350   500.000000\n",
       "7              0.000000  0.000000  0.000000   196.000000\n",
       "8              0.000000  0.000000  0.000000    61.000000\n",
       "9              0.000000  0.000000  0.000000   241.000000\n",
       "10             0.000000  0.000000  0.000000    33.000000\n",
       "accuracy       0.392793  0.392793  0.392793     0.392793\n",
       "macro avg      0.169742  0.130696  0.110676  4440.000000\n",
       "weighted avg   0.308674  0.392793  0.278490  4440.000000"
      ]
     },
     "execution_count": 30,
     "metadata": {},
     "output_type": "execute_result"
    }
   ],
   "source": [
    "random_pred = random_clf.predict(test_sentence_vectors)\n",
    "report_random = classification_report(df_test['Labels'].to_list(),random_pred,output_dict=True)\n",
    "df_random = pd.DataFrame(report_random).transpose()\n",
    "df_random"
   ]
  },
  {
   "cell_type": "markdown",
   "id": "95483441",
   "metadata": {
    "papermill": {
     "duration": 0.048361,
     "end_time": "2022-03-08T06:02:35.290978",
     "exception": false,
     "start_time": "2022-03-08T06:02:35.242617",
     "status": "completed"
    },
    "tags": []
   },
   "source": [
    "## XG Boost\n"
   ]
  },
  {
   "cell_type": "markdown",
   "id": "4f713d4a",
   "metadata": {
    "papermill": {
     "duration": 0.048311,
     "end_time": "2022-03-08T06:02:35.387872",
     "exception": false,
     "start_time": "2022-03-08T06:02:35.339561",
     "status": "completed"
    },
    "tags": []
   },
   "source": [
    "#### Grid SearchCV"
   ]
  },
  {
   "cell_type": "code",
   "execution_count": 31,
   "id": "6eda9357",
   "metadata": {
    "execution": {
     "iopub.execute_input": "2022-03-08T06:02:35.490726Z",
     "iopub.status.busy": "2022-03-08T06:02:35.489874Z",
     "iopub.status.idle": "2022-03-08T06:02:35.492064Z",
     "shell.execute_reply": "2022-03-08T06:02:35.491571Z"
    },
    "papermill": {
     "duration": 0.055281,
     "end_time": "2022-03-08T06:02:35.492195",
     "exception": false,
     "start_time": "2022-03-08T06:02:35.436914",
     "status": "completed"
    },
    "tags": []
   },
   "outputs": [],
   "source": [
    "# xg_grid_params = {\n",
    "#     'gamma': range(0,100,20),\n",
    "#     'max_depth': [1,5,10],\n",
    "#     'lambda':[0.01,0.1,1,10,100],\n",
    "#     'alpha':[0.001,0.01,0.1,1,10],\n",
    "#     'learning_rate':[0.01,0.1,1,10]\n",
    "# }\n",
    "# warnings.filterwarnings('ignore')\n",
    "# grid_xg = grid = GridSearchCV(XGBClassifier(), xg_grid_params, scoring='f1_macro')\n",
    "# grid_xg.fit(combined_encodings,combined_df['Labels'].to_list())\n",
    "# print(\"Tuned Hyperparameters :\", grid_xg.best_params_)\n",
    "# print(\"Weighted f1_score :\",grid_xg.best_score_)"
   ]
  },
  {
   "cell_type": "markdown",
   "id": "890c1cd1",
   "metadata": {
    "papermill": {
     "duration": 0.048456,
     "end_time": "2022-03-08T06:02:35.589820",
     "exception": false,
     "start_time": "2022-03-08T06:02:35.541364",
     "status": "completed"
    },
    "tags": []
   },
   "source": [
    "#### Model Training"
   ]
  },
  {
   "cell_type": "code",
   "execution_count": 32,
   "id": "4e0352a5",
   "metadata": {
    "execution": {
     "iopub.execute_input": "2022-03-08T06:02:35.692484Z",
     "iopub.status.busy": "2022-03-08T06:02:35.691819Z",
     "iopub.status.idle": "2022-03-08T06:38:32.561006Z",
     "shell.execute_reply": "2022-03-08T06:38:32.560472Z"
    },
    "papermill": {
     "duration": 2156.922925,
     "end_time": "2022-03-08T06:38:32.561165",
     "exception": false,
     "start_time": "2022-03-08T06:02:35.638240",
     "status": "completed"
    },
    "tags": []
   },
   "outputs": [
    {
     "name": "stderr",
     "output_type": "stream",
     "text": [
      "/opt/conda/lib/python3.7/site-packages/xgboost/sklearn.py:1224: UserWarning: The use of label encoder in XGBClassifier is deprecated and will be removed in a future release. To remove this warning, do the following: 1) Pass option use_label_encoder=False when constructing XGBClassifier object; and 2) Encode your labels (y) as integers starting with 0, i.e. 0, 1, 2, ..., [num_class - 1].\n",
      "  warnings.warn(label_encoder_deprecation_msg, UserWarning)\n"
     ]
    },
    {
     "name": "stdout",
     "output_type": "stream",
     "text": [
      "[06:03:00] WARNING: ../src/learner.cc:1115: Starting in XGBoost 1.3.0, the default evaluation metric used with the objective 'multi:softprob' was changed from 'merror' to 'mlogloss'. Explicitly set eval_metric if you'd like to restore the old behavior.\n"
     ]
    }
   ],
   "source": [
    "model_xg = XGBClassifier().fit(train_sentence_vectors, df['Labels'].to_list())"
   ]
  },
  {
   "cell_type": "code",
   "execution_count": 33,
   "id": "59e59314",
   "metadata": {
    "execution": {
     "iopub.execute_input": "2022-03-08T06:38:32.678378Z",
     "iopub.status.busy": "2022-03-08T06:38:32.677366Z",
     "iopub.status.idle": "2022-03-08T06:38:32.855327Z",
     "shell.execute_reply": "2022-03-08T06:38:32.854667Z"
    },
    "papermill": {
     "duration": 0.240991,
     "end_time": "2022-03-08T06:38:32.855482",
     "exception": false,
     "start_time": "2022-03-08T06:38:32.614491",
     "status": "completed"
    },
    "tags": []
   },
   "outputs": [
    {
     "name": "stderr",
     "output_type": "stream",
     "text": [
      "/opt/conda/lib/python3.7/site-packages/sklearn/metrics/_classification.py:1308: UndefinedMetricWarning: Precision and F-score are ill-defined and being set to 0.0 in labels with no predicted samples. Use `zero_division` parameter to control this behavior.\n",
      "  _warn_prf(average, modifier, msg_start, len(result))\n",
      "/opt/conda/lib/python3.7/site-packages/sklearn/metrics/_classification.py:1308: UndefinedMetricWarning: Precision and F-score are ill-defined and being set to 0.0 in labels with no predicted samples. Use `zero_division` parameter to control this behavior.\n",
      "  _warn_prf(average, modifier, msg_start, len(result))\n",
      "/opt/conda/lib/python3.7/site-packages/sklearn/metrics/_classification.py:1308: UndefinedMetricWarning: Precision and F-score are ill-defined and being set to 0.0 in labels with no predicted samples. Use `zero_division` parameter to control this behavior.\n",
      "  _warn_prf(average, modifier, msg_start, len(result))\n"
     ]
    },
    {
     "data": {
      "text/html": [
       "<div>\n",
       "<style scoped>\n",
       "    .dataframe tbody tr th:only-of-type {\n",
       "        vertical-align: middle;\n",
       "    }\n",
       "\n",
       "    .dataframe tbody tr th {\n",
       "        vertical-align: top;\n",
       "    }\n",
       "\n",
       "    .dataframe thead th {\n",
       "        text-align: right;\n",
       "    }\n",
       "</style>\n",
       "<table border=\"1\" class=\"dataframe\">\n",
       "  <thead>\n",
       "    <tr style=\"text-align: right;\">\n",
       "      <th></th>\n",
       "      <th>precision</th>\n",
       "      <th>recall</th>\n",
       "      <th>f1-score</th>\n",
       "      <th>support</th>\n",
       "    </tr>\n",
       "  </thead>\n",
       "  <tbody>\n",
       "    <tr>\n",
       "      <th>0</th>\n",
       "      <td>0.389324</td>\n",
       "      <td>0.839402</td>\n",
       "      <td>0.531932</td>\n",
       "      <td>1538.000000</td>\n",
       "    </tr>\n",
       "    <tr>\n",
       "      <th>1</th>\n",
       "      <td>0.189189</td>\n",
       "      <td>0.028689</td>\n",
       "      <td>0.049822</td>\n",
       "      <td>244.000000</td>\n",
       "    </tr>\n",
       "    <tr>\n",
       "      <th>2</th>\n",
       "      <td>0.518456</td>\n",
       "      <td>0.440171</td>\n",
       "      <td>0.476117</td>\n",
       "      <td>702.000000</td>\n",
       "    </tr>\n",
       "    <tr>\n",
       "      <th>3</th>\n",
       "      <td>0.304348</td>\n",
       "      <td>0.025271</td>\n",
       "      <td>0.046667</td>\n",
       "      <td>277.000000</td>\n",
       "    </tr>\n",
       "    <tr>\n",
       "      <th>4</th>\n",
       "      <td>0.255319</td>\n",
       "      <td>0.063660</td>\n",
       "      <td>0.101911</td>\n",
       "      <td>377.000000</td>\n",
       "    </tr>\n",
       "    <tr>\n",
       "      <th>5</th>\n",
       "      <td>0.450000</td>\n",
       "      <td>0.066421</td>\n",
       "      <td>0.115756</td>\n",
       "      <td>271.000000</td>\n",
       "    </tr>\n",
       "    <tr>\n",
       "      <th>6</th>\n",
       "      <td>0.448387</td>\n",
       "      <td>0.278000</td>\n",
       "      <td>0.343210</td>\n",
       "      <td>500.000000</td>\n",
       "    </tr>\n",
       "    <tr>\n",
       "      <th>7</th>\n",
       "      <td>0.333333</td>\n",
       "      <td>0.020408</td>\n",
       "      <td>0.038462</td>\n",
       "      <td>196.000000</td>\n",
       "    </tr>\n",
       "    <tr>\n",
       "      <th>8</th>\n",
       "      <td>0.000000</td>\n",
       "      <td>0.000000</td>\n",
       "      <td>0.000000</td>\n",
       "      <td>61.000000</td>\n",
       "    </tr>\n",
       "    <tr>\n",
       "      <th>9</th>\n",
       "      <td>0.166667</td>\n",
       "      <td>0.008299</td>\n",
       "      <td>0.015810</td>\n",
       "      <td>241.000000</td>\n",
       "    </tr>\n",
       "    <tr>\n",
       "      <th>10</th>\n",
       "      <td>0.000000</td>\n",
       "      <td>0.000000</td>\n",
       "      <td>0.000000</td>\n",
       "      <td>33.000000</td>\n",
       "    </tr>\n",
       "    <tr>\n",
       "      <th>accuracy</th>\n",
       "      <td>0.405631</td>\n",
       "      <td>0.405631</td>\n",
       "      <td>0.405631</td>\n",
       "      <td>0.405631</td>\n",
       "    </tr>\n",
       "    <tr>\n",
       "      <th>macro avg</th>\n",
       "      <td>0.277729</td>\n",
       "      <td>0.160938</td>\n",
       "      <td>0.156335</td>\n",
       "      <td>4440.000000</td>\n",
       "    </tr>\n",
       "    <tr>\n",
       "      <th>weighted avg</th>\n",
       "      <td>0.369618</td>\n",
       "      <td>0.405631</td>\n",
       "      <td>0.322111</td>\n",
       "      <td>4440.000000</td>\n",
       "    </tr>\n",
       "  </tbody>\n",
       "</table>\n",
       "</div>"
      ],
      "text/plain": [
       "              precision    recall  f1-score      support\n",
       "0              0.389324  0.839402  0.531932  1538.000000\n",
       "1              0.189189  0.028689  0.049822   244.000000\n",
       "2              0.518456  0.440171  0.476117   702.000000\n",
       "3              0.304348  0.025271  0.046667   277.000000\n",
       "4              0.255319  0.063660  0.101911   377.000000\n",
       "5              0.450000  0.066421  0.115756   271.000000\n",
       "6              0.448387  0.278000  0.343210   500.000000\n",
       "7              0.333333  0.020408  0.038462   196.000000\n",
       "8              0.000000  0.000000  0.000000    61.000000\n",
       "9              0.166667  0.008299  0.015810   241.000000\n",
       "10             0.000000  0.000000  0.000000    33.000000\n",
       "accuracy       0.405631  0.405631  0.405631     0.405631\n",
       "macro avg      0.277729  0.160938  0.156335  4440.000000\n",
       "weighted avg   0.369618  0.405631  0.322111  4440.000000"
      ]
     },
     "execution_count": 33,
     "metadata": {},
     "output_type": "execute_result"
    }
   ],
   "source": [
    "y_preds_xg = model_xg.predict(test_sentence_vectors)\n",
    "report_xg = classification_report(df_test['Labels'].to_list(),y_preds_xg,output_dict=True)\n",
    "df_xg = pd.DataFrame(report_xg).transpose()\n",
    "df_xg"
   ]
  },
  {
   "cell_type": "markdown",
   "id": "14b9c813",
   "metadata": {
    "papermill": {
     "duration": 0.050951,
     "end_time": "2022-03-08T06:38:32.958325",
     "exception": false,
     "start_time": "2022-03-08T06:38:32.907374",
     "status": "completed"
    },
    "tags": []
   },
   "source": [
    "## Multi Layer Perceptron"
   ]
  },
  {
   "cell_type": "markdown",
   "id": "ced2be04",
   "metadata": {
    "execution": {
     "iopub.execute_input": "2022-03-06T13:03:41.560247Z",
     "iopub.status.busy": "2022-03-06T13:03:41.559969Z",
     "iopub.status.idle": "2022-03-06T13:03:41.564734Z",
     "shell.execute_reply": "2022-03-06T13:03:41.563917Z",
     "shell.execute_reply.started": "2022-03-06T13:03:41.560218Z"
    },
    "papermill": {
     "duration": 0.051617,
     "end_time": "2022-03-08T06:38:33.061535",
     "exception": false,
     "start_time": "2022-03-08T06:38:33.009918",
     "status": "completed"
    },
    "tags": []
   },
   "source": [
    "#### Grid SearchCV"
   ]
  },
  {
   "cell_type": "code",
   "execution_count": 34,
   "id": "be98b768",
   "metadata": {
    "execution": {
     "iopub.execute_input": "2022-03-08T06:38:33.168711Z",
     "iopub.status.busy": "2022-03-08T06:38:33.167739Z",
     "iopub.status.idle": "2022-03-08T06:38:33.170145Z",
     "shell.execute_reply": "2022-03-08T06:38:33.169648Z"
    },
    "papermill": {
     "duration": 0.056755,
     "end_time": "2022-03-08T06:38:33.170276",
     "exception": false,
     "start_time": "2022-03-08T06:38:33.113521",
     "status": "completed"
    },
    "tags": []
   },
   "outputs": [],
   "source": [
    "# mlp_params = {\n",
    "#     'activation':['identity', 'logistic', 'tanh', 'relu'],\n",
    "#     'solver':['lbfgs', 'sgd', 'adam'],\n",
    "#     'alpha':[0.0001,0.001,0.01,0.1],\n",
    "# }\n",
    "# warnings.filterwarnings('ignore')\n",
    "# mlp_grid = GridSearchCV(MLPClassifier(), mlp_params, scoring='f1_macro')\n",
    "# mlp_grid.fit(combined_encodings,combined_df['Labels'].to_list())\n",
    "# print(\"Tuned Hyperparameters :\", mlp_grid.best_params_)\n",
    "# print(\"Weighted f1_score :\",mlp_grid.best_score_)"
   ]
  },
  {
   "cell_type": "markdown",
   "id": "3f4b7029",
   "metadata": {
    "papermill": {
     "duration": 0.051138,
     "end_time": "2022-03-08T06:38:33.272337",
     "exception": false,
     "start_time": "2022-03-08T06:38:33.221199",
     "status": "completed"
    },
    "tags": []
   },
   "source": [
    "#### Model Training"
   ]
  },
  {
   "cell_type": "code",
   "execution_count": 35,
   "id": "ff6f07aa",
   "metadata": {
    "execution": {
     "iopub.execute_input": "2022-03-08T06:38:33.381722Z",
     "iopub.status.busy": "2022-03-08T06:38:33.380899Z",
     "iopub.status.idle": "2022-03-08T06:39:20.461912Z",
     "shell.execute_reply": "2022-03-08T06:39:20.462703Z"
    },
    "papermill": {
     "duration": 47.139653,
     "end_time": "2022-03-08T06:39:20.462948",
     "exception": false,
     "start_time": "2022-03-08T06:38:33.323295",
     "status": "completed"
    },
    "tags": []
   },
   "outputs": [
    {
     "name": "stderr",
     "output_type": "stream",
     "text": [
      "/opt/conda/lib/python3.7/site-packages/sklearn/neural_network/_multilayer_perceptron.py:696: ConvergenceWarning: Stochastic Optimizer: Maximum iterations (200) reached and the optimization hasn't converged yet.\n",
      "  ConvergenceWarning,\n"
     ]
    }
   ],
   "source": [
    "clf = MLPClassifier().fit(train_sentence_vectors, df['Labels'].to_list())\n",
    "mlp_predictions = clf.predict(test_sentence_vectors)"
   ]
  },
  {
   "cell_type": "code",
   "execution_count": 36,
   "id": "a06ff0b9",
   "metadata": {
    "execution": {
     "iopub.execute_input": "2022-03-08T06:39:20.597473Z",
     "iopub.status.busy": "2022-03-08T06:39:20.596618Z",
     "iopub.status.idle": "2022-03-08T06:39:20.621111Z",
     "shell.execute_reply": "2022-03-08T06:39:20.621632Z"
    },
    "papermill": {
     "duration": 0.088948,
     "end_time": "2022-03-08T06:39:20.621786",
     "exception": false,
     "start_time": "2022-03-08T06:39:20.532838",
     "status": "completed"
    },
    "tags": []
   },
   "outputs": [
    {
     "data": {
      "text/html": [
       "<div>\n",
       "<style scoped>\n",
       "    .dataframe tbody tr th:only-of-type {\n",
       "        vertical-align: middle;\n",
       "    }\n",
       "\n",
       "    .dataframe tbody tr th {\n",
       "        vertical-align: top;\n",
       "    }\n",
       "\n",
       "    .dataframe thead th {\n",
       "        text-align: right;\n",
       "    }\n",
       "</style>\n",
       "<table border=\"1\" class=\"dataframe\">\n",
       "  <thead>\n",
       "    <tr style=\"text-align: right;\">\n",
       "      <th></th>\n",
       "      <th>precision</th>\n",
       "      <th>recall</th>\n",
       "      <th>f1-score</th>\n",
       "      <th>support</th>\n",
       "    </tr>\n",
       "  </thead>\n",
       "  <tbody>\n",
       "    <tr>\n",
       "      <th>0</th>\n",
       "      <td>0.418133</td>\n",
       "      <td>0.401821</td>\n",
       "      <td>0.409814</td>\n",
       "      <td>1538.000000</td>\n",
       "    </tr>\n",
       "    <tr>\n",
       "      <th>1</th>\n",
       "      <td>0.121495</td>\n",
       "      <td>0.106557</td>\n",
       "      <td>0.113537</td>\n",
       "      <td>244.000000</td>\n",
       "    </tr>\n",
       "    <tr>\n",
       "      <th>2</th>\n",
       "      <td>0.429664</td>\n",
       "      <td>0.400285</td>\n",
       "      <td>0.414454</td>\n",
       "      <td>702.000000</td>\n",
       "    </tr>\n",
       "    <tr>\n",
       "      <th>3</th>\n",
       "      <td>0.138801</td>\n",
       "      <td>0.158845</td>\n",
       "      <td>0.148148</td>\n",
       "      <td>277.000000</td>\n",
       "    </tr>\n",
       "    <tr>\n",
       "      <th>4</th>\n",
       "      <td>0.193955</td>\n",
       "      <td>0.204244</td>\n",
       "      <td>0.198966</td>\n",
       "      <td>377.000000</td>\n",
       "    </tr>\n",
       "    <tr>\n",
       "      <th>5</th>\n",
       "      <td>0.165079</td>\n",
       "      <td>0.191882</td>\n",
       "      <td>0.177474</td>\n",
       "      <td>271.000000</td>\n",
       "    </tr>\n",
       "    <tr>\n",
       "      <th>6</th>\n",
       "      <td>0.309033</td>\n",
       "      <td>0.390000</td>\n",
       "      <td>0.344828</td>\n",
       "      <td>500.000000</td>\n",
       "    </tr>\n",
       "    <tr>\n",
       "      <th>7</th>\n",
       "      <td>0.101695</td>\n",
       "      <td>0.091837</td>\n",
       "      <td>0.096515</td>\n",
       "      <td>196.000000</td>\n",
       "    </tr>\n",
       "    <tr>\n",
       "      <th>8</th>\n",
       "      <td>0.034483</td>\n",
       "      <td>0.032787</td>\n",
       "      <td>0.033613</td>\n",
       "      <td>61.000000</td>\n",
       "    </tr>\n",
       "    <tr>\n",
       "      <th>9</th>\n",
       "      <td>0.157895</td>\n",
       "      <td>0.112033</td>\n",
       "      <td>0.131068</td>\n",
       "      <td>241.000000</td>\n",
       "    </tr>\n",
       "    <tr>\n",
       "      <th>10</th>\n",
       "      <td>0.035714</td>\n",
       "      <td>0.030303</td>\n",
       "      <td>0.032787</td>\n",
       "      <td>33.000000</td>\n",
       "    </tr>\n",
       "    <tr>\n",
       "      <th>accuracy</th>\n",
       "      <td>0.302027</td>\n",
       "      <td>0.302027</td>\n",
       "      <td>0.302027</td>\n",
       "      <td>0.302027</td>\n",
       "    </tr>\n",
       "    <tr>\n",
       "      <th>macro avg</th>\n",
       "      <td>0.191450</td>\n",
       "      <td>0.192781</td>\n",
       "      <td>0.191019</td>\n",
       "      <td>4440.000000</td>\n",
       "    </tr>\n",
       "    <tr>\n",
       "      <th>weighted avg</th>\n",
       "      <td>0.303253</td>\n",
       "      <td>0.302027</td>\n",
       "      <td>0.301608</td>\n",
       "      <td>4440.000000</td>\n",
       "    </tr>\n",
       "  </tbody>\n",
       "</table>\n",
       "</div>"
      ],
      "text/plain": [
       "              precision    recall  f1-score      support\n",
       "0              0.418133  0.401821  0.409814  1538.000000\n",
       "1              0.121495  0.106557  0.113537   244.000000\n",
       "2              0.429664  0.400285  0.414454   702.000000\n",
       "3              0.138801  0.158845  0.148148   277.000000\n",
       "4              0.193955  0.204244  0.198966   377.000000\n",
       "5              0.165079  0.191882  0.177474   271.000000\n",
       "6              0.309033  0.390000  0.344828   500.000000\n",
       "7              0.101695  0.091837  0.096515   196.000000\n",
       "8              0.034483  0.032787  0.033613    61.000000\n",
       "9              0.157895  0.112033  0.131068   241.000000\n",
       "10             0.035714  0.030303  0.032787    33.000000\n",
       "accuracy       0.302027  0.302027  0.302027     0.302027\n",
       "macro avg      0.191450  0.192781  0.191019  4440.000000\n",
       "weighted avg   0.303253  0.302027  0.301608  4440.000000"
      ]
     },
     "execution_count": 36,
     "metadata": {},
     "output_type": "execute_result"
    }
   ],
   "source": [
    "report_mlp = classification_report(df_test['Labels'].to_list(),mlp_predictions,output_dict=True)\n",
    "df_mlp = pd.DataFrame(report_mlp).transpose()\n",
    "df_mlp"
   ]
  },
  {
   "cell_type": "code",
   "execution_count": null,
   "id": "4bef738e",
   "metadata": {
    "papermill": {
     "duration": 0.057755,
     "end_time": "2022-03-08T06:39:20.738599",
     "exception": false,
     "start_time": "2022-03-08T06:39:20.680844",
     "status": "completed"
    },
    "tags": []
   },
   "outputs": [],
   "source": []
  }
 ],
 "metadata": {
  "kernelspec": {
   "display_name": "Python 3",
   "language": "python",
   "name": "python3"
  },
  "language_info": {
   "codemirror_mode": {
    "name": "ipython",
    "version": 3
   },
   "file_extension": ".py",
   "mimetype": "text/x-python",
   "name": "python",
   "nbconvert_exporter": "python",
   "pygments_lexer": "ipython3",
   "version": "3.7.12"
  },
  "papermill": {
   "default_parameters": {},
   "duration": 2644.450014,
   "end_time": "2022-03-08T06:39:24.379834",
   "environment_variables": {},
   "exception": null,
   "input_path": "__notebook__.ipynb",
   "output_path": "__notebook__.ipynb",
   "parameters": {},
   "start_time": "2022-03-08T05:55:19.929820",
   "version": "2.3.3"
  },
  "widgets": {
   "application/vnd.jupyter.widget-state+json": {
    "state": {
     "08b6a1e35be5453bbc4d8e2d18fd7da8": {
      "model_module": "@jupyter-widgets/controls",
      "model_module_version": "1.5.0",
      "model_name": "DescriptionStyleModel",
      "state": {
       "_model_module": "@jupyter-widgets/controls",
       "_model_module_version": "1.5.0",
       "_model_name": "DescriptionStyleModel",
       "_view_count": null,
       "_view_module": "@jupyter-widgets/base",
       "_view_module_version": "1.2.0",
       "_view_name": "StyleView",
       "description_width": ""
      }
     },
     "0d423ff0d6d34107b718b74d9aa3e01d": {
      "model_module": "@jupyter-widgets/controls",
      "model_module_version": "1.5.0",
      "model_name": "HTMLModel",
      "state": {
       "_dom_classes": [],
       "_model_module": "@jupyter-widgets/controls",
       "_model_module_version": "1.5.0",
       "_model_name": "HTMLModel",
       "_view_count": null,
       "_view_module": "@jupyter-widgets/controls",
       "_view_module_version": "1.5.0",
       "_view_name": "HTMLView",
       "description": "",
       "description_tooltip": null,
       "layout": "IPY_MODEL_1319ed8cdae84cddb6bd9ba97f6d20b6",
       "placeholder": "​",
       "style": "IPY_MODEL_c2796f8c62d24d62a0dc7e88d78609e0",
       "value": "Downloading: 100%"
      }
     },
     "11d29abc59584a62b204d5bfa634035b": {
      "model_module": "@jupyter-widgets/base",
      "model_module_version": "1.2.0",
      "model_name": "LayoutModel",
      "state": {
       "_model_module": "@jupyter-widgets/base",
       "_model_module_version": "1.2.0",
       "_model_name": "LayoutModel",
       "_view_count": null,
       "_view_module": "@jupyter-widgets/base",
       "_view_module_version": "1.2.0",
       "_view_name": "LayoutView",
       "align_content": null,
       "align_items": null,
       "align_self": null,
       "border": null,
       "bottom": null,
       "display": null,
       "flex": null,
       "flex_flow": null,
       "grid_area": null,
       "grid_auto_columns": null,
       "grid_auto_flow": null,
       "grid_auto_rows": null,
       "grid_column": null,
       "grid_gap": null,
       "grid_row": null,
       "grid_template_areas": null,
       "grid_template_columns": null,
       "grid_template_rows": null,
       "height": null,
       "justify_content": null,
       "justify_items": null,
       "left": null,
       "margin": null,
       "max_height": null,
       "max_width": null,
       "min_height": null,
       "min_width": null,
       "object_fit": null,
       "object_position": null,
       "order": null,
       "overflow": null,
       "overflow_x": null,
       "overflow_y": null,
       "padding": null,
       "right": null,
       "top": null,
       "visibility": null,
       "width": null
      }
     },
     "1319ed8cdae84cddb6bd9ba97f6d20b6": {
      "model_module": "@jupyter-widgets/base",
      "model_module_version": "1.2.0",
      "model_name": "LayoutModel",
      "state": {
       "_model_module": "@jupyter-widgets/base",
       "_model_module_version": "1.2.0",
       "_model_name": "LayoutModel",
       "_view_count": null,
       "_view_module": "@jupyter-widgets/base",
       "_view_module_version": "1.2.0",
       "_view_name": "LayoutView",
       "align_content": null,
       "align_items": null,
       "align_self": null,
       "border": null,
       "bottom": null,
       "display": null,
       "flex": null,
       "flex_flow": null,
       "grid_area": null,
       "grid_auto_columns": null,
       "grid_auto_flow": null,
       "grid_auto_rows": null,
       "grid_column": null,
       "grid_gap": null,
       "grid_row": null,
       "grid_template_areas": null,
       "grid_template_columns": null,
       "grid_template_rows": null,
       "height": null,
       "justify_content": null,
       "justify_items": null,
       "left": null,
       "margin": null,
       "max_height": null,
       "max_width": null,
       "min_height": null,
       "min_width": null,
       "object_fit": null,
       "object_position": null,
       "order": null,
       "overflow": null,
       "overflow_x": null,
       "overflow_y": null,
       "padding": null,
       "right": null,
       "top": null,
       "visibility": null,
       "width": null
      }
     },
     "136ee549112e40af9689b1b3d1f4d46b": {
      "model_module": "@jupyter-widgets/controls",
      "model_module_version": "1.5.0",
      "model_name": "DescriptionStyleModel",
      "state": {
       "_model_module": "@jupyter-widgets/controls",
       "_model_module_version": "1.5.0",
       "_model_name": "DescriptionStyleModel",
       "_view_count": null,
       "_view_module": "@jupyter-widgets/base",
       "_view_module_version": "1.2.0",
       "_view_name": "StyleView",
       "description_width": ""
      }
     },
     "24ad6427d1ce4884a5425ade5cbc6c4b": {
      "model_module": "@jupyter-widgets/controls",
      "model_module_version": "1.5.0",
      "model_name": "ProgressStyleModel",
      "state": {
       "_model_module": "@jupyter-widgets/controls",
       "_model_module_version": "1.5.0",
       "_model_name": "ProgressStyleModel",
       "_view_count": null,
       "_view_module": "@jupyter-widgets/base",
       "_view_module_version": "1.2.0",
       "_view_name": "StyleView",
       "bar_color": null,
       "description_width": ""
      }
     },
     "2c63ddc6fdd44b1cadd08951fe079076": {
      "model_module": "@jupyter-widgets/controls",
      "model_module_version": "1.5.0",
      "model_name": "HTMLModel",
      "state": {
       "_dom_classes": [],
       "_model_module": "@jupyter-widgets/controls",
       "_model_module_version": "1.5.0",
       "_model_name": "HTMLModel",
       "_view_count": null,
       "_view_module": "@jupyter-widgets/controls",
       "_view_module_version": "1.5.0",
       "_view_name": "HTMLView",
       "description": "",
       "description_tooltip": null,
       "layout": "IPY_MODEL_f3409901cab0470f97240af7b1741d16",
       "placeholder": "​",
       "style": "IPY_MODEL_721e10d5128e429d98c11ff7a2ba9993",
       "value": "Downloading: 100%"
      }
     },
     "2d008fe472a241e38e5876e14e830a99": {
      "model_module": "@jupyter-widgets/controls",
      "model_module_version": "1.5.0",
      "model_name": "HTMLModel",
      "state": {
       "_dom_classes": [],
       "_model_module": "@jupyter-widgets/controls",
       "_model_module_version": "1.5.0",
       "_model_name": "HTMLModel",
       "_view_count": null,
       "_view_module": "@jupyter-widgets/controls",
       "_view_module_version": "1.5.0",
       "_view_name": "HTMLView",
       "description": "",
       "description_tooltip": null,
       "layout": "IPY_MODEL_71f47fbb006340b6838e053896abff9c",
       "placeholder": "​",
       "style": "IPY_MODEL_bbfb986e04274731a767cd7c94d02c22",
       "value": " 625/625 [00:00&lt;00:00, 22.2kB/s]"
      }
     },
     "2e1fd1beb7a145c6ae7f5738300cc245": {
      "model_module": "@jupyter-widgets/controls",
      "model_module_version": "1.5.0",
      "model_name": "FloatProgressModel",
      "state": {
       "_dom_classes": [],
       "_model_module": "@jupyter-widgets/controls",
       "_model_module_version": "1.5.0",
       "_model_name": "FloatProgressModel",
       "_view_count": null,
       "_view_module": "@jupyter-widgets/controls",
       "_view_module_version": "1.5.0",
       "_view_name": "ProgressView",
       "bar_style": "success",
       "description": "",
       "description_tooltip": null,
       "layout": "IPY_MODEL_a232f54a54ec438e82226d2f03d1b59f",
       "max": 625.0,
       "min": 0.0,
       "orientation": "horizontal",
       "style": "IPY_MODEL_50c8334e374645e0821a4df731e90a98",
       "value": 625.0
      }
     },
     "2ea04bbed8924f608c6b562e83e4965d": {
      "model_module": "@jupyter-widgets/controls",
      "model_module_version": "1.5.0",
      "model_name": "HBoxModel",
      "state": {
       "_dom_classes": [],
       "_model_module": "@jupyter-widgets/controls",
       "_model_module_version": "1.5.0",
       "_model_name": "HBoxModel",
       "_view_count": null,
       "_view_module": "@jupyter-widgets/controls",
       "_view_module_version": "1.5.0",
       "_view_name": "HBoxView",
       "box_style": "",
       "children": [
        "IPY_MODEL_2c63ddc6fdd44b1cadd08951fe079076",
        "IPY_MODEL_d8c4412ae49d40deadd69f4242ebff9c",
        "IPY_MODEL_3e68a62279b7456195e9da0d3a77a5c2"
       ],
       "layout": "IPY_MODEL_83f96ec7dbee43c3ab864e3a77cf84db"
      }
     },
     "3441f7d05934457a9fc2da296d917b1b": {
      "model_module": "@jupyter-widgets/controls",
      "model_module_version": "1.5.0",
      "model_name": "ProgressStyleModel",
      "state": {
       "_model_module": "@jupyter-widgets/controls",
       "_model_module_version": "1.5.0",
       "_model_name": "ProgressStyleModel",
       "_view_count": null,
       "_view_module": "@jupyter-widgets/base",
       "_view_module_version": "1.2.0",
       "_view_name": "StyleView",
       "bar_color": null,
       "description_width": ""
      }
     },
     "3bdc628afd24411b94c1ae04e8229193": {
      "model_module": "@jupyter-widgets/base",
      "model_module_version": "1.2.0",
      "model_name": "LayoutModel",
      "state": {
       "_model_module": "@jupyter-widgets/base",
       "_model_module_version": "1.2.0",
       "_model_name": "LayoutModel",
       "_view_count": null,
       "_view_module": "@jupyter-widgets/base",
       "_view_module_version": "1.2.0",
       "_view_name": "LayoutView",
       "align_content": null,
       "align_items": null,
       "align_self": null,
       "border": null,
       "bottom": null,
       "display": null,
       "flex": null,
       "flex_flow": null,
       "grid_area": null,
       "grid_auto_columns": null,
       "grid_auto_flow": null,
       "grid_auto_rows": null,
       "grid_column": null,
       "grid_gap": null,
       "grid_row": null,
       "grid_template_areas": null,
       "grid_template_columns": null,
       "grid_template_rows": null,
       "height": null,
       "justify_content": null,
       "justify_items": null,
       "left": null,
       "margin": null,
       "max_height": null,
       "max_width": null,
       "min_height": null,
       "min_width": null,
       "object_fit": null,
       "object_position": null,
       "order": null,
       "overflow": null,
       "overflow_x": null,
       "overflow_y": null,
       "padding": null,
       "right": null,
       "top": null,
       "visibility": null,
       "width": null
      }
     },
     "3c2d94af0b6844ddad8623d200db1e27": {
      "model_module": "@jupyter-widgets/base",
      "model_module_version": "1.2.0",
      "model_name": "LayoutModel",
      "state": {
       "_model_module": "@jupyter-widgets/base",
       "_model_module_version": "1.2.0",
       "_model_name": "LayoutModel",
       "_view_count": null,
       "_view_module": "@jupyter-widgets/base",
       "_view_module_version": "1.2.0",
       "_view_name": "LayoutView",
       "align_content": null,
       "align_items": null,
       "align_self": null,
       "border": null,
       "bottom": null,
       "display": null,
       "flex": null,
       "flex_flow": null,
       "grid_area": null,
       "grid_auto_columns": null,
       "grid_auto_flow": null,
       "grid_auto_rows": null,
       "grid_column": null,
       "grid_gap": null,
       "grid_row": null,
       "grid_template_areas": null,
       "grid_template_columns": null,
       "grid_template_rows": null,
       "height": null,
       "justify_content": null,
       "justify_items": null,
       "left": null,
       "margin": null,
       "max_height": null,
       "max_width": null,
       "min_height": null,
       "min_width": null,
       "object_fit": null,
       "object_position": null,
       "order": null,
       "overflow": null,
       "overflow_x": null,
       "overflow_y": null,
       "padding": null,
       "right": null,
       "top": null,
       "visibility": null,
       "width": null
      }
     },
     "3e31b036b5b549bb95ee4879e7448f18": {
      "model_module": "@jupyter-widgets/base",
      "model_module_version": "1.2.0",
      "model_name": "LayoutModel",
      "state": {
       "_model_module": "@jupyter-widgets/base",
       "_model_module_version": "1.2.0",
       "_model_name": "LayoutModel",
       "_view_count": null,
       "_view_module": "@jupyter-widgets/base",
       "_view_module_version": "1.2.0",
       "_view_name": "LayoutView",
       "align_content": null,
       "align_items": null,
       "align_self": null,
       "border": null,
       "bottom": null,
       "display": null,
       "flex": null,
       "flex_flow": null,
       "grid_area": null,
       "grid_auto_columns": null,
       "grid_auto_flow": null,
       "grid_auto_rows": null,
       "grid_column": null,
       "grid_gap": null,
       "grid_row": null,
       "grid_template_areas": null,
       "grid_template_columns": null,
       "grid_template_rows": null,
       "height": null,
       "justify_content": null,
       "justify_items": null,
       "left": null,
       "margin": null,
       "max_height": null,
       "max_width": null,
       "min_height": null,
       "min_width": null,
       "object_fit": null,
       "object_position": null,
       "order": null,
       "overflow": null,
       "overflow_x": null,
       "overflow_y": null,
       "padding": null,
       "right": null,
       "top": null,
       "visibility": null,
       "width": null
      }
     },
     "3e68a62279b7456195e9da0d3a77a5c2": {
      "model_module": "@jupyter-widgets/controls",
      "model_module_version": "1.5.0",
      "model_name": "HTMLModel",
      "state": {
       "_dom_classes": [],
       "_model_module": "@jupyter-widgets/controls",
       "_model_module_version": "1.5.0",
       "_model_name": "HTMLModel",
       "_view_count": null,
       "_view_module": "@jupyter-widgets/controls",
       "_view_module_version": "1.5.0",
       "_view_name": "HTMLView",
       "description": "",
       "description_tooltip": null,
       "layout": "IPY_MODEL_f37b5ccb27fd461e9199a37e8a636949",
       "placeholder": "​",
       "style": "IPY_MODEL_9799ad452e41499bb0ef9d374a503de7",
       "value": " 972k/972k [00:00&lt;00:00, 2.60MB/s]"
      }
     },
     "4b7a44dc4b9a45b5b8350b85969d0379": {
      "model_module": "@jupyter-widgets/controls",
      "model_module_version": "1.5.0",
      "model_name": "HBoxModel",
      "state": {
       "_dom_classes": [],
       "_model_module": "@jupyter-widgets/controls",
       "_model_module_version": "1.5.0",
       "_model_name": "HBoxModel",
       "_view_count": null,
       "_view_module": "@jupyter-widgets/controls",
       "_view_module_version": "1.5.0",
       "_view_name": "HBoxView",
       "box_style": "",
       "children": [
        "IPY_MODEL_9c3951fb315b475bbf3c3bf4ea0bc82d",
        "IPY_MODEL_2e1fd1beb7a145c6ae7f5738300cc245",
        "IPY_MODEL_2d008fe472a241e38e5876e14e830a99"
       ],
       "layout": "IPY_MODEL_abb23e2718794658ae30a59f446913bb"
      }
     },
     "50c8334e374645e0821a4df731e90a98": {
      "model_module": "@jupyter-widgets/controls",
      "model_module_version": "1.5.0",
      "model_name": "ProgressStyleModel",
      "state": {
       "_model_module": "@jupyter-widgets/controls",
       "_model_module_version": "1.5.0",
       "_model_name": "ProgressStyleModel",
       "_view_count": null,
       "_view_module": "@jupyter-widgets/base",
       "_view_module_version": "1.2.0",
       "_view_name": "StyleView",
       "bar_color": null,
       "description_width": ""
      }
     },
     "578837691e9443a39a56527f4e62fb57": {
      "model_module": "@jupyter-widgets/base",
      "model_module_version": "1.2.0",
      "model_name": "LayoutModel",
      "state": {
       "_model_module": "@jupyter-widgets/base",
       "_model_module_version": "1.2.0",
       "_model_name": "LayoutModel",
       "_view_count": null,
       "_view_module": "@jupyter-widgets/base",
       "_view_module_version": "1.2.0",
       "_view_name": "LayoutView",
       "align_content": null,
       "align_items": null,
       "align_self": null,
       "border": null,
       "bottom": null,
       "display": null,
       "flex": null,
       "flex_flow": null,
       "grid_area": null,
       "grid_auto_columns": null,
       "grid_auto_flow": null,
       "grid_auto_rows": null,
       "grid_column": null,
       "grid_gap": null,
       "grid_row": null,
       "grid_template_areas": null,
       "grid_template_columns": null,
       "grid_template_rows": null,
       "height": null,
       "justify_content": null,
       "justify_items": null,
       "left": null,
       "margin": null,
       "max_height": null,
       "max_width": null,
       "min_height": null,
       "min_width": null,
       "object_fit": null,
       "object_position": null,
       "order": null,
       "overflow": null,
       "overflow_x": null,
       "overflow_y": null,
       "padding": null,
       "right": null,
       "top": null,
       "visibility": null,
       "width": null
      }
     },
     "5f0fee4b46ad4307bd89af46c4b366d5": {
      "model_module": "@jupyter-widgets/controls",
      "model_module_version": "1.5.0",
      "model_name": "FloatProgressModel",
      "state": {
       "_dom_classes": [],
       "_model_module": "@jupyter-widgets/controls",
       "_model_module_version": "1.5.0",
       "_model_name": "FloatProgressModel",
       "_view_count": null,
       "_view_module": "@jupyter-widgets/controls",
       "_view_module_version": "1.5.0",
       "_view_name": "ProgressView",
       "bar_style": "success",
       "description": "",
       "description_tooltip": null,
       "layout": "IPY_MODEL_e3102d672c4f495d9840410710b6029f",
       "max": 714314041.0,
       "min": 0.0,
       "orientation": "horizontal",
       "style": "IPY_MODEL_24ad6427d1ce4884a5425ade5cbc6c4b",
       "value": 714314041.0
      }
     },
     "64062a4db4114d58892b3a7b1c220c46": {
      "model_module": "@jupyter-widgets/base",
      "model_module_version": "1.2.0",
      "model_name": "LayoutModel",
      "state": {
       "_model_module": "@jupyter-widgets/base",
       "_model_module_version": "1.2.0",
       "_model_name": "LayoutModel",
       "_view_count": null,
       "_view_module": "@jupyter-widgets/base",
       "_view_module_version": "1.2.0",
       "_view_name": "LayoutView",
       "align_content": null,
       "align_items": null,
       "align_self": null,
       "border": null,
       "bottom": null,
       "display": null,
       "flex": null,
       "flex_flow": null,
       "grid_area": null,
       "grid_auto_columns": null,
       "grid_auto_flow": null,
       "grid_auto_rows": null,
       "grid_column": null,
       "grid_gap": null,
       "grid_row": null,
       "grid_template_areas": null,
       "grid_template_columns": null,
       "grid_template_rows": null,
       "height": null,
       "justify_content": null,
       "justify_items": null,
       "left": null,
       "margin": null,
       "max_height": null,
       "max_width": null,
       "min_height": null,
       "min_width": null,
       "object_fit": null,
       "object_position": null,
       "order": null,
       "overflow": null,
       "overflow_x": null,
       "overflow_y": null,
       "padding": null,
       "right": null,
       "top": null,
       "visibility": null,
       "width": null
      }
     },
     "643336790ed247b39e41d6b41de2050a": {
      "model_module": "@jupyter-widgets/controls",
      "model_module_version": "1.5.0",
      "model_name": "HBoxModel",
      "state": {
       "_dom_classes": [],
       "_model_module": "@jupyter-widgets/controls",
       "_model_module_version": "1.5.0",
       "_model_name": "HBoxModel",
       "_view_count": null,
       "_view_module": "@jupyter-widgets/controls",
       "_view_module_version": "1.5.0",
       "_view_name": "HBoxView",
       "box_style": "",
       "children": [
        "IPY_MODEL_9ed760d827ee4970a5e14410e6f50f7c",
        "IPY_MODEL_6a28d1cc9d324d80b5341663559a4c73",
        "IPY_MODEL_ab897b12fab24821a119a73990b4704e"
       ],
       "layout": "IPY_MODEL_64062a4db4114d58892b3a7b1c220c46"
      }
     },
     "643ab35879e54dbebc77b128f45bbcdd": {
      "model_module": "@jupyter-widgets/controls",
      "model_module_version": "1.5.0",
      "model_name": "DescriptionStyleModel",
      "state": {
       "_model_module": "@jupyter-widgets/controls",
       "_model_module_version": "1.5.0",
       "_model_name": "DescriptionStyleModel",
       "_view_count": null,
       "_view_module": "@jupyter-widgets/base",
       "_view_module_version": "1.2.0",
       "_view_name": "StyleView",
       "description_width": ""
      }
     },
     "6a28d1cc9d324d80b5341663559a4c73": {
      "model_module": "@jupyter-widgets/controls",
      "model_module_version": "1.5.0",
      "model_name": "FloatProgressModel",
      "state": {
       "_dom_classes": [],
       "_model_module": "@jupyter-widgets/controls",
       "_model_module_version": "1.5.0",
       "_model_name": "FloatProgressModel",
       "_view_count": null,
       "_view_module": "@jupyter-widgets/controls",
       "_view_module_version": "1.5.0",
       "_view_name": "ProgressView",
       "bar_style": "success",
       "description": "",
       "description_tooltip": null,
       "layout": "IPY_MODEL_3e31b036b5b549bb95ee4879e7448f18",
       "max": 29.0,
       "min": 0.0,
       "orientation": "horizontal",
       "style": "IPY_MODEL_b10775d5f0b243719cfdaddc0270165f",
       "value": 29.0
      }
     },
     "71f47fbb006340b6838e053896abff9c": {
      "model_module": "@jupyter-widgets/base",
      "model_module_version": "1.2.0",
      "model_name": "LayoutModel",
      "state": {
       "_model_module": "@jupyter-widgets/base",
       "_model_module_version": "1.2.0",
       "_model_name": "LayoutModel",
       "_view_count": null,
       "_view_module": "@jupyter-widgets/base",
       "_view_module_version": "1.2.0",
       "_view_name": "LayoutView",
       "align_content": null,
       "align_items": null,
       "align_self": null,
       "border": null,
       "bottom": null,
       "display": null,
       "flex": null,
       "flex_flow": null,
       "grid_area": null,
       "grid_auto_columns": null,
       "grid_auto_flow": null,
       "grid_auto_rows": null,
       "grid_column": null,
       "grid_gap": null,
       "grid_row": null,
       "grid_template_areas": null,
       "grid_template_columns": null,
       "grid_template_rows": null,
       "height": null,
       "justify_content": null,
       "justify_items": null,
       "left": null,
       "margin": null,
       "max_height": null,
       "max_width": null,
       "min_height": null,
       "min_width": null,
       "object_fit": null,
       "object_position": null,
       "order": null,
       "overflow": null,
       "overflow_x": null,
       "overflow_y": null,
       "padding": null,
       "right": null,
       "top": null,
       "visibility": null,
       "width": null
      }
     },
     "721e10d5128e429d98c11ff7a2ba9993": {
      "model_module": "@jupyter-widgets/controls",
      "model_module_version": "1.5.0",
      "model_name": "DescriptionStyleModel",
      "state": {
       "_model_module": "@jupyter-widgets/controls",
       "_model_module_version": "1.5.0",
       "_model_name": "DescriptionStyleModel",
       "_view_count": null,
       "_view_module": "@jupyter-widgets/base",
       "_view_module_version": "1.2.0",
       "_view_name": "StyleView",
       "description_width": ""
      }
     },
     "793957246d774d688ceece68b8a6faf7": {
      "model_module": "@jupyter-widgets/controls",
      "model_module_version": "1.5.0",
      "model_name": "FloatProgressModel",
      "state": {
       "_dom_classes": [],
       "_model_module": "@jupyter-widgets/controls",
       "_model_module_version": "1.5.0",
       "_model_name": "FloatProgressModel",
       "_view_count": null,
       "_view_module": "@jupyter-widgets/controls",
       "_view_module_version": "1.5.0",
       "_view_name": "ProgressView",
       "bar_style": "success",
       "description": "",
       "description_tooltip": null,
       "layout": "IPY_MODEL_3c2d94af0b6844ddad8623d200db1e27",
       "max": 1961828.0,
       "min": 0.0,
       "orientation": "horizontal",
       "style": "IPY_MODEL_de8a0a2c388c4301a42683bb799a6532",
       "value": 1961828.0
      }
     },
     "79d251fd5e0549748726afb593f7fc2d": {
      "model_module": "@jupyter-widgets/controls",
      "model_module_version": "1.5.0",
      "model_name": "HBoxModel",
      "state": {
       "_dom_classes": [],
       "_model_module": "@jupyter-widgets/controls",
       "_model_module_version": "1.5.0",
       "_model_name": "HBoxModel",
       "_view_count": null,
       "_view_module": "@jupyter-widgets/controls",
       "_view_module_version": "1.5.0",
       "_view_name": "HBoxView",
       "box_style": "",
       "children": [
        "IPY_MODEL_9fb34d098b3b4eb8aed4f07e027c8d89",
        "IPY_MODEL_793957246d774d688ceece68b8a6faf7",
        "IPY_MODEL_f2baba76160a425a9cc78f194c0ba543"
       ],
       "layout": "IPY_MODEL_f8ca7066302f452480bb1fe75d1cb9dc"
      }
     },
     "8355af208ab04439841894c0382ab0d2": {
      "model_module": "@jupyter-widgets/base",
      "model_module_version": "1.2.0",
      "model_name": "LayoutModel",
      "state": {
       "_model_module": "@jupyter-widgets/base",
       "_model_module_version": "1.2.0",
       "_model_name": "LayoutModel",
       "_view_count": null,
       "_view_module": "@jupyter-widgets/base",
       "_view_module_version": "1.2.0",
       "_view_name": "LayoutView",
       "align_content": null,
       "align_items": null,
       "align_self": null,
       "border": null,
       "bottom": null,
       "display": null,
       "flex": null,
       "flex_flow": null,
       "grid_area": null,
       "grid_auto_columns": null,
       "grid_auto_flow": null,
       "grid_auto_rows": null,
       "grid_column": null,
       "grid_gap": null,
       "grid_row": null,
       "grid_template_areas": null,
       "grid_template_columns": null,
       "grid_template_rows": null,
       "height": null,
       "justify_content": null,
       "justify_items": null,
       "left": null,
       "margin": null,
       "max_height": null,
       "max_width": null,
       "min_height": null,
       "min_width": null,
       "object_fit": null,
       "object_position": null,
       "order": null,
       "overflow": null,
       "overflow_x": null,
       "overflow_y": null,
       "padding": null,
       "right": null,
       "top": null,
       "visibility": null,
       "width": null
      }
     },
     "83f96ec7dbee43c3ab864e3a77cf84db": {
      "model_module": "@jupyter-widgets/base",
      "model_module_version": "1.2.0",
      "model_name": "LayoutModel",
      "state": {
       "_model_module": "@jupyter-widgets/base",
       "_model_module_version": "1.2.0",
       "_model_name": "LayoutModel",
       "_view_count": null,
       "_view_module": "@jupyter-widgets/base",
       "_view_module_version": "1.2.0",
       "_view_name": "LayoutView",
       "align_content": null,
       "align_items": null,
       "align_self": null,
       "border": null,
       "bottom": null,
       "display": null,
       "flex": null,
       "flex_flow": null,
       "grid_area": null,
       "grid_auto_columns": null,
       "grid_auto_flow": null,
       "grid_auto_rows": null,
       "grid_column": null,
       "grid_gap": null,
       "grid_row": null,
       "grid_template_areas": null,
       "grid_template_columns": null,
       "grid_template_rows": null,
       "height": null,
       "justify_content": null,
       "justify_items": null,
       "left": null,
       "margin": null,
       "max_height": null,
       "max_width": null,
       "min_height": null,
       "min_width": null,
       "object_fit": null,
       "object_position": null,
       "order": null,
       "overflow": null,
       "overflow_x": null,
       "overflow_y": null,
       "padding": null,
       "right": null,
       "top": null,
       "visibility": null,
       "width": null
      }
     },
     "8b18c1b85f3c446c905650ee76028402": {
      "model_module": "@jupyter-widgets/base",
      "model_module_version": "1.2.0",
      "model_name": "LayoutModel",
      "state": {
       "_model_module": "@jupyter-widgets/base",
       "_model_module_version": "1.2.0",
       "_model_name": "LayoutModel",
       "_view_count": null,
       "_view_module": "@jupyter-widgets/base",
       "_view_module_version": "1.2.0",
       "_view_name": "LayoutView",
       "align_content": null,
       "align_items": null,
       "align_self": null,
       "border": null,
       "bottom": null,
       "display": null,
       "flex": null,
       "flex_flow": null,
       "grid_area": null,
       "grid_auto_columns": null,
       "grid_auto_flow": null,
       "grid_auto_rows": null,
       "grid_column": null,
       "grid_gap": null,
       "grid_row": null,
       "grid_template_areas": null,
       "grid_template_columns": null,
       "grid_template_rows": null,
       "height": null,
       "justify_content": null,
       "justify_items": null,
       "left": null,
       "margin": null,
       "max_height": null,
       "max_width": null,
       "min_height": null,
       "min_width": null,
       "object_fit": null,
       "object_position": null,
       "order": null,
       "overflow": null,
       "overflow_x": null,
       "overflow_y": null,
       "padding": null,
       "right": null,
       "top": null,
       "visibility": null,
       "width": null
      }
     },
     "8ea63b108f08444a8503b5a3c7979ec1": {
      "model_module": "@jupyter-widgets/controls",
      "model_module_version": "1.5.0",
      "model_name": "DescriptionStyleModel",
      "state": {
       "_model_module": "@jupyter-widgets/controls",
       "_model_module_version": "1.5.0",
       "_model_name": "DescriptionStyleModel",
       "_view_count": null,
       "_view_module": "@jupyter-widgets/base",
       "_view_module_version": "1.2.0",
       "_view_name": "StyleView",
       "description_width": ""
      }
     },
     "96c4cce68b8a4b6f95c96f14d3d74299": {
      "model_module": "@jupyter-widgets/controls",
      "model_module_version": "1.5.0",
      "model_name": "HBoxModel",
      "state": {
       "_dom_classes": [],
       "_model_module": "@jupyter-widgets/controls",
       "_model_module_version": "1.5.0",
       "_model_name": "HBoxModel",
       "_view_count": null,
       "_view_module": "@jupyter-widgets/controls",
       "_view_module_version": "1.5.0",
       "_view_name": "HBoxView",
       "box_style": "",
       "children": [
        "IPY_MODEL_0d423ff0d6d34107b718b74d9aa3e01d",
        "IPY_MODEL_5f0fee4b46ad4307bd89af46c4b366d5",
        "IPY_MODEL_bd06582c32a94b07af52ee6133f2260b"
       ],
       "layout": "IPY_MODEL_11d29abc59584a62b204d5bfa634035b"
      }
     },
     "9799ad452e41499bb0ef9d374a503de7": {
      "model_module": "@jupyter-widgets/controls",
      "model_module_version": "1.5.0",
      "model_name": "DescriptionStyleModel",
      "state": {
       "_model_module": "@jupyter-widgets/controls",
       "_model_module_version": "1.5.0",
       "_model_name": "DescriptionStyleModel",
       "_view_count": null,
       "_view_module": "@jupyter-widgets/base",
       "_view_module_version": "1.2.0",
       "_view_name": "StyleView",
       "description_width": ""
      }
     },
     "998537e14f3a47019bd2ed7d789b7118": {
      "model_module": "@jupyter-widgets/controls",
      "model_module_version": "1.5.0",
      "model_name": "DescriptionStyleModel",
      "state": {
       "_model_module": "@jupyter-widgets/controls",
       "_model_module_version": "1.5.0",
       "_model_name": "DescriptionStyleModel",
       "_view_count": null,
       "_view_module": "@jupyter-widgets/base",
       "_view_module_version": "1.2.0",
       "_view_name": "StyleView",
       "description_width": ""
      }
     },
     "9c3951fb315b475bbf3c3bf4ea0bc82d": {
      "model_module": "@jupyter-widgets/controls",
      "model_module_version": "1.5.0",
      "model_name": "HTMLModel",
      "state": {
       "_dom_classes": [],
       "_model_module": "@jupyter-widgets/controls",
       "_model_module_version": "1.5.0",
       "_model_name": "HTMLModel",
       "_view_count": null,
       "_view_module": "@jupyter-widgets/controls",
       "_view_module_version": "1.5.0",
       "_view_name": "HTMLView",
       "description": "",
       "description_tooltip": null,
       "layout": "IPY_MODEL_3bdc628afd24411b94c1ae04e8229193",
       "placeholder": "​",
       "style": "IPY_MODEL_136ee549112e40af9689b1b3d1f4d46b",
       "value": "Downloading: 100%"
      }
     },
     "9ebb644c0bf94553b4bd37b7a35dfb00": {
      "model_module": "@jupyter-widgets/base",
      "model_module_version": "1.2.0",
      "model_name": "LayoutModel",
      "state": {
       "_model_module": "@jupyter-widgets/base",
       "_model_module_version": "1.2.0",
       "_model_name": "LayoutModel",
       "_view_count": null,
       "_view_module": "@jupyter-widgets/base",
       "_view_module_version": "1.2.0",
       "_view_name": "LayoutView",
       "align_content": null,
       "align_items": null,
       "align_self": null,
       "border": null,
       "bottom": null,
       "display": null,
       "flex": null,
       "flex_flow": null,
       "grid_area": null,
       "grid_auto_columns": null,
       "grid_auto_flow": null,
       "grid_auto_rows": null,
       "grid_column": null,
       "grid_gap": null,
       "grid_row": null,
       "grid_template_areas": null,
       "grid_template_columns": null,
       "grid_template_rows": null,
       "height": null,
       "justify_content": null,
       "justify_items": null,
       "left": null,
       "margin": null,
       "max_height": null,
       "max_width": null,
       "min_height": null,
       "min_width": null,
       "object_fit": null,
       "object_position": null,
       "order": null,
       "overflow": null,
       "overflow_x": null,
       "overflow_y": null,
       "padding": null,
       "right": null,
       "top": null,
       "visibility": null,
       "width": null
      }
     },
     "9ed760d827ee4970a5e14410e6f50f7c": {
      "model_module": "@jupyter-widgets/controls",
      "model_module_version": "1.5.0",
      "model_name": "HTMLModel",
      "state": {
       "_dom_classes": [],
       "_model_module": "@jupyter-widgets/controls",
       "_model_module_version": "1.5.0",
       "_model_name": "HTMLModel",
       "_view_count": null,
       "_view_module": "@jupyter-widgets/controls",
       "_view_module_version": "1.5.0",
       "_view_name": "HTMLView",
       "description": "",
       "description_tooltip": null,
       "layout": "IPY_MODEL_add623993ab548979b8866c92b2b4bee",
       "placeholder": "​",
       "style": "IPY_MODEL_643ab35879e54dbebc77b128f45bbcdd",
       "value": "Downloading: 100%"
      }
     },
     "9fb34d098b3b4eb8aed4f07e027c8d89": {
      "model_module": "@jupyter-widgets/controls",
      "model_module_version": "1.5.0",
      "model_name": "HTMLModel",
      "state": {
       "_dom_classes": [],
       "_model_module": "@jupyter-widgets/controls",
       "_model_module_version": "1.5.0",
       "_model_name": "HTMLModel",
       "_view_count": null,
       "_view_module": "@jupyter-widgets/controls",
       "_view_module_version": "1.5.0",
       "_view_name": "HTMLView",
       "description": "",
       "description_tooltip": null,
       "layout": "IPY_MODEL_8b18c1b85f3c446c905650ee76028402",
       "placeholder": "​",
       "style": "IPY_MODEL_998537e14f3a47019bd2ed7d789b7118",
       "value": "Downloading: 100%"
      }
     },
     "a232f54a54ec438e82226d2f03d1b59f": {
      "model_module": "@jupyter-widgets/base",
      "model_module_version": "1.2.0",
      "model_name": "LayoutModel",
      "state": {
       "_model_module": "@jupyter-widgets/base",
       "_model_module_version": "1.2.0",
       "_model_name": "LayoutModel",
       "_view_count": null,
       "_view_module": "@jupyter-widgets/base",
       "_view_module_version": "1.2.0",
       "_view_name": "LayoutView",
       "align_content": null,
       "align_items": null,
       "align_self": null,
       "border": null,
       "bottom": null,
       "display": null,
       "flex": null,
       "flex_flow": null,
       "grid_area": null,
       "grid_auto_columns": null,
       "grid_auto_flow": null,
       "grid_auto_rows": null,
       "grid_column": null,
       "grid_gap": null,
       "grid_row": null,
       "grid_template_areas": null,
       "grid_template_columns": null,
       "grid_template_rows": null,
       "height": null,
       "justify_content": null,
       "justify_items": null,
       "left": null,
       "margin": null,
       "max_height": null,
       "max_width": null,
       "min_height": null,
       "min_width": null,
       "object_fit": null,
       "object_position": null,
       "order": null,
       "overflow": null,
       "overflow_x": null,
       "overflow_y": null,
       "padding": null,
       "right": null,
       "top": null,
       "visibility": null,
       "width": null
      }
     },
     "ab897b12fab24821a119a73990b4704e": {
      "model_module": "@jupyter-widgets/controls",
      "model_module_version": "1.5.0",
      "model_name": "HTMLModel",
      "state": {
       "_dom_classes": [],
       "_model_module": "@jupyter-widgets/controls",
       "_model_module_version": "1.5.0",
       "_model_name": "HTMLModel",
       "_view_count": null,
       "_view_module": "@jupyter-widgets/controls",
       "_view_module_version": "1.5.0",
       "_view_name": "HTMLView",
       "description": "",
       "description_tooltip": null,
       "layout": "IPY_MODEL_b5ccec02c7d140a481ba7474ab5697f7",
       "placeholder": "​",
       "style": "IPY_MODEL_afe4e527a01a4fa1afa07aff1c53dca6",
       "value": " 29.0/29.0 [00:00&lt;00:00, 1.13kB/s]"
      }
     },
     "abb23e2718794658ae30a59f446913bb": {
      "model_module": "@jupyter-widgets/base",
      "model_module_version": "1.2.0",
      "model_name": "LayoutModel",
      "state": {
       "_model_module": "@jupyter-widgets/base",
       "_model_module_version": "1.2.0",
       "_model_name": "LayoutModel",
       "_view_count": null,
       "_view_module": "@jupyter-widgets/base",
       "_view_module_version": "1.2.0",
       "_view_name": "LayoutView",
       "align_content": null,
       "align_items": null,
       "align_self": null,
       "border": null,
       "bottom": null,
       "display": null,
       "flex": null,
       "flex_flow": null,
       "grid_area": null,
       "grid_auto_columns": null,
       "grid_auto_flow": null,
       "grid_auto_rows": null,
       "grid_column": null,
       "grid_gap": null,
       "grid_row": null,
       "grid_template_areas": null,
       "grid_template_columns": null,
       "grid_template_rows": null,
       "height": null,
       "justify_content": null,
       "justify_items": null,
       "left": null,
       "margin": null,
       "max_height": null,
       "max_width": null,
       "min_height": null,
       "min_width": null,
       "object_fit": null,
       "object_position": null,
       "order": null,
       "overflow": null,
       "overflow_x": null,
       "overflow_y": null,
       "padding": null,
       "right": null,
       "top": null,
       "visibility": null,
       "width": null
      }
     },
     "add623993ab548979b8866c92b2b4bee": {
      "model_module": "@jupyter-widgets/base",
      "model_module_version": "1.2.0",
      "model_name": "LayoutModel",
      "state": {
       "_model_module": "@jupyter-widgets/base",
       "_model_module_version": "1.2.0",
       "_model_name": "LayoutModel",
       "_view_count": null,
       "_view_module": "@jupyter-widgets/base",
       "_view_module_version": "1.2.0",
       "_view_name": "LayoutView",
       "align_content": null,
       "align_items": null,
       "align_self": null,
       "border": null,
       "bottom": null,
       "display": null,
       "flex": null,
       "flex_flow": null,
       "grid_area": null,
       "grid_auto_columns": null,
       "grid_auto_flow": null,
       "grid_auto_rows": null,
       "grid_column": null,
       "grid_gap": null,
       "grid_row": null,
       "grid_template_areas": null,
       "grid_template_columns": null,
       "grid_template_rows": null,
       "height": null,
       "justify_content": null,
       "justify_items": null,
       "left": null,
       "margin": null,
       "max_height": null,
       "max_width": null,
       "min_height": null,
       "min_width": null,
       "object_fit": null,
       "object_position": null,
       "order": null,
       "overflow": null,
       "overflow_x": null,
       "overflow_y": null,
       "padding": null,
       "right": null,
       "top": null,
       "visibility": null,
       "width": null
      }
     },
     "afe4e527a01a4fa1afa07aff1c53dca6": {
      "model_module": "@jupyter-widgets/controls",
      "model_module_version": "1.5.0",
      "model_name": "DescriptionStyleModel",
      "state": {
       "_model_module": "@jupyter-widgets/controls",
       "_model_module_version": "1.5.0",
       "_model_name": "DescriptionStyleModel",
       "_view_count": null,
       "_view_module": "@jupyter-widgets/base",
       "_view_module_version": "1.2.0",
       "_view_name": "StyleView",
       "description_width": ""
      }
     },
     "b10775d5f0b243719cfdaddc0270165f": {
      "model_module": "@jupyter-widgets/controls",
      "model_module_version": "1.5.0",
      "model_name": "ProgressStyleModel",
      "state": {
       "_model_module": "@jupyter-widgets/controls",
       "_model_module_version": "1.5.0",
       "_model_name": "ProgressStyleModel",
       "_view_count": null,
       "_view_module": "@jupyter-widgets/base",
       "_view_module_version": "1.2.0",
       "_view_name": "StyleView",
       "bar_color": null,
       "description_width": ""
      }
     },
     "b5ccec02c7d140a481ba7474ab5697f7": {
      "model_module": "@jupyter-widgets/base",
      "model_module_version": "1.2.0",
      "model_name": "LayoutModel",
      "state": {
       "_model_module": "@jupyter-widgets/base",
       "_model_module_version": "1.2.0",
       "_model_name": "LayoutModel",
       "_view_count": null,
       "_view_module": "@jupyter-widgets/base",
       "_view_module_version": "1.2.0",
       "_view_name": "LayoutView",
       "align_content": null,
       "align_items": null,
       "align_self": null,
       "border": null,
       "bottom": null,
       "display": null,
       "flex": null,
       "flex_flow": null,
       "grid_area": null,
       "grid_auto_columns": null,
       "grid_auto_flow": null,
       "grid_auto_rows": null,
       "grid_column": null,
       "grid_gap": null,
       "grid_row": null,
       "grid_template_areas": null,
       "grid_template_columns": null,
       "grid_template_rows": null,
       "height": null,
       "justify_content": null,
       "justify_items": null,
       "left": null,
       "margin": null,
       "max_height": null,
       "max_width": null,
       "min_height": null,
       "min_width": null,
       "object_fit": null,
       "object_position": null,
       "order": null,
       "overflow": null,
       "overflow_x": null,
       "overflow_y": null,
       "padding": null,
       "right": null,
       "top": null,
       "visibility": null,
       "width": null
      }
     },
     "bbfb986e04274731a767cd7c94d02c22": {
      "model_module": "@jupyter-widgets/controls",
      "model_module_version": "1.5.0",
      "model_name": "DescriptionStyleModel",
      "state": {
       "_model_module": "@jupyter-widgets/controls",
       "_model_module_version": "1.5.0",
       "_model_name": "DescriptionStyleModel",
       "_view_count": null,
       "_view_module": "@jupyter-widgets/base",
       "_view_module_version": "1.2.0",
       "_view_name": "StyleView",
       "description_width": ""
      }
     },
     "bd06582c32a94b07af52ee6133f2260b": {
      "model_module": "@jupyter-widgets/controls",
      "model_module_version": "1.5.0",
      "model_name": "HTMLModel",
      "state": {
       "_dom_classes": [],
       "_model_module": "@jupyter-widgets/controls",
       "_model_module_version": "1.5.0",
       "_model_name": "HTMLModel",
       "_view_count": null,
       "_view_module": "@jupyter-widgets/controls",
       "_view_module_version": "1.5.0",
       "_view_name": "HTMLView",
       "description": "",
       "description_tooltip": null,
       "layout": "IPY_MODEL_578837691e9443a39a56527f4e62fb57",
       "placeholder": "​",
       "style": "IPY_MODEL_08b6a1e35be5453bbc4d8e2d18fd7da8",
       "value": " 681M/681M [00:17&lt;00:00, 43.3MB/s]"
      }
     },
     "c2796f8c62d24d62a0dc7e88d78609e0": {
      "model_module": "@jupyter-widgets/controls",
      "model_module_version": "1.5.0",
      "model_name": "DescriptionStyleModel",
      "state": {
       "_model_module": "@jupyter-widgets/controls",
       "_model_module_version": "1.5.0",
       "_model_name": "DescriptionStyleModel",
       "_view_count": null,
       "_view_module": "@jupyter-widgets/base",
       "_view_module_version": "1.2.0",
       "_view_name": "StyleView",
       "description_width": ""
      }
     },
     "d8c4412ae49d40deadd69f4242ebff9c": {
      "model_module": "@jupyter-widgets/controls",
      "model_module_version": "1.5.0",
      "model_name": "FloatProgressModel",
      "state": {
       "_dom_classes": [],
       "_model_module": "@jupyter-widgets/controls",
       "_model_module_version": "1.5.0",
       "_model_name": "FloatProgressModel",
       "_view_count": null,
       "_view_module": "@jupyter-widgets/controls",
       "_view_module_version": "1.5.0",
       "_view_name": "ProgressView",
       "bar_style": "success",
       "description": "",
       "description_tooltip": null,
       "layout": "IPY_MODEL_9ebb644c0bf94553b4bd37b7a35dfb00",
       "max": 995526.0,
       "min": 0.0,
       "orientation": "horizontal",
       "style": "IPY_MODEL_3441f7d05934457a9fc2da296d917b1b",
       "value": 995526.0
      }
     },
     "de8a0a2c388c4301a42683bb799a6532": {
      "model_module": "@jupyter-widgets/controls",
      "model_module_version": "1.5.0",
      "model_name": "ProgressStyleModel",
      "state": {
       "_model_module": "@jupyter-widgets/controls",
       "_model_module_version": "1.5.0",
       "_model_name": "ProgressStyleModel",
       "_view_count": null,
       "_view_module": "@jupyter-widgets/base",
       "_view_module_version": "1.2.0",
       "_view_name": "StyleView",
       "bar_color": null,
       "description_width": ""
      }
     },
     "e3102d672c4f495d9840410710b6029f": {
      "model_module": "@jupyter-widgets/base",
      "model_module_version": "1.2.0",
      "model_name": "LayoutModel",
      "state": {
       "_model_module": "@jupyter-widgets/base",
       "_model_module_version": "1.2.0",
       "_model_name": "LayoutModel",
       "_view_count": null,
       "_view_module": "@jupyter-widgets/base",
       "_view_module_version": "1.2.0",
       "_view_name": "LayoutView",
       "align_content": null,
       "align_items": null,
       "align_self": null,
       "border": null,
       "bottom": null,
       "display": null,
       "flex": null,
       "flex_flow": null,
       "grid_area": null,
       "grid_auto_columns": null,
       "grid_auto_flow": null,
       "grid_auto_rows": null,
       "grid_column": null,
       "grid_gap": null,
       "grid_row": null,
       "grid_template_areas": null,
       "grid_template_columns": null,
       "grid_template_rows": null,
       "height": null,
       "justify_content": null,
       "justify_items": null,
       "left": null,
       "margin": null,
       "max_height": null,
       "max_width": null,
       "min_height": null,
       "min_width": null,
       "object_fit": null,
       "object_position": null,
       "order": null,
       "overflow": null,
       "overflow_x": null,
       "overflow_y": null,
       "padding": null,
       "right": null,
       "top": null,
       "visibility": null,
       "width": null
      }
     },
     "f2baba76160a425a9cc78f194c0ba543": {
      "model_module": "@jupyter-widgets/controls",
      "model_module_version": "1.5.0",
      "model_name": "HTMLModel",
      "state": {
       "_dom_classes": [],
       "_model_module": "@jupyter-widgets/controls",
       "_model_module_version": "1.5.0",
       "_model_name": "HTMLModel",
       "_view_count": null,
       "_view_module": "@jupyter-widgets/controls",
       "_view_module_version": "1.5.0",
       "_view_name": "HTMLView",
       "description": "",
       "description_tooltip": null,
       "layout": "IPY_MODEL_8355af208ab04439841894c0382ab0d2",
       "placeholder": "​",
       "style": "IPY_MODEL_8ea63b108f08444a8503b5a3c7979ec1",
       "value": " 1.87M/1.87M [00:00&lt;00:00, 2.72MB/s]"
      }
     },
     "f3409901cab0470f97240af7b1741d16": {
      "model_module": "@jupyter-widgets/base",
      "model_module_version": "1.2.0",
      "model_name": "LayoutModel",
      "state": {
       "_model_module": "@jupyter-widgets/base",
       "_model_module_version": "1.2.0",
       "_model_name": "LayoutModel",
       "_view_count": null,
       "_view_module": "@jupyter-widgets/base",
       "_view_module_version": "1.2.0",
       "_view_name": "LayoutView",
       "align_content": null,
       "align_items": null,
       "align_self": null,
       "border": null,
       "bottom": null,
       "display": null,
       "flex": null,
       "flex_flow": null,
       "grid_area": null,
       "grid_auto_columns": null,
       "grid_auto_flow": null,
       "grid_auto_rows": null,
       "grid_column": null,
       "grid_gap": null,
       "grid_row": null,
       "grid_template_areas": null,
       "grid_template_columns": null,
       "grid_template_rows": null,
       "height": null,
       "justify_content": null,
       "justify_items": null,
       "left": null,
       "margin": null,
       "max_height": null,
       "max_width": null,
       "min_height": null,
       "min_width": null,
       "object_fit": null,
       "object_position": null,
       "order": null,
       "overflow": null,
       "overflow_x": null,
       "overflow_y": null,
       "padding": null,
       "right": null,
       "top": null,
       "visibility": null,
       "width": null
      }
     },
     "f37b5ccb27fd461e9199a37e8a636949": {
      "model_module": "@jupyter-widgets/base",
      "model_module_version": "1.2.0",
      "model_name": "LayoutModel",
      "state": {
       "_model_module": "@jupyter-widgets/base",
       "_model_module_version": "1.2.0",
       "_model_name": "LayoutModel",
       "_view_count": null,
       "_view_module": "@jupyter-widgets/base",
       "_view_module_version": "1.2.0",
       "_view_name": "LayoutView",
       "align_content": null,
       "align_items": null,
       "align_self": null,
       "border": null,
       "bottom": null,
       "display": null,
       "flex": null,
       "flex_flow": null,
       "grid_area": null,
       "grid_auto_columns": null,
       "grid_auto_flow": null,
       "grid_auto_rows": null,
       "grid_column": null,
       "grid_gap": null,
       "grid_row": null,
       "grid_template_areas": null,
       "grid_template_columns": null,
       "grid_template_rows": null,
       "height": null,
       "justify_content": null,
       "justify_items": null,
       "left": null,
       "margin": null,
       "max_height": null,
       "max_width": null,
       "min_height": null,
       "min_width": null,
       "object_fit": null,
       "object_position": null,
       "order": null,
       "overflow": null,
       "overflow_x": null,
       "overflow_y": null,
       "padding": null,
       "right": null,
       "top": null,
       "visibility": null,
       "width": null
      }
     },
     "f8ca7066302f452480bb1fe75d1cb9dc": {
      "model_module": "@jupyter-widgets/base",
      "model_module_version": "1.2.0",
      "model_name": "LayoutModel",
      "state": {
       "_model_module": "@jupyter-widgets/base",
       "_model_module_version": "1.2.0",
       "_model_name": "LayoutModel",
       "_view_count": null,
       "_view_module": "@jupyter-widgets/base",
       "_view_module_version": "1.2.0",
       "_view_name": "LayoutView",
       "align_content": null,
       "align_items": null,
       "align_self": null,
       "border": null,
       "bottom": null,
       "display": null,
       "flex": null,
       "flex_flow": null,
       "grid_area": null,
       "grid_auto_columns": null,
       "grid_auto_flow": null,
       "grid_auto_rows": null,
       "grid_column": null,
       "grid_gap": null,
       "grid_row": null,
       "grid_template_areas": null,
       "grid_template_columns": null,
       "grid_template_rows": null,
       "height": null,
       "justify_content": null,
       "justify_items": null,
       "left": null,
       "margin": null,
       "max_height": null,
       "max_width": null,
       "min_height": null,
       "min_width": null,
       "object_fit": null,
       "object_position": null,
       "order": null,
       "overflow": null,
       "overflow_x": null,
       "overflow_y": null,
       "padding": null,
       "right": null,
       "top": null,
       "visibility": null,
       "width": null
      }
     }
    },
    "version_major": 2,
    "version_minor": 0
   }
  }
 },
 "nbformat": 4,
 "nbformat_minor": 5
}
