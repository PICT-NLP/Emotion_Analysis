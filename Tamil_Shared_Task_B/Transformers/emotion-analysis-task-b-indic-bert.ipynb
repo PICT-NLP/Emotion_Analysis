{
 "cells": [
  {
   "cell_type": "code",
   "execution_count": 13,
   "metadata": {},
   "outputs": [],
   "source": [
    "import torch"
   ]
  },
  {
   "cell_type": "code",
   "execution_count": 14,
   "metadata": {},
   "outputs": [],
   "source": [
    "use_cuda = torch.cuda.is_available()"
   ]
  },
  {
   "cell_type": "code",
   "execution_count": 15,
   "metadata": {},
   "outputs": [
    {
     "data": {
      "text/plain": [
       "True"
      ]
     },
     "execution_count": 15,
     "metadata": {},
     "output_type": "execute_result"
    }
   ],
   "source": [
    "use_cuda"
   ]
  },
  {
   "cell_type": "markdown",
   "metadata": {
    "execution": {
     "iopub.execute_input": "2022-02-18T18:54:26.135009Z",
     "iopub.status.busy": "2022-02-18T18:54:26.134741Z",
     "iopub.status.idle": "2022-02-18T18:54:26.139338Z",
     "shell.execute_reply": "2022-02-18T18:54:26.138485Z",
     "shell.execute_reply.started": "2022-02-18T18:54:26.134979Z"
    },
    "id": "eLzneAV0SqgY",
    "papermill": {
     "duration": 0.029897,
     "end_time": "2022-03-04T12:09:14.306485",
     "exception": false,
     "start_time": "2022-03-04T12:09:14.276588",
     "status": "completed"
    },
    "tags": []
   },
   "source": [
    "## Importing Libraries\n"
   ]
  },
  {
   "cell_type": "code",
   "execution_count": 16,
   "metadata": {
    "execution": {
     "iopub.execute_input": "2022-03-09T16:26:55.643380Z",
     "iopub.status.busy": "2022-03-09T16:26:55.640405Z",
     "iopub.status.idle": "2022-03-09T16:27:14.481055Z",
     "shell.execute_reply": "2022-03-09T16:27:14.480222Z",
     "shell.execute_reply.started": "2022-03-09T16:26:55.643223Z"
    },
    "papermill": {
     "duration": 18.438633,
     "end_time": "2022-03-04T12:09:32.778864",
     "exception": false,
     "start_time": "2022-03-04T12:09:14.340231",
     "status": "completed"
    },
    "tags": []
   },
   "outputs": [],
   "source": [
    "!pip -q install simpletransformers"
   ]
  },
  {
   "cell_type": "code",
   "execution_count": 17,
   "metadata": {
    "execution": {
     "iopub.execute_input": "2022-03-09T16:27:14.485032Z",
     "iopub.status.busy": "2022-03-09T16:27:14.484818Z",
     "iopub.status.idle": "2022-03-09T16:27:24.221582Z",
     "shell.execute_reply": "2022-03-09T16:27:24.220737Z",
     "shell.execute_reply.started": "2022-03-09T16:27:14.485008Z"
    },
    "papermill": {
     "duration": 9.504007,
     "end_time": "2022-03-04T12:09:42.302017",
     "exception": false,
     "start_time": "2022-03-04T12:09:32.79801",
     "status": "completed"
    },
    "tags": []
   },
   "outputs": [],
   "source": [
    "!pip -q install bs4"
   ]
  },
  {
   "cell_type": "code",
   "execution_count": 18,
   "metadata": {
    "execution": {
     "iopub.execute_input": "2022-03-09T16:27:24.223421Z",
     "iopub.status.busy": "2022-03-09T16:27:24.223164Z",
     "iopub.status.idle": "2022-03-09T16:27:34.632995Z",
     "shell.execute_reply": "2022-03-09T16:27:34.631972Z",
     "shell.execute_reply.started": "2022-03-09T16:27:24.223387Z"
    },
    "papermill": {
     "duration": 10.050651,
     "end_time": "2022-03-04T12:09:52.371444",
     "exception": false,
     "start_time": "2022-03-04T12:09:42.320793",
     "status": "completed"
    },
    "tags": []
   },
   "outputs": [],
   "source": [
    "import pandas as pd\n",
    "from simpletransformers.classification import ClassificationModel, ClassificationArgs\n",
    "import sklearn\n",
    "from sklearn.metrics import classification_report\n",
    "from sklearn.metrics import f1_score"
   ]
  },
  {
   "cell_type": "markdown",
   "metadata": {
    "papermill": {
     "duration": 0.018324,
     "end_time": "2022-03-04T12:09:52.408426",
     "exception": false,
     "start_time": "2022-03-04T12:09:52.390102",
     "status": "completed"
    },
    "tags": []
   },
   "source": [
    "## Loading Files From Dataset"
   ]
  },
  {
   "cell_type": "code",
   "execution_count": 19,
   "metadata": {
    "execution": {
     "iopub.execute_input": "2022-03-09T16:27:34.635926Z",
     "iopub.status.busy": "2022-03-09T16:27:34.635662Z",
     "iopub.status.idle": "2022-03-09T16:27:35.022948Z",
     "shell.execute_reply": "2022-03-09T16:27:35.022085Z",
     "shell.execute_reply.started": "2022-03-09T16:27:34.635897Z"
    },
    "id": "4MR9gdhcSOcp",
    "papermill": {
     "duration": 0.205832,
     "end_time": "2022-03-04T12:09:52.63252",
     "exception": false,
     "start_time": "2022-03-04T12:09:52.426688",
     "status": "completed"
    },
    "tags": []
   },
   "outputs": [],
   "source": [
    "df = pd.read_csv(\"Emotion_Analysis_Task_B_train.tsv\",sep='\\t')\n",
    "df_eval = pd.read_csv(\"Emotion_Analysis_Task_B_dev.tsv\",sep='\\t')\n",
    "df_test = pd.read_csv(\"Emotion_Analysis_Task_B_test.csv\",sep='\\t')"
   ]
  },
  {
   "cell_type": "code",
   "execution_count": 20,
   "metadata": {
    "execution": {
     "iopub.execute_input": "2022-03-09T16:27:35.024583Z",
     "iopub.status.busy": "2022-03-09T16:27:35.024334Z",
     "iopub.status.idle": "2022-03-09T16:27:35.045019Z",
     "shell.execute_reply": "2022-03-09T16:27:35.044109Z",
     "shell.execute_reply.started": "2022-03-09T16:27:35.024550Z"
    },
    "papermill": {
     "duration": 0.033713,
     "end_time": "2022-03-04T12:09:52.746406",
     "exception": false,
     "start_time": "2022-03-04T12:09:52.712693",
     "status": "completed"
    },
    "tags": []
   },
   "outputs": [],
   "source": [
    "df_eval.rename(columns={'category':'Labels','text':'Text'},inplace=True)\n",
    "df_eval = df_eval[['Text','Labels']]\n",
    "df.rename(columns={'category':'Labels','text':'Text'},inplace=True)\n",
    "df = df[['Text','Labels']]\n",
    "df_test.rename(columns={'category':'Labels','text':'Text'},inplace=True)\n",
    "df_test = df_test[['Text','Labels']]"
   ]
  },
  {
   "cell_type": "code",
   "execution_count": 21,
   "metadata": {
    "execution": {
     "iopub.execute_input": "2022-03-09T16:27:35.047481Z",
     "iopub.status.busy": "2022-03-09T16:27:35.046559Z",
     "iopub.status.idle": "2022-03-09T16:27:35.088964Z",
     "shell.execute_reply": "2022-03-09T16:27:35.088139Z",
     "shell.execute_reply.started": "2022-03-09T16:27:35.047443Z"
    },
    "id": "GZ35i5qJUrgj",
    "papermill": {
     "duration": 0.046964,
     "end_time": "2022-03-04T12:09:52.812763",
     "exception": false,
     "start_time": "2022-03-04T12:09:52.765799",
     "status": "completed"
    },
    "tags": []
   },
   "outputs": [
    {
     "data": {
      "text/plain": [
       "31"
      ]
     },
     "execution_count": 21,
     "metadata": {},
     "output_type": "execute_result"
    }
   ],
   "source": [
    "num_labels = len(df['Labels'].unique())\n",
    "keys = list(df['Labels'].unique())\n",
    "values = list(range(0, num_labels))\n",
    "label_dict = dict(zip(keys,values))\n",
    "df['Labels'] = df['Labels'].apply(lambda x:label_dict[x])\n",
    "df_eval['Labels'] = df_eval['Labels'].apply(lambda x:label_dict[x])\n",
    "df_test['Labels'] = df_test['Labels'].apply(lambda x:label_dict[x])\n",
    "num_labels"
   ]
  },
  {
   "cell_type": "markdown",
   "metadata": {
    "papermill": {
     "duration": 0.019167,
     "end_time": "2022-03-04T12:09:52.851564",
     "exception": false,
     "start_time": "2022-03-04T12:09:52.832397",
     "status": "completed"
    },
    "tags": []
   },
   "source": [
    "## Balancing the imbalanced dataset"
   ]
  },
  {
   "cell_type": "code",
   "execution_count": 22,
   "metadata": {
    "execution": {
     "iopub.execute_input": "2022-03-09T16:27:35.090786Z",
     "iopub.status.busy": "2022-03-09T16:27:35.090531Z",
     "iopub.status.idle": "2022-03-09T16:27:35.098492Z",
     "shell.execute_reply": "2022-03-09T16:27:35.097585Z",
     "shell.execute_reply.started": "2022-03-09T16:27:35.090752Z"
    },
    "id": "7ZBnmF0kajKt",
    "papermill": {
     "duration": 0.028023,
     "end_time": "2022-03-04T12:09:52.898635",
     "exception": false,
     "start_time": "2022-03-04T12:09:52.870612",
     "status": "completed"
    },
    "tags": []
   },
   "outputs": [],
   "source": [
    "def oversample(df):\n",
    "        classes = df['Labels'].value_counts().to_dict()\n",
    "        most = max(classes.values())\n",
    "        classes_list = []\n",
    "        for key in classes:\n",
    "            classes_list.append(df[df['Labels'] == key]) \n",
    "        classes_sample = []\n",
    "        for i in range(1,len(classes_list)):\n",
    "            classes_sample.append(classes_list[i].sample(most, replace=True))\n",
    "        df_maybe = pd.concat(classes_sample)\n",
    "        final_df = pd.concat([df_maybe,classes_list[0]], axis=0)\n",
    "        final_df = final_df.reset_index(drop=True)\n",
    "        return pd.DataFrame({'Text': final_df['Text'].tolist(), 'Labels': final_df['Labels'].tolist()})"
   ]
  },
  {
   "cell_type": "code",
   "execution_count": 24,
   "metadata": {
    "execution": {
     "iopub.execute_input": "2022-03-09T16:27:35.100390Z",
     "iopub.status.busy": "2022-03-09T16:27:35.100136Z",
     "iopub.status.idle": "2022-03-09T16:27:35.109749Z",
     "shell.execute_reply": "2022-03-09T16:27:35.108965Z",
     "shell.execute_reply.started": "2022-03-09T16:27:35.100355Z"
    },
    "id": "BJaa0-U2Z_gK",
    "papermill": {
     "duration": 0.028715,
     "end_time": "2022-03-04T12:09:52.946497",
     "exception": false,
     "start_time": "2022-03-04T12:09:52.917782",
     "status": "completed"
    },
    "tags": []
   },
   "outputs": [],
   "source": [
    "def over_under_sample(df):\n",
    "  unq_labels = list(set(df['Labels'].tolist()))\n",
    "  texts = df['Text'].tolist()\n",
    "  labels = df['Labels'].tolist()\n",
    "  data_dict = dict()\n",
    "\n",
    "  for l in unq_labels:\n",
    "    data_dict[l] = []\n",
    "\n",
    "  for i in range(len(texts)):\n",
    "    data_dict[labels[i]].append(texts[i])\n",
    "\n",
    "  req_len = len(labels)//len(unq_labels)\n",
    "\n",
    "  for label in data_dict:\n",
    "    if len(data_dict[label]) > req_len:\n",
    "      data_dict[label] = data_dict[label][:req_len]\n",
    "\n",
    "    new_texts = []\n",
    "\n",
    "    new_labels = []      \n",
    "    for l in data_dict:\n",
    "      new_texts += data_dict[l]\n",
    "      new_labels += [l]*len(data_dict[l])\n",
    "    return oversample(pd.DataFrame({'Text': new_texts, 'Labels': new_labels}))"
   ]
  },
  {
   "cell_type": "code",
   "execution_count": 25,
   "metadata": {
    "execution": {
     "iopub.execute_input": "2022-03-09T16:27:35.111118Z",
     "iopub.status.busy": "2022-03-09T16:27:35.110913Z",
     "iopub.status.idle": "2022-03-09T16:27:35.262769Z",
     "shell.execute_reply": "2022-03-09T16:27:35.262012Z",
     "shell.execute_reply.started": "2022-03-09T16:27:35.111081Z"
    },
    "id": "x9irmj9-aBVx",
    "papermill": {
     "duration": 0.05673,
     "end_time": "2022-03-04T12:09:53.022288",
     "exception": false,
     "start_time": "2022-03-04T12:09:52.965558",
     "status": "completed"
    },
    "tags": []
   },
   "outputs": [],
   "source": [
    "df = over_under_sample(df)"
   ]
  },
  {
   "cell_type": "markdown",
   "metadata": {
    "papermill": {
     "duration": 0.018873,
     "end_time": "2022-03-04T12:09:53.060312",
     "exception": false,
     "start_time": "2022-03-04T12:09:53.041439",
     "status": "completed"
    },
    "tags": []
   },
   "source": [
    "## Model Training"
   ]
  },
  {
   "cell_type": "code",
   "execution_count": 28,
   "metadata": {
    "execution": {
     "iopub.execute_input": "2022-03-09T16:27:35.265639Z",
     "iopub.status.busy": "2022-03-09T16:27:35.265382Z",
     "iopub.status.idle": "2022-03-09T16:27:35.269487Z",
     "shell.execute_reply": "2022-03-09T16:27:35.268574Z",
     "shell.execute_reply.started": "2022-03-09T16:27:35.265604Z"
    },
    "papermill": {
     "duration": 0.024528,
     "end_time": "2022-03-04T12:09:53.104082",
     "exception": false,
     "start_time": "2022-03-04T12:09:53.079554",
     "status": "completed"
    },
    "tags": []
   },
   "outputs": [],
   "source": [
    "model_args = ClassificationArgs()"
   ]
  },
  {
   "cell_type": "code",
   "execution_count": 29,
   "metadata": {
    "execution": {
     "iopub.execute_input": "2022-03-09T16:27:35.272352Z",
     "iopub.status.busy": "2022-03-09T16:27:35.270830Z",
     "iopub.status.idle": "2022-03-09T16:27:35.279718Z",
     "shell.execute_reply": "2022-03-09T16:27:35.279045Z",
     "shell.execute_reply.started": "2022-03-09T16:27:35.272316Z"
    },
    "papermill": {
     "duration": 0.025162,
     "end_time": "2022-03-04T12:09:53.148458",
     "exception": false,
     "start_time": "2022-03-04T12:09:53.123296",
     "status": "completed"
    },
    "tags": []
   },
   "outputs": [],
   "source": [
    "model_args.overwrite_output_dir=True\n",
    "model_args.eval_batch_size=8\n",
    "model_args.train_batch_size=8\n",
    "model_args.learning_rate=4e-5"
   ]
  },
  {
   "cell_type": "code",
   "execution_count": 30,
   "metadata": {
    "execution": {
     "iopub.execute_input": "2022-03-09T16:27:35.281527Z",
     "iopub.status.busy": "2022-03-09T16:27:35.281245Z",
     "iopub.status.idle": "2022-03-09T16:27:46.062322Z",
     "shell.execute_reply": "2022-03-09T16:27:46.061403Z",
     "shell.execute_reply.started": "2022-03-09T16:27:35.281492Z"
    },
    "id": "5ZJ9kR4ZTNik",
    "outputId": "5e607f73-7cfa-42fe-f425-1a541be3f231",
    "papermill": {
     "duration": 25.865891,
     "end_time": "2022-03-04T12:10:19.033482",
     "exception": false,
     "start_time": "2022-03-04T12:09:53.167591",
     "status": "completed"
    },
    "tags": []
   },
   "outputs": [
    {
     "name": "stderr",
     "output_type": "stream",
     "text": [
      "Some weights of the model checkpoint at ai4bharat/indic-bert were not used when initializing AlbertForSequenceClassification: ['predictions.bias', 'sop_classifier.classifier.bias', 'sop_classifier.classifier.weight', 'predictions.dense.bias', 'predictions.dense.weight', 'predictions.LayerNorm.bias', 'predictions.LayerNorm.weight', 'predictions.decoder.bias', 'predictions.decoder.weight']\n",
      "- This IS expected if you are initializing AlbertForSequenceClassification from the checkpoint of a model trained on another task or with another architecture (e.g. initializing a BertForSequenceClassification model from a BertForPreTraining model).\n",
      "- This IS NOT expected if you are initializing AlbertForSequenceClassification from the checkpoint of a model that you expect to be exactly identical (initializing a BertForSequenceClassification model from a BertForSequenceClassification model).\n",
      "Some weights of AlbertForSequenceClassification were not initialized from the model checkpoint at ai4bharat/indic-bert and are newly initialized: ['classifier.bias', 'classifier.weight']\n",
      "You should probably TRAIN this model on a down-stream task to be able to use it for predictions and inference.\n"
     ]
    }
   ],
   "source": [
    "model = ClassificationModel(\n",
    "    'albert',\n",
    "    'ai4bharat/indic-bert',\n",
    "    num_labels=31,\n",
    "    args=model_args,\n",
    "    tokenizer_type=\"albert\",\n",
    "    tokenizer_name='ai4bharat/indic-bert'\n",
    ") "
   ]
  },
  {
   "cell_type": "code",
   "execution_count": 31,
   "metadata": {
    "execution": {
     "iopub.execute_input": "2022-03-09T16:27:46.063830Z",
     "iopub.status.busy": "2022-03-09T16:27:46.063561Z",
     "iopub.status.idle": "2022-03-09T16:31:58.727146Z",
     "shell.execute_reply": "2022-03-09T16:31:58.725976Z",
     "shell.execute_reply.started": "2022-03-09T16:27:46.063794Z"
    },
    "id": "ft4aNQiaT3RX",
    "outputId": "c6fc50f4-009a-417f-8fa6-9018666470cc",
    "papermill": {
     "duration": 2003.709308,
     "end_time": "2022-03-04T12:43:42.766141",
     "exception": false,
     "start_time": "2022-03-04T12:10:19.056833",
     "status": "completed"
    },
    "tags": []
   },
   "outputs": [
    {
     "name": "stderr",
     "output_type": "stream",
     "text": [
      "/home/pict/.local/lib/python3.8/site-packages/simpletransformers/classification/classification_model.py:585: UserWarning: Dataframe headers not specified. Falling back to using column 0 as text and column 1 as labels.\n",
      "  warnings.warn(\n"
     ]
    },
    {
     "data": {
      "application/vnd.jupyter.widget-view+json": {
       "model_id": "9ea700ee245845189e1bc3f9b49efc55",
       "version_major": 2,
       "version_minor": 0
      },
      "text/plain": [
       "  0%|          | 0/147560 [00:00<?, ?it/s]"
      ]
     },
     "metadata": {},
     "output_type": "display_data"
    },
    {
     "name": "stderr",
     "output_type": "stream",
     "text": [
      "/home/pict/.local/lib/python3.8/site-packages/transformers/optimization.py:306: FutureWarning: This implementation of AdamW is deprecated and will be removed in a future version. Use the PyTorch implementation torch.optim.AdamW instead, or set `no_deprecation_warning=True` to disable this warning\n",
      "  warnings.warn(\n"
     ]
    },
    {
     "data": {
      "application/vnd.jupyter.widget-view+json": {
       "model_id": "7c1b6af80e404b5a830f114993311057",
       "version_major": 2,
       "version_minor": 0
      },
      "text/plain": [
       "Epoch:   0%|          | 0/1 [00:00<?, ?it/s]"
      ]
     },
     "metadata": {},
     "output_type": "display_data"
    },
    {
     "data": {
      "application/vnd.jupyter.widget-view+json": {
       "model_id": "03f99cf74d3d43ccbe5fc6c26ac82554",
       "version_major": 2,
       "version_minor": 0
      },
      "text/plain": [
       "Running Epoch 0 of 1:   0%|          | 0/18445 [00:00<?, ?it/s]"
      ]
     },
     "metadata": {},
     "output_type": "display_data"
    },
    {
     "name": "stderr",
     "output_type": "stream",
     "text": [
      "/home/pict/.local/lib/python3.8/site-packages/simpletransformers/classification/classification_model.py:1426: UserWarning: Dataframe headers not specified. Falling back to using column 0 as text and column 1 as labels.\n",
      "  warnings.warn(\n"
     ]
    },
    {
     "data": {
      "application/vnd.jupyter.widget-view+json": {
       "model_id": "f61eb6786a72494e85e051bec20c858b",
       "version_major": 2,
       "version_minor": 0
      },
      "text/plain": [
       "  0%|          | 0/4269 [00:00<?, ?it/s]"
      ]
     },
     "metadata": {},
     "output_type": "display_data"
    },
    {
     "data": {
      "application/vnd.jupyter.widget-view+json": {
       "model_id": "b4e18035cd2a46c696de7772581024fe",
       "version_major": 2,
       "version_minor": 0
      },
      "text/plain": [
       "Running Evaluation:   0%|          | 0/534 [00:00<?, ?it/s]"
      ]
     },
     "metadata": {},
     "output_type": "display_data"
    },
    {
     "name": "stderr",
     "output_type": "stream",
     "text": [
      "/home/pict/.local/lib/python3.8/site-packages/sklearn/metrics/_classification.py:1318: UndefinedMetricWarning: Precision and F-score are ill-defined and being set to 0.0 in labels with no predicted samples. Use `zero_division` parameter to control this behavior.\n",
      "  _warn_prf(average, modifier, msg_start, len(result))\n",
      "/home/pict/.local/lib/python3.8/site-packages/sklearn/metrics/_classification.py:1318: UndefinedMetricWarning: Precision and F-score are ill-defined and being set to 0.0 in labels with no predicted samples. Use `zero_division` parameter to control this behavior.\n",
      "  _warn_prf(average, modifier, msg_start, len(result))\n",
      "/home/pict/.local/lib/python3.8/site-packages/sklearn/metrics/_classification.py:1318: UndefinedMetricWarning: Precision and F-score are ill-defined and being set to 0.0 in labels with no predicted samples. Use `zero_division` parameter to control this behavior.\n",
      "  _warn_prf(average, modifier, msg_start, len(result))\n"
     ]
    },
    {
     "name": "stdout",
     "output_type": "stream",
     "text": [
      "0.07012471861403029\n",
      "              precision    recall  f1-score   support\n",
      "\n",
      "         0.0       0.00      0.00      0.00       268\n",
      "         1.0       0.00      0.00      0.00       325\n",
      "         2.0       0.00      0.00      0.00       176\n",
      "         3.0       0.00      0.00      0.00       477\n",
      "         4.0       0.00      0.00      0.00        14\n",
      "         5.0       0.33      0.56      0.42       114\n",
      "         6.0       0.00      0.00      0.00        79\n",
      "         7.0       0.06      0.09      0.07        56\n",
      "         8.0       0.00      0.00      0.00        78\n",
      "         9.0       0.50      0.21      0.30       658\n",
      "        10.0       0.15      0.22      0.18       192\n",
      "        11.0       0.11      0.22      0.15        50\n",
      "        12.0       0.20      0.09      0.12       236\n",
      "        13.0       0.12      0.02      0.03       294\n",
      "        14.0       0.02      0.21      0.04        62\n",
      "        15.0       0.03      0.31      0.05        45\n",
      "        16.0       0.00      0.00      0.00       193\n",
      "        17.0       0.00      0.00      0.00        56\n",
      "        18.0       0.03      0.07      0.04       120\n",
      "        19.0       0.00      0.00      0.00        71\n",
      "        20.0       0.03      0.02      0.03        94\n",
      "        21.0       0.01      0.03      0.02        69\n",
      "        22.0       0.05      0.03      0.04       118\n",
      "        23.0       0.25      0.31      0.28       131\n",
      "        24.0       0.00      0.00      0.00        32\n",
      "        25.0       0.00      0.00      0.00        30\n",
      "        26.0       0.00      0.03      0.01        37\n",
      "        27.0       0.02      0.23      0.04        44\n",
      "        28.0       0.04      0.11      0.06        73\n",
      "        29.0       0.02      0.13      0.03        39\n",
      "        30.0       0.00      0.00      0.00        38\n",
      "\n",
      "    accuracy                           0.09      4269\n",
      "   macro avg       0.06      0.09      0.06      4269\n",
      "weighted avg       0.13      0.09      0.09      4269\n",
      "\n",
      "3.258656042345454\n"
     ]
    },
    {
     "name": "stderr",
     "output_type": "stream",
     "text": [
      "/home/pict/.local/lib/python3.8/site-packages/simpletransformers/classification/classification_model.py:585: UserWarning: Dataframe headers not specified. Falling back to using column 0 as text and column 1 as labels.\n",
      "  warnings.warn(\n"
     ]
    },
    {
     "data": {
      "application/vnd.jupyter.widget-view+json": {
       "model_id": "6cd4a3ed5cfb4de4ba8da03b3b32a27d",
       "version_major": 2,
       "version_minor": 0
      },
      "text/plain": [
       "  0%|          | 0/147560 [00:00<?, ?it/s]"
      ]
     },
     "metadata": {},
     "output_type": "display_data"
    },
    {
     "name": "stderr",
     "output_type": "stream",
     "text": [
      "/home/pict/.local/lib/python3.8/site-packages/transformers/optimization.py:306: FutureWarning: This implementation of AdamW is deprecated and will be removed in a future version. Use the PyTorch implementation torch.optim.AdamW instead, or set `no_deprecation_warning=True` to disable this warning\n",
      "  warnings.warn(\n"
     ]
    },
    {
     "data": {
      "application/vnd.jupyter.widget-view+json": {
       "model_id": "1e1a0ebcbbe64ab49fcf91e0462d8175",
       "version_major": 2,
       "version_minor": 0
      },
      "text/plain": [
       "Epoch:   0%|          | 0/1 [00:00<?, ?it/s]"
      ]
     },
     "metadata": {},
     "output_type": "display_data"
    },
    {
     "data": {
      "application/vnd.jupyter.widget-view+json": {
       "model_id": "93cf64be2b4e417b9e28a0fcd90fedb5",
       "version_major": 2,
       "version_minor": 0
      },
      "text/plain": [
       "Running Epoch 0 of 1:   0%|          | 0/18445 [00:00<?, ?it/s]"
      ]
     },
     "metadata": {},
     "output_type": "display_data"
    },
    {
     "name": "stderr",
     "output_type": "stream",
     "text": [
      "/home/pict/.local/lib/python3.8/site-packages/simpletransformers/classification/classification_model.py:1426: UserWarning: Dataframe headers not specified. Falling back to using column 0 as text and column 1 as labels.\n",
      "  warnings.warn(\n"
     ]
    },
    {
     "data": {
      "application/vnd.jupyter.widget-view+json": {
       "model_id": "293dc78e08a84d32934ed24cde0b0256",
       "version_major": 2,
       "version_minor": 0
      },
      "text/plain": [
       "  0%|          | 0/4269 [00:00<?, ?it/s]"
      ]
     },
     "metadata": {},
     "output_type": "display_data"
    },
    {
     "data": {
      "application/vnd.jupyter.widget-view+json": {
       "model_id": "053bf238668e481db9a163e9276e076b",
       "version_major": 2,
       "version_minor": 0
      },
      "text/plain": [
       "Running Evaluation:   0%|          | 0/534 [00:00<?, ?it/s]"
      ]
     },
     "metadata": {},
     "output_type": "display_data"
    },
    {
     "name": "stdout",
     "output_type": "stream",
     "text": [
      "0.07284406628521772\n",
      "              precision    recall  f1-score   support\n",
      "\n",
      "         0.0       0.08      0.07      0.07       268\n",
      "         1.0       0.11      0.12      0.12       325\n",
      "         2.0       0.06      0.09      0.07       176\n",
      "         3.0       0.11      0.02      0.04       477\n",
      "         4.0       0.05      0.07      0.06        14\n",
      "         5.0       0.41      0.60      0.48       114\n",
      "         6.0       0.08      0.09      0.08        79\n",
      "         7.0       0.12      0.09      0.10        56\n",
      "         8.0       0.06      0.08      0.07        78\n",
      "         9.0       0.60      0.09      0.15       658\n",
      "        10.0       0.15      0.22      0.18       192\n",
      "        11.0       0.10      0.02      0.03        50\n",
      "        12.0       0.20      0.14      0.16       236\n",
      "        13.0       0.14      0.11      0.12       294\n",
      "        14.0       0.02      0.02      0.02        62\n",
      "        15.0       0.08      0.04      0.06        45\n",
      "        16.0       0.09      0.11      0.10       193\n",
      "        17.0       0.03      0.05      0.04        56\n",
      "        18.0       0.04      0.07      0.05       120\n",
      "        19.0       0.02      0.07      0.04        71\n",
      "        20.0       0.04      0.13      0.06        94\n",
      "        21.0       0.04      0.04      0.04        69\n",
      "        22.0       0.05      0.06      0.05       118\n",
      "        23.0       0.22      0.34      0.27       131\n",
      "        24.0       0.02      0.06      0.03        32\n",
      "        25.0       0.00      0.00      0.00        30\n",
      "        26.0       0.50      0.03      0.05        37\n",
      "        27.0       0.00      0.00      0.00        44\n",
      "        28.0       0.06      0.26      0.10        73\n",
      "        29.0       0.03      0.03      0.03        39\n",
      "        30.0       0.00      0.00      0.00        38\n",
      "\n",
      "    accuracy                           0.11      4269\n",
      "   macro avg       0.11      0.10      0.09      4269\n",
      "weighted avg       0.19      0.11      0.11      4269\n",
      "\n",
      "3.463392344753394\n"
     ]
    },
    {
     "name": "stderr",
     "output_type": "stream",
     "text": [
      "/home/pict/.local/lib/python3.8/site-packages/simpletransformers/classification/classification_model.py:585: UserWarning: Dataframe headers not specified. Falling back to using column 0 as text and column 1 as labels.\n",
      "  warnings.warn(\n"
     ]
    },
    {
     "data": {
      "application/vnd.jupyter.widget-view+json": {
       "model_id": "6dcc4e953adf4c57834ab2d1ac2c41de",
       "version_major": 2,
       "version_minor": 0
      },
      "text/plain": [
       "  0%|          | 0/147560 [00:00<?, ?it/s]"
      ]
     },
     "metadata": {},
     "output_type": "display_data"
    },
    {
     "name": "stderr",
     "output_type": "stream",
     "text": [
      "/home/pict/.local/lib/python3.8/site-packages/transformers/optimization.py:306: FutureWarning: This implementation of AdamW is deprecated and will be removed in a future version. Use the PyTorch implementation torch.optim.AdamW instead, or set `no_deprecation_warning=True` to disable this warning\n",
      "  warnings.warn(\n"
     ]
    },
    {
     "data": {
      "application/vnd.jupyter.widget-view+json": {
       "model_id": "1919d7e6e378453e85c491394af12919",
       "version_major": 2,
       "version_minor": 0
      },
      "text/plain": [
       "Epoch:   0%|          | 0/1 [00:00<?, ?it/s]"
      ]
     },
     "metadata": {},
     "output_type": "display_data"
    },
    {
     "data": {
      "application/vnd.jupyter.widget-view+json": {
       "model_id": "3f1ba4ebaa6747c0ab2eb8f16a6fb414",
       "version_major": 2,
       "version_minor": 0
      },
      "text/plain": [
       "Running Epoch 0 of 1:   0%|          | 0/18445 [00:00<?, ?it/s]"
      ]
     },
     "metadata": {},
     "output_type": "display_data"
    },
    {
     "name": "stderr",
     "output_type": "stream",
     "text": [
      "/home/pict/.local/lib/python3.8/site-packages/simpletransformers/classification/classification_model.py:1426: UserWarning: Dataframe headers not specified. Falling back to using column 0 as text and column 1 as labels.\n",
      "  warnings.warn(\n"
     ]
    },
    {
     "data": {
      "application/vnd.jupyter.widget-view+json": {
       "model_id": "c9d605ecb3284a179bafe898880e2894",
       "version_major": 2,
       "version_minor": 0
      },
      "text/plain": [
       "  0%|          | 0/4269 [00:00<?, ?it/s]"
      ]
     },
     "metadata": {},
     "output_type": "display_data"
    },
    {
     "data": {
      "application/vnd.jupyter.widget-view+json": {
       "model_id": "781ee18b26f84deb8465c81954e8799f",
       "version_major": 2,
       "version_minor": 0
      },
      "text/plain": [
       "Running Evaluation:   0%|          | 0/534 [00:00<?, ?it/s]"
      ]
     },
     "metadata": {},
     "output_type": "display_data"
    },
    {
     "name": "stdout",
     "output_type": "stream",
     "text": [
      "0.07397368940179047\n",
      "              precision    recall  f1-score   support\n",
      "\n",
      "         0.0       0.08      0.10      0.09       268\n",
      "         1.0       0.17      0.14      0.16       325\n",
      "         2.0       0.07      0.14      0.10       176\n",
      "         3.0       0.16      0.12      0.14       477\n",
      "         4.0       0.00      0.00      0.00        14\n",
      "         5.0       0.38      0.57      0.45       114\n",
      "         6.0       0.03      0.10      0.05        79\n",
      "         7.0       0.09      0.05      0.07        56\n",
      "         8.0       0.08      0.06      0.07        78\n",
      "         9.0       0.70      0.03      0.07       658\n",
      "        10.0       0.14      0.27      0.18       192\n",
      "        11.0       0.00      0.00      0.00        50\n",
      "        12.0       0.21      0.12      0.15       236\n",
      "        13.0       0.14      0.14      0.14       294\n",
      "        14.0       0.07      0.02      0.03        62\n",
      "        15.0       0.10      0.02      0.04        45\n",
      "        16.0       0.11      0.13      0.12       193\n",
      "        17.0       0.05      0.07      0.06        56\n",
      "        18.0       0.07      0.07      0.07       120\n",
      "        19.0       0.00      0.00      0.00        71\n",
      "        20.0       0.05      0.13      0.07        94\n",
      "        21.0       0.03      0.01      0.02        69\n",
      "        22.0       0.05      0.05      0.05       118\n",
      "        23.0       0.19      0.27      0.23       131\n",
      "        24.0       0.00      0.00      0.00        32\n",
      "        25.0       0.00      0.00      0.00        30\n",
      "        26.0       0.00      0.00      0.00        37\n",
      "        27.0       0.00      0.00      0.00        44\n",
      "        28.0       0.04      0.21      0.07        73\n",
      "        29.0       0.00      0.00      0.00        39\n",
      "        30.0       0.00      0.00      0.00        38\n",
      "\n",
      "    accuracy                           0.12      4269\n",
      "   macro avg       0.10      0.09      0.08      4269\n",
      "weighted avg       0.21      0.12      0.11      4269\n",
      "\n",
      "3.9334963037726585\n"
     ]
    }
   ],
   "source": [
    "for i in range(0,3):\n",
    "    !rm -rf /kaggle/working/outputs\n",
    "    model.train_model(df,eval_data=df_eval,acc=sklearn.metrics.classification_report)\n",
    "    result, model_outputs, preds_list = model.eval_model(df_test,acc=sklearn.metrics.classification_report)\n",
    "    for j in result.values():\n",
    "        print(j)"
   ]
  },
  {
   "cell_type": "code",
   "execution_count": 32,
   "metadata": {
    "execution": {
     "iopub.status.busy": "2022-03-09T16:31:58.728341Z",
     "iopub.status.idle": "2022-03-09T16:31:58.729046Z",
     "shell.execute_reply": "2022-03-09T16:31:58.728828Z",
     "shell.execute_reply.started": "2022-03-09T16:31:58.728791Z"
    },
    "papermill": {
     "duration": 25.541135,
     "end_time": "2022-03-04T12:44:08.344415",
     "exception": false,
     "start_time": "2022-03-04T12:43:42.80328",
     "status": "completed"
    },
    "tags": []
   },
   "outputs": [
    {
     "data": {
      "application/vnd.jupyter.widget-view+json": {
       "model_id": "40f866c1cd644adf8fc0630bb962e76e",
       "version_major": 2,
       "version_minor": 0
      },
      "text/plain": [
       "  0%|          | 0/4269 [00:00<?, ?it/s]"
      ]
     },
     "metadata": {},
     "output_type": "display_data"
    },
    {
     "data": {
      "application/vnd.jupyter.widget-view+json": {
       "model_id": "2d58b8f350824757b80bc1edfe82edfd",
       "version_major": 2,
       "version_minor": 0
      },
      "text/plain": [
       "  0%|          | 0/534 [00:00<?, ?it/s]"
      ]
     },
     "metadata": {},
     "output_type": "display_data"
    }
   ],
   "source": [
    "predictions, raw_outputs = model.predict(df_test['Text'].to_list())"
   ]
  },
  {
   "cell_type": "code",
   "execution_count": 33,
   "metadata": {
    "execution": {
     "iopub.status.busy": "2022-03-09T16:31:58.730222Z",
     "iopub.status.idle": "2022-03-09T16:31:58.731040Z",
     "shell.execute_reply": "2022-03-09T16:31:58.730821Z",
     "shell.execute_reply.started": "2022-03-09T16:31:58.730790Z"
    },
    "papermill": {
     "duration": 0.062971,
     "end_time": "2022-03-04T12:44:08.446212",
     "exception": false,
     "start_time": "2022-03-04T12:44:08.383241",
     "status": "completed"
    },
    "tags": []
   },
   "outputs": [],
   "source": [
    "df_final = df_test.copy()\n",
    "reverse_label_dict = {v:u for u,v in label_dict.items()}\n",
    "reverse_label_dict\n",
    "df_final['Predicted_Labels'] = predictions\n",
    "df_final['Predicted_Labels'] = df_final['Predicted_Labels'].apply(lambda x:reverse_label_dict[x])\n",
    "df_final['Labels'] = df_final['Labels'].apply(lambda x:reverse_label_dict[x])\n",
    "df_final['pid'] = df_final.index\n",
    "df_final = df_final[['pid','Predicted_Labels','Labels']]"
   ]
  },
  {
   "cell_type": "code",
   "execution_count": 34,
   "metadata": {
    "execution": {
     "iopub.status.busy": "2022-03-09T16:31:58.732244Z",
     "iopub.status.idle": "2022-03-09T16:31:58.733022Z",
     "shell.execute_reply": "2022-03-09T16:31:58.732809Z",
     "shell.execute_reply.started": "2022-03-09T16:31:58.732782Z"
    },
    "papermill": {
     "duration": 0.053666,
     "end_time": "2022-03-04T12:44:08.537866",
     "exception": false,
     "start_time": "2022-03-04T12:44:08.4842",
     "status": "completed"
    },
    "tags": []
   },
   "outputs": [
    {
     "data": {
      "text/html": [
       "<div>\n",
       "<style scoped>\n",
       "    .dataframe tbody tr th:only-of-type {\n",
       "        vertical-align: middle;\n",
       "    }\n",
       "\n",
       "    .dataframe tbody tr th {\n",
       "        vertical-align: top;\n",
       "    }\n",
       "\n",
       "    .dataframe thead th {\n",
       "        text-align: right;\n",
       "    }\n",
       "</style>\n",
       "<table border=\"1\" class=\"dataframe\">\n",
       "  <thead>\n",
       "    <tr style=\"text-align: right;\">\n",
       "      <th></th>\n",
       "      <th>pid</th>\n",
       "      <th>Predicted_Labels</th>\n",
       "      <th>Labels</th>\n",
       "    </tr>\n",
       "  </thead>\n",
       "  <tbody>\n",
       "    <tr>\n",
       "      <th>0</th>\n",
       "      <td>0</td>\n",
       "      <td>உற்சாகம்</td>\n",
       "      <td>மகிழ்ச்சி</td>\n",
       "    </tr>\n",
       "    <tr>\n",
       "      <th>1</th>\n",
       "      <td>1</td>\n",
       "      <td>நடுநிலை</td>\n",
       "      <td>மகிழ்ச்சி</td>\n",
       "    </tr>\n",
       "    <tr>\n",
       "      <th>2</th>\n",
       "      <td>2</td>\n",
       "      <td>உண்மையை உணர்தல்</td>\n",
       "      <td>எதிர்பார்ப்பு</td>\n",
       "    </tr>\n",
       "    <tr>\n",
       "      <th>3</th>\n",
       "      <td>3</td>\n",
       "      <td>கிண்டல்</td>\n",
       "      <td>உண்மையை உணர்தல்</td>\n",
       "    </tr>\n",
       "    <tr>\n",
       "      <th>4</th>\n",
       "      <td>4</td>\n",
       "      <td>ஆர்வம்</td>\n",
       "      <td>உண்மையை உணர்தல்</td>\n",
       "    </tr>\n",
       "    <tr>\n",
       "      <th>...</th>\n",
       "      <td>...</td>\n",
       "      <td>...</td>\n",
       "      <td>...</td>\n",
       "    </tr>\n",
       "    <tr>\n",
       "      <th>4264</th>\n",
       "      <td>4264</td>\n",
       "      <td>குற்றமுணர்ந்ததால் ஏற்படும் வருத்தம்</td>\n",
       "      <td>போற்றுதல்</td>\n",
       "    </tr>\n",
       "    <tr>\n",
       "      <th>4265</th>\n",
       "      <td>4265</td>\n",
       "      <td>அக்கறை</td>\n",
       "      <td>உண்மையை உணர்தல்</td>\n",
       "    </tr>\n",
       "    <tr>\n",
       "      <th>4266</th>\n",
       "      <td>4266</td>\n",
       "      <td>உற்சாகம்</td>\n",
       "      <td>போற்றுதல்</td>\n",
       "    </tr>\n",
       "    <tr>\n",
       "      <th>4267</th>\n",
       "      <td>4267</td>\n",
       "      <td>எரிச்சல்</td>\n",
       "      <td>எதிர்பார்ப்பு</td>\n",
       "    </tr>\n",
       "    <tr>\n",
       "      <th>4268</th>\n",
       "      <td>4268</td>\n",
       "      <td>உண்மையை உணர்தல்</td>\n",
       "      <td>நன்றியறிதல்</td>\n",
       "    </tr>\n",
       "  </tbody>\n",
       "</table>\n",
       "<p>4269 rows × 3 columns</p>\n",
       "</div>"
      ],
      "text/plain": [
       "       pid                     Predicted_Labels           Labels\n",
       "0        0                             உற்சாகம்        மகிழ்ச்சி\n",
       "1        1                              நடுநிலை        மகிழ்ச்சி\n",
       "2        2                      உண்மையை உணர்தல்    எதிர்பார்ப்பு\n",
       "3        3                              கிண்டல்  உண்மையை உணர்தல்\n",
       "4        4                               ஆர்வம்  உண்மையை உணர்தல்\n",
       "...    ...                                  ...              ...\n",
       "4264  4264  குற்றமுணர்ந்ததால் ஏற்படும் வருத்தம்        போற்றுதல்\n",
       "4265  4265                               அக்கறை  உண்மையை உணர்தல்\n",
       "4266  4266                             உற்சாகம்        போற்றுதல்\n",
       "4267  4267                             எரிச்சல்    எதிர்பார்ப்பு\n",
       "4268  4268                      உண்மையை உணர்தல்      நன்றியறிதல்\n",
       "\n",
       "[4269 rows x 3 columns]"
      ]
     },
     "execution_count": 34,
     "metadata": {},
     "output_type": "execute_result"
    }
   ],
   "source": [
    "df_final"
   ]
  },
  {
   "cell_type": "code",
   "execution_count": 35,
   "metadata": {
    "execution": {
     "iopub.status.busy": "2022-03-09T16:31:58.734231Z",
     "iopub.status.idle": "2022-03-09T16:31:58.734995Z",
     "shell.execute_reply": "2022-03-09T16:31:58.734779Z",
     "shell.execute_reply.started": "2022-03-09T16:31:58.734752Z"
    },
    "papermill": {
     "duration": 0.086956,
     "end_time": "2022-03-04T12:44:08.663645",
     "exception": false,
     "start_time": "2022-03-04T12:44:08.576689",
     "status": "completed"
    },
    "tags": []
   },
   "outputs": [
    {
     "name": "stdout",
     "output_type": "stream",
     "text": [
      "The macro average f1 score is:0.0778709548670512\n"
     ]
    }
   ],
   "source": [
    "score = f1_score(df_final['Labels'],df_final['Predicted_Labels'],average='macro')\n",
    "print(\"The macro average f1 score is:\" + str(score))"
   ]
  },
  {
   "cell_type": "code",
   "execution_count": null,
   "metadata": {
    "papermill": {
     "duration": 0.03977,
     "end_time": "2022-03-04T12:44:08.743735",
     "exception": false,
     "start_time": "2022-03-04T12:44:08.703965",
     "status": "completed"
    },
    "tags": []
   },
   "outputs": [],
   "source": []
  }
 ],
 "metadata": {
  "kernelspec": {
   "display_name": "Python 3",
   "language": "python",
   "name": "python3"
  },
  "language_info": {
   "codemirror_mode": {
    "name": "ipython",
    "version": 3
   },
   "file_extension": ".py",
   "mimetype": "text/x-python",
   "name": "python",
   "nbconvert_exporter": "python",
   "pygments_lexer": "ipython3",
   "version": "3.8.8"
  }
 },
 "nbformat": 4,
 "nbformat_minor": 4
}
