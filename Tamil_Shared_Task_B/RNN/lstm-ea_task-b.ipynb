{
 "cells": [
  {
   "cell_type": "code",
   "execution_count": 1,
   "id": "6fedb135",
   "metadata": {
    "execution": {
     "iopub.execute_input": "2022-03-12T11:02:42.808195Z",
     "iopub.status.busy": "2022-03-12T11:02:42.807341Z",
     "iopub.status.idle": "2022-03-12T11:02:53.120158Z",
     "shell.execute_reply": "2022-03-12T11:02:53.119547Z",
     "shell.execute_reply.started": "2022-03-12T11:01:21.864251Z"
    },
    "executionInfo": {
     "elapsed": 1057,
     "status": "ok",
     "timestamp": 1610659487042,
     "user": {
      "displayName": "Kushal Kedia",
      "photoUrl": "",
      "userId": "17515642502776479988"
     },
     "user_tz": -330
    },
    "id": "9vOLxNuZlk4m",
    "outputId": "b262ed3a-37a1-4aa1-f551-7c033b07ce3c",
    "papermill": {
     "duration": 10.348166,
     "end_time": "2022-03-12T11:02:53.120328",
     "exception": false,
     "start_time": "2022-03-12T11:02:42.772162",
     "status": "completed"
    },
    "tags": []
   },
   "outputs": [
    {
     "name": "stderr",
     "output_type": "stream",
     "text": [
      "/opt/conda/lib/python3.7/site-packages/geopandas/_compat.py:115: UserWarning:\n",
      "\n",
      "The Shapely GEOS version (3.9.1-CAPI-1.14.2) is incompatible with the GEOS version PyGEOS was compiled with (3.10.1-CAPI-1.16.0). Conversions between both will be slow.\n",
      "\n"
     ]
    },
    {
     "data": {
      "text/html": [
       "        <script type=\"text/javascript\">\n",
       "        window.PlotlyConfig = {MathJaxConfig: 'local'};\n",
       "        if (window.MathJax) {MathJax.Hub.Config({SVG: {font: \"STIX-Web\"}});}\n",
       "        if (typeof require !== 'undefined') {\n",
       "        require.undef(\"plotly\");\n",
       "        requirejs.config({\n",
       "            paths: {\n",
       "                'plotly': ['https://cdn.plot.ly/plotly-2.9.0.min']\n",
       "            }\n",
       "        });\n",
       "        require(['plotly'], function(Plotly) {\n",
       "            window._Plotly = Plotly;\n",
       "        });\n",
       "        }\n",
       "        </script>\n",
       "        "
      ]
     },
     "metadata": {},
     "output_type": "display_data"
    }
   ],
   "source": [
    "import numpy as np \n",
    "import pandas as pd\n",
    "import matplotlib.pyplot as plt\n",
    "import seaborn as sns\n",
    "from keras.preprocessing.text import Tokenizer\n",
    "from keras.preprocessing.sequence import pad_sequences\n",
    "from keras.models import Sequential\n",
    "from keras.layers import Dense, Embedding, LSTM, SpatialDropout1D\n",
    "from sklearn.model_selection import train_test_split\n",
    "from keras.utils.np_utils import to_categorical\n",
    "from keras.callbacks import EarlyStopping\n",
    "from keras.layers import Dropout\n",
    "import re\n",
    "from nltk.corpus import stopwords\n",
    "from nltk import word_tokenize\n",
    "STOPWORDS = set(stopwords.words('english'))\n",
    "from bs4 import BeautifulSoup\n",
    "import plotly.graph_objs as go\n",
    "#import chart_studio.plotly as py\n",
    "import cufflinks\n",
    "from IPython.core.interactiveshell import InteractiveShell\n",
    "import plotly.figure_factory as ff\n",
    "InteractiveShell.ast_node_interactivity = 'all'\n",
    "from plotly.offline import iplot\n",
    "cufflinks.go_offline()\n",
    "cufflinks.set_config_file(world_readable=True, theme='pearl')\n",
    "import torch"
   ]
  },
  {
   "cell_type": "code",
   "execution_count": 2,
   "id": "83503a51",
   "metadata": {
    "execution": {
     "iopub.execute_input": "2022-03-12T11:02:53.173579Z",
     "iopub.status.busy": "2022-03-12T11:02:53.172793Z",
     "iopub.status.idle": "2022-03-12T11:02:53.174895Z",
     "shell.execute_reply": "2022-03-12T11:02:53.175272Z",
     "shell.execute_reply.started": "2022-03-12T11:01:21.885648Z"
    },
    "papermill": {
     "duration": 0.031556,
     "end_time": "2022-03-12T11:02:53.175398",
     "exception": false,
     "start_time": "2022-03-12T11:02:53.143842",
     "status": "completed"
    },
    "tags": []
   },
   "outputs": [],
   "source": [
    "from keras.callbacks import ModelCheckpoint"
   ]
  },
  {
   "cell_type": "code",
   "execution_count": 3,
   "id": "78d1197c",
   "metadata": {
    "execution": {
     "iopub.execute_input": "2022-03-12T11:02:53.220536Z",
     "iopub.status.busy": "2022-03-12T11:02:53.219713Z",
     "iopub.status.idle": "2022-03-12T11:02:53.223838Z",
     "shell.execute_reply": "2022-03-12T11:02:53.223402Z",
     "shell.execute_reply.started": "2022-03-12T11:01:21.894106Z"
    },
    "papermill": {
     "duration": 0.02738,
     "end_time": "2022-03-12T11:02:53.223954",
     "exception": false,
     "start_time": "2022-03-12T11:02:53.196574",
     "status": "completed"
    },
    "tags": []
   },
   "outputs": [],
   "source": [
    "# # Train Data\n",
    "# df_train_en = pd.read_csv('../input/tamilmisodatanew/ta-en-misogyny-train.csv', sep='\\t', header=None)\n",
    "# df_train_ta = pd.read_csv('../input/tamilmisodatanew/ta-misogyny-train.csv', sep='\\t', header=None)\n",
    "\n",
    "# # Dev Data\n",
    "# df_dev_en = pd.read_csv('../input/tamilmisodatanew/ta-en-misogyny-dev.csv', sep='\\t', header=None)\n",
    "# df_dev_ta = pd.read_csv('../input/tamilmisodatanew/ta-misogyny-dev.csv', sep='\\t', header=None)\n",
    "\n",
    "# # Test Data\n",
    "# df_test_en = pd.read_csv('../input/tamilmisodatanew/ta-en-misogyny-test.csv', sep='\\t', header=None)\n",
    "# df_test_ta = pd.read_csv('../input/tamilmisodatanew/ta-misogyny-test.csv', sep='\\t', header=None)"
   ]
  },
  {
   "cell_type": "code",
   "execution_count": 4,
   "id": "19a6ec77",
   "metadata": {
    "execution": {
     "iopub.execute_input": "2022-03-12T11:02:53.270435Z",
     "iopub.status.busy": "2022-03-12T11:02:53.269894Z",
     "iopub.status.idle": "2022-03-12T11:02:53.596347Z",
     "shell.execute_reply": "2022-03-12T11:02:53.596799Z",
     "shell.execute_reply.started": "2022-03-12T11:01:21.903367Z"
    },
    "executionInfo": {
     "elapsed": 1360,
     "status": "ok",
     "timestamp": 1610662585483,
     "user": {
      "displayName": "Kushal Kedia",
      "photoUrl": "",
      "userId": "17515642502776479988"
     },
     "user_tz": -330
    },
    "id": "0HBnekZFnnhe",
    "outputId": "8442bf7e-8778-452c-b7ed-c4beb1d4fa95",
    "papermill": {
     "duration": 0.351801,
     "end_time": "2022-03-12T11:02:53.597005",
     "exception": false,
     "start_time": "2022-03-12T11:02:53.245204",
     "status": "completed"
    },
    "tags": []
   },
   "outputs": [],
   "source": [
    "df_train_ea = pd.read_csv('../input/emotion-analysis-in-tamil/Emotion_Analysis_Task_B_train.tsv', sep = '\\t')\n",
    "df_dev_ea = pd.read_csv('../input/emotion-analysis-in-tamil/Emotion_Analysis_Task_B_dev.tsv', sep = '\\t' )\n",
    "df_test_ea = pd.read_csv('../input/emotion-analysis-in-tamil/Emotion_Analysis_Task_B_test.csv', sep = '\\t')\n"
   ]
  },
  {
   "cell_type": "code",
   "execution_count": 5,
   "id": "dd776b02",
   "metadata": {
    "execution": {
     "iopub.execute_input": "2022-03-12T11:02:53.645718Z",
     "iopub.status.busy": "2022-03-12T11:02:53.644957Z",
     "iopub.status.idle": "2022-03-12T11:02:53.654495Z",
     "shell.execute_reply": "2022-03-12T11:02:53.654084Z",
     "shell.execute_reply.started": "2022-03-12T11:01:22.116492Z"
    },
    "papermill": {
     "duration": 0.035313,
     "end_time": "2022-03-12T11:02:53.654601",
     "exception": false,
     "start_time": "2022-03-12T11:02:53.619288",
     "status": "completed"
    },
    "tags": []
   },
   "outputs": [],
   "source": [
    "df_train_ea.rename(columns = {'text':1, 'category':0}, inplace = True)\n",
    "df_dev_ea.rename(columns = {'text':1, 'category':0}, inplace = True)\n",
    "df_test_ea.rename(columns = {'text':1, 'category':0}, inplace = True)"
   ]
  },
  {
   "cell_type": "code",
   "execution_count": 6,
   "id": "ea217f16",
   "metadata": {
    "execution": {
     "iopub.execute_input": "2022-03-12T11:02:53.708225Z",
     "iopub.status.busy": "2022-03-12T11:02:53.707542Z",
     "iopub.status.idle": "2022-03-12T11:02:53.719003Z",
     "shell.execute_reply": "2022-03-12T11:02:53.718555Z",
     "shell.execute_reply.started": "2022-03-12T11:01:22.124768Z"
    },
    "papermill": {
     "duration": 0.043349,
     "end_time": "2022-03-12T11:02:53.719107",
     "exception": false,
     "start_time": "2022-03-12T11:02:53.675758",
     "status": "completed"
    },
    "tags": []
   },
   "outputs": [],
   "source": [
    "train_data = df_train_ea.dropna()\n",
    "val_data = df_dev_ea.dropna()\n",
    "test_data = df_test_ea.dropna()\n"
   ]
  },
  {
   "cell_type": "code",
   "execution_count": 7,
   "id": "0f9b6d1d",
   "metadata": {
    "execution": {
     "iopub.execute_input": "2022-03-12T11:02:53.766554Z",
     "iopub.status.busy": "2022-03-12T11:02:53.765762Z",
     "iopub.status.idle": "2022-03-12T11:02:53.771061Z",
     "shell.execute_reply": "2022-03-12T11:02:53.770610Z",
     "shell.execute_reply.started": "2022-03-12T11:01:22.154428Z"
    },
    "papermill": {
     "duration": 0.030778,
     "end_time": "2022-03-12T11:02:53.771166",
     "exception": false,
     "start_time": "2022-03-12T11:02:53.740388",
     "status": "completed"
    },
    "tags": []
   },
   "outputs": [],
   "source": [
    "train_data.drop([1184,1922], inplace = True)"
   ]
  },
  {
   "cell_type": "code",
   "execution_count": 8,
   "id": "6fd4ef8a",
   "metadata": {
    "execution": {
     "iopub.execute_input": "2022-03-12T11:02:53.817363Z",
     "iopub.status.busy": "2022-03-12T11:02:53.816604Z",
     "iopub.status.idle": "2022-03-12T11:02:53.818663Z",
     "shell.execute_reply": "2022-03-12T11:02:53.819125Z",
     "shell.execute_reply.started": "2022-03-12T11:01:22.164405Z"
    },
    "papermill": {
     "duration": 0.026842,
     "end_time": "2022-03-12T11:02:53.819262",
     "exception": false,
     "start_time": "2022-03-12T11:02:53.792420",
     "status": "completed"
    },
    "tags": []
   },
   "outputs": [],
   "source": [
    "#train_data[0].value_counts()"
   ]
  },
  {
   "cell_type": "code",
   "execution_count": 9,
   "id": "fd829698",
   "metadata": {
    "execution": {
     "iopub.execute_input": "2022-03-12T11:02:53.928641Z",
     "iopub.status.busy": "2022-03-12T11:02:53.918397Z",
     "iopub.status.idle": "2022-03-12T11:02:54.667221Z",
     "shell.execute_reply": "2022-03-12T11:02:54.667778Z",
     "shell.execute_reply.started": "2022-03-12T11:01:22.170655Z"
    },
    "executionInfo": {
     "elapsed": 1479,
     "status": "ok",
     "timestamp": 1610662590432,
     "user": {
      "displayName": "Kushal Kedia",
      "photoUrl": "",
      "userId": "17515642502776479988"
     },
     "user_tz": -330
    },
    "id": "VnkCJ5xhP5X4",
    "outputId": "57e8539a-47cf-4e20-c50b-a8508531ff28",
    "papermill": {
     "duration": 0.826672,
     "end_time": "2022-03-12T11:02:54.667992",
     "exception": false,
     "start_time": "2022-03-12T11:02:53.841320",
     "status": "completed"
    },
    "tags": []
   },
   "outputs": [
    {
     "name": "stdout",
     "output_type": "stream",
     "text": [
      "Found 74190 unique tokens.\n"
     ]
    }
   ],
   "source": [
    "# The maximum number of words to be used. (most frequent)\n",
    "MAX_NB_WORDS = 64000\n",
    "# Max number of words in each complaint.\n",
    "MAX_SEQUENCE_LENGTH = 128\n",
    "# This is fixed.\n",
    "EMBEDDING_DIM = 100\n",
    "tokenizer = Tokenizer(num_words=MAX_NB_WORDS, filters='!\"#$%&()*+,-./:;<=>?@[\\]^_`{|}~', lower=False)\n",
    "tokenizer.fit_on_texts(train_data[1])\n",
    "word_index = tokenizer.word_index\n",
    "print('Found %s unique tokens.' % len(word_index))"
   ]
  },
  {
   "cell_type": "code",
   "execution_count": 10,
   "id": "5de46225",
   "metadata": {
    "execution": {
     "iopub.execute_input": "2022-03-12T11:02:54.721269Z",
     "iopub.status.busy": "2022-03-12T11:02:54.720327Z",
     "iopub.status.idle": "2022-03-12T11:02:56.180620Z",
     "shell.execute_reply": "2022-03-12T11:02:56.179905Z",
     "shell.execute_reply.started": "2022-03-12T11:01:23.010777Z"
    },
    "executionInfo": {
     "elapsed": 1714,
     "status": "ok",
     "timestamp": 1610662592675,
     "user": {
      "displayName": "Kushal Kedia",
      "photoUrl": "",
      "userId": "17515642502776479988"
     },
     "user_tz": -330
    },
    "id": "EDC3Rg7kQGbq",
    "outputId": "166694c0-d45e-459a-fc21-82e9fbb272e0",
    "papermill": {
     "duration": 1.48732,
     "end_time": "2022-03-12T11:02:56.180779",
     "exception": false,
     "start_time": "2022-03-12T11:02:54.693459",
     "status": "completed"
    },
    "tags": []
   },
   "outputs": [
    {
     "name": "stdout",
     "output_type": "stream",
     "text": [
      "Shape of data tensor: (30177, 128)\n",
      "Shape of data tensor: (4269, 128)\n",
      "Shape of data tensor: (4269, 128)\n"
     ]
    }
   ],
   "source": [
    "X_train = tokenizer.texts_to_sequences(train_data[1])\n",
    "X_train = pad_sequences(X_train, maxlen=MAX_SEQUENCE_LENGTH)\n",
    "print('Shape of data tensor:', X_train.shape)\n",
    "\n",
    "X_val = tokenizer.texts_to_sequences(val_data[1])\n",
    "X_val = pad_sequences(X_val, maxlen=MAX_SEQUENCE_LENGTH)\n",
    "print('Shape of data tensor:', X_val.shape)\n",
    "\n",
    "X_test = tokenizer.texts_to_sequences(test_data[1])\n",
    "X_test = pad_sequences(X_test, maxlen=MAX_SEQUENCE_LENGTH)\n",
    "print('Shape of data tensor:', X_test.shape)"
   ]
  },
  {
   "cell_type": "code",
   "execution_count": 11,
   "id": "688672ef",
   "metadata": {
    "execution": {
     "iopub.execute_input": "2022-03-12T11:03:00.792026Z",
     "iopub.status.busy": "2022-03-12T11:03:00.791231Z",
     "iopub.status.idle": "2022-03-12T11:03:00.800405Z",
     "shell.execute_reply": "2022-03-12T11:03:00.800863Z",
     "shell.execute_reply.started": "2022-03-12T11:01:24.403971Z"
    },
    "executionInfo": {
     "elapsed": 1187,
     "status": "ok",
     "timestamp": 1610662594549,
     "user": {
      "displayName": "Kushal Kedia",
      "photoUrl": "",
      "userId": "17515642502776479988"
     },
     "user_tz": -330
    },
    "id": "0wczaQRm96WJ",
    "outputId": "3dc1f7b3-0bf3-4862-a307-323aae54c8d6",
    "papermill": {
     "duration": 4.596349,
     "end_time": "2022-03-12T11:03:00.801012",
     "exception": false,
     "start_time": "2022-03-12T11:02:56.204663",
     "status": "completed"
    },
    "tags": []
   },
   "outputs": [
    {
     "name": "stdout",
     "output_type": "stream",
     "text": [
      "[name: \"/device:CPU:0\"\n",
      "device_type: \"CPU\"\n",
      "memory_limit: 268435456\n",
      "locality {\n",
      "}\n",
      "incarnation: 8990049056512643612\n",
      ", name: \"/device:GPU:0\"\n",
      "device_type: \"GPU\"\n",
      "memory_limit: 15667560448\n",
      "locality {\n",
      "  bus_id: 1\n",
      "  links {\n",
      "  }\n",
      "}\n",
      "incarnation: 16819702324820167516\n",
      "physical_device_desc: \"device: 0, name: Tesla P100-PCIE-16GB, pci bus id: 0000:00:04.0, compute capability: 6.0\"\n",
      "]\n"
     ]
    },
    {
     "name": "stderr",
     "output_type": "stream",
     "text": [
      "2022-03-12 11:02:56.230926: I tensorflow/core/platform/cpu_feature_guard.cc:142] This TensorFlow binary is optimized with oneAPI Deep Neural Network Library (oneDNN) to use the following CPU instructions in performance-critical operations:  AVX2 AVX512F FMA\n",
      "To enable them in other operations, rebuild TensorFlow with the appropriate compiler flags.\n",
      "2022-03-12 11:02:56.289242: I tensorflow/stream_executor/cuda/cuda_gpu_executor.cc:937] successful NUMA node read from SysFS had negative value (-1), but there must be at least one NUMA node, so returning NUMA node zero\n",
      "2022-03-12 11:02:56.290333: I tensorflow/stream_executor/cuda/cuda_gpu_executor.cc:937] successful NUMA node read from SysFS had negative value (-1), but there must be at least one NUMA node, so returning NUMA node zero\n",
      "2022-03-12 11:02:56.291035: I tensorflow/stream_executor/cuda/cuda_gpu_executor.cc:937] successful NUMA node read from SysFS had negative value (-1), but there must be at least one NUMA node, so returning NUMA node zero\n",
      "2022-03-12 11:03:00.782408: I tensorflow/stream_executor/cuda/cuda_gpu_executor.cc:937] successful NUMA node read from SysFS had negative value (-1), but there must be at least one NUMA node, so returning NUMA node zero\n",
      "2022-03-12 11:03:00.783689: I tensorflow/stream_executor/cuda/cuda_gpu_executor.cc:937] successful NUMA node read from SysFS had negative value (-1), but there must be at least one NUMA node, so returning NUMA node zero\n",
      "2022-03-12 11:03:00.784540: I tensorflow/stream_executor/cuda/cuda_gpu_executor.cc:937] successful NUMA node read from SysFS had negative value (-1), but there must be at least one NUMA node, so returning NUMA node zero\n",
      "2022-03-12 11:03:00.785115: I tensorflow/core/common_runtime/gpu/gpu_device.cc:1510] Created device /device:GPU:0 with 14941 MB memory:  -> device: 0, name: Tesla P100-PCIE-16GB, pci bus id: 0000:00:04.0, compute capability: 6.0\n"
     ]
    }
   ],
   "source": [
    "from tensorflow.python.client import device_lib\n",
    "print(device_lib.list_local_devices())"
   ]
  },
  {
   "cell_type": "code",
   "execution_count": 12,
   "id": "144fad6f",
   "metadata": {
    "execution": {
     "iopub.execute_input": "2022-03-12T11:03:00.853915Z",
     "iopub.status.busy": "2022-03-12T11:03:00.852299Z",
     "iopub.status.idle": "2022-03-12T11:03:00.868387Z",
     "shell.execute_reply": "2022-03-12T11:03:00.869002Z",
     "shell.execute_reply.started": "2022-03-12T11:01:24.414764Z"
    },
    "executionInfo": {
     "elapsed": 1495,
     "status": "ok",
     "timestamp": 1610662596389,
     "user": {
      "displayName": "Kushal Kedia",
      "photoUrl": "",
      "userId": "17515642502776479988"
     },
     "user_tz": -330
    },
    "id": "k-OGIyrBQVs4",
    "outputId": "ac5d8f1c-83a1-48ab-cd9c-38869410ddf9",
    "papermill": {
     "duration": 0.044978,
     "end_time": "2022-03-12T11:03:00.869167",
     "exception": false,
     "start_time": "2022-03-12T11:03:00.824189",
     "status": "completed"
    },
    "tags": []
   },
   "outputs": [
    {
     "name": "stdout",
     "output_type": "stream",
     "text": [
      "Shape of label tensor: (30177, 31)\n",
      "Shape of label tensor: (4269, 31)\n"
     ]
    }
   ],
   "source": [
    "Y_train = pd.get_dummies(train_data[0]).values\n",
    "print('Shape of label tensor:', Y_train.shape)\n",
    "\n",
    "Y_val = pd.get_dummies(val_data[0]).values\n",
    "print('Shape of label tensor:', Y_val.shape)"
   ]
  },
  {
   "cell_type": "code",
   "execution_count": 13,
   "id": "ad278d4e",
   "metadata": {
    "execution": {
     "iopub.execute_input": "2022-03-12T11:03:00.921127Z",
     "iopub.status.busy": "2022-03-12T11:03:00.919613Z",
     "iopub.status.idle": "2022-03-12T11:03:00.923448Z",
     "shell.execute_reply": "2022-03-12T11:03:00.923038Z",
     "shell.execute_reply.started": "2022-03-12T11:01:24.439344Z"
    },
    "id": "96LsNcZkx0Ih",
    "papermill": {
     "duration": 0.030241,
     "end_time": "2022-03-12T11:03:00.923553",
     "exception": false,
     "start_time": "2022-03-12T11:03:00.893312",
     "status": "completed"
    },
    "tags": []
   },
   "outputs": [],
   "source": [
    "def get_predicted(preds):\n",
    "    pred_flat = np.argmax(preds, axis=1).flatten()\n",
    "    return pred_flat\n",
    "from sklearn.metrics import f1_score, accuracy_score\n",
    "# def f1(ytrue, ypred):\n",
    "#     return f1_score(get_predicted(np.array(ytrue)), get_predicted(np.array(ypred)), average = 'weighted')"
   ]
  },
  {
   "cell_type": "code",
   "execution_count": 14,
   "id": "a891c58c",
   "metadata": {
    "execution": {
     "iopub.execute_input": "2022-03-12T11:03:00.977084Z",
     "iopub.status.busy": "2022-03-12T11:03:00.976359Z",
     "iopub.status.idle": "2022-03-12T11:03:00.978726Z",
     "shell.execute_reply": "2022-03-12T11:03:00.978308Z",
     "shell.execute_reply.started": "2022-03-12T11:01:24.448231Z"
    },
    "id": "PUE9ahFczYq2",
    "papermill": {
     "duration": 0.03217,
     "end_time": "2022-03-12T11:03:00.978844",
     "exception": false,
     "start_time": "2022-03-12T11:03:00.946674",
     "status": "completed"
    },
    "tags": []
   },
   "outputs": [],
   "source": [
    "from keras import backend as K\n",
    "def f1(true, pred): #shapes (batch, 4)\n",
    "\n",
    "    #for metrics include these two lines, for loss, don't include them\n",
    "    #these are meant to round 'pred' to exactly zeros and ones\n",
    "    #predLabels = K.argmax(pred, axis=-1)\n",
    "    #pred = K.one_hot(predLabels, 4) \n",
    "\n",
    "\n",
    "    ground_positives = K.sum(true, axis=0)       # = TP + FN\n",
    "    pred_positives = K.sum(pred, axis=0)         # = TP + FP\n",
    "    true_positives = K.sum(true * pred, axis=0)  # = TP\n",
    "        #all with shape (4,)\n",
    "\n",
    "    precision = (true_positives + K.epsilon()) / (pred_positives + K.epsilon()) \n",
    "    recall = (true_positives + K.epsilon()) / (ground_positives + K.epsilon()) \n",
    "        #both = 1 if ground_positives == 0 or pred_positives == 0\n",
    "        #shape (4,)\n",
    "\n",
    "    f1 = 2 * (precision * recall) / (precision + recall + K.epsilon())\n",
    "        #not sure if this last epsilon is necessary\n",
    "        #matematically not, but maybe to avoid computational instability\n",
    "        #still with shape (4,)\n",
    "\n",
    "    weighted_f1 = f1 * ground_positives / K.sum(ground_positives)\n",
    "    weighted_f1 = K.sum(weighted_f1)\n",
    "\n",
    "\n",
    "    return weighted_f1 #for metrics, return only 'weighted_f1"
   ]
  },
  {
   "cell_type": "code",
   "execution_count": 15,
   "id": "3772f8aa",
   "metadata": {
    "execution": {
     "iopub.execute_input": "2022-03-12T11:03:01.029864Z",
     "iopub.status.busy": "2022-03-12T11:03:01.029032Z",
     "iopub.status.idle": "2022-03-12T11:03:01.031569Z",
     "shell.execute_reply": "2022-03-12T11:03:01.031147Z",
     "shell.execute_reply.started": "2022-03-12T11:01:24.458113Z"
    },
    "id": "yJ9qoxcEjdIo",
    "papermill": {
     "duration": 0.028864,
     "end_time": "2022-03-12T11:03:01.031666",
     "exception": false,
     "start_time": "2022-03-12T11:03:01.002802",
     "status": "completed"
    },
    "tags": []
   },
   "outputs": [],
   "source": [
    "mc = ModelCheckpoint('model_tam_1.h5', monitor='val_f1', mode='max', save_best_only=True)\n",
    "cb_list = mc"
   ]
  },
  {
   "cell_type": "code",
   "execution_count": 16,
   "id": "15493284",
   "metadata": {
    "execution": {
     "iopub.execute_input": "2022-03-12T11:03:01.081182Z",
     "iopub.status.busy": "2022-03-12T11:03:01.080489Z",
     "iopub.status.idle": "2022-03-12T11:03:01.376081Z",
     "shell.execute_reply": "2022-03-12T11:03:01.375488Z",
     "shell.execute_reply.started": "2022-03-12T11:01:24.471253Z"
    },
    "id": "4jJCi1BrBJgF",
    "papermill": {
     "duration": 0.321566,
     "end_time": "2022-03-12T11:03:01.376214",
     "exception": false,
     "start_time": "2022-03-12T11:03:01.054648",
     "status": "completed"
    },
    "tags": []
   },
   "outputs": [],
   "source": [
    "from tensorflow.keras import layers"
   ]
  },
  {
   "cell_type": "code",
   "execution_count": 17,
   "id": "c9c7d261",
   "metadata": {
    "execution": {
     "iopub.execute_input": "2022-03-12T11:03:01.430151Z",
     "iopub.status.busy": "2022-03-12T11:03:01.429595Z",
     "iopub.status.idle": "2022-03-12T12:14:46.176805Z",
     "shell.execute_reply": "2022-03-12T12:14:46.176334Z",
     "shell.execute_reply.started": "2022-03-12T11:01:24.478614Z"
    },
    "executionInfo": {
     "elapsed": 4956228,
     "status": "ok",
     "timestamp": 1610668345874,
     "user": {
      "displayName": "Kushal Kedia",
      "photoUrl": "",
      "userId": "17515642502776479988"
     },
     "user_tz": -330
    },
    "id": "pvZ3i83rSJIt",
    "outputId": "ef8744a4-5d6c-4a45-82f0-293becb68ab9",
    "papermill": {
     "duration": 4304.776843,
     "end_time": "2022-03-12T12:14:46.176966",
     "exception": false,
     "start_time": "2022-03-12T11:03:01.400123",
     "status": "completed"
    },
    "tags": []
   },
   "outputs": [
    {
     "name": "stderr",
     "output_type": "stream",
     "text": [
      "2022-03-12 11:03:01.451592: I tensorflow/stream_executor/cuda/cuda_gpu_executor.cc:937] successful NUMA node read from SysFS had negative value (-1), but there must be at least one NUMA node, so returning NUMA node zero\n",
      "2022-03-12 11:03:01.452441: I tensorflow/stream_executor/cuda/cuda_gpu_executor.cc:937] successful NUMA node read from SysFS had negative value (-1), but there must be at least one NUMA node, so returning NUMA node zero\n",
      "2022-03-12 11:03:01.453072: I tensorflow/stream_executor/cuda/cuda_gpu_executor.cc:937] successful NUMA node read from SysFS had negative value (-1), but there must be at least one NUMA node, so returning NUMA node zero\n",
      "2022-03-12 11:03:01.453952: I tensorflow/stream_executor/cuda/cuda_gpu_executor.cc:937] successful NUMA node read from SysFS had negative value (-1), but there must be at least one NUMA node, so returning NUMA node zero\n",
      "2022-03-12 11:03:01.454586: I tensorflow/stream_executor/cuda/cuda_gpu_executor.cc:937] successful NUMA node read from SysFS had negative value (-1), but there must be at least one NUMA node, so returning NUMA node zero\n",
      "2022-03-12 11:03:01.455187: I tensorflow/stream_executor/cuda/cuda_gpu_executor.cc:937] successful NUMA node read from SysFS had negative value (-1), but there must be at least one NUMA node, so returning NUMA node zero\n",
      "2022-03-12 11:03:01.455875: I tensorflow/stream_executor/cuda/cuda_gpu_executor.cc:937] successful NUMA node read from SysFS had negative value (-1), but there must be at least one NUMA node, so returning NUMA node zero\n",
      "2022-03-12 11:03:01.456512: I tensorflow/stream_executor/cuda/cuda_gpu_executor.cc:937] successful NUMA node read from SysFS had negative value (-1), but there must be at least one NUMA node, so returning NUMA node zero\n",
      "2022-03-12 11:03:01.457080: I tensorflow/core/common_runtime/gpu/gpu_device.cc:1510] Created device /job:localhost/replica:0/task:0/device:GPU:0 with 14941 MB memory:  -> device: 0, name: Tesla P100-PCIE-16GB, pci bus id: 0000:00:04.0, compute capability: 6.0\n",
      "2022-03-12 11:03:02.093073: I tensorflow/compiler/mlir/mlir_graph_optimization_pass.cc:185] None of the MLIR Optimization Passes are enabled (registered 2)\n"
     ]
    },
    {
     "name": "stdout",
     "output_type": "stream",
     "text": [
      "Epoch 1/4\n",
      "944/944 [==============================] - 1045s 1s/step - loss: 2.8302 - f1: 0.1213 - val_loss: 2.7021 - val_f1: 0.1465\n",
      "Epoch 2/4\n",
      "944/944 [==============================] - 1055s 1s/step - loss: 2.4188 - f1: 0.2039 - val_loss: 2.7032 - val_f1: 0.1725\n",
      "Epoch 3/4\n",
      "944/944 [==============================] - 1066s 1s/step - loss: 1.8631 - f1: 0.3407 - val_loss: 2.9832 - val_f1: 0.1878\n",
      "Epoch 4/4\n",
      "944/944 [==============================] - 1072s 1s/step - loss: 1.3695 - f1: 0.4885 - val_loss: 3.3703 - val_f1: 0.1941\n"
     ]
    }
   ],
   "source": [
    "model = Sequential()\n",
    "model.add(Embedding(MAX_NB_WORDS, EMBEDDING_DIM, input_length=X_train.shape[1]))\n",
    "model.add(SpatialDropout1D(0.2))\n",
    "model.add(layers.Bidirectional(LSTM(100, dropout=0.2, recurrent_dropout=0.2)))\n",
    "model.add(Dense(31, activation='softmax'))\n",
    "model.compile(loss='categorical_crossentropy', optimizer='adam', metrics=[f1])\n",
    "history = model.fit(X_train, Y_train, validation_data=(X_val, Y_val), epochs=4, batch_size=32, callbacks = cb_list)\n",
    "# Final evaluation of the model\n",
    "model_pred_train = model.predict(X_train)\n",
    "model_pred_test = model.predict(X_val)\n",
    "# print(classification_report(test_labels,model_pred_test))\n",
    "#print('LSTM Recurrent Neural Network baseline: ' + str(roc_auc_score(Y_train, model_pred_train)))\n",
    "#print('LSTM Recurrent Neural Network: ' + str(roc_auc_score(Y_val, model_pred_test)))"
   ]
  },
  {
   "cell_type": "code",
   "execution_count": 18,
   "id": "cf824bd4",
   "metadata": {
    "execution": {
     "iopub.execute_input": "2022-03-12T12:14:48.831410Z",
     "iopub.status.busy": "2022-03-12T12:14:48.830388Z",
     "iopub.status.idle": "2022-03-12T12:16:19.846082Z",
     "shell.execute_reply": "2022-03-12T12:16:19.846630Z",
     "shell.execute_reply.started": "2022-03-12T11:02:05.963433Z"
    },
    "executionInfo": {
     "elapsed": 44318,
     "status": "ok",
     "timestamp": 1610662476997,
     "user": {
      "displayName": "Kushal Kedia",
      "photoUrl": "",
      "userId": "17515642502776479988"
     },
     "user_tz": -330
    },
    "id": "Egy-ijmMekdc",
    "outputId": "164306bd-a285-46b1-f7a7-74f0d9f3ac42",
    "papermill": {
     "duration": 92.285012,
     "end_time": "2022-03-12T12:16:19.846808",
     "exception": false,
     "start_time": "2022-03-12T12:14:47.561796",
     "status": "completed"
    },
    "tags": []
   },
   "outputs": [
    {
     "name": "stdout",
     "output_type": "stream",
     "text": [
      "0.7585133765120862 0.7755575438247672\n"
     ]
    }
   ],
   "source": [
    "\n",
    "model_pred_train = model.predict(X_train)\n",
    "model_pred_test = model.predict(X_val)\n",
    "f1 = f1_score(get_predicted(Y_train), get_predicted(model_pred_train), average = 'weighted')\n",
    "acc = accuracy_score(get_predicted(Y_train), get_predicted(model_pred_train))\n",
    "print(f1, acc)"
   ]
  },
  {
   "cell_type": "code",
   "execution_count": 19,
   "id": "c74438b9",
   "metadata": {
    "execution": {
     "iopub.execute_input": "2022-03-12T12:16:22.299905Z",
     "iopub.status.busy": "2022-03-12T12:16:22.299059Z",
     "iopub.status.idle": "2022-03-12T12:16:22.309784Z",
     "shell.execute_reply": "2022-03-12T12:16:22.309383Z",
     "shell.execute_reply.started": "2022-03-12T11:02:05.966522Z"
    },
    "executionInfo": {
     "elapsed": 41042,
     "status": "ok",
     "timestamp": 1610662476998,
     "user": {
      "displayName": "Kushal Kedia",
      "photoUrl": "",
      "userId": "17515642502776479988"
     },
     "user_tz": -330
    },
    "id": "q33zeNwivrK_",
    "outputId": "0da6a1f9-b092-4bcf-8635-c12f70704da3",
    "papermill": {
     "duration": 1.218138,
     "end_time": "2022-03-12T12:16:22.309925",
     "exception": false,
     "start_time": "2022-03-12T12:16:21.091787",
     "status": "completed"
    },
    "tags": []
   },
   "outputs": [
    {
     "data": {
      "text/plain": [
       "0.10737390640477854"
      ]
     },
     "execution_count": 19,
     "metadata": {},
     "output_type": "execute_result"
    }
   ],
   "source": [
    "f1 = f1_score(get_predicted(Y_val), get_predicted(model_pred_test), average = 'macro')\n",
    "f1"
   ]
  },
  {
   "cell_type": "code",
   "execution_count": 20,
   "id": "6d22a81a",
   "metadata": {
    "execution": {
     "iopub.execute_input": "2022-03-12T12:16:24.715934Z",
     "iopub.status.busy": "2022-03-12T12:16:24.714941Z",
     "iopub.status.idle": "2022-03-12T12:16:24.719359Z",
     "shell.execute_reply": "2022-03-12T12:16:24.719762Z",
     "shell.execute_reply.started": "2022-03-12T11:02:05.968639Z"
    },
    "executionInfo": {
     "elapsed": 40866,
     "status": "ok",
     "timestamp": 1610662476998,
     "user": {
      "displayName": "Kushal Kedia",
      "photoUrl": "",
      "userId": "17515642502776479988"
     },
     "user_tz": -330
    },
    "id": "yyw7L_iCvys2",
    "outputId": "de35dc28-e19d-48dc-8bbe-9210165f16cc",
    "papermill": {
     "duration": 1.204795,
     "end_time": "2022-03-12T12:16:24.719925",
     "exception": false,
     "start_time": "2022-03-12T12:16:23.515130",
     "status": "completed"
    },
    "tags": []
   },
   "outputs": [
    {
     "name": "stdout",
     "output_type": "stream",
     "text": [
      "0.10737390640477854 0.2410400562192551\n"
     ]
    }
   ],
   "source": [
    "acc = accuracy_score(get_predicted(Y_val), get_predicted(model_pred_test))\n",
    "print(f1, acc)"
   ]
  },
  {
   "cell_type": "code",
   "execution_count": 21,
   "id": "f42d3a7d",
   "metadata": {
    "execution": {
     "iopub.execute_input": "2022-03-12T12:16:27.400353Z",
     "iopub.status.busy": "2022-03-12T12:16:27.399491Z",
     "iopub.status.idle": "2022-03-12T12:16:27.416288Z",
     "shell.execute_reply": "2022-03-12T12:16:27.416692Z",
     "shell.execute_reply.started": "2022-03-12T11:02:05.970825Z"
    },
    "executionInfo": {
     "elapsed": 1492,
     "status": "ok",
     "timestamp": 1610654429942,
     "user": {
      "displayName": "Kushal Kedia",
      "photoUrl": "",
      "userId": "17515642502776479988"
     },
     "user_tz": -330
    },
    "id": "nDTK2oc2fCNH",
    "outputId": "be0e7278-e375-426a-86d3-89b640ee4944",
    "papermill": {
     "duration": 1.485892,
     "end_time": "2022-03-12T12:16:27.416845",
     "exception": false,
     "start_time": "2022-03-12T12:16:25.930953",
     "status": "completed"
    },
    "tags": []
   },
   "outputs": [
    {
     "name": "stderr",
     "output_type": "stream",
     "text": [
      "/opt/conda/lib/python3.7/site-packages/sklearn/metrics/_classification.py:1308: UndefinedMetricWarning:\n",
      "\n",
      "Precision and F-score are ill-defined and being set to 0.0 in labels with no predicted samples. Use `zero_division` parameter to control this behavior.\n",
      "\n",
      "/opt/conda/lib/python3.7/site-packages/sklearn/metrics/_classification.py:1308: UndefinedMetricWarning:\n",
      "\n",
      "Precision and F-score are ill-defined and being set to 0.0 in labels with no predicted samples. Use `zero_division` parameter to control this behavior.\n",
      "\n",
      "/opt/conda/lib/python3.7/site-packages/sklearn/metrics/_classification.py:1308: UndefinedMetricWarning:\n",
      "\n",
      "Precision and F-score are ill-defined and being set to 0.0 in labels with no predicted samples. Use `zero_division` parameter to control this behavior.\n",
      "\n"
     ]
    }
   ],
   "source": [
    "from sklearn.metrics import classification_report\n",
    "report = classification_report(get_predicted(Y_val), get_predicted(model_pred_test),output_dict=True)\n"
   ]
  },
  {
   "cell_type": "code",
   "execution_count": 22,
   "id": "26033c05",
   "metadata": {
    "execution": {
     "iopub.execute_input": "2022-03-12T12:16:29.826373Z",
     "iopub.status.busy": "2022-03-12T12:16:29.825520Z",
     "iopub.status.idle": "2022-03-12T12:16:29.841724Z",
     "shell.execute_reply": "2022-03-12T12:16:29.842241Z",
     "shell.execute_reply.started": "2022-03-12T11:02:05.972900Z"
    },
    "papermill": {
     "duration": 1.220348,
     "end_time": "2022-03-12T12:16:29.842378",
     "exception": false,
     "start_time": "2022-03-12T12:16:28.622030",
     "status": "completed"
    },
    "tags": []
   },
   "outputs": [
    {
     "data": {
      "text/html": [
       "<div>\n",
       "<style scoped>\n",
       "    .dataframe tbody tr th:only-of-type {\n",
       "        vertical-align: middle;\n",
       "    }\n",
       "\n",
       "    .dataframe tbody tr th {\n",
       "        vertical-align: top;\n",
       "    }\n",
       "\n",
       "    .dataframe thead th {\n",
       "        text-align: right;\n",
       "    }\n",
       "</style>\n",
       "<table border=\"1\" class=\"dataframe\">\n",
       "  <thead>\n",
       "    <tr style=\"text-align: right;\">\n",
       "      <th></th>\n",
       "      <th>precision</th>\n",
       "      <th>recall</th>\n",
       "      <th>f1-score</th>\n",
       "      <th>support</th>\n",
       "    </tr>\n",
       "  </thead>\n",
       "  <tbody>\n",
       "    <tr>\n",
       "      <th>0</th>\n",
       "      <td>0.105263</td>\n",
       "      <td>0.027778</td>\n",
       "      <td>0.043956</td>\n",
       "      <td>72.00000</td>\n",
       "    </tr>\n",
       "    <tr>\n",
       "      <th>1</th>\n",
       "      <td>0.170213</td>\n",
       "      <td>0.121212</td>\n",
       "      <td>0.141593</td>\n",
       "      <td>66.00000</td>\n",
       "    </tr>\n",
       "    <tr>\n",
       "      <th>2</th>\n",
       "      <td>0.222222</td>\n",
       "      <td>0.040816</td>\n",
       "      <td>0.068966</td>\n",
       "      <td>49.00000</td>\n",
       "    </tr>\n",
       "    <tr>\n",
       "      <th>3</th>\n",
       "      <td>0.000000</td>\n",
       "      <td>0.000000</td>\n",
       "      <td>0.000000</td>\n",
       "      <td>18.00000</td>\n",
       "    </tr>\n",
       "    <tr>\n",
       "      <th>4</th>\n",
       "      <td>1.000000</td>\n",
       "      <td>0.037037</td>\n",
       "      <td>0.071429</td>\n",
       "      <td>27.00000</td>\n",
       "    </tr>\n",
       "    <tr>\n",
       "      <th>5</th>\n",
       "      <td>0.127119</td>\n",
       "      <td>0.130435</td>\n",
       "      <td>0.128755</td>\n",
       "      <td>115.00000</td>\n",
       "    </tr>\n",
       "    <tr>\n",
       "      <th>6</th>\n",
       "      <td>0.208897</td>\n",
       "      <td>0.207692</td>\n",
       "      <td>0.208293</td>\n",
       "      <td>520.00000</td>\n",
       "    </tr>\n",
       "    <tr>\n",
       "      <th>7</th>\n",
       "      <td>0.097561</td>\n",
       "      <td>0.042553</td>\n",
       "      <td>0.059259</td>\n",
       "      <td>94.00000</td>\n",
       "    </tr>\n",
       "    <tr>\n",
       "      <th>8</th>\n",
       "      <td>0.033333</td>\n",
       "      <td>0.019608</td>\n",
       "      <td>0.024691</td>\n",
       "      <td>51.00000</td>\n",
       "    </tr>\n",
       "    <tr>\n",
       "      <th>9</th>\n",
       "      <td>0.236041</td>\n",
       "      <td>0.329787</td>\n",
       "      <td>0.275148</td>\n",
       "      <td>282.00000</td>\n",
       "    </tr>\n",
       "    <tr>\n",
       "      <th>10</th>\n",
       "      <td>0.074074</td>\n",
       "      <td>0.064516</td>\n",
       "      <td>0.068966</td>\n",
       "      <td>186.00000</td>\n",
       "    </tr>\n",
       "    <tr>\n",
       "      <th>11</th>\n",
       "      <td>0.100000</td>\n",
       "      <td>0.055556</td>\n",
       "      <td>0.071429</td>\n",
       "      <td>54.00000</td>\n",
       "    </tr>\n",
       "    <tr>\n",
       "      <th>12</th>\n",
       "      <td>0.132184</td>\n",
       "      <td>0.174905</td>\n",
       "      <td>0.150573</td>\n",
       "      <td>263.00000</td>\n",
       "    </tr>\n",
       "    <tr>\n",
       "      <th>13</th>\n",
       "      <td>0.266010</td>\n",
       "      <td>0.361204</td>\n",
       "      <td>0.306383</td>\n",
       "      <td>299.00000</td>\n",
       "    </tr>\n",
       "    <tr>\n",
       "      <th>14</th>\n",
       "      <td>0.000000</td>\n",
       "      <td>0.000000</td>\n",
       "      <td>0.000000</td>\n",
       "      <td>34.00000</td>\n",
       "    </tr>\n",
       "    <tr>\n",
       "      <th>15</th>\n",
       "      <td>0.119403</td>\n",
       "      <td>0.079208</td>\n",
       "      <td>0.095238</td>\n",
       "      <td>101.00000</td>\n",
       "    </tr>\n",
       "    <tr>\n",
       "      <th>16</th>\n",
       "      <td>0.000000</td>\n",
       "      <td>0.000000</td>\n",
       "      <td>0.000000</td>\n",
       "      <td>76.00000</td>\n",
       "    </tr>\n",
       "    <tr>\n",
       "      <th>17</th>\n",
       "      <td>0.228477</td>\n",
       "      <td>0.266409</td>\n",
       "      <td>0.245989</td>\n",
       "      <td>259.00000</td>\n",
       "    </tr>\n",
       "    <tr>\n",
       "      <th>18</th>\n",
       "      <td>0.038462</td>\n",
       "      <td>0.015625</td>\n",
       "      <td>0.022222</td>\n",
       "      <td>64.00000</td>\n",
       "    </tr>\n",
       "    <tr>\n",
       "      <th>19</th>\n",
       "      <td>0.027027</td>\n",
       "      <td>0.015873</td>\n",
       "      <td>0.020000</td>\n",
       "      <td>63.00000</td>\n",
       "    </tr>\n",
       "    <tr>\n",
       "      <th>20</th>\n",
       "      <td>0.000000</td>\n",
       "      <td>0.000000</td>\n",
       "      <td>0.000000</td>\n",
       "      <td>36.00000</td>\n",
       "    </tr>\n",
       "    <tr>\n",
       "      <th>21</th>\n",
       "      <td>0.000000</td>\n",
       "      <td>0.000000</td>\n",
       "      <td>0.000000</td>\n",
       "      <td>33.00000</td>\n",
       "    </tr>\n",
       "    <tr>\n",
       "      <th>22</th>\n",
       "      <td>0.075949</td>\n",
       "      <td>0.076923</td>\n",
       "      <td>0.076433</td>\n",
       "      <td>156.00000</td>\n",
       "    </tr>\n",
       "    <tr>\n",
       "      <th>23</th>\n",
       "      <td>0.316384</td>\n",
       "      <td>0.482759</td>\n",
       "      <td>0.382253</td>\n",
       "      <td>116.00000</td>\n",
       "    </tr>\n",
       "    <tr>\n",
       "      <th>24</th>\n",
       "      <td>0.081081</td>\n",
       "      <td>0.070588</td>\n",
       "      <td>0.075472</td>\n",
       "      <td>85.00000</td>\n",
       "    </tr>\n",
       "    <tr>\n",
       "      <th>25</th>\n",
       "      <td>0.000000</td>\n",
       "      <td>0.000000</td>\n",
       "      <td>0.000000</td>\n",
       "      <td>31.00000</td>\n",
       "    </tr>\n",
       "    <tr>\n",
       "      <th>26</th>\n",
       "      <td>0.000000</td>\n",
       "      <td>0.000000</td>\n",
       "      <td>0.000000</td>\n",
       "      <td>42.00000</td>\n",
       "    </tr>\n",
       "    <tr>\n",
       "      <th>27</th>\n",
       "      <td>0.242105</td>\n",
       "      <td>0.163121</td>\n",
       "      <td>0.194915</td>\n",
       "      <td>141.00000</td>\n",
       "    </tr>\n",
       "    <tr>\n",
       "      <th>28</th>\n",
       "      <td>0.420444</td>\n",
       "      <td>0.647845</td>\n",
       "      <td>0.509942</td>\n",
       "      <td>673.00000</td>\n",
       "    </tr>\n",
       "    <tr>\n",
       "      <th>29</th>\n",
       "      <td>0.112903</td>\n",
       "      <td>0.070352</td>\n",
       "      <td>0.086687</td>\n",
       "      <td>199.00000</td>\n",
       "    </tr>\n",
       "    <tr>\n",
       "      <th>30</th>\n",
       "      <td>0.000000</td>\n",
       "      <td>0.000000</td>\n",
       "      <td>0.000000</td>\n",
       "      <td>64.00000</td>\n",
       "    </tr>\n",
       "    <tr>\n",
       "      <th>accuracy</th>\n",
       "      <td>0.241040</td>\n",
       "      <td>0.241040</td>\n",
       "      <td>0.241040</td>\n",
       "      <td>0.24104</td>\n",
       "    </tr>\n",
       "    <tr>\n",
       "      <th>macro avg</th>\n",
       "      <td>0.143069</td>\n",
       "      <td>0.112961</td>\n",
       "      <td>0.107374</td>\n",
       "      <td>4269.00000</td>\n",
       "    </tr>\n",
       "    <tr>\n",
       "      <th>weighted avg</th>\n",
       "      <td>0.201748</td>\n",
       "      <td>0.241040</td>\n",
       "      <td>0.210792</td>\n",
       "      <td>4269.00000</td>\n",
       "    </tr>\n",
       "  </tbody>\n",
       "</table>\n",
       "</div>"
      ],
      "text/plain": [
       "              precision    recall  f1-score     support\n",
       "0              0.105263  0.027778  0.043956    72.00000\n",
       "1              0.170213  0.121212  0.141593    66.00000\n",
       "2              0.222222  0.040816  0.068966    49.00000\n",
       "3              0.000000  0.000000  0.000000    18.00000\n",
       "4              1.000000  0.037037  0.071429    27.00000\n",
       "5              0.127119  0.130435  0.128755   115.00000\n",
       "6              0.208897  0.207692  0.208293   520.00000\n",
       "7              0.097561  0.042553  0.059259    94.00000\n",
       "8              0.033333  0.019608  0.024691    51.00000\n",
       "9              0.236041  0.329787  0.275148   282.00000\n",
       "10             0.074074  0.064516  0.068966   186.00000\n",
       "11             0.100000  0.055556  0.071429    54.00000\n",
       "12             0.132184  0.174905  0.150573   263.00000\n",
       "13             0.266010  0.361204  0.306383   299.00000\n",
       "14             0.000000  0.000000  0.000000    34.00000\n",
       "15             0.119403  0.079208  0.095238   101.00000\n",
       "16             0.000000  0.000000  0.000000    76.00000\n",
       "17             0.228477  0.266409  0.245989   259.00000\n",
       "18             0.038462  0.015625  0.022222    64.00000\n",
       "19             0.027027  0.015873  0.020000    63.00000\n",
       "20             0.000000  0.000000  0.000000    36.00000\n",
       "21             0.000000  0.000000  0.000000    33.00000\n",
       "22             0.075949  0.076923  0.076433   156.00000\n",
       "23             0.316384  0.482759  0.382253   116.00000\n",
       "24             0.081081  0.070588  0.075472    85.00000\n",
       "25             0.000000  0.000000  0.000000    31.00000\n",
       "26             0.000000  0.000000  0.000000    42.00000\n",
       "27             0.242105  0.163121  0.194915   141.00000\n",
       "28             0.420444  0.647845  0.509942   673.00000\n",
       "29             0.112903  0.070352  0.086687   199.00000\n",
       "30             0.000000  0.000000  0.000000    64.00000\n",
       "accuracy       0.241040  0.241040  0.241040     0.24104\n",
       "macro avg      0.143069  0.112961  0.107374  4269.00000\n",
       "weighted avg   0.201748  0.241040  0.210792  4269.00000"
      ]
     },
     "execution_count": 22,
     "metadata": {},
     "output_type": "execute_result"
    }
   ],
   "source": [
    "pd.DataFrame(report).transpose()"
   ]
  },
  {
   "cell_type": "code",
   "execution_count": null,
   "id": "02e13139",
   "metadata": {
    "id": "Gxwu-UTlzJVo",
    "papermill": {
     "duration": 1.253873,
     "end_time": "2022-03-12T12:16:32.285882",
     "exception": false,
     "start_time": "2022-03-12T12:16:31.032009",
     "status": "completed"
    },
    "tags": []
   },
   "outputs": [],
   "source": []
  }
 ],
 "metadata": {
  "kernelspec": {
   "display_name": "Python 3",
   "language": "python",
   "name": "python3"
  },
  "language_info": {
   "codemirror_mode": {
    "name": "ipython",
    "version": 3
   },
   "file_extension": ".py",
   "mimetype": "text/x-python",
   "name": "python",
   "nbconvert_exporter": "python",
   "pygments_lexer": "ipython3",
   "version": "3.7.12"
  },
  "papermill": {
   "default_parameters": {},
   "duration": 4441.781093,
   "end_time": "2022-03-12T12:16:36.291288",
   "environment_variables": {},
   "exception": null,
   "input_path": "__notebook__.ipynb",
   "output_path": "__notebook__.ipynb",
   "parameters": {},
   "start_time": "2022-03-12T11:02:34.510195",
   "version": "2.3.3"
  }
 },
 "nbformat": 4,
 "nbformat_minor": 5
}
